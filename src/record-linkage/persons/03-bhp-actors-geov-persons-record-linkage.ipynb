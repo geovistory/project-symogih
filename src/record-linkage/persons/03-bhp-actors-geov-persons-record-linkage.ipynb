{
 "cells": [
  {
   "cell_type": "code",
   "execution_count": 61,
   "metadata": {},
   "outputs": [
    {
     "name": "stdout",
     "output_type": "stream",
     "text": [
      "Requests will not be executed\n",
      "=== Setting STAGING environment ===\n",
      ">> Connecting to PGSQL Database ... Connected!\n"
     ]
    }
   ],
   "source": [
    "env = 'staging'\n",
    "pk_project = -1\n",
    "execute = False\n",
    "\n",
    "import os\n",
    "import pandas as pd\n",
    "\n",
    "import geovpylib.utils as u\n",
    "import geovpylib.database as db\n",
    "import geovpylib.find as find\n",
    "import geovpylib.pks as pks\n",
    "\n",
    "db.connect(env, pk_project, execute)"
   ]
  },
  {
   "attachments": {},
   "cell_type": "markdown",
   "metadata": {},
   "source": [
    "# BHP actors / Geovistory persons record linkage"
   ]
  },
  {
   "attachments": {},
   "cell_type": "markdown",
   "metadata": {},
   "source": [
    "Now that the record linkage inside the BHP has been done, and interpretated, we can proceed to record linkage against Geovistory data."
   ]
  },
  {
   "attachments": {},
   "cell_type": "markdown",
   "metadata": {},
   "source": [
    "## Fetch BHP actors"
   ]
  },
  {
   "attachments": {},
   "cell_type": "markdown",
   "metadata": {},
   "source": [
    "Work is already done here, we just need to fetch data."
   ]
  },
  {
   "cell_type": "code",
   "execution_count": 62,
   "metadata": {},
   "outputs": [
    {
     "name": "stdout",
     "output_type": "stream",
     "text": [
      "Shape:  (69837, 7) - extract:\n"
     ]
    },
    {
     "data": {
      "text/html": [
       "<div>\n",
       "<style scoped>\n",
       "    .dataframe tbody tr th:only-of-type {\n",
       "        vertical-align: middle;\n",
       "    }\n",
       "\n",
       "    .dataframe tbody tr th {\n",
       "        vertical-align: top;\n",
       "    }\n",
       "\n",
       "    .dataframe thead th {\n",
       "        text-align: right;\n",
       "    }\n",
       "</style>\n",
       "<table border=\"1\" class=\"dataframe\">\n",
       "  <thead>\n",
       "    <tr style=\"text-align: right;\">\n",
       "      <th></th>\n",
       "      <th>pk</th>\n",
       "      <th>name</th>\n",
       "      <th>definition</th>\n",
       "      <th>definition_lang</th>\n",
       "      <th>gender</th>\n",
       "      <th>birth_year</th>\n",
       "      <th>death_year</th>\n",
       "    </tr>\n",
       "  </thead>\n",
       "  <tbody>\n",
       "    <tr>\n",
       "      <th>0</th>\n",
       "      <td>44895</td>\n",
       "      <td>antoine sainte-marie perrin</td>\n",
       "      <td>&lt;NA&gt;</td>\n",
       "      <td>&lt;NA&gt;</td>\n",
       "      <td>Male</td>\n",
       "      <td>&lt;NA&gt;</td>\n",
       "      <td>&lt;NA&gt;</td>\n",
       "    </tr>\n",
       "    <tr>\n",
       "      <th>1</th>\n",
       "      <td>47015</td>\n",
       "      <td>&lt;NA&gt;</td>\n",
       "      <td>&lt;NA&gt;</td>\n",
       "      <td>&lt;NA&gt;</td>\n",
       "      <td>Male</td>\n",
       "      <td>1506</td>\n",
       "      <td>&lt;NA&gt;</td>\n",
       "    </tr>\n",
       "    <tr>\n",
       "      <th>2</th>\n",
       "      <td>47190</td>\n",
       "      <td>alberto duimio</td>\n",
       "      <td>&lt;NA&gt;</td>\n",
       "      <td>&lt;NA&gt;</td>\n",
       "      <td>Male</td>\n",
       "      <td>1510</td>\n",
       "      <td>1564</td>\n",
       "    </tr>\n",
       "    <tr>\n",
       "      <th>3</th>\n",
       "      <td>47190</td>\n",
       "      <td>albertus divini</td>\n",
       "      <td>&lt;NA&gt;</td>\n",
       "      <td>&lt;NA&gt;</td>\n",
       "      <td>Male</td>\n",
       "      <td>1510</td>\n",
       "      <td>1564</td>\n",
       "    </tr>\n",
       "    <tr>\n",
       "      <th>4</th>\n",
       "      <td>47578</td>\n",
       "      <td>angelo zampa</td>\n",
       "      <td>&lt;NA&gt;</td>\n",
       "      <td>&lt;NA&gt;</td>\n",
       "      <td>Male</td>\n",
       "      <td>&lt;NA&gt;</td>\n",
       "      <td>1575</td>\n",
       "    </tr>\n",
       "  </tbody>\n",
       "</table>\n",
       "</div>"
      ],
      "text/plain": [
       "      pk                         name definition definition_lang gender  \\\n",
       "0  44895  antoine sainte-marie perrin       <NA>            <NA>   Male   \n",
       "1  47015                         <NA>       <NA>            <NA>   Male   \n",
       "2  47190               alberto duimio       <NA>            <NA>   Male   \n",
       "3  47190              albertus divini       <NA>            <NA>   Male   \n",
       "4  47578                 angelo zampa       <NA>            <NA>   Male   \n",
       "\n",
       "   birth_year  death_year  \n",
       "0        <NA>        <NA>  \n",
       "1        1506        <NA>  \n",
       "2        1510        1564  \n",
       "3        1510        1564  \n",
       "4        <NA>        1575  "
      ]
     },
     "metadata": {},
     "output_type": "display_data"
    }
   ],
   "source": [
    "bhp_actors = u.read_df('../../../data/prepared/bhp_actors_cleaned.csv')\n",
    "\n",
    "u.infos(bhp_actors)"
   ]
  },
  {
   "attachments": {},
   "cell_type": "markdown",
   "metadata": {},
   "source": [
    "## Record linkage against Geovistory data"
   ]
  },
  {
   "attachments": {},
   "cell_type": "markdown",
   "metadata": {},
   "source": [
    "### Formating to work with library"
   ]
  },
  {
   "cell_type": "code",
   "execution_count": 63,
   "metadata": {},
   "outputs": [
    {
     "data": {
      "text/html": [
       "<div>\n",
       "<style scoped>\n",
       "    .dataframe tbody tr th:only-of-type {\n",
       "        vertical-align: middle;\n",
       "    }\n",
       "\n",
       "    .dataframe tbody tr th {\n",
       "        vertical-align: top;\n",
       "    }\n",
       "\n",
       "    .dataframe thead th {\n",
       "        text-align: right;\n",
       "    }\n",
       "</style>\n",
       "<table border=\"1\" class=\"dataframe\">\n",
       "  <thead>\n",
       "    <tr style=\"text-align: right;\">\n",
       "      <th></th>\n",
       "      <th>pk_bhp</th>\n",
       "      <th>name</th>\n",
       "      <th>definition</th>\n",
       "      <th>definition_lang</th>\n",
       "      <th>gender</th>\n",
       "      <th>birthdate</th>\n",
       "      <th>deathdate</th>\n",
       "    </tr>\n",
       "  </thead>\n",
       "  <tbody>\n",
       "    <tr>\n",
       "      <th>0</th>\n",
       "      <td>44895</td>\n",
       "      <td>antoine sainte-marie perrin</td>\n",
       "      <td>&lt;NA&gt;</td>\n",
       "      <td>&lt;NA&gt;</td>\n",
       "      <td>Male</td>\n",
       "      <td>&lt;NA&gt;</td>\n",
       "      <td>&lt;NA&gt;</td>\n",
       "    </tr>\n",
       "    <tr>\n",
       "      <th>1</th>\n",
       "      <td>47015</td>\n",
       "      <td>&lt;NA&gt;</td>\n",
       "      <td>&lt;NA&gt;</td>\n",
       "      <td>&lt;NA&gt;</td>\n",
       "      <td>Male</td>\n",
       "      <td>(1506, 1, 1)</td>\n",
       "      <td>&lt;NA&gt;</td>\n",
       "    </tr>\n",
       "    <tr>\n",
       "      <th>2</th>\n",
       "      <td>47190</td>\n",
       "      <td>alberto duimio</td>\n",
       "      <td>&lt;NA&gt;</td>\n",
       "      <td>&lt;NA&gt;</td>\n",
       "      <td>Male</td>\n",
       "      <td>(1510, 1, 1)</td>\n",
       "      <td>(1564, 1, 1)</td>\n",
       "    </tr>\n",
       "    <tr>\n",
       "      <th>3</th>\n",
       "      <td>47190</td>\n",
       "      <td>albertus divini</td>\n",
       "      <td>&lt;NA&gt;</td>\n",
       "      <td>&lt;NA&gt;</td>\n",
       "      <td>Male</td>\n",
       "      <td>(1510, 1, 1)</td>\n",
       "      <td>(1564, 1, 1)</td>\n",
       "    </tr>\n",
       "    <tr>\n",
       "      <th>4</th>\n",
       "      <td>47578</td>\n",
       "      <td>angelo zampa</td>\n",
       "      <td>&lt;NA&gt;</td>\n",
       "      <td>&lt;NA&gt;</td>\n",
       "      <td>Male</td>\n",
       "      <td>&lt;NA&gt;</td>\n",
       "      <td>(1575, 1, 1)</td>\n",
       "    </tr>\n",
       "    <tr>\n",
       "      <th>...</th>\n",
       "      <td>...</td>\n",
       "      <td>...</td>\n",
       "      <td>...</td>\n",
       "      <td>...</td>\n",
       "      <td>...</td>\n",
       "      <td>...</td>\n",
       "      <td>...</td>\n",
       "    </tr>\n",
       "    <tr>\n",
       "      <th>69832</th>\n",
       "      <td>60554</td>\n",
       "      <td>louis gabriel escher</td>\n",
       "      <td>Industriel mtallurgiste n le 27 novembre 1819 ...</td>\n",
       "      <td>fra</td>\n",
       "      <td>Male</td>\n",
       "      <td>(1819, 1, 1)</td>\n",
       "      <td>(1887, 1, 1)</td>\n",
       "    </tr>\n",
       "    <tr>\n",
       "      <th>69833</th>\n",
       "      <td>60554</td>\n",
       "      <td>louis gabriel oescher</td>\n",
       "      <td>Industriel mtallurgiste. Associ  Louis Charles...</td>\n",
       "      <td>fra</td>\n",
       "      <td>Male</td>\n",
       "      <td>(1819, 1, 1)</td>\n",
       "      <td>(1887, 1, 1)</td>\n",
       "    </tr>\n",
       "    <tr>\n",
       "      <th>69834</th>\n",
       "      <td>60554</td>\n",
       "      <td>louis gabriel oescher</td>\n",
       "      <td>Industriel mtallurgiste n le 27 novembre 1819 ...</td>\n",
       "      <td>fra</td>\n",
       "      <td>Male</td>\n",
       "      <td>(1819, 1, 1)</td>\n",
       "      <td>(1887, 1, 1)</td>\n",
       "    </tr>\n",
       "    <tr>\n",
       "      <th>69835</th>\n",
       "      <td>2291</td>\n",
       "      <td>toms maluenda</td>\n",
       "      <td>*Jtiva (Valence) 1566, 7.V.1628. Clbre dominic...</td>\n",
       "      <td>fra</td>\n",
       "      <td>Male</td>\n",
       "      <td>(1565, 1, 1)</td>\n",
       "      <td>(1628, 1, 1)</td>\n",
       "    </tr>\n",
       "    <tr>\n",
       "      <th>69836</th>\n",
       "      <td>2291</td>\n",
       "      <td>toms malvenda</td>\n",
       "      <td>*Jtiva (Valence) 1566, 7.V.1628. Clbre dominic...</td>\n",
       "      <td>fra</td>\n",
       "      <td>Male</td>\n",
       "      <td>(1565, 1, 1)</td>\n",
       "      <td>(1628, 1, 1)</td>\n",
       "    </tr>\n",
       "  </tbody>\n",
       "</table>\n",
       "<p>69837 rows × 7 columns</p>\n",
       "</div>"
      ],
      "text/plain": [
       "       pk_bhp                         name  \\\n",
       "0       44895  antoine sainte-marie perrin   \n",
       "1       47015                         <NA>   \n",
       "2       47190               alberto duimio   \n",
       "3       47190              albertus divini   \n",
       "4       47578                 angelo zampa   \n",
       "...       ...                          ...   \n",
       "69832   60554         louis gabriel escher   \n",
       "69833   60554        louis gabriel oescher   \n",
       "69834   60554        louis gabriel oescher   \n",
       "69835    2291                toms maluenda   \n",
       "69836    2291                toms malvenda   \n",
       "\n",
       "                                              definition definition_lang  \\\n",
       "0                                                   <NA>            <NA>   \n",
       "1                                                   <NA>            <NA>   \n",
       "2                                                   <NA>            <NA>   \n",
       "3                                                   <NA>            <NA>   \n",
       "4                                                   <NA>            <NA>   \n",
       "...                                                  ...             ...   \n",
       "69832  Industriel mtallurgiste n le 27 novembre 1819 ...             fra   \n",
       "69833  Industriel mtallurgiste. Associ  Louis Charles...             fra   \n",
       "69834  Industriel mtallurgiste n le 27 novembre 1819 ...             fra   \n",
       "69835  *Jtiva (Valence) 1566, 7.V.1628. Clbre dominic...             fra   \n",
       "69836  *Jtiva (Valence) 1566, 7.V.1628. Clbre dominic...             fra   \n",
       "\n",
       "      gender     birthdate     deathdate  \n",
       "0       Male          <NA>          <NA>  \n",
       "1       Male  (1506, 1, 1)          <NA>  \n",
       "2       Male  (1510, 1, 1)  (1564, 1, 1)  \n",
       "3       Male  (1510, 1, 1)  (1564, 1, 1)  \n",
       "4       Male          <NA>  (1575, 1, 1)  \n",
       "...      ...           ...           ...  \n",
       "69832   Male  (1819, 1, 1)  (1887, 1, 1)  \n",
       "69833   Male  (1819, 1, 1)  (1887, 1, 1)  \n",
       "69834   Male  (1819, 1, 1)  (1887, 1, 1)  \n",
       "69835   Male  (1565, 1, 1)  (1628, 1, 1)  \n",
       "69836   Male  (1565, 1, 1)  (1628, 1, 1)  \n",
       "\n",
       "[69837 rows x 7 columns]"
      ]
     },
     "execution_count": 63,
     "metadata": {},
     "output_type": "execute_result"
    }
   ],
   "source": [
    "bhp_actors.rename(columns={'pk':'pk_bhp', 'birth_year': 'birthdate', 'death_year':'deathdate'}, inplace=True)\n",
    "bhp_actors['birthdate'] = [u.parse_date(str(year) + '-01-01') for year in bhp_actors['birthdate']]\n",
    "bhp_actors['deathdate'] = [u.parse_date(str(year) + '-01-01') for year in bhp_actors['deathdate']]\n",
    "\n",
    "bhp_actors"
   ]
  },
  {
   "cell_type": "code",
   "execution_count": 64,
   "metadata": {},
   "outputs": [
    {
     "name": "stdout",
     "output_type": "stream",
     "text": [
      "Checking data integrity... Done\n",
      "Find all persons in Geovistory... 153963 found.\n",
      "Finding similar persons is done - Elapsed: [00h10'01]                   \n"
     ]
    }
   ],
   "source": [
    "matchings = find.find_persons(bhp_actors, 'pk_bhp', jobs=13, dist_days=365)"
   ]
  },
  {
   "attachments": {},
   "cell_type": "markdown",
   "metadata": {},
   "source": [
    "### Join information to help record linkage"
   ]
  },
  {
   "cell_type": "code",
   "execution_count": 65,
   "metadata": {},
   "outputs": [],
   "source": [
    "matchings.rename(columns={'pk_entity': 'pk_gv', 'new_name':'bhp_name', 'new_gender':'bhp_gender', 'new_birthdate':'bhp_birthdate', 'new_deathdate':'bhp_deathdate'}, inplace=True)\n"
   ]
  },
  {
   "attachments": {},
   "cell_type": "markdown",
   "metadata": {},
   "source": [
    "#### Definition information"
   ]
  },
  {
   "cell_type": "code",
   "execution_count": 66,
   "metadata": {},
   "outputs": [],
   "source": [
    "# BHP\n",
    "actor_text_property = u.read_df('../../../data/bhp/actor_text_property.csv')[['fk_actor', 'text']]\n",
    "actor_text_property.rename(columns={'text': 'bhp_definition'}, inplace=True)\n",
    "\n",
    "# Geovistory\n",
    "pks_entity = \"(\" + \",\".join(matchings['pk_gv'].astype(str).tolist()) + \")\"\n",
    "gv_def = db.query(f\"\"\"\n",
    "    select \n",
    "        r.pk_entity,\n",
    "        a.string as gv_definition\n",
    "    from information.resource r\n",
    "    left join information.statement s1 on s1.fk_subject_info = r.pk_entity and s1.fk_property = 1762\n",
    "    inner join information.statement s2 on s2.fk_subject_info = s1.fk_object_info and s2.fk_property = 1864\n",
    "    inner join information.appellation a on a.pk_entity = s2.fk_object_info\n",
    "    where r.pk_entity in {pks_entity}\n",
    "\"\"\")\n",
    "\n",
    "matchings = matchings.merge(actor_text_property, left_on='pk_bhp', right_on='fk_actor', how='left').drop(columns=['fk_actor'])\n",
    "matchings = matchings.merge(gv_def, left_on='pk_gv', right_on='pk_entity', how='left').drop(columns=['pk_entity'])"
   ]
  },
  {
   "attachments": {},
   "cell_type": "markdown",
   "metadata": {},
   "source": [
    "#### URIs"
   ]
  },
  {
   "cell_type": "code",
   "execution_count": 67,
   "metadata": {},
   "outputs": [
    {
     "name": "stdout",
     "output_type": "stream",
     "text": [
      ">> Connecting to PGSQL Database ... Connected!\n",
      "Requests will not be executed\n",
      "=== Setting STAGING environment ===\n",
      ">> Connecting to PGSQL Database ... Connected!\n"
     ]
    }
   ],
   "source": [
    "# BHP\n",
    "u.db_connect(os.environ.get('YELLOW_BHP'))\n",
    "documentation = u.db_execute('select * from bhp.documentation')\n",
    "documentation = documentation[pd.notna(documentation['fk_documented_object'])]\n",
    "documentation = documentation[pd.notna(documentation['fk_documenting_entity'])]\n",
    "documentation = documentation[pd.notna(documentation['identifier'])]\n",
    "documentation = documentation[documentation['fk_documented_object'].str.contains('Actr')]\n",
    "documentation = documentation[documentation['fk_documenting_entity'].str.contains('DiOb')]\n",
    "documentation['fk_documented_object'] = documentation['fk_documented_object'].str.replace('Actr', '')\n",
    "documentation = documentation[['fk_documented_object', 'fk_documenting_entity', 'identifier']]\n",
    "documentation['fk_documenting_entity'] = documentation['fk_documenting_entity'].str.replace('DiOb', '')\n",
    "u.parse_df(documentation)\n",
    "resource_address_concat = u.parse_df(u.db_execute('select * from bhp.resource_address_concatenation')[['fk_digital_object', 'fk_resource_address']])\n",
    "resource_address = u.parse_df(u.db_execute('select * from bhp.resource_address')[['pk_resource_address', 'uri']])\n",
    "documentation = documentation.merge(resource_address_concat, left_on='fk_documenting_entity', right_on='fk_digital_object', how='left').drop(columns=['fk_documenting_entity', 'fk_digital_object'])\n",
    "documentation = documentation.merge(resource_address, left_on='fk_resource_address', right_on='pk_resource_address', how='left')\n",
    "documentation['uri'] = documentation['uri'] + documentation['identifier']\n",
    "documentation = documentation[['fk_documented_object', 'uri']]\n",
    "documentation.dropna(subset=['uri'], inplace=True)\n",
    "documentation.rename(columns={'uri':'bhp_uri'}, inplace=True)\n",
    "\n",
    "# Geovistory\n",
    "db.connect(env, pk_project, execute)\n",
    "pks_entity = \"(\" + \",\".join(matchings['pk_gv'].astype(str).tolist()) + \")\"\n",
    "gv_uris = db.query(f\"\"\"\n",
    "    select \n",
    "        r.pk_entity,\n",
    "        a.string as gv_uri\n",
    "    from information.resource r\n",
    "    left join information.statement s1 on s1.fk_subject_info = r.pk_entity and s1.fk_property = 1943\n",
    "    inner join information.statement s2 on s2.fk_subject_info = s1.fk_object_info and s2.fk_property = 1843\n",
    "    inner join information.appellation a on a.pk_entity = s2.fk_object_info\n",
    "    where r.pk_entity in {pks_entity}\n",
    "\"\"\")\n",
    "\n",
    "matchings = matchings.merge(documentation, left_on='pk_bhp', right_on='fk_documented_object', how='left').drop(columns=['fk_documented_object'])\n",
    "matchings = matchings.merge(gv_uris, left_on='pk_gv', right_on='pk_entity', how='left').drop(columns=['pk_entity'])"
   ]
  },
  {
   "cell_type": "code",
   "execution_count": 68,
   "metadata": {},
   "outputs": [],
   "source": [
    "# matchings['bhp_uri_extract'] = matchings['bhp_uri'].str.replace('http', '')\n",
    "# matchings['gv_uri_extract'] = matchings['gv_uris'].str.replace('https', '').str.replace('/id', '')"
   ]
  },
  {
   "cell_type": "code",
   "execution_count": 69,
   "metadata": {},
   "outputs": [],
   "source": [
    "u.save_df(matchings.sort_values('pk_bhp'), '../../../data/record-linkage-bhp-actors-geov-persons.csv')"
   ]
  },
  {
   "attachments": {},
   "cell_type": "markdown",
   "metadata": {},
   "source": [
    "---"
   ]
  },
  {
   "cell_type": "code",
   "execution_count": null,
   "metadata": {},
   "outputs": [],
   "source": [
    "matchings[matchings['bhp_uri_extract'] == matchings['gv_uri_extract']].drop_duplicates(subset=['pk_bhp', 'pk_gv'])"
   ]
  },
  {
   "cell_type": "code",
   "execution_count": null,
   "metadata": {},
   "outputs": [],
   "source": [
    "matchings[matchings['bhp_name'].str.contains('josias simler')]"
   ]
  },
  {
   "cell_type": "code",
   "execution_count": null,
   "metadata": {},
   "outputs": [],
   "source": [
    "matchings[(pd.notna(matchings['gv_uris'])) & (pd.notna(matchings['bhp_uri']))]"
   ]
  },
  {
   "cell_type": "code",
   "execution_count": null,
   "metadata": {},
   "outputs": [],
   "source": [
    "matchings[pd.notna(matchings['gv_definition'])  & matchings['gv_definition'].str.contains('astronome')]"
   ]
  }
 ],
 "metadata": {
  "kernelspec": {
   "display_name": "Python 3",
   "language": "python",
   "name": "python3"
  },
  "language_info": {
   "codemirror_mode": {
    "name": "ipython",
    "version": 3
   },
   "file_extension": ".py",
   "mimetype": "text/x-python",
   "name": "python",
   "nbconvert_exporter": "python",
   "pygments_lexer": "ipython3",
   "version": "3.8.10"
  },
  "orig_nbformat": 4
 },
 "nbformat": 4,
 "nbformat_minor": 2
}
