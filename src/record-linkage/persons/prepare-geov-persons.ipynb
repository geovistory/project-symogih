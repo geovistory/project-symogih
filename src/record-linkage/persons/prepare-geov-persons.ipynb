{
 "cells": [
  {
   "cell_type": "code",
   "execution_count": 1,
   "metadata": {},
   "outputs": [
    {
     "name": "stdout",
     "output_type": "stream",
     "text": [
      ">> Connecting to PGSQL Database ... Connected!\n"
     ]
    }
   ],
   "source": [
    "# Python lib\n",
    "import os\n",
    "import pandas as pd\n",
    "\n",
    "# External lib\n",
    "import plotly.express as px\n",
    "from splink.duckdb.duckdb_linker import DuckDBLinker\n",
    "from splink.duckdb.duckdb_comparison_library import (\n",
    "    exact_match,\n",
    "    levenshtein_at_thresholds,\n",
    ")\n",
    "\n",
    "# Local lib\n",
    "import toolkit as tk\n",
    "import geovpylib as gv\n",
    "\n",
    "# Connect to db\n",
    "tk.db_connect(os.environ.get('GEOVISTORY_DB_URL_STAG'))"
   ]
  },
  {
   "attachments": {},
   "cell_type": "markdown",
   "metadata": {},
   "source": [
    "# Fetch Data from Geovistory"
   ]
  },
  {
   "cell_type": "code",
   "execution_count": 11,
   "metadata": {},
   "outputs": [
    {
     "name": "stdout",
     "output_type": "stream",
     "text": [
      "Total persons number:  118946\n",
      "Total PAIAL number:  179649\n",
      "Total Births number:  71830\n",
      "Total Deaths number:  1430\n"
     ]
    }
   ],
   "source": [
    "print('Total persons number: ', tk.db_execute('select count(*) from information.resource where fk_class = 21;').iloc[0]['count'])\n",
    "print('Total PAIAL number: ', tk.db_execute('select count(*) from information.resource where fk_class = 868;').iloc[0]['count'])\n",
    "print('Total Births number: ', tk.db_execute('select count(*) from information.resource where fk_class = 61;').iloc[0]['count'])\n",
    "print('Total Deaths number: ', tk.db_execute('select count(*) from information.resource where fk_class = 63;').iloc[0]['count'])"
   ]
  },
  {
   "cell_type": "code",
   "execution_count": 12,
   "metadata": {},
   "outputs": [
    {
     "name": "stdout",
     "output_type": "stream",
     "text": [
      "Number of persons available: 118946\n"
     ]
    }
   ],
   "source": [
    "persons_geov = tk.db_execute('select pk_entity as pk from information.resource where fk_class = 21;')\n",
    "\n",
    "print('Number of persons available:', len(persons_geov))"
   ]
  },
  {
   "cell_type": "code",
   "execution_count": 13,
   "metadata": {},
   "outputs": [
    {
     "name": "stdout",
     "output_type": "stream",
     "text": [
      "Number of names available: 149924\n"
     ]
    }
   ],
   "source": [
    "# Names\n",
    "names = tk.db_execute('''\n",
    "    select \n",
    "        r1.pk_entity as pk,\n",
    "        a1.string as name\n",
    "    from information.resource r1\n",
    "    left join information.statement s1 on s1.fk_object_info = r1.pk_entity and s1.fk_property = 1111\n",
    "    left join information.statement s2 on s2.fk_subject_info = s1.fk_subject_info and s2.fk_property = 1113\n",
    "    left join information.appellation a1 on a1.pk_entity = s2.fk_object_info\n",
    "    where r1.fk_class = 21;\n",
    "''')\n",
    "names.dropna(inplace=True)\n",
    "names['name'] = names['name'].str.lower()\n",
    "names['name'] = names['name'].str.strip()\n",
    "\n",
    "print('Number of names available:', len(names))"
   ]
  },
  {
   "cell_type": "code",
   "execution_count": 14,
   "metadata": {},
   "outputs": [
    {
     "name": "stdout",
     "output_type": "stream",
     "text": [
      "Number of genders available: 149924\n"
     ]
    }
   ],
   "source": [
    "# Genders\n",
    "genders = tk.db_execute('''\n",
    "    select distinct\n",
    "        fk_subject_info as pk,\n",
    "        fk_object_info as gender\n",
    "    from information.\"statement\" s \n",
    "    inner join projects.info_proj_rel ipr on ipr.fk_entity = s.pk_entity and ipr.is_in_project = True\n",
    "    where s.fk_property = 1429 and (s.fk_object_info = 739340 or s.fk_object_info = 739346);\n",
    "''')\n",
    "genders['gender'].replace(739340, 'Male', inplace=True)\n",
    "genders['gender'].replace(739346, 'Female', inplace=True)\n",
    "genders.dropna(inplace=True)\n",
    "\n",
    "print('Number of genders available:', len(names))"
   ]
  },
  {
   "cell_type": "code",
   "execution_count": 15,
   "metadata": {},
   "outputs": [
    {
     "name": "stdout",
     "output_type": "stream",
     "text": [
      "Number of births available: 69459\n"
     ]
    }
   ],
   "source": [
    "# Births\n",
    "births = tk.db_execute('''\n",
    "    select\n",
    "        s1.fk_object_info as pk,\n",
    "        tp.julian_day as birth_date\n",
    "    from information.statement s1\n",
    "    inner join information.statement s2 on s2.fk_subject_info = s1.fk_subject_info and s2.fk_property = 72\n",
    "    inner join information.time_primitive tp on tp.pk_entity = s2.fk_object_info\n",
    "    where s1.fk_property = 86\n",
    "''')\n",
    "births['birth_date'] = [gv.tools.get_date_from_julian_day(jd)[0] if pd.notna(jd) else pd.NA for jd in births['birth_date']]\n",
    "births.rename(columns={'birth_date': 'birth_year'}, inplace=True)\n",
    "births.dropna(inplace=True)\n",
    "\n",
    "print('Number of births available:', len(births))"
   ]
  },
  {
   "cell_type": "code",
   "execution_count": 16,
   "metadata": {},
   "outputs": [
    {
     "name": "stdout",
     "output_type": "stream",
     "text": [
      "Number of deaths available: 69459\n"
     ]
    }
   ],
   "source": [
    "# Deaths\n",
    "deaths = tk.db_execute('''\n",
    "    select\n",
    "        s1.fk_object_info as pk,\n",
    "        tp.julian_day as death_date\n",
    "    from information.statement s1\n",
    "    inner join information.statement s2 on s2.fk_subject_info = s1.fk_subject_info and s2.fk_property = 72\n",
    "    inner join information.time_primitive tp on tp.pk_entity = s2.fk_object_info\n",
    "    where s1.fk_property = 88\n",
    "''')\n",
    "deaths['death_date'] = [gv.tools.get_date_from_julian_day(jd)[0] if pd.notna(jd) else pd.NA for jd in deaths['death_date']]\n",
    "deaths.rename(columns={'death_date': 'death_year'}, inplace=True)\n",
    "deaths.dropna(inplace=True)\n",
    "\n",
    "print('Number of deaths available:', len(births))"
   ]
  },
  {
   "cell_type": "code",
   "execution_count": 17,
   "metadata": {},
   "outputs": [
    {
     "name": "stdout",
     "output_type": "stream",
     "text": [
      "Shape:  (147644, 6)\n"
     ]
    },
    {
     "data": {
      "text/html": [
       "<div>\n",
       "<style scoped>\n",
       "    .dataframe tbody tr th:only-of-type {\n",
       "        vertical-align: middle;\n",
       "    }\n",
       "\n",
       "    .dataframe tbody tr th {\n",
       "        vertical-align: top;\n",
       "    }\n",
       "\n",
       "    .dataframe thead th {\n",
       "        text-align: right;\n",
       "    }\n",
       "</style>\n",
       "<table border=\"1\" class=\"dataframe\">\n",
       "  <thead>\n",
       "    <tr style=\"text-align: right;\">\n",
       "      <th></th>\n",
       "      <th>pk</th>\n",
       "      <th>name</th>\n",
       "      <th>gender</th>\n",
       "      <th>birth_year</th>\n",
       "      <th>death_year</th>\n",
       "      <th>dataset</th>\n",
       "    </tr>\n",
       "  </thead>\n",
       "  <tbody>\n",
       "    <tr>\n",
       "      <th>144676</th>\n",
       "      <td>306756</td>\n",
       "      <td>kolb sophie</td>\n",
       "      <td>NaN</td>\n",
       "      <td>1845.0</td>\n",
       "      <td>NaN</td>\n",
       "      <td>geov</td>\n",
       "    </tr>\n",
       "    <tr>\n",
       "      <th>26813</th>\n",
       "      <td>339356</td>\n",
       "      <td>schira augustine</td>\n",
       "      <td>NaN</td>\n",
       "      <td>1858.0</td>\n",
       "      <td>NaN</td>\n",
       "      <td>geov</td>\n",
       "    </tr>\n",
       "    <tr>\n",
       "      <th>33403</th>\n",
       "      <td>1014239</td>\n",
       "      <td>gassmann heinrich</td>\n",
       "      <td>NaN</td>\n",
       "      <td>NaN</td>\n",
       "      <td>NaN</td>\n",
       "      <td>geov</td>\n",
       "    </tr>\n",
       "    <tr>\n",
       "      <th>52723</th>\n",
       "      <td>1351741</td>\n",
       "      <td>robin august</td>\n",
       "      <td>NaN</td>\n",
       "      <td>NaN</td>\n",
       "      <td>NaN</td>\n",
       "      <td>geov</td>\n",
       "    </tr>\n",
       "    <tr>\n",
       "      <th>149600</th>\n",
       "      <td>311555</td>\n",
       "      <td>bürgi catharina</td>\n",
       "      <td>NaN</td>\n",
       "      <td>1837.0</td>\n",
       "      <td>NaN</td>\n",
       "      <td>geov</td>\n",
       "    </tr>\n",
       "  </tbody>\n",
       "</table>\n",
       "</div>"
      ],
      "text/plain": [
       "             pk               name gender  birth_year  death_year dataset\n",
       "144676   306756        kolb sophie    NaN      1845.0         NaN    geov\n",
       "26813    339356   schira augustine    NaN      1858.0         NaN    geov\n",
       "33403   1014239  gassmann heinrich    NaN         NaN         NaN    geov\n",
       "52723   1351741       robin august    NaN         NaN         NaN    geov\n",
       "149600   311555    bürgi catharina    NaN      1837.0         NaN    geov"
      ]
     },
     "metadata": {},
     "output_type": "display_data"
    }
   ],
   "source": [
    "# Merging all together\n",
    "\n",
    "persons_geov = persons_geov.merge(names, on='pk', how='left')\n",
    "persons_geov = persons_geov.merge(genders, on='pk', how='left')\n",
    "persons_geov = persons_geov.merge(births, on='pk', how='left')\n",
    "persons_geov = persons_geov.merge(deaths, on='pk', how='left')\n",
    "persons_geov['dataset'] = 'geov'\n",
    "persons_geov.dropna(subset=['name', 'gender', 'birth_year', 'death_year'], how='all', inplace=True)\n",
    "persons_geov.drop_duplicates(inplace=True)\n",
    "\n",
    "tk.infos(persons_geov, random=True)"
   ]
  },
  {
   "cell_type": "code",
   "execution_count": 18,
   "metadata": {},
   "outputs": [],
   "source": [
    "persons_geov.to_csv('../../data/prepared_persons-geov.csv', index=False, sep=\";\", quoting=2)"
   ]
  }
 ],
 "metadata": {
  "kernelspec": {
   "display_name": "Python 3",
   "language": "python",
   "name": "python3"
  },
  "language_info": {
   "codemirror_mode": {
    "name": "ipython",
    "version": 3
   },
   "file_extension": ".py",
   "mimetype": "text/x-python",
   "name": "python",
   "nbconvert_exporter": "python",
   "pygments_lexer": "ipython3",
   "version": "3.8.10"
  },
  "orig_nbformat": 4,
  "vscode": {
   "interpreter": {
    "hash": "916dbcbb3f70747c44a77c7bcd40155683ae19c65e1c03b4aa3499c5328201f1"
   }
  }
 },
 "nbformat": 4,
 "nbformat_minor": 2
}
