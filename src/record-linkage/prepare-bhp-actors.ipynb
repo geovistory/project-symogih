{
 "cells": [
  {
   "cell_type": "code",
   "execution_count": 1,
   "metadata": {},
   "outputs": [],
   "source": [
    "import pandas as pd\n",
    "\n",
    "import geovpylib.utils as u\n",
    "import geovpylib.analysis as a"
   ]
  },
  {
   "attachments": {},
   "cell_type": "markdown",
   "metadata": {},
   "source": [
    "# Fetch data from BHP (from cleaned filed)"
   ]
  },
  {
   "cell_type": "code",
   "execution_count": 2,
   "metadata": {},
   "outputs": [],
   "source": [
    "actor = pd.read_csv('../../data/actor.csv', sep=';')\n",
    "\n",
    "a.set_types(actor, {\n",
    "               \"pk_actor\": 'int', \n",
    "      \"modification_time\": 'datetime',\n",
    "          \"creation_time\": 'datetime',\n",
    "   \"concat_standard_name\": 'string',\n",
    "            \"concat_actr\": 'string',\n",
    "                \"creator\": 'int',\n",
    "             \"gender_iso\": 'int',\n",
    "               \"modifier\": 'int',\n",
    "        \"certainty_begin\": 'int',\n",
    "          \"certainty_end\": 'int',\n",
    "             \"begin_year\": 'int',\n",
    "               \"end_year\": 'int',\n",
    "            \"notes_begin\": 'int',\n",
    "              \"notes_end\": 'int',\n",
    "                  \"notes\": 'string'\n",
    "})"
   ]
  },
  {
   "cell_type": "code",
   "execution_count": 3,
   "metadata": {},
   "outputs": [],
   "source": [
    "actor_name = pd.read_csv('../../data/actor_name.csv', sep=';', low_memory=False)\n",
    "\n",
    "a.set_types(actor_name, {\n",
    "     \"pk_actor_name\": 'int',\n",
    "       \"concat_acna\": 'string',\n",
    "     \"creation_time\": 'datetime',\n",
    "  \"is_standard_name\": 'bool',\n",
    "          \"fk_actor\": 'int',\n",
    "       \"concat_name\": 'string',\n",
    "           \"creator\": 'int',\n",
    "              \"name\": 'string',\n",
    "          \"lang_iso\": 'string',\n",
    "          \"modifier\": 'int',\n",
    "        \"first_name\": 'string',\n",
    " \"modification_time\": 'datetime',\n",
    " \"fk_abob_name_type\": 'int',\n",
    "             \"notes\": 'string',\n",
    "\"comment_begin_year\": 'string',\n",
    "  \"comment_end_year\": 'string',\n",
    "        \"apposition\": 'string',\n",
    "       \"preposition\": 'string',\n",
    "          \"particle\": 'string',\n",
    "             \"title\": 'string',\n",
    "        \"begin_date\": 'string',\n",
    "          \"end_date\": 'string',\n",
    "      \"ordinal_text\": 'string',\n",
    "       \"ordinal_num\": 'int',\n",
    "})"
   ]
  },
  {
   "cell_type": "code",
   "execution_count": 4,
   "metadata": {},
   "outputs": [],
   "source": [
    "actor_text_property = pd.read_csv('../../data/actor_text_property.csv', sep=';', low_memory=False)\n",
    "\n",
    "a.set_types(actor_text_property, {\n",
    "'pk_actor_text_property': 'int',\n",
    "         'property_type': 'string',\n",
    "                  'text': 'text',\n",
    "              'fk_actor': 'int',\n",
    "           'concat_actp': 'string',\n",
    "         'creation_time': 'datetime',\n",
    "               'creator': 'int',\n",
    "         'lang_iso_code': 'string',\n",
    "              'modifier': 'int',\n",
    "     'modification_time': 'datetime',\n",
    "                 'notes': 'string',\n",
    "})     "
   ]
  },
  {
   "attachments": {},
   "cell_type": "markdown",
   "metadata": {},
   "source": [
    "## Create Person table"
   ]
  },
  {
   "cell_type": "code",
   "execution_count": 5,
   "metadata": {},
   "outputs": [
    {
     "name": "stdout",
     "output_type": "stream",
     "text": [
      "Number of names available: 59711\n"
     ]
    }
   ],
   "source": [
    "# Names\n",
    "names = pd.DataFrame()\n",
    "names['pk'] = actor_name['fk_actor']\n",
    "names['name'] = actor_name['first_name'] + ' ' + actor_name['name']\n",
    "names['name'] = names['name'].str.lower()\n",
    "names['name'] = names['name'].str.strip()\n",
    "names['first_name'] = actor_name['first_name'].str.lower().str.strip()\n",
    "names['last_name'] = actor_name['name'].str.lower().str.strip()\n",
    "names.dropna(inplace=True)\n",
    "\n",
    "print('Number of names available:', len(names))"
   ]
  },
  {
   "cell_type": "code",
   "execution_count": 6,
   "metadata": {},
   "outputs": [
    {
     "name": "stdout",
     "output_type": "stream",
     "text": [
      "Number of genders available: 57753\n"
     ]
    }
   ],
   "source": [
    "def set_gender(code):\n",
    "    \"\"\"Given the ISO code of a gender, return the right string.\"\"\"\n",
    "\n",
    "    if code == 0: return pd.NA\n",
    "    if code == 1: return 'Male'\n",
    "    if code == 2: return 'Female'\n",
    "    raise ValueError(f'Gender has code <{code}>')\n",
    "\n",
    "\n",
    "# Gender\n",
    "genders = pd.DataFrame()\n",
    "genders['pk'] = actor['pk_actor']\n",
    "genders['gender'] = [set_gender(code) for code in actor['gender_iso']]\n",
    "genders.dropna(inplace=True)\n",
    "\n",
    "print('Number of genders available:', len(genders))"
   ]
  },
  {
   "cell_type": "code",
   "execution_count": 7,
   "metadata": {},
   "outputs": [
    {
     "name": "stdout",
     "output_type": "stream",
     "text": [
      "Number of births available: 48476\n"
     ]
    }
   ],
   "source": [
    "# Births\n",
    "births = pd.DataFrame()\n",
    "births['pk'] = actor['pk_actor']\n",
    "births['birth_year'] = actor['begin_year']\n",
    "births.dropna(inplace=True)\n",
    "\n",
    "print('Number of births available:', len(births))"
   ]
  },
  {
   "cell_type": "code",
   "execution_count": 8,
   "metadata": {},
   "outputs": [
    {
     "name": "stdout",
     "output_type": "stream",
     "text": [
      "Number of births certainty available: 59523\n"
     ]
    }
   ],
   "source": [
    "births_certainty = pd.DataFrame()\n",
    "births_certainty['pk'] = actor['pk_actor']\n",
    "births_certainty['certainty_birth'] = actor['certainty_begin']\n",
    "births_certainty.dropna(inplace=True)\n",
    "\n",
    "print('Number of births certainty available:', len(births_certainty))"
   ]
  },
  {
   "cell_type": "code",
   "execution_count": 9,
   "metadata": {},
   "outputs": [
    {
     "name": "stdout",
     "output_type": "stream",
     "text": [
      "Number of deaths available: 29366\n"
     ]
    }
   ],
   "source": [
    "# Deaths\n",
    "deaths = pd.DataFrame()\n",
    "deaths['pk'] = actor['pk_actor']\n",
    "deaths['death_year'] = actor['end_year']\n",
    "deaths.dropna(inplace=True)\n",
    "\n",
    "print('Number of deaths available:', len(deaths))"
   ]
  },
  {
   "cell_type": "code",
   "execution_count": 10,
   "metadata": {},
   "outputs": [
    {
     "name": "stdout",
     "output_type": "stream",
     "text": [
      "Number of death certainty available: 59523\n"
     ]
    }
   ],
   "source": [
    "deaths_certainty = pd.DataFrame()\n",
    "deaths_certainty['pk'] = actor['pk_actor']\n",
    "deaths_certainty['certainty_death'] = actor['certainty_begin']\n",
    "deaths_certainty.dropna(inplace=True)\n",
    "\n",
    "print('Number of death certainty available:', len(deaths_certainty))"
   ]
  },
  {
   "cell_type": "code",
   "execution_count": 11,
   "metadata": {},
   "outputs": [
    {
     "name": "stdout",
     "output_type": "stream",
     "text": [
      "Shape:  (62527, 10)\n"
     ]
    },
    {
     "data": {
      "text/html": [
       "<div>\n",
       "<style scoped>\n",
       "    .dataframe tbody tr th:only-of-type {\n",
       "        vertical-align: middle;\n",
       "    }\n",
       "\n",
       "    .dataframe tbody tr th {\n",
       "        vertical-align: top;\n",
       "    }\n",
       "\n",
       "    .dataframe thead th {\n",
       "        text-align: right;\n",
       "    }\n",
       "</style>\n",
       "<table border=\"1\" class=\"dataframe\">\n",
       "  <thead>\n",
       "    <tr style=\"text-align: right;\">\n",
       "      <th></th>\n",
       "      <th>pk</th>\n",
       "      <th>name</th>\n",
       "      <th>first_name</th>\n",
       "      <th>last_name</th>\n",
       "      <th>gender</th>\n",
       "      <th>birth_year</th>\n",
       "      <th>certainty_birth</th>\n",
       "      <th>death_year</th>\n",
       "      <th>certainty_death</th>\n",
       "      <th>dataset</th>\n",
       "    </tr>\n",
       "  </thead>\n",
       "  <tbody>\n",
       "    <tr>\n",
       "      <th>39649</th>\n",
       "      <td>42691</td>\n",
       "      <td>gustave deval</td>\n",
       "      <td>gustave</td>\n",
       "      <td>deval</td>\n",
       "      <td>Male</td>\n",
       "      <td>1853</td>\n",
       "      <td>1</td>\n",
       "      <td>&lt;NA&gt;</td>\n",
       "      <td>1</td>\n",
       "      <td>bhp</td>\n",
       "    </tr>\n",
       "    <tr>\n",
       "      <th>61586</th>\n",
       "      <td>60109</td>\n",
       "      <td>&lt;NA&gt;</td>\n",
       "      <td>&lt;NA&gt;</td>\n",
       "      <td>&lt;NA&gt;</td>\n",
       "      <td>Female</td>\n",
       "      <td>1650</td>\n",
       "      <td>2</td>\n",
       "      <td>1731</td>\n",
       "      <td>2</td>\n",
       "      <td>bhp</td>\n",
       "    </tr>\n",
       "    <tr>\n",
       "      <th>41617</th>\n",
       "      <td>6359</td>\n",
       "      <td>andr pascal</td>\n",
       "      <td>andr</td>\n",
       "      <td>pascal</td>\n",
       "      <td>Male</td>\n",
       "      <td>1901</td>\n",
       "      <td>1</td>\n",
       "      <td>&lt;NA&gt;</td>\n",
       "      <td>1</td>\n",
       "      <td>bhp</td>\n",
       "    </tr>\n",
       "    <tr>\n",
       "      <th>40373</th>\n",
       "      <td>43622</td>\n",
       "      <td>&lt;NA&gt;</td>\n",
       "      <td>&lt;NA&gt;</td>\n",
       "      <td>&lt;NA&gt;</td>\n",
       "      <td>Male</td>\n",
       "      <td>&lt;NA&gt;</td>\n",
       "      <td>0</td>\n",
       "      <td>&lt;NA&gt;</td>\n",
       "      <td>0</td>\n",
       "      <td>bhp</td>\n",
       "    </tr>\n",
       "    <tr>\n",
       "      <th>23024</th>\n",
       "      <td>55721</td>\n",
       "      <td>joseph friedrich bierbrauer</td>\n",
       "      <td>joseph friedrich</td>\n",
       "      <td>bierbrauer</td>\n",
       "      <td>Male</td>\n",
       "      <td>1694</td>\n",
       "      <td>0</td>\n",
       "      <td>&lt;NA&gt;</td>\n",
       "      <td>0</td>\n",
       "      <td>bhp</td>\n",
       "    </tr>\n",
       "  </tbody>\n",
       "</table>\n",
       "</div>"
      ],
      "text/plain": [
       "          pk                         name        first_name   last_name  \\\n",
       "39649  42691                gustave deval           gustave       deval   \n",
       "61586  60109                         <NA>              <NA>        <NA>   \n",
       "41617   6359                  andr pascal              andr      pascal   \n",
       "40373  43622                         <NA>              <NA>        <NA>   \n",
       "23024  55721  joseph friedrich bierbrauer  joseph friedrich  bierbrauer   \n",
       "\n",
       "       gender  birth_year  certainty_birth  death_year  certainty_death  \\\n",
       "39649    Male        1853                1        <NA>                1   \n",
       "61586  Female        1650                2        1731                2   \n",
       "41617    Male        1901                1        <NA>                1   \n",
       "40373    Male        <NA>                0        <NA>                0   \n",
       "23024    Male        1694                0        <NA>                0   \n",
       "\n",
       "      dataset  \n",
       "39649     bhp  \n",
       "61586     bhp  \n",
       "41617     bhp  \n",
       "40373     bhp  \n",
       "23024     bhp  "
      ]
     },
     "metadata": {},
     "output_type": "display_data"
    }
   ],
   "source": [
    "# Merging all together\n",
    "\n",
    "persons_bhp = pd.DataFrame()\n",
    "persons_bhp['pk'] = actor['pk_actor']\n",
    "persons_bhp = persons_bhp.merge(names, on='pk', how='left')\n",
    "persons_bhp = persons_bhp.merge(genders, on='pk', how='left')\n",
    "persons_bhp = persons_bhp.merge(births, on='pk', how='left')\n",
    "persons_bhp = persons_bhp.merge(births_certainty, on='pk', how='left')\n",
    "persons_bhp = persons_bhp.merge(deaths, on='pk', how='left')\n",
    "persons_bhp = persons_bhp.merge(deaths_certainty, on='pk', how='left')\n",
    "persons_bhp['dataset'] = 'bhp'\n",
    "persons_bhp.dropna(subset=['name', 'gender', 'birth_year', 'death_year'], how='all', inplace=True)\n",
    "persons_bhp.drop_duplicates(inplace=True)\n",
    "\n",
    "u.infos(persons_bhp, random=True)"
   ]
  },
  {
   "cell_type": "code",
   "execution_count": 12,
   "metadata": {},
   "outputs": [],
   "source": [
    "u.save_df(persons_bhp, '../../data/persons-bhp.csv')"
   ]
  }
 ],
 "metadata": {
  "kernelspec": {
   "display_name": "Python 3",
   "language": "python",
   "name": "python3"
  },
  "language_info": {
   "codemirror_mode": {
    "name": "ipython",
    "version": 3
   },
   "file_extension": ".py",
   "mimetype": "text/x-python",
   "name": "python",
   "nbconvert_exporter": "python",
   "pygments_lexer": "ipython3",
   "version": "3.8.10"
  },
  "orig_nbformat": 4,
  "vscode": {
   "interpreter": {
    "hash": "916dbcbb3f70747c44a77c7bcd40155683ae19c65e1c03b4aa3499c5328201f1"
   }
  }
 },
 "nbformat": 4,
 "nbformat_minor": 2
}
