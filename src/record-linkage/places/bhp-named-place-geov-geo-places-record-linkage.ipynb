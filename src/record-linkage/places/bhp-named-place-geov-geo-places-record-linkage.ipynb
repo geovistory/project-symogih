{
 "cells": [
  {
   "cell_type": "code",
   "execution_count": 1,
   "metadata": {},
   "outputs": [
    {
     "name": "stdout",
     "output_type": "stream",
     "text": [
      "Requests will not be executed\n",
      "=== Setting STAGING environment ===\n",
      ">> Connecting to PGSQL Database ... Connected!\n"
     ]
    }
   ],
   "source": [
    "%load_ext autoreload\n",
    "%autoreload 2\n",
    "\n",
    "env = 'staging'\n",
    "pk_project = 0\n",
    "debug = True\n",
    "execute = False\n",
    "\n",
    "import pandas as pd \n",
    "\n",
    "import geovpylib.utils as u\n",
    "import geovpylib.analysis as a\n",
    "import geovpylib.find as find\n",
    "import geovpylib.database as db\n",
    "\n",
    "db.connect(env, pk_project, execute=execute)"
   ]
  },
  {
   "attachments": {},
   "cell_type": "markdown",
   "metadata": {},
   "source": [
    "# BHP named places / Geovistory geographical places record linkage"
   ]
  },
  {
   "attachments": {},
   "cell_type": "markdown",
   "metadata": {},
   "source": [
    "## Prepare named places from BHP fetched and cleaned data"
   ]
  },
  {
   "attachments": {},
   "cell_type": "markdown",
   "metadata": {},
   "source": [
    "### Read data"
   ]
  },
  {
   "cell_type": "code",
   "execution_count": 2,
   "metadata": {},
   "outputs": [],
   "source": [
    "named_place = u.read_df('../../../data/bhp/named_place.csv')\n",
    "\n",
    "a.set_types(named_place, {\n",
    "        \"pk_named_place\": \"int\",\n",
    "           \"concat_napl\": \"string\",\n",
    "  \"concat_standard_name\": \"string\",\n",
    "     \"fk_abob_type_napl\": \"int\",\n",
    "     \"modification_time\": \"datetime\",\n",
    "         \"creation_time\": \"datetime\",\n",
    "               \"creator\": \"int\",\n",
    "              \"modifier\": \"int\",\n",
    "    \"standard_longitude\": \"float\",\n",
    "     \"standard_latitude\": \"float\",\n",
    "                 \"notes\": \"string\",\n",
    "         \"certainty_end\": \"int\",\n",
    "       \"certainty_begin\": \"int\",\n",
    "            \"begin_year\": \"int\",\n",
    "           \"notes_begin\": \"string\",\n",
    "              \"end_year\": \"int\",\n",
    "             \"notes_end\": \"string\"\n",
    "})\n",
    "\n",
    "# u.infos(named_place)"
   ]
  },
  {
   "cell_type": "code",
   "execution_count": 3,
   "metadata": {},
   "outputs": [
    {
     "name": "stderr",
     "output_type": "stream",
     "text": [
      "/home/kleiolab/Desktop/toolkit/src/file.py:59: DtypeWarning: Columns (5,7,8,16,17) have mixed types. Specify dtype option on import or set low_memory=False.\n",
      "  df = pd.read_csv(path, sep=';', quoting=2)\n"
     ]
    }
   ],
   "source": [
    "named_place_name = u.read_df('../../../data/bhp/named_place_name.csv')\n",
    "\n",
    "a.set_types(named_place_name, {\n",
    "   \"pk_named_place_name\": \"int\",\n",
    "           \"concat_plna\": \"string\",\n",
    "      \"is_standard_name\": \"boolean\",\n",
    "        \"fk_named_place\": \"int\",\n",
    "         \"creation_time\": \"datetime\",\n",
    "               \"creator\": \"int\",\n",
    "              \"modifier\": \"int\",\n",
    "                  \"name\": \"string\",\n",
    "              \"lang_iso\": \"string\",\n",
    "     \"modification_time\": \"datetime\",\n",
    "                 \"notes\": \"string\",\n",
    "                \"number\": \"int\",\n",
    "     \"complement_number\": \"string\",\n",
    "\"fk_abob_napl_name_type\": \"int\",\n",
    "    \"comment_begin_year\": \"string\",\n",
    "      \"comment_end_year\": \"string\",\n",
    "            \"begin_date\": \"datetime\",\n",
    "              \"end_date\": \"datetime\"\n",
    "})     \n",
    "\n",
    "# u.infos(named_place_name)"
   ]
  },
  {
   "cell_type": "code",
   "execution_count": 4,
   "metadata": {},
   "outputs": [],
   "source": [
    "named_place_text_property = u.read_df('../../../data/bhp/named_place_text_property.csv')\n",
    "\n",
    "a.set_types(named_place_text_property, {\n",
    "    \"pk_named_place_text_property\": \"int\",\n",
    "                   \"property_type\": \"string\",\n",
    "                            \"text\": \"string\",\n",
    "                  \"fk_named_place\": \"int\",\n",
    "                   \"creation_time\": \"datetime\",\n",
    "                     \"concat_nptp\": \"string\",\n",
    "                         \"creator\": \"int\",\n",
    "                        \"modifier\": \"int\",\n",
    "                   \"lang_iso_code\": \"string\",\n",
    "               \"modification_time\": \"datetime\",\n",
    "                           \"notes\": \"string\",\n",
    "})       \n",
    "\n",
    "# u.infos(named_place_text_property)"
   ]
  },
  {
   "attachments": {},
   "cell_type": "markdown",
   "metadata": {},
   "source": [
    "### Create places table"
   ]
  },
  {
   "cell_type": "code",
   "execution_count": 5,
   "metadata": {},
   "outputs": [],
   "source": [
    "# Names\n",
    "names = pd.DataFrame()\n",
    "names['pk'] = named_place_name['pk_named_place_name']\n",
    "names['name'] = named_place_name['name'].str.lower()\n",
    "names['name'] = names['name'].str.strip()\n",
    "names.dropna(inplace=True)"
   ]
  },
  {
   "cell_type": "code",
   "execution_count": 6,
   "metadata": {},
   "outputs": [],
   "source": [
    "# Geo coordinates\n",
    "geocoord = pd.DataFrame()\n",
    "geocoord['pk'] = named_place['pk_named_place']\n",
    "geocoord['lat'] = named_place['standard_latitude']\n",
    "geocoord['lng'] = named_place['standard_longitude']\n",
    "geocoord.dropna(inplace=True)"
   ]
  },
  {
   "cell_type": "code",
   "execution_count": 7,
   "metadata": {},
   "outputs": [],
   "source": [
    "# Type\n",
    "type = pd.DataFrame()\n",
    "type['pk'] = named_place['pk_named_place']\n",
    "type['type'] = named_place['fk_abob_type_napl'].astype(object)\n",
    "type['type'] = type['type'].replace(156, 'Lieu habité')\n",
    "type['type'] = type['type'].replace(245, 'Région géographique')\n",
    "type['type'] = type['type'].replace(695, 'Adresse')\n",
    "type['type'] = type['type'].replace(696, 'Élément géographique naturel')\n",
    "type['type'] = type['type'].replace(697, 'Territoire')\n",
    "type['type'] = type['type'].replace(698, 'Surface d\\'infrastructure')"
   ]
  },
  {
   "cell_type": "code",
   "execution_count": 8,
   "metadata": {},
   "outputs": [
    {
     "name": "stdout",
     "output_type": "stream",
     "text": [
      "Shape:  (127420, 5) - extract:\n"
     ]
    },
    {
     "data": {
      "text/html": [
       "<div>\n",
       "<style scoped>\n",
       "    .dataframe tbody tr th:only-of-type {\n",
       "        vertical-align: middle;\n",
       "    }\n",
       "\n",
       "    .dataframe tbody tr th {\n",
       "        vertical-align: top;\n",
       "    }\n",
       "\n",
       "    .dataframe thead th {\n",
       "        text-align: right;\n",
       "    }\n",
       "</style>\n",
       "<table border=\"1\" class=\"dataframe\">\n",
       "  <thead>\n",
       "    <tr style=\"text-align: right;\">\n",
       "      <th></th>\n",
       "      <th>pk</th>\n",
       "      <th>name</th>\n",
       "      <th>lat</th>\n",
       "      <th>lng</th>\n",
       "      <th>type</th>\n",
       "    </tr>\n",
       "  </thead>\n",
       "  <tbody>\n",
       "    <tr>\n",
       "      <th>111219</th>\n",
       "      <td>89924</td>\n",
       "      <td>munich</td>\n",
       "      <td>33.748889</td>\n",
       "      <td>-84.387778</td>\n",
       "      <td>Lieu habité</td>\n",
       "    </tr>\n",
       "    <tr>\n",
       "      <th>92650</th>\n",
       "      <td>74523</td>\n",
       "      <td>quelmes</td>\n",
       "      <td>50.4541</td>\n",
       "      <td>2.68565</td>\n",
       "      <td>Lieu habité</td>\n",
       "    </tr>\n",
       "    <tr>\n",
       "      <th>83279</th>\n",
       "      <td>68271</td>\n",
       "      <td>sainte-suzanne-sur-vire</td>\n",
       "      <td>49.5169</td>\n",
       "      <td>-1.35733</td>\n",
       "      <td>Lieu habité</td>\n",
       "    </tr>\n",
       "    <tr>\n",
       "      <th>120310</th>\n",
       "      <td>11781</td>\n",
       "      <td>karavukovo</td>\n",
       "      <td>50.524167</td>\n",
       "      <td>26.257778</td>\n",
       "      <td>Lieu habité</td>\n",
       "    </tr>\n",
       "    <tr>\n",
       "      <th>55701</th>\n",
       "      <td>97574</td>\n",
       "      <td>&lt;NA&gt;</td>\n",
       "      <td>45.7496</td>\n",
       "      <td>4.845192</td>\n",
       "      <td>Adresse</td>\n",
       "    </tr>\n",
       "  </tbody>\n",
       "</table>\n",
       "</div>"
      ],
      "text/plain": [
       "           pk                     name        lat        lng         type\n",
       "111219  89924                   munich  33.748889 -84.387778  Lieu habité\n",
       "92650   74523                  quelmes    50.4541    2.68565  Lieu habité\n",
       "83279   68271  sainte-suzanne-sur-vire    49.5169   -1.35733  Lieu habité\n",
       "120310  11781               karavukovo  50.524167  26.257778  Lieu habité\n",
       "55701   97574                     <NA>    45.7496   4.845192      Adresse"
      ]
     },
     "metadata": {},
     "output_type": "display_data"
    }
   ],
   "source": [
    "place = pd.DataFrame()\n",
    "place['pk'] = named_place['pk_named_place']\n",
    "place = place.merge(names, on='pk', how='left')\n",
    "place = place.merge(geocoord, on='pk', how='left')\n",
    "place = place.merge(type, on='pk', how='left')\n",
    "\n",
    "u.infos(place, random=True)"
   ]
  },
  {
   "attachments": {},
   "cell_type": "markdown",
   "metadata": {},
   "source": [
    "## Record linkage"
   ]
  },
  {
   "cell_type": "code",
   "execution_count": 17,
   "metadata": {},
   "outputs": [
    {
     "name": "stdout",
     "output_type": "stream",
     "text": [
      "Checking data integrity... Done\n",
      "Find all geographical places in Geovistory... 14824 found.\n",
      "Finding similar geographical places is done - Elapsed: [00h01'33]                   \n"
     ]
    }
   ],
   "source": [
    "record_linkage = find.find_geoplaces(place, 'pk', distance=100, jobs=10)"
   ]
  },
  {
   "cell_type": "markdown",
   "metadata": {},
   "source": [
    "### Join information to help record linkage"
   ]
  },
  {
   "cell_type": "code",
   "execution_count": 30,
   "metadata": {},
   "outputs": [],
   "source": [
    "record_linkage.rename(columns={'pk':'pk_bhp','pk_entity': 'pk_gv', 'new_name':'bhp_name', 'new_lat':'bhp_lat', 'new_lng':'bhp_lng'}, inplace=True)\n"
   ]
  },
  {
   "attachments": {},
   "cell_type": "markdown",
   "metadata": {},
   "source": [
    "#### Definition"
   ]
  },
  {
   "cell_type": "code",
   "execution_count": 40,
   "metadata": {},
   "outputs": [
    {
     "name": "stdout",
     "output_type": "stream",
     "text": [
      "Shape:  (1663, 11) - extract:\n"
     ]
    },
    {
     "data": {
      "text/html": [
       "<div>\n",
       "<style scoped>\n",
       "    .dataframe tbody tr th:only-of-type {\n",
       "        vertical-align: middle;\n",
       "    }\n",
       "\n",
       "    .dataframe tbody tr th {\n",
       "        vertical-align: top;\n",
       "    }\n",
       "\n",
       "    .dataframe thead th {\n",
       "        text-align: right;\n",
       "    }\n",
       "</style>\n",
       "<table border=\"1\" class=\"dataframe\">\n",
       "  <thead>\n",
       "    <tr style=\"text-align: right;\">\n",
       "      <th></th>\n",
       "      <th>pk_bhp</th>\n",
       "      <th>pk_gv</th>\n",
       "      <th>bhp_name</th>\n",
       "      <th>gv_name</th>\n",
       "      <th>bhp_lat</th>\n",
       "      <th>gv_lat</th>\n",
       "      <th>bhp_lng</th>\n",
       "      <th>gv_lng</th>\n",
       "      <th>distance</th>\n",
       "      <th>bhp_definition</th>\n",
       "      <th>gv_definition</th>\n",
       "    </tr>\n",
       "  </thead>\n",
       "  <tbody>\n",
       "    <tr>\n",
       "      <th>0</th>\n",
       "      <td>51</td>\n",
       "      <td>80681</td>\n",
       "      <td>berd</td>\n",
       "      <td>bern</td>\n",
       "      <td>47.000000</td>\n",
       "      <td>46.948090</td>\n",
       "      <td>8.014167</td>\n",
       "      <td>7.447440</td>\n",
       "      <td>43.4</td>\n",
       "      <td>&lt;NA&gt;</td>\n",
       "      <td>NaN</td>\n",
       "    </tr>\n",
       "    <tr>\n",
       "      <th>1</th>\n",
       "      <td>400</td>\n",
       "      <td>3155988</td>\n",
       "      <td>kossovo</td>\n",
       "      <td>kosovo</td>\n",
       "      <td>40.196389</td>\n",
       "      <td>NaN</td>\n",
       "      <td>45.185000</td>\n",
       "      <td>NaN</td>\n",
       "      <td>NaN</td>\n",
       "      <td>Armenia</td>\n",
       "      <td>Pays de l'ex-Yougoslavie.</td>\n",
       "    </tr>\n",
       "    <tr>\n",
       "      <th>2</th>\n",
       "      <td>862</td>\n",
       "      <td>3162490</td>\n",
       "      <td>knin</td>\n",
       "      <td>nin</td>\n",
       "      <td>44.368333</td>\n",
       "      <td>44.239722</td>\n",
       "      <td>16.397500</td>\n",
       "      <td>15.181111</td>\n",
       "      <td>97.8</td>\n",
       "      <td>Bosnia and Herzegovina</td>\n",
       "      <td>.</td>\n",
       "    </tr>\n",
       "    <tr>\n",
       "      <th>3</th>\n",
       "      <td>886</td>\n",
       "      <td>2026051</td>\n",
       "      <td>sisak</td>\n",
       "      <td>sisak</td>\n",
       "      <td>44.764444</td>\n",
       "      <td>45.485077</td>\n",
       "      <td>16.656667</td>\n",
       "      <td>16.373116</td>\n",
       "      <td>83.2</td>\n",
       "      <td>Bosnia and Herzegovina</td>\n",
       "      <td>Ville en Croatie</td>\n",
       "    </tr>\n",
       "    <tr>\n",
       "      <th>4</th>\n",
       "      <td>1225</td>\n",
       "      <td>2032213</td>\n",
       "      <td>pello</td>\n",
       "      <td>tello</td>\n",
       "      <td>50.206111</td>\n",
       "      <td>NaN</td>\n",
       "      <td>15.812222</td>\n",
       "      <td>NaN</td>\n",
       "      <td>NaN</td>\n",
       "      <td>Czech Republic</td>\n",
       "      <td>Hauptort des Stadtstaates Lagash</td>\n",
       "    </tr>\n",
       "  </tbody>\n",
       "</table>\n",
       "</div>"
      ],
      "text/plain": [
       "   pk_bhp    pk_gv bhp_name gv_name    bhp_lat     gv_lat    bhp_lng  \\\n",
       "0      51    80681     berd    bern  47.000000  46.948090   8.014167   \n",
       "1     400  3155988  kossovo  kosovo  40.196389        NaN  45.185000   \n",
       "2     862  3162490     knin     nin  44.368333  44.239722  16.397500   \n",
       "3     886  2026051    sisak   sisak  44.764444  45.485077  16.656667   \n",
       "4    1225  2032213    pello   tello  50.206111        NaN  15.812222   \n",
       "\n",
       "      gv_lng  distance          bhp_definition  \\\n",
       "0   7.447440      43.4                    <NA>   \n",
       "1        NaN       NaN                 Armenia   \n",
       "2  15.181111      97.8  Bosnia and Herzegovina   \n",
       "3  16.373116      83.2  Bosnia and Herzegovina   \n",
       "4        NaN       NaN          Czech Republic   \n",
       "\n",
       "                      gv_definition  \n",
       "0                               NaN  \n",
       "1        Pays de l'ex-Yougoslavie.   \n",
       "2                                 .  \n",
       "3                  Ville en Croatie  \n",
       "4  Hauptort des Stadtstaates Lagash  "
      ]
     },
     "metadata": {},
     "output_type": "display_data"
    }
   ],
   "source": [
    "# BHP\n",
    "named_place_text_property = u.read_df('../../../data/bhp/named_place_text_property.csv')[['fk_named_place', 'text']]\n",
    "named_place_text_property.rename(columns={'text': 'bhp_definition'}, inplace=True)\n",
    "\n",
    "# Geovistory\n",
    "pks_entity = \"(\" + \",\".join(record_linkage['pk_gv'].astype(str).tolist()) + \")\"\n",
    "gv_def = db.query(f\"\"\"\n",
    "    select \n",
    "        r.pk_entity,\n",
    "        a.string as gv_definition\n",
    "    from information.resource r\n",
    "    left join information.statement s1 on s1.fk_subject_info = r.pk_entity and s1.fk_property = 1762\n",
    "    inner join information.statement s2 on s2.fk_subject_info = s1.fk_object_info and s2.fk_property = 1864\n",
    "    inner join information.appellation a on a.pk_entity = s2.fk_object_info\n",
    "    where r.pk_entity in {pks_entity}\n",
    "\"\"\")\n",
    "\n",
    "record_linkage = record_linkage.merge(named_place_text_property, left_on='pk_bhp', right_on='fk_named_place', how='left').drop(columns=['fk_named_place'])\n",
    "record_linkage = record_linkage.merge(gv_def, left_on='pk_gv', right_on='pk_entity', how='left').drop(columns=['pk_entity'])\n",
    "\n",
    "u.infos(record_linkage)"
   ]
  },
  {
   "cell_type": "code",
   "execution_count": 42,
   "metadata": {},
   "outputs": [],
   "source": [
    "u.save_df(record_linkage, '../../../data/record-linkage-bhp-named-place-geov-geo-places.csv')"
   ]
  }
 ],
 "metadata": {
  "kernelspec": {
   "display_name": "Python 3",
   "language": "python",
   "name": "python3"
  },
  "language_info": {
   "codemirror_mode": {
    "name": "ipython",
    "version": 3
   },
   "file_extension": ".py",
   "mimetype": "text/x-python",
   "name": "python",
   "nbconvert_exporter": "python",
   "pygments_lexer": "ipython3",
   "version": "3.8.10"
  },
  "orig_nbformat": 4
 },
 "nbformat": 4,
 "nbformat_minor": 2
}
