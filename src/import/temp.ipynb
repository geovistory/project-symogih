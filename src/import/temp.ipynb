{
 "cells": [
  {
   "cell_type": "code",
   "execution_count": 1,
   "metadata": {},
   "outputs": [],
   "source": [
    "%load_ext autoreload\n",
    "%autoreload 2\n",
    "\n",
    "env = 'prod'\n",
    "pk_project = 6857901\n",
    "execute = False\n",
    "metadata_str = ''\n",
    "import_manner = 'one-shot'\n",
    "\n",
    "import os\n",
    "import pandas as pd\n",
    "import numpy as np\n",
    "from datetime import datetime\n",
    "import duckdb\n",
    "import plotly.express as px\n",
    "\n",
    "import geovpylib.analysis as a\n",
    "import geovpylib.database as db\n",
    "import geovpylib.graphs as graphs\n",
    "import geovpylib.pks as pks\n",
    "import geovpylib.recordlinkage as rl\n",
    "import geovpylib.sparql as sparql\n",
    "import geovpylib.utils as u\n",
    "\n",
    "eta = u.Eta()"
   ]
  },
  {
   "cell_type": "code",
   "execution_count": 6,
   "metadata": {},
   "outputs": [
    {
     "name": "stdout",
     "output_type": "stream",
     "text": [
      "[DB] Requests will not be executed\n",
      "[DB] Connecting to PRODUCTION Database ... Connected!\n",
      "> Getting graph of 1 entities\n",
      "  > Getting graph of 7 entities\n",
      "    > Getting graph of 3 entities\n",
      "    > Getting graph of 5 entities\n",
      "    > Getting graph of 2 entities\n",
      "  > Getting graph of 3 entities\n",
      "    > Getting graph of 2 entities\n",
      "    > Getting graph of 2 entities\n",
      "  > Getting graph of 5 entities\n",
      "test.html\n"
     ]
    }
   ],
   "source": [
    "db.connect_geovistory(env, skip_protection=True)\n",
    "\n",
    "peits, teens, stmts = graphs.get_graph([785518], 6857901)\n",
    "\n",
    "graph = db.explicit_statements(stmts)\n",
    "graphs.show(graph,'test')"
   ]
  }
 ],
 "metadata": {
  "kernelspec": {
   "display_name": "Python 3",
   "language": "python",
   "name": "python3"
  },
  "language_info": {
   "codemirror_mode": {
    "name": "ipython",
    "version": 3
   },
   "file_extension": ".py",
   "mimetype": "text/x-python",
   "name": "python",
   "nbconvert_exporter": "python",
   "pygments_lexer": "ipython3",
   "version": "3.8.10"
  },
  "orig_nbformat": 4
 },
 "nbformat": 4,
 "nbformat_minor": 2
}
