{
 "cells": [
  {
   "cell_type": "code",
   "execution_count": null,
   "metadata": {},
   "outputs": [],
   "source": [
    "%load_ext autoreload\n",
    "%autoreload 2\n",
    "\n",
    "bhp_project = 15789 # The project in BHP\n",
    "gv_project = 8381499 # The project id in GEOVISTORY\n",
    "pk_gv_symogih = 6857901 # The pk_project of symogih on GEOVISTORY\n",
    "\n",
    "env = 'prod'\n",
    "execute = True\n",
    "metadata_str = 'bhp-add-entity-to-project-Siprojuris'\n",
    "import_manner = 'one-shot'\n",
    "\n",
    "import os\n",
    "import pandas as pd\n",
    "import numpy as np\n",
    "from datetime import datetime\n",
    "import duckdb\n",
    "import plotly.express as px\n",
    "\n",
    "import geovpylib.analysis as a\n",
    "import geovpylib.database as db\n",
    "import geovpylib.graphs as graphs\n",
    "import geovpylib.pks as pks\n",
    "import geovpylib.recordlinkage as rl\n",
    "import geovpylib.sparql as sparql\n",
    "import geovpylib.utils as u\n",
    "\n",
    "eta = u.Eta()"
   ]
  },
  {
   "attachments": {},
   "cell_type": "markdown",
   "metadata": {},
   "source": [
    "# Add entities to project"
   ]
  },
  {
   "attachments": {},
   "cell_type": "markdown",
   "metadata": {},
   "source": [
    "The goal here is to add a list of entities that were in a particular BHP project, to the equivalent Geovistory project."
   ]
  },
  {
   "attachments": {},
   "cell_type": "markdown",
   "metadata": {},
   "source": [
    "## Fetch Geovistory SYMOGIH data"
   ]
  },
  {
   "cell_type": "code",
   "execution_count": null,
   "metadata": {},
   "outputs": [],
   "source": [
    "db.connect_geovistory(env, pk_gv_symogih, False, skip_protection=True)\n",
    "\n",
    "symogih_entities_gv = db.query(f\"\"\"\n",
    "    select\n",
    "        r.pk_entity as pk_gv,\n",
    "        a3.string as uri        \n",
    "    from information.resource r \n",
    "    inner join projects.info_proj_rel ipr on ipr.fk_entity = r.pk_entity and ipr.fk_project = {pk_gv_symogih} and ipr.is_in_project = true\n",
    "    -- URI\n",
    "    inner join information.statement s1 on s1.fk_subject_info = r.pk_entity and s1.fk_property = {pks.properties.entity_sameAsURI_URI}\n",
    "    inner join projects.info_proj_rel ipr1 on ipr1.fk_entity = s1.pk_entity and ipr1.fk_project = {pk_gv_symogih} and ipr1.is_in_project = true\n",
    "    inner join information.statement s2 on s2.fk_subject_info = s1.fk_object_info and s2.fk_property = {pks.properties.appe_hasValue_string}\n",
    "    inner join information.appellation a3 on a3.pk_entity = s2.fk_object_info\n",
    "\"\"\")\n",
    "\n",
    "# Only symogih URIs\n",
    "symogih_entities_gv = symogih_entities_gv[symogih_entities_gv['uri'].str.contains('symogih.org')]\n",
    "\n",
    "# Extract PK\n",
    "symogih_entities_gv['pk_bhp'] = symogih_entities_gv['uri'].str.replace('http://symogih.org/resource/', '', regex=False)\n",
    "symogih_entities_gv.drop(columns=['uri'], inplace=True)\n",
    "\n",
    "a.infos(symogih_entities_gv)\n",
    "\n",
    "db.disconnect()\n",
    "\n",
    "# 12s"
   ]
  },
  {
   "attachments": {},
   "cell_type": "markdown",
   "metadata": {},
   "source": [
    "## Fetch BHP entities"
   ]
  },
  {
   "cell_type": "code",
   "execution_count": null,
   "metadata": {},
   "outputs": [],
   "source": [
    "db.connect_external(os.environ.get('YELLOW_BHP'))\n",
    "\n",
    "symogih_entities_bhp = db.query(f\"\"\"\n",
    "    select \n",
    "        fk_collective_actor as pk_bhp_project, fk_object as pk_bhp\n",
    "    from bhp.associate_project ap\n",
    "    where ap.fk_collective_actor = {bhp_project}\n",
    "\"\"\")\n",
    "\n",
    "symogih_entities_bhp = symogih_entities_bhp[['pk_bhp']]\n",
    "\n",
    "a.infos(symogih_entities_bhp)\n",
    "\n",
    "db.disconnect()\n",
    "\n",
    "# 2s"
   ]
  },
  {
   "attachments": {},
   "cell_type": "markdown",
   "metadata": {},
   "source": [
    "## Filter only the wanted"
   ]
  },
  {
   "cell_type": "code",
   "execution_count": null,
   "metadata": {},
   "outputs": [],
   "source": [
    "entities = symogih_entities_gv.merge(symogih_entities_bhp, how='inner')['pk_gv'].tolist()\n",
    "\n",
    "print('Entity number:', len(entities))"
   ]
  },
  {
   "attachments": {},
   "cell_type": "markdown",
   "metadata": {},
   "source": [
    "## Get all information we have about those entities in Geovistory Symogih project"
   ]
  },
  {
   "cell_type": "code",
   "execution_count": null,
   "metadata": {},
   "outputs": [],
   "source": [
    "db.connect_geovistory(env, -1, False, skip_protection=True)\n",
    "\n",
    "\n",
    "# Get the whole graph ids of those entities (with rules; eg only incoming properties for TeEn)\n",
    "peits, teens, stmts = graphs.get_graph(entities, pk_gv_symogih)\n",
    "\n",
    "# Make the graph explicit\n",
    "# the_graph = db.explicit_statements(stmts)\n",
    "# print('Explicit graph:')\n",
    "# display(the_graph)\n",
    "\n",
    "# Make a visual graph out of the explicit statements  \n",
    "# graphs.show(the_graph, 'test.html')\n",
    "\n",
    "db.disconnect()\n",
    "\n",
    "# 55s"
   ]
  },
  {
   "attachments": {},
   "cell_type": "markdown",
   "metadata": {},
   "source": [
    "## Add those information to the project"
   ]
  },
  {
   "cell_type": "code",
   "execution_count": null,
   "metadata": {},
   "outputs": [],
   "source": [
    "db.connect_geovistory(env, gv_project, execute)"
   ]
  },
  {
   "attachments": {},
   "cell_type": "markdown",
   "metadata": {},
   "source": [
    "### Before import"
   ]
  },
  {
   "cell_type": "code",
   "execution_count": null,
   "metadata": {},
   "outputs": [],
   "source": [
    "ipr_before = db.query(f'select pk_entity from projects.info_proj_rel where fk_project = {gv_project} and is_in_project = true')\n",
    "\n",
    "print('Number of information before import:', len(ipr_before))"
   ]
  },
  {
   "cell_type": "code",
   "execution_count": null,
   "metadata": {},
   "outputs": [],
   "source": [
    "db.info_proj_rels.create(entities)\n",
    "db.info_proj_rels.create(peits)\n",
    "db.info_proj_rels.create(teens)\n",
    "db.info_proj_rels.create(stmts)"
   ]
  },
  {
   "cell_type": "code",
   "execution_count": null,
   "metadata": {},
   "outputs": [],
   "source": [
    "ipr_after = db.query(f'select pk_entity from projects.info_proj_rel where fk_project = {gv_project} and is_in_project = true')\n",
    "\n",
    "print('Number of information after import:', len(ipr_after))"
   ]
  }
 ],
 "metadata": {
  "kernelspec": {
   "display_name": "Python 3",
   "language": "python",
   "name": "python3"
  },
  "language_info": {
   "codemirror_mode": {
    "name": "ipython",
    "version": 3
   },
   "file_extension": ".py",
   "mimetype": "text/x-python",
   "name": "python",
   "nbconvert_exporter": "python",
   "pygments_lexer": "ipython3",
   "version": "3.8.10"
  },
  "orig_nbformat": 4
 },
 "nbformat": 4,
 "nbformat_minor": 2
}
