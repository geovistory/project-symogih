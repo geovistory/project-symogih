{
 "cells": [
  {
   "cell_type": "code",
   "execution_count": 1,
   "metadata": {},
   "outputs": [],
   "source": [
    "%load_ext autoreload\n",
    "%autoreload 2\n",
    "\n",
    "\n",
    "pk_project_bhp = 12782 # The pk project in BHP\n",
    "pk_project_gv = 373987 # The pk project in GEOVISTORY\n",
    "\n",
    "# Not to change:\n",
    "pk_symogih_gv = 6857901 # The pk project of symogih on GEOVISTORY\n",
    "\n",
    "env = 'prod'\n",
    "execute = True\n",
    "metadata_str = 'bhp-add-entity-to-project-Siprojuris'\n",
    "import_manner = 'one-shot'\n",
    "\n",
    "import os\n",
    "import pandas as pd\n",
    "import numpy as np\n",
    "from datetime import datetime\n",
    "import duckdb\n",
    "import plotly.express as px\n",
    "\n",
    "import geovpylib.analysis as a\n",
    "import geovpylib.database as db\n",
    "import geovpylib.queries as q\n",
    "import geovpylib.pks as pks\n",
    "import geovpylib.sparql as sparql\n",
    "import geovpylib.utils as u\n",
    "\n",
    "eta = u.Eta()"
   ]
  },
  {
   "attachments": {},
   "cell_type": "markdown",
   "metadata": {},
   "source": [
    "# Add entities to project"
   ]
  },
  {
   "attachments": {},
   "cell_type": "markdown",
   "metadata": {},
   "source": [
    "The goal here is to add a list of entities that were in a particular BHP project, to the equivalent Geovistory project."
   ]
  },
  {
   "attachments": {},
   "cell_type": "markdown",
   "metadata": {},
   "source": [
    "## Fetch Geovistory SYMOGIH data"
   ]
  },
  {
   "cell_type": "code",
   "execution_count": 2,
   "metadata": {},
   "outputs": [
    {
     "name": "stdout",
     "output_type": "stream",
     "text": [
      "[DB] Requests will not be executed\n",
      "[DB] Connecting to PRODUCTION Database ... Connected!\n",
      "Shape:  (117108, 2) - extract:\n"
     ]
    },
    {
     "data": {
      "text/html": [
       "<div>\n",
       "<style scoped>\n",
       "    .dataframe tbody tr th:only-of-type {\n",
       "        vertical-align: middle;\n",
       "    }\n",
       "\n",
       "    .dataframe tbody tr th {\n",
       "        vertical-align: top;\n",
       "    }\n",
       "\n",
       "    .dataframe thead th {\n",
       "        text-align: right;\n",
       "    }\n",
       "</style>\n",
       "<table border=\"1\" class=\"dataframe\">\n",
       "  <thead>\n",
       "    <tr style=\"text-align: right;\">\n",
       "      <th></th>\n",
       "      <th>pk_gv</th>\n",
       "      <th>pk_bhp</th>\n",
       "    </tr>\n",
       "  </thead>\n",
       "  <tbody>\n",
       "    <tr>\n",
       "      <th>0</th>\n",
       "      <td>6486809</td>\n",
       "      <td>Actr14444</td>\n",
       "    </tr>\n",
       "    <tr>\n",
       "      <th>61</th>\n",
       "      <td>6485877</td>\n",
       "      <td>Actr13646</td>\n",
       "    </tr>\n",
       "    <tr>\n",
       "      <th>62</th>\n",
       "      <td>6485930</td>\n",
       "      <td>Actr13694</td>\n",
       "    </tr>\n",
       "    <tr>\n",
       "      <th>63</th>\n",
       "      <td>6485937</td>\n",
       "      <td>Actr13701</td>\n",
       "    </tr>\n",
       "    <tr>\n",
       "      <th>64</th>\n",
       "      <td>6485947</td>\n",
       "      <td>Actr13711</td>\n",
       "    </tr>\n",
       "  </tbody>\n",
       "</table>\n",
       "</div>"
      ],
      "text/plain": [
       "      pk_gv     pk_bhp\n",
       "0   6486809  Actr14444\n",
       "61  6485877  Actr13646\n",
       "62  6485930  Actr13694\n",
       "63  6485937  Actr13701\n",
       "64  6485947  Actr13711"
      ]
     },
     "metadata": {},
     "output_type": "display_data"
    },
    {
     "name": "stdout",
     "output_type": "stream",
     "text": [
      "[DB] Database correctly disconnected.\n"
     ]
    }
   ],
   "source": [
    "db.connect_geovistory(env, pk_symogih_gv, False, skip_protection=True)\n",
    "\n",
    "symogih_entities_gv = db.query(f\"\"\"\n",
    "    select\n",
    "        r.pk_entity as pk_gv,\n",
    "        a3.string as uri        \n",
    "    from information.resource r \n",
    "    inner join projects.info_proj_rel ipr on ipr.fk_entity = r.pk_entity and ipr.fk_project = {pk_symogih_gv} and ipr.is_in_project = true\n",
    "    -- URI\n",
    "    inner join information.statement s1 on s1.fk_subject_info = r.pk_entity and s1.fk_property = {pks.properties.entity_sameAsURI_URI}\n",
    "    inner join projects.info_proj_rel ipr1 on ipr1.fk_entity = s1.pk_entity and ipr1.fk_project = {pk_symogih_gv} and ipr1.is_in_project = true\n",
    "    inner join information.statement s2 on s2.fk_subject_info = s1.fk_object_info and s2.fk_property = {pks.properties.appe_hasValue_string}\n",
    "    inner join information.appellation a3 on a3.pk_entity = s2.fk_object_info\n",
    "\"\"\")\n",
    "\n",
    "# Only symogih URIs\n",
    "symogih_entities_gv = symogih_entities_gv[symogih_entities_gv['uri'].str.contains('symogih.org')]\n",
    "\n",
    "# Extract PK\n",
    "symogih_entities_gv['pk_bhp'] = symogih_entities_gv['uri'].str.replace('http://symogih.org/resource/', '', regex=False)\n",
    "symogih_entities_gv.drop(columns=['uri'], inplace=True)\n",
    "\n",
    "a.infos(symogih_entities_gv)\n",
    "\n",
    "db.disconnect()\n",
    "\n",
    "# 12s"
   ]
  },
  {
   "attachments": {},
   "cell_type": "markdown",
   "metadata": {},
   "source": [
    "## Fetch BHP entities"
   ]
  },
  {
   "cell_type": "code",
   "execution_count": 3,
   "metadata": {},
   "outputs": [
    {
     "name": "stdout",
     "output_type": "stream",
     "text": [
      "[DB] Connecting to PGSQL Database ... Connected!\n",
      "Shape:  (2131, 1) - extract:\n"
     ]
    },
    {
     "data": {
      "text/html": [
       "<div>\n",
       "<style scoped>\n",
       "    .dataframe tbody tr th:only-of-type {\n",
       "        vertical-align: middle;\n",
       "    }\n",
       "\n",
       "    .dataframe tbody tr th {\n",
       "        vertical-align: top;\n",
       "    }\n",
       "\n",
       "    .dataframe thead th {\n",
       "        text-align: right;\n",
       "    }\n",
       "</style>\n",
       "<table border=\"1\" class=\"dataframe\">\n",
       "  <thead>\n",
       "    <tr style=\"text-align: right;\">\n",
       "      <th></th>\n",
       "      <th>pk_bhp</th>\n",
       "    </tr>\n",
       "  </thead>\n",
       "  <tbody>\n",
       "    <tr>\n",
       "      <th>0</th>\n",
       "      <td>AOTP131</td>\n",
       "    </tr>\n",
       "    <tr>\n",
       "      <th>1</th>\n",
       "      <td>Actr5</td>\n",
       "    </tr>\n",
       "    <tr>\n",
       "      <th>2</th>\n",
       "      <td>Actr13</td>\n",
       "    </tr>\n",
       "    <tr>\n",
       "      <th>3</th>\n",
       "      <td>Actr35</td>\n",
       "    </tr>\n",
       "    <tr>\n",
       "      <th>4</th>\n",
       "      <td>Actr36</td>\n",
       "    </tr>\n",
       "  </tbody>\n",
       "</table>\n",
       "</div>"
      ],
      "text/plain": [
       "    pk_bhp\n",
       "0  AOTP131\n",
       "1    Actr5\n",
       "2   Actr13\n",
       "3   Actr35\n",
       "4   Actr36"
      ]
     },
     "metadata": {},
     "output_type": "display_data"
    },
    {
     "name": "stdout",
     "output_type": "stream",
     "text": [
      "[DB] Database correctly disconnected.\n"
     ]
    }
   ],
   "source": [
    "db.connect_external(os.environ.get('YELLOW_BHP'))\n",
    "\n",
    "symogih_entities_bhp = db.query(f\"\"\"\n",
    "    select \n",
    "        fk_collective_actor as pk_bhp_project, fk_object as pk_bhp\n",
    "    from bhp.associate_project ap\n",
    "    where ap.fk_collective_actor = {pk_project_bhp}\n",
    "\"\"\")\n",
    "\n",
    "symogih_entities_bhp = symogih_entities_bhp[['pk_bhp']]\n",
    "\n",
    "a.infos(symogih_entities_bhp)\n",
    "\n",
    "db.disconnect()\n",
    "\n",
    "# 2s"
   ]
  },
  {
   "attachments": {},
   "cell_type": "markdown",
   "metadata": {},
   "source": [
    "## Filter only the wanted"
   ]
  },
  {
   "cell_type": "code",
   "execution_count": 4,
   "metadata": {},
   "outputs": [
    {
     "name": "stdout",
     "output_type": "stream",
     "text": [
      "Entity number: 2128\n"
     ]
    }
   ],
   "source": [
    "entities = symogih_entities_gv.merge(symogih_entities_bhp, how='inner')['pk_gv'].tolist()\n",
    "\n",
    "print('Entity number:', len(entities))"
   ]
  },
  {
   "attachments": {},
   "cell_type": "markdown",
   "metadata": {},
   "source": [
    "## Get all information we have about those entities in Geovistory Symogih project"
   ]
  },
  {
   "cell_type": "code",
   "execution_count": 5,
   "metadata": {},
   "outputs": [
    {
     "name": "stdout",
     "output_type": "stream",
     "text": [
      "[DB] Requests will not be executed\n",
      "[DB] Connecting to PRODUCTION Database ... Connected!\n",
      "> Getting graph of 2128 entities\n",
      "  > Getting graph of 5054 entities\n",
      "    > Getting graph of 5 entities\n",
      "    > Getting graph of 9 entities\n",
      "    > Getting graph of 4 entities\n",
      "  > Getting graph of 6635 entities\n",
      "    > Getting graph of 2750 entities\n",
      "      > Getting graph of 426 entities\n",
      "        > Getting graph of 2 entities\n",
      "        > Getting graph of 2 entities\n",
      "    > Getting graph of 2324 entities\n",
      "  > Getting graph of 2515 entities\n",
      "[DB] Database correctly disconnected.\n"
     ]
    }
   ],
   "source": [
    "db.connect_geovistory(env, -1, False, skip_protection=True)\n",
    "\n",
    "\n",
    "# Get the whole graph ids of those entities (with rules; eg only incoming properties for TeEn)\n",
    "peits, teens, stmts = q.get_graph_pks(entities, pk_symogih_gv, max_level=10)\n",
    "\n",
    "# Make the graph explicit\n",
    "# the_graph = db.explicit_statements(stmts)\n",
    "# print('Explicit graph:')\n",
    "# display(the_graph)\n",
    "\n",
    "# Make a visual graph out of the explicit statements  \n",
    "# graphs.show(the_graph, 'test.html')\n",
    "\n",
    "db.disconnect()\n",
    "\n",
    "# 55s"
   ]
  },
  {
   "cell_type": "code",
   "execution_count": 6,
   "metadata": {},
   "outputs": [],
   "source": [
    "### For info, if needed, to spot unwanted incoming entities\n",
    "\n",
    "# db.connect_geovistory(env, -1, False, skip_protection=True)\n",
    "# stmts_expl = db.tools.explicit_statements(stmts)\n",
    "\n",
    "# display(a.group_by_count(stmts_expl, 'subject')[0:10])\n",
    "# display(a.group_by_count(stmts_expl, 'property')[0:10])\n",
    "# display(a.group_by_count(stmts_expl, 'object')[0:10])"
   ]
  },
  {
   "attachments": {},
   "cell_type": "markdown",
   "metadata": {},
   "source": [
    "## Add those information to the project"
   ]
  },
  {
   "cell_type": "code",
   "execution_count": 7,
   "metadata": {},
   "outputs": [
    {
     "name": "stdout",
     "output_type": "stream",
     "text": [
      "[DB] Connecting to PRODUCTION Database ... Connected!\n"
     ]
    }
   ],
   "source": [
    "db.connect_geovistory(env, pk_project_gv, execute)"
   ]
  },
  {
   "attachments": {},
   "cell_type": "markdown",
   "metadata": {},
   "source": [
    "### Before import"
   ]
  },
  {
   "cell_type": "code",
   "execution_count": 8,
   "metadata": {},
   "outputs": [
    {
     "name": "stdout",
     "output_type": "stream",
     "text": [
      "Number of information before import: 96762\n",
      "Number of information should be after import: 45372\n",
      "Details about classes that are the source of what is going to be imported:\n"
     ]
    },
    {
     "data": {
      "text/html": [
       "<div>\n",
       "<style scoped>\n",
       "    .dataframe tbody tr th:only-of-type {\n",
       "        vertical-align: middle;\n",
       "    }\n",
       "\n",
       "    .dataframe tbody tr th {\n",
       "        vertical-align: top;\n",
       "    }\n",
       "\n",
       "    .dataframe thead th {\n",
       "        text-align: right;\n",
       "    }\n",
       "</style>\n",
       "<table border=\"1\" class=\"dataframe\">\n",
       "  <thead>\n",
       "    <tr style=\"text-align: right;\">\n",
       "      <th></th>\n",
       "      <th>class</th>\n",
       "      <th>count</th>\n",
       "      <th>percent</th>\n",
       "    </tr>\n",
       "  </thead>\n",
       "  <tbody>\n",
       "    <tr>\n",
       "      <th>0</th>\n",
       "      <td>Person (21)</td>\n",
       "      <td>2128</td>\n",
       "      <td>100.00%</td>\n",
       "    </tr>\n",
       "  </tbody>\n",
       "</table>\n",
       "</div>"
      ],
      "text/plain": [
       "         class  count  percent\n",
       "0  Person (21)   2128  100.00%"
      ]
     },
     "metadata": {},
     "output_type": "display_data"
    }
   ],
   "source": [
    "ipr_before = db.query(f'select pk_entity from projects.info_proj_rel where fk_project = {pk_project_gv} and is_in_project = true')\n",
    "\n",
    "print('Number of information before import:', len(ipr_before))\n",
    "print('Number of information should be after import:', (len(entities) + len(peits) + len(teens) + len(stmts) ))\n",
    "\n",
    "entities_str = u.get_sql_ready_str(entities) # peits + teens)\n",
    "classes = db.query(f'''\n",
    "    select \n",
    "        r.pk_entity, r.fk_class, ac.dfh_class_label\n",
    "    from information.resource r\n",
    "    left join data_for_history.api_class ac on ac.dfh_pk_class = r.fk_class and ac.dfh_class_label_language = 'en'\n",
    "    where r.pk_entity in {entities_str}\n",
    "''')\n",
    "classes['class'] = classes['dfh_class_label'] + ' (' + classes['fk_class'].astype(str) + ')'\n",
    "classes.drop_duplicates(inplace=True)\n",
    "print('Details about classes that are the source of what is going to be imported:')\n",
    "display(a.group_by_count(classes, 'class'))"
   ]
  },
  {
   "cell_type": "code",
   "execution_count": 9,
   "metadata": {},
   "outputs": [
    {
     "name": "stdout",
     "output_type": "stream",
     "text": [
      "Creating info_proj_rel of 2128 entities with project <373987> ... Done in [00h00m02s]\n",
      "Creating info_proj_rel of 6608 entities with project <373987> ... Done in [00h00m10s]\n",
      "Creating info_proj_rel of 6646 entities with project <373987> ... Done in [00h00m07s]\n",
      "Creating info_proj_rel of 29990 entities with project <373987> ... Done in [00h00m28s]\n"
     ]
    }
   ],
   "source": [
    "db.info_proj_rels.create(entities)\n",
    "db.info_proj_rels.create(peits)\n",
    "db.info_proj_rels.create(teens)\n",
    "db.info_proj_rels.create(stmts)"
   ]
  },
  {
   "cell_type": "code",
   "execution_count": 10,
   "metadata": {},
   "outputs": [
    {
     "name": "stdout",
     "output_type": "stream",
     "text": [
      "Number of information after import: 141434\n"
     ]
    }
   ],
   "source": [
    "ipr_after = db.query(f'select pk_entity from projects.info_proj_rel where fk_project = {pk_project_gv} and is_in_project = true')\n",
    "\n",
    "print('Number of information after import:', len(ipr_after))"
   ]
  },
  {
   "cell_type": "markdown",
   "metadata": {},
   "source": [
    "## Add favorites (take column `ord_num_of_domain` and `ord_num_of_range`)"
   ]
  },
  {
   "cell_type": "markdown",
   "metadata": {},
   "source": [
    "### Prepare"
   ]
  },
  {
   "cell_type": "code",
   "execution_count": 11,
   "metadata": {},
   "outputs": [
    {
     "name": "stdout",
     "output_type": "stream",
     "text": [
      "[DB] Connecting to PRODUCTION Database ... Connected!\n",
      "IPR source: 1918490\n",
      "IPR target: 141529\n",
      "IPRs to reset: 54025\n",
      "IPRs to set to 1: 2131\n"
     ]
    }
   ],
   "source": [
    "db.connect_geovistory(env, pk_symogih_gv, execute)\n",
    "\n",
    "# Fetch all IPR source\n",
    "ipr_source = db.query(f\"\"\"\n",
    "    select\n",
    "        pk_entity as ipr_source, fk_entity, fk_project, ord_num_of_domain, ord_num_of_range\n",
    "    from projects.info_proj_rel\n",
    "    where fk_project = {pk_symogih_gv}\n",
    "\"\"\")\n",
    "print('IPR source:', len(ipr_source))\n",
    "\n",
    "# Fetch all IPR target\n",
    "ipr_target = db.query(f\"\"\"\n",
    "    select\n",
    "        pk_entity as ipr_target, fk_entity\n",
    "    from projects.info_proj_rel\n",
    "    where fk_project = {pk_project_gv}\n",
    "\"\"\")\n",
    "print('IPR target:', len(ipr_target))\n",
    "\n",
    "# Take only the ones we are interested in\n",
    "iprs = ipr_target.merge(ipr_source)\n",
    "\n",
    "# Format & prepare request\n",
    "iprs_to_reset = iprs.ipr_target.unique().tolist()\n",
    "iprs_to_1 = iprs[iprs.ord_num_of_domain == 1].ipr_target.unique().tolist()\n",
    "\n",
    "print('IPRs to reset:', len(iprs_to_reset))\n",
    "print('IPRs to set to 1:', len(iprs_to_1))\n",
    "\n",
    "# 12s"
   ]
  },
  {
   "cell_type": "markdown",
   "metadata": {},
   "source": [
    "### Execute"
   ]
  },
  {
   "cell_type": "code",
   "execution_count": 12,
   "metadata": {},
   "outputs": [],
   "source": [
    "iprs_to_reset_str = u.get_sql_ready_str(iprs_to_reset)\n",
    "\n",
    "db.execute(f\"\"\"\n",
    "    update projects.info_proj_rel\n",
    "        set ord_num_of_domain = NULL\n",
    "    where pk_entity in {iprs_to_reset_str};\n",
    "\"\"\")"
   ]
  },
  {
   "cell_type": "code",
   "execution_count": 13,
   "metadata": {},
   "outputs": [],
   "source": [
    "iprs_to_1_str = u.get_sql_ready_str(iprs_to_1)\n",
    "db.execute(f\"\"\"\n",
    "    update projects.info_proj_rel\n",
    "        set ord_num_of_domain = 1\n",
    "    where pk_entity in {iprs_to_1_str};\n",
    "\"\"\")"
   ]
  },
  {
   "cell_type": "markdown",
   "metadata": {},
   "source": [
    "### Finish"
   ]
  },
  {
   "cell_type": "code",
   "execution_count": 14,
   "metadata": {},
   "outputs": [
    {
     "name": "stdout",
     "output_type": "stream",
     "text": [
      "[DB] Database correctly disconnected.\n"
     ]
    }
   ],
   "source": [
    "db.disconnect()"
   ]
  }
 ],
 "metadata": {
  "kernelspec": {
   "display_name": "Python 3",
   "language": "python",
   "name": "python3"
  },
  "language_info": {
   "codemirror_mode": {
    "name": "ipython",
    "version": 3
   },
   "file_extension": ".py",
   "mimetype": "text/x-python",
   "name": "python",
   "nbconvert_exporter": "python",
   "pygments_lexer": "ipython3",
   "version": "3.10.12"
  },
  "orig_nbformat": 4
 },
 "nbformat": 4,
 "nbformat_minor": 2
}
