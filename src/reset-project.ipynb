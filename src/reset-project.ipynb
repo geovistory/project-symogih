{
 "cells": [
  {
   "cell_type": "code",
   "execution_count": null,
   "metadata": {},
   "outputs": [],
   "source": [
    "%load_ext autoreload\n",
    "%autoreload 2\n",
    "\n",
    "import os\n",
    "\n",
    "import geovpylib.analysis as a\n",
    "import geovpylib.database as db\n",
    "import geovpylib.queries as q\n",
    "import geovpylib.utils as u\n",
    "import geovpylib.pks as pks\n",
    "\n",
    "\n",
    "# Siprojuris\n",
    "pk_project_gv = pks.projects.siprojuris # The pk project in GEOVISTORY\n",
    "metadata_str = 'bhp-add-entity-to-project-siprojuris'\n",
    "\n",
    "# # Academic Education & Careers (Community Project)\n",
    "# pk_project_bhp = 14841 # The pk project in BHP\n",
    "pk_project_gv = pks.projects.academic_education_and_careers # The pk project in GEOVISTORY\n",
    "# metadata_str = 'bhp-add-entity-to-project-academic-eduction-and-careers'\n",
    "\n",
    "# # Monastica\n",
    "# pk_project_bhp = 14698 # The pk project in BHP\n",
    "# pk_project_gv = pks.projects.monastica # The pk project in GEOVISTORY\n",
    "# metadata_str = 'bhp-add-entity-to-project-monastica'\n",
    "\n",
    "# # Établissements d'enseignement technique\n",
    "# pk_project_bhp = 15789 # The pk project in BHP\n",
    "# pk_project_gv = pks.projects.etablissement_enseignement_technique # The pk project in GEOVISTORY\n",
    "# metadata_str = 'bhp-add-entity-to-project-etab-enseignement-technique'\n",
    "\n",
    "# # Scholasticon\n",
    "# pk_project_bhp = 12782 # The pk project in BHP\n",
    "# pk_project_gv = pks.projects.scholasticon # The pk project in GEOVISTORY\n",
    "# metadata_str = 'bhp-add-entity-to-project-scholasticon'\n",
    "\n",
    "# # Espace intellectuel\n",
    "# pk_project_bhp = 12782 # The pk project in BHP\n",
    "# pk_project_gv = pks.projects.espace_intellectuel # The pk project in GEOVISTORY\n",
    "# metadata_str = 'bhp-add-entity-to-project-espace-intellectuel'\n",
    "\n",
    "\n",
    "\n",
    "# Not to change:\n",
    "pk_symogih_gv = 6857901 # The pk project of symogih on GEOVISTORY\n",
    "\n",
    "env = 'prod'\n",
    "execute = True\n",
    "import_manner = 'one-shot'\n",
    "\n",
    "eta = u.Eta()"
   ]
  },
  {
   "cell_type": "code",
   "execution_count": null,
   "metadata": {},
   "outputs": [],
   "source": [
    "sql = \"\"\"\n",
    "    update projects.info_proj_rel\n",
    "        set is_in_project = false\n",
    "    where fk_project = 7918384 and tmsp_last_modification > '2023-12-17'\n",
    "\"\"\""
   ]
  },
  {
   "cell_type": "code",
   "execution_count": null,
   "metadata": {},
   "outputs": [],
   "source": [
    "sql = \"\"\"\n",
    "    update projects.info_proj_rel\n",
    "        set is_in_project = false\n",
    "    where fk_project = 1483135 and tmsp_last_modification > '2023-12-19'\n",
    "\"\"\""
   ]
  }
 ],
 "metadata": {
  "language_info": {
   "name": "python"
  }
 },
 "nbformat": 4,
 "nbformat_minor": 2
}
