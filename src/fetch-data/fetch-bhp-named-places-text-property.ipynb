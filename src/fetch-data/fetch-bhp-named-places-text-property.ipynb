{
 "cells": [
  {
   "cell_type": "code",
   "execution_count": 1,
   "metadata": {},
   "outputs": [],
   "source": [
    "named_place_text_property_path = '../../data/bhp/named_place_text_property.csv'"
   ]
  },
  {
   "cell_type": "code",
   "execution_count": 2,
   "metadata": {},
   "outputs": [
    {
     "name": "stdout",
     "output_type": "stream",
     "text": [
      ">> Connecting to PGSQL Database ... Connected!\n"
     ]
    }
   ],
   "source": [
    "import os, datetime\n",
    "import pandas as pd\n",
    "\n",
    "import geovpylib.utils as u\n",
    "import geovpylib.analysis as a\n",
    "import geovpylib.database as db\n",
    "\n",
    "db.connect_external(os.environ.get('YELLOW_BHP'))\n",
    "eta = u.Eta()"
   ]
  },
  {
   "attachments": {},
   "cell_type": "markdown",
   "metadata": {},
   "source": [
    "## Fetch full table"
   ]
  },
  {
   "cell_type": "code",
   "execution_count": 3,
   "metadata": {},
   "outputs": [],
   "source": [
    "named_place_text_property = db.query('select * from bhp.named_place_text_property')"
   ]
  },
  {
   "attachments": {},
   "cell_type": "markdown",
   "metadata": {},
   "source": [
    "## Remove binary characters"
   ]
  },
  {
   "cell_type": "code",
   "execution_count": 4,
   "metadata": {},
   "outputs": [],
   "source": [
    "named_place_text_property.replace({'\\r\\n':''}, regex=True, inplace=True)\n",
    "named_place_text_property.replace({'<p>':''}, regex=True, inplace=True)\n",
    "named_place_text_property.replace({'</p>':''}, regex=True, inplace=True)\n",
    "\n",
    "u.remove_binary_chars(named_place_text_property)"
   ]
  },
  {
   "attachments": {},
   "cell_type": "markdown",
   "metadata": {},
   "source": [
    "## Discovery"
   ]
  },
  {
   "cell_type": "code",
   "execution_count": 5,
   "metadata": {},
   "outputs": [
    {
     "name": "stdout",
     "output_type": "stream",
     "text": [
      "Columns contain:\n",
      "Total number of rows: 26549\n",
      "  - \"pk_named_place_text_property\":   0.00% empty - 26549 (100.00%) uniques (eg: 41200; 20543; 20545)\n",
      "  -                \"property_type\":   0.00% empty -     4 (  0.02%) uniques (eg: notice; notice_web; complément)\n",
      "  -                \"lang_iso_code\":   0.00% empty -     4 (  0.02%) uniques (eg: fra; ita; None)\n",
      "  -                         \"text\":   0.00% empty -  9226 ( 34.75%) uniques (eg: Saarlouis; Salvador d...; / Capitale...)\n",
      "  -                        \"notes\":   0.00% empty -    27 (  0.10%) uniques (eg: ; None; Source htt...)\n",
      "  -               \"fk_named_place\":   0.00% empty - 22432 ( 84.49%) uniques (eg: 121395; 59; 3697)\n",
      "  -                \"creation_time\":   0.00% empty -  1570 (  5.91%) uniques (eg: 2014-01-30...; 2007-07-20...; 2009-08-21...)\n",
      "  -                  \"concat_nptp\":   0.00% empty - 26549 (100.00%) uniques (eg: NPTP41200; NPTP20543; NPTP20545)\n",
      "  -                      \"creator\":   0.00% empty -    42 (  0.16%) uniques (eg: 67.0; 3.0; 4.0)\n",
      "  -                     \"modifier\":   0.00% empty -    41 (  0.15%) uniques (eg: 67.0; 3.0; 4.0)\n",
      "  -            \"modification_time\":   3.94% empty -   218 (  0.82%) uniques (eg: 2014-02-06...; NaT; 2017-09-05...)\n"
     ]
    }
   ],
   "source": [
    "a.discover(named_place_text_property, uniq_ex_nb=3)"
   ]
  },
  {
   "attachments": {},
   "cell_type": "markdown",
   "metadata": {},
   "source": [
    "## Type parsing"
   ]
  },
  {
   "cell_type": "code",
   "execution_count": 6,
   "metadata": {},
   "outputs": [],
   "source": [
    "a.set_types(named_place_text_property, {\n",
    "    \"pk_named_place_text_property\": \"int\",\n",
    "                   \"property_type\": \"string\",\n",
    "                            \"text\": \"string\",\n",
    "                  \"fk_named_place\": \"int\",\n",
    "                   \"creation_time\": \"datetime\",\n",
    "                     \"concat_nptp\": \"string\",\n",
    "                         \"creator\": \"int\",\n",
    "                        \"modifier\": \"int\",\n",
    "                   \"lang_iso_code\": \"string\",\n",
    "               \"modification_time\": \"datetime\",\n",
    "                           \"notes\": \"string\",\n",
    "})     "
   ]
  },
  {
   "attachments": {},
   "cell_type": "markdown",
   "metadata": {},
   "source": [
    "## Handle data"
   ]
  },
  {
   "cell_type": "code",
   "execution_count": 7,
   "metadata": {},
   "outputs": [],
   "source": [
    "named_place_text_property['property_type'] = named_place_text_property['property_type'].replace('notice_web', 'notice web')\n",
    "\n",
    "# According to the wiki page, 'notice_web' and 'notice' would then be merged.\n",
    "named_place_text_property['property_type'] = named_place_text_property['property_type'].replace('notice web', 'notice')"
   ]
  },
  {
   "attachments": {},
   "cell_type": "markdown",
   "metadata": {},
   "source": [
    "## Save data"
   ]
  },
  {
   "cell_type": "code",
   "execution_count": 8,
   "metadata": {},
   "outputs": [],
   "source": [
    "u.save_df(named_place_text_property, named_place_text_property_path)"
   ]
  }
 ],
 "metadata": {
  "kernelspec": {
   "display_name": "Python 3",
   "language": "python",
   "name": "python3"
  },
  "language_info": {
   "codemirror_mode": {
    "name": "ipython",
    "version": 3
   },
   "file_extension": ".py",
   "mimetype": "text/x-python",
   "name": "python",
   "nbconvert_exporter": "python",
   "pygments_lexer": "ipython3",
   "version": "3.8.10"
  },
  "orig_nbformat": 4
 },
 "nbformat": 4,
 "nbformat_minor": 2
}
