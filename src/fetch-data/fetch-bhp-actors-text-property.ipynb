{
 "cells": [
  {
   "cell_type": "code",
   "execution_count": 1,
   "metadata": {},
   "outputs": [],
   "source": [
    "actor_text_property_path = '../../data/bhp/actor_text_property.csv'"
   ]
  },
  {
   "cell_type": "code",
   "execution_count": 2,
   "metadata": {},
   "outputs": [
    {
     "name": "stdout",
     "output_type": "stream",
     "text": [
      ">> Connecting to PGSQL Database ... Connected!\n"
     ]
    }
   ],
   "source": [
    "import os, datetime\n",
    "import pandas as pd\n",
    "\n",
    "import geovpylib.utils as u\n",
    "import geovpylib.analysis as a\n",
    "\n",
    "u.db_connect(os.environ.get('YELLOW_BHP'))"
   ]
  },
  {
   "attachments": {},
   "cell_type": "markdown",
   "metadata": {},
   "source": [
    "## Fetch full table"
   ]
  },
  {
   "cell_type": "code",
   "execution_count": 3,
   "metadata": {},
   "outputs": [],
   "source": [
    "actor_text_property = u.db_execute('select * from bhp.actor_text_property')"
   ]
  },
  {
   "cell_type": "markdown",
   "metadata": {},
   "source": [
    "## Remove binary characters"
   ]
  },
  {
   "cell_type": "code",
   "execution_count": 4,
   "metadata": {},
   "outputs": [],
   "source": [
    "actor_text_property.replace({r'[^\\x00-\\x7F]+':''}, regex=True, inplace=True)\n",
    "actor_text_property.replace({'\\r\\n':''}, regex=True, inplace=True)\n",
    "actor_text_property.replace({'<p>':''}, regex=True, inplace=True)\n",
    "actor_text_property.replace({'</p>':''}, regex=True, inplace=True)"
   ]
  },
  {
   "attachments": {},
   "cell_type": "markdown",
   "metadata": {},
   "source": [
    "## Discovery"
   ]
  },
  {
   "cell_type": "code",
   "execution_count": 5,
   "metadata": {},
   "outputs": [
    {
     "name": "stdout",
     "output_type": "stream",
     "text": [
      "Columns contain:\n",
      "Total number of rows: 53887\n",
      "  - \"pk_actor_text_property\":   0.00% empty - 53887 (100.00%) uniques (eg: 29364; 29366; 17991)\n",
      "  -          \"property_type\":   0.00% empty -     4 (  0.01%) uniques (eg: notice; notice_web; complment)\n",
      "  -                   \"text\":   0.00% empty - 38278 ( 71.03%) uniques (eg: Directeur ...; Conseiller...; Il a t pro...)\n",
      "  -               \"fk_actor\":   0.00% empty - 45931 ( 85.24%) uniques (eg: 47735; 47736; 40250)\n",
      "  -            \"concat_actp\":   0.00% empty - 53887 (100.00%) uniques (eg: AcTP29364; AcTP29366; AcTP17991)\n",
      "  -          \"creation_time\":   0.00% empty - 30407 ( 56.43%) uniques (eg: 2013-12-19...; 2013-12-19...; 2010-11-18...)\n",
      "  -                \"creator\":   0.01% empty -    87 (  0.16%) uniques (eg: 2.0; 50.0; 3.0)\n",
      "  -          \"lang_iso_code\":   2.79% empty -     6 (  0.01%) uniques (eg: fra; None; ita)\n",
      "  -               \"modifier\":  13.57% empty -    82 (  0.15%) uniques (eg: 2.0; 50.0; 3.0)\n",
      "  -      \"modification_time\":  42.69% empty -  4417 (  8.20%) uniques (eg: NaT; 2013-12-19...; 2013-12-19...)\n",
      "  -                  \"notes\":  60.97% empty -  8100 ( 15.03%) uniques (eg: ; None; 96)\n"
     ]
    }
   ],
   "source": [
    "a.discover(actor_text_property, uniq_ex_nb=3)"
   ]
  },
  {
   "attachments": {},
   "cell_type": "markdown",
   "metadata": {},
   "source": [
    "## Type parsing"
   ]
  },
  {
   "cell_type": "code",
   "execution_count": 6,
   "metadata": {},
   "outputs": [],
   "source": [
    "a.set_types(actor_text_property, {\n",
    "    'pk_actor_text_property': 'int',\n",
    "            'property_type': 'string',\n",
    "                    'text': 'text',\n",
    "                'fk_actor': 'int',\n",
    "            'concat_actp': 'string',\n",
    "            'creation_time': 'datetime',\n",
    "                'creator': 'int',\n",
    "            'lang_iso_code': 'string',\n",
    "                'modifier': 'int',\n",
    "        'modification_time': 'datetime',\n",
    "                    'notes': 'string',\n",
    "})     "
   ]
  },
  {
   "attachments": {},
   "cell_type": "markdown",
   "metadata": {},
   "source": [
    "## Handle data"
   ]
  },
  {
   "cell_type": "code",
   "execution_count": 7,
   "metadata": {},
   "outputs": [],
   "source": [
    "actor_text_property['property_type'] = actor_text_property['property_type'].replace('notice_web', 'notice web')\n",
    "\n",
    "# According to the wiki page, 'notice_web' and 'notice' would then be merged.\n",
    "actor_text_property['property_type'] = actor_text_property['property_type'].replace('notice web', 'notice')"
   ]
  },
  {
   "attachments": {},
   "cell_type": "markdown",
   "metadata": {},
   "source": [
    "## Save data"
   ]
  },
  {
   "cell_type": "code",
   "execution_count": 8,
   "metadata": {},
   "outputs": [],
   "source": [
    "u.save_df(actor_text_property, actor_text_property_path)"
   ]
  }
 ],
 "metadata": {
  "kernelspec": {
   "display_name": "Python 3",
   "language": "python",
   "name": "python3"
  },
  "language_info": {
   "codemirror_mode": {
    "name": "ipython",
    "version": 3
   },
   "file_extension": ".py",
   "mimetype": "text/x-python",
   "name": "python",
   "nbconvert_exporter": "python",
   "pygments_lexer": "ipython3",
   "version": "3.8.10"
  },
  "orig_nbformat": 4
 },
 "nbformat": 4,
 "nbformat_minor": 2
}
