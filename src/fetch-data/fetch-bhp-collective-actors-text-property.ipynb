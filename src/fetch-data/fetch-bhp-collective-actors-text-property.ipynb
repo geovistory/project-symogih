{
 "cells": [
  {
   "cell_type": "code",
   "execution_count": 12,
   "metadata": {},
   "outputs": [
    {
     "name": "stdout",
     "output_type": "stream",
     "text": [
      "The autoreload extension is already loaded. To reload it, use:\n",
      "  %reload_ext autoreload\n"
     ]
    }
   ],
   "source": [
    "%load_ext autoreload\n",
    "%autoreload 2\n",
    "\n",
    "env = 'prod'\n",
    "pk_project = -1\n",
    "execute = False\n",
    "metadata_str = ''\n",
    "import_manner = 'one-shot' # 'batch'\n",
    "\n",
    "import os\n",
    "import pandas as pd\n",
    "import numpy as np\n",
    "from datetime import datetime\n",
    "import duckdb\n",
    "import plotly.express as px\n",
    "\n",
    "import geovpylib.analysis as a\n",
    "import geovpylib.database as db\n",
    "import geovpylib.graphs as graphs\n",
    "import geovpylib.pks as pks\n",
    "import geovpylib.recordlinkage as rl\n",
    "import geovpylib.sparql as sparql\n",
    "import geovpylib.utils as u\n",
    "\n",
    "eta = u.Eta()"
   ]
  },
  {
   "cell_type": "code",
   "execution_count": 13,
   "metadata": {},
   "outputs": [],
   "source": [
    "collective_actor_text_property_path = '../../data/bhp/collective-actor-text-property.csv'"
   ]
  },
  {
   "attachments": {},
   "cell_type": "markdown",
   "metadata": {},
   "source": [
    "## Fetch full table"
   ]
  },
  {
   "cell_type": "code",
   "execution_count": 14,
   "metadata": {},
   "outputs": [
    {
     "name": "stdout",
     "output_type": "stream",
     "text": [
      "[DB] Connecting to PGSQL Database ... Connected!\n"
     ]
    }
   ],
   "source": [
    "db.connect_external(os.environ.get('YELLOW_BHP'))\n",
    "collective_actor_text_property = db.query('select * from bhp.collective_actor_text_property')"
   ]
  },
  {
   "attachments": {},
   "cell_type": "markdown",
   "metadata": {},
   "source": [
    "## Filter unwanted columns"
   ]
  },
  {
   "cell_type": "code",
   "execution_count": 15,
   "metadata": {},
   "outputs": [],
   "source": [
    "collective_actor_text_property.drop(columns=['concat_catp'], inplace=True)\n",
    "collective_actor_text_property.drop(columns=['creator', 'modifier', 'creation_time', 'modification_time'], inplace=True)\n"
   ]
  },
  {
   "attachments": {},
   "cell_type": "markdown",
   "metadata": {},
   "source": [
    "## Remove binary characters"
   ]
  },
  {
   "cell_type": "code",
   "execution_count": 16,
   "metadata": {},
   "outputs": [],
   "source": [
    "collective_actor_text_property.replace({'\\r\\n':''}, regex=True, inplace=True)\n",
    "collective_actor_text_property.replace({'<p>':''}, regex=True, inplace=True)\n",
    "collective_actor_text_property.replace({'</p>':''}, regex=True, inplace=True)\n",
    "\n",
    "u.remove_binary_chars(collective_actor_text_property)"
   ]
  },
  {
   "attachments": {},
   "cell_type": "markdown",
   "metadata": {},
   "source": [
    "## Discovery"
   ]
  },
  {
   "cell_type": "code",
   "execution_count": 17,
   "metadata": {},
   "outputs": [
    {
     "name": "stdout",
     "output_type": "stream",
     "text": [
      "Columns contain:\n",
      "Total number of rows: 16687\n",
      "  - \"pk_collective_actor_text_property\":   0.00% empty - 16687 (100.00%) uniques (eg: 8718; 8679; 5857)\n",
      "  -                     \"property_type\":   0.00% empty -     4 (  0.02%) uniques (eg: notice; notice_web; complément)\n",
      "  -                     \"lang_iso_code\":   0.00% empty -     3 (  0.02%) uniques (eg: ita; fra; None)\n",
      "  -                              \"text\":   0.00% empty - 12153 ( 72.83%) uniques (eg: Comunità v...; Chambre sy...; Syndicat p...)\n",
      "  -                             \"notes\":   0.00% empty -    11 (  0.07%) uniques (eg: None; Annexe du ...; Biver : in...)\n",
      "  -               \"fk_collective_actor\":   0.00% empty - 16640 ( 99.72%) uniques (eg: 14779; 14283; 9139)\n"
     ]
    }
   ],
   "source": [
    "a.discover(collective_actor_text_property, uniq_ex_nb=3)"
   ]
  },
  {
   "attachments": {},
   "cell_type": "markdown",
   "metadata": {},
   "source": [
    "## Type parsing"
   ]
  },
  {
   "cell_type": "code",
   "execution_count": 18,
   "metadata": {},
   "outputs": [],
   "source": [
    "a.set_types(collective_actor_text_property, {\n",
    "    'pk_collective_actor_text_property': 'int',\n",
    "                        'property_type': 'string',\n",
    "                                 'text': 'text',\n",
    "                  'fk_collective_actor': 'int',\n",
    "                        'lang_iso_code': 'string',\n",
    "                                'notes': 'string',\n",
    "})     "
   ]
  },
  {
   "attachments": {},
   "cell_type": "markdown",
   "metadata": {},
   "source": [
    "## Handle data"
   ]
  },
  {
   "cell_type": "code",
   "execution_count": 19,
   "metadata": {},
   "outputs": [],
   "source": [
    "collective_actor_text_property['property_type'] = collective_actor_text_property['property_type'].replace('notice_web', 'notice web')\n",
    "\n",
    "# According to the wiki page, 'notice_web' and 'notice' would then be merged.\n",
    "collective_actor_text_property['property_type'] = collective_actor_text_property['property_type'].replace('notice web', 'notice')"
   ]
  },
  {
   "attachments": {},
   "cell_type": "markdown",
   "metadata": {},
   "source": [
    "## Save data"
   ]
  },
  {
   "cell_type": "code",
   "execution_count": 20,
   "metadata": {},
   "outputs": [],
   "source": [
    "u.save_df(collective_actor_text_property, collective_actor_text_property_path)"
   ]
  }
 ],
 "metadata": {
  "kernelspec": {
   "display_name": "Python 3",
   "language": "python",
   "name": "python3"
  },
  "language_info": {
   "codemirror_mode": {
    "name": "ipython",
    "version": 3
   },
   "file_extension": ".py",
   "mimetype": "text/x-python",
   "name": "python",
   "nbconvert_exporter": "python",
   "pygments_lexer": "ipython3",
   "version": "3.8.10"
  },
  "orig_nbformat": 4
 },
 "nbformat": 4,
 "nbformat_minor": 2
}
