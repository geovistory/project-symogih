{
 "cells": [
  {
   "cell_type": "code",
   "execution_count": 35,
   "metadata": {},
   "outputs": [
    {
     "name": "stdout",
     "output_type": "stream",
     "text": [
      "The autoreload extension is already loaded. To reload it, use:\n",
      "  %reload_ext autoreload\n"
     ]
    }
   ],
   "source": [
    "%load_ext autoreload\n",
    "%autoreload 2\n",
    "\n",
    "env = 'prod'\n",
    "pk_project = -1\n",
    "execute = False\n",
    "metadata_str = ''\n",
    "import_manner = 'one-shot' # 'batch'\n",
    "\n",
    "import os\n",
    "import pandas as pd\n",
    "import numpy as np\n",
    "from datetime import datetime\n",
    "import duckdb\n",
    "import plotly.express as px\n",
    "\n",
    "import geovpylib.analysis as a\n",
    "import geovpylib.database as db\n",
    "import geovpylib.graphs as graphs\n",
    "import geovpylib.pks as pks\n",
    "import geovpylib.recordlinkage as rl\n",
    "import geovpylib.sparql as sparql\n",
    "import geovpylib.utils as u\n",
    "\n",
    "eta = u.Eta()"
   ]
  },
  {
   "cell_type": "code",
   "execution_count": 36,
   "metadata": {},
   "outputs": [],
   "source": [
    "collective_actor_name_path = '../../data/bhp/collective-actor-name.csv'"
   ]
  },
  {
   "attachments": {},
   "cell_type": "markdown",
   "metadata": {},
   "source": [
    "## Fetch full table"
   ]
  },
  {
   "cell_type": "code",
   "execution_count": 37,
   "metadata": {},
   "outputs": [
    {
     "name": "stdout",
     "output_type": "stream",
     "text": [
      "[DB] Connecting to PGSQL Database ... Connected!\n"
     ]
    }
   ],
   "source": [
    "db.connect_external(os.environ.get('YELLOW_BHP'))\n",
    "collective_actor_name = db.query('select * from bhp.collective_actor_name')"
   ]
  },
  {
   "attachments": {},
   "cell_type": "markdown",
   "metadata": {},
   "source": [
    "## Filter unwanted columns"
   ]
  },
  {
   "cell_type": "code",
   "execution_count": 38,
   "metadata": {},
   "outputs": [],
   "source": [
    "collective_actor_name.drop(columns=['concat_cana', 'name_number'], inplace=True)\n",
    "collective_actor_name.drop(columns=['creator', 'modifier', 'creation_time', 'modification_time'], inplace=True)\n",
    "a.set_types(collective_actor_name, {\n",
    "    'name': 'string',\n",
    "    'name_type': 'int',\n",
    "    'lang_iso': 'string',\n",
    "    'comment_begin_year': 'string',\n",
    "    'comment_end_year': 'string',\n",
    "    'notes': 'string',\n",
    "    'fk_collective_actor': 'int',\n",
    "    'begin_year': 'int',\n",
    "    'end_year': 'int',\n",
    "    'begin_month': 'int',\n",
    "    'end_month': 'int',\n",
    "    'begin_day': 'int',\n",
    "    'end_day': 'int',\n",
    "    'fk_abob_coac_name_type': 'int'\n",
    "})"
   ]
  },
  {
   "attachments": {},
   "cell_type": "markdown",
   "metadata": {},
   "source": [
    "## Remove binary characters"
   ]
  },
  {
   "cell_type": "code",
   "execution_count": 39,
   "metadata": {},
   "outputs": [],
   "source": [
    "collective_actor_name.replace({'\\r\\n':''}, regex=True, inplace=True)\n",
    "collective_actor_name.replace({'<p>':''}, regex=True, inplace=True)\n",
    "collective_actor_name.replace({'</p>':''}, regex=True, inplace=True)\n",
    "\n",
    "collective_actor_name.notes = collective_actor_name.notes.str.replace('<p>', '')\n",
    "collective_actor_name.notes = collective_actor_name.notes.str.replace('</p>', '')\n",
    "collective_actor_name.notes = collective_actor_name.notes.str.replace('\\r', '')\n",
    "collective_actor_name.notes = collective_actor_name.notes.str.replace('\\n', ' ')\n",
    "\n",
    "u.remove_binary_chars(collective_actor_name)"
   ]
  },
  {
   "attachments": {},
   "cell_type": "markdown",
   "metadata": {},
   "source": [
    "## Handle data"
   ]
  },
  {
   "attachments": {},
   "cell_type": "markdown",
   "metadata": {},
   "source": [
    "### begin and end dates"
   ]
  },
  {
   "attachments": {},
   "cell_type": "markdown",
   "metadata": {},
   "source": [
    "We create 2 new columns, made of the joining of `begin_year`, `begin_month`, `begin_day` and `end_year`, `end_month`, `end_day`."
   ]
  },
  {
   "cell_type": "code",
   "execution_count": 40,
   "metadata": {},
   "outputs": [],
   "source": [
    "# Format available information\n",
    "collective_actor_name['begin_year'] = collective_actor_name['begin_year'].astype(pd.Int64Dtype())\n",
    "collective_actor_name['begin_month'] = collective_actor_name['begin_month'].astype(pd.Int64Dtype())\n",
    "collective_actor_name['begin_day'] = collective_actor_name['begin_day'].astype(pd.Int64Dtype())\n",
    "collective_actor_name['end_year'] = collective_actor_name['end_year'].astype(pd.Int64Dtype())\n",
    "collective_actor_name['end_month'] = collective_actor_name['end_month'].astype(pd.Int64Dtype())\n",
    "collective_actor_name['end_day'] = collective_actor_name['end_day'].astype(pd.Int64Dtype())\n",
    "\n",
    "# Create new columns\n",
    "collective_actor_name['begin_date'] = [(row['begin_year'], row['begin_month'], row['begin_day']) if pd.notna(row['begin_year']) else pd.NA for _, row in collective_actor_name.iterrows()]\n",
    "collective_actor_name['end_date'] = [(row['end_year'], row['end_month'], row['end_day']) if pd.notna(row['end_year']) else pd.NA for _, row in collective_actor_name.iterrows()]\n",
    "\n",
    "# Delete old columns\n",
    "collective_actor_name.drop(columns=['begin_year', 'begin_month', 'begin_day', 'end_year', 'end_month', 'end_day'], inplace=True)"
   ]
  },
  {
   "attachments": {},
   "cell_type": "markdown",
   "metadata": {},
   "source": [
    "### lang_iso"
   ]
  },
  {
   "cell_type": "code",
   "execution_count": 41,
   "metadata": {},
   "outputs": [],
   "source": [
    "collective_actor_name['lang_iso'].replace('   ', pd.NA, inplace=True)"
   ]
  },
  {
   "attachments": {},
   "cell_type": "markdown",
   "metadata": {},
   "source": [
    "## Discovery"
   ]
  },
  {
   "cell_type": "code",
   "execution_count": 42,
   "metadata": {},
   "outputs": [
    {
     "name": "stdout",
     "output_type": "stream",
     "text": [
      "Columns contain:\n",
      "Total number of rows: 24429\n",
      "  - \"pk_collective_actor_name\":   0.00% empty - 24429 (100.00%) uniques (eg: 5; 6; 8)\n",
      "  -         \"is_standard_name\":   0.00% empty -     2 (  0.01%) uniques (eg: True; False)\n",
      "  -                     \"name\":   0.00% empty - 23800 ( 97.43%) uniques (eg: Collège de...; Collège ro...; Compagnie ...)\n",
      "  -      \"fk_collective_actor\":   0.00% empty - 22717 ( 92.99%) uniques (eg: 10; 11; 13)\n",
      "  -                 \"lang_iso\":  56.17% empty -    11 (  0.05%) uniques (eg: <NA>; fra; ita)\n",
      "  -   \"fk_abob_coac_name_type\":  63.03% empty -     5 (  0.02%) uniques (eg: <NA>; 1253; 1270)\n",
      "  -       \"comment_begin_year\":  72.66% empty -    29 (  0.12%) uniques (eg: <NA>; ; 1874)\n",
      "  -         \"comment_end_year\":  72.79% empty -    15 (  0.06%) uniques (eg: <NA>; ; 1869)\n",
      "  -                    \"notes\":  72.79% empty -    30 (  0.12%) uniques (eg: <NA>; ; Laurium ou...)\n",
      "  -               \"begin_date\":  94.51% empty -   368 (  1.51%) uniques (eg: <NA>; (1577, <NA...; (1806, <NA...)\n",
      "  -                 \"end_date\":  97.49% empty -   254 (  1.04%) uniques (eg: <NA>; (1867, <NA...; (1910, <NA...)\n",
      "  -                \"name_type\": 100.00% empty -     1 (  0.00%) uniques (eg: <NA>)\n"
     ]
    }
   ],
   "source": [
    "a.discover(collective_actor_name, uniq_ex_nb=3)"
   ]
  },
  {
   "attachments": {},
   "cell_type": "markdown",
   "metadata": {},
   "source": [
    "## Save data"
   ]
  },
  {
   "cell_type": "code",
   "execution_count": 43,
   "metadata": {},
   "outputs": [],
   "source": [
    "u.save_df(collective_actor_name, collective_actor_name_path)"
   ]
  }
 ],
 "metadata": {
  "kernelspec": {
   "display_name": "Python 3",
   "language": "python",
   "name": "python3"
  },
  "language_info": {
   "codemirror_mode": {
    "name": "ipython",
    "version": 3
   },
   "file_extension": ".py",
   "mimetype": "text/x-python",
   "name": "python",
   "nbconvert_exporter": "python",
   "pygments_lexer": "ipython3",
   "version": "3.8.10"
  },
  "orig_nbformat": 4
 },
 "nbformat": 4,
 "nbformat_minor": 2
}
