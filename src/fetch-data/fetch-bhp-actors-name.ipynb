{
 "cells": [
  {
   "cell_type": "code",
   "execution_count": 1,
   "metadata": {},
   "outputs": [],
   "source": [
    "actor_name_path = '../../data/bhp/actor_name.csv'"
   ]
  },
  {
   "cell_type": "code",
   "execution_count": 2,
   "metadata": {},
   "outputs": [
    {
     "name": "stdout",
     "output_type": "stream",
     "text": [
      ">> Connecting to PGSQL Database ... Connected!\n"
     ]
    }
   ],
   "source": [
    "import os\n",
    "import pandas as pd\n",
    "import datetime\n",
    "\n",
    "import geovpylib.utils as u\n",
    "import geovpylib.analysis as a\n",
    "import geovpylib.database as db\n",
    "\n",
    "db.connect_external(os.environ.get('YELLOW_BHP'))\n",
    "eta = u.Eta()"
   ]
  },
  {
   "attachments": {},
   "cell_type": "markdown",
   "metadata": {},
   "source": [
    "## Fetch full table"
   ]
  },
  {
   "cell_type": "code",
   "execution_count": 3,
   "metadata": {},
   "outputs": [],
   "source": [
    "actor_name = db.query('select * from bhp.actor_name')"
   ]
  },
  {
   "attachments": {},
   "cell_type": "markdown",
   "metadata": {},
   "source": [
    "## Filter unwanted columns"
   ]
  },
  {
   "attachments": {},
   "cell_type": "markdown",
   "metadata": {},
   "source": [
    "According to the wiki page, we can get rid of those columns:\n",
    "- `name_type`\n",
    "- `name_number`"
   ]
  },
  {
   "cell_type": "code",
   "execution_count": 4,
   "metadata": {},
   "outputs": [],
   "source": [
    "actor_name.drop(columns=['name_type', 'name_number'], inplace=True)"
   ]
  },
  {
   "attachments": {},
   "cell_type": "markdown",
   "metadata": {},
   "source": [
    "## Remove binary characters"
   ]
  },
  {
   "cell_type": "code",
   "execution_count": 5,
   "metadata": {},
   "outputs": [],
   "source": [
    "actor_name.replace({'\\r\\n':''}, regex=True, inplace=True)\n",
    "actor_name.replace({'<p>':''}, regex=True, inplace=True)\n",
    "actor_name.replace({'</p>':''}, regex=True, inplace=True)\n",
    "\n",
    "u.remove_binary_chars(actor_name)"
   ]
  },
  {
   "attachments": {},
   "cell_type": "markdown",
   "metadata": {},
   "source": [
    "## Discovery"
   ]
  },
  {
   "cell_type": "code",
   "execution_count": 6,
   "metadata": {},
   "outputs": [
    {
     "name": "stdout",
     "output_type": "stream",
     "text": [
      "Columns contain:\n",
      "Total number of rows: 67293\n",
      "  -      \"pk_actor_name\":   0.00% empty - 67293 (100.00%) uniques (eg: 49829; 49830; 49832)\n",
      "  -        \"concat_name\":   0.00% empty - 63640 ( 94.57%) uniques (eg: Otte, Bern...; Staud, Joh...; Roma, Giul...)\n",
      "  -      \"creation_time\":   0.00% empty - 40469 ( 60.14%) uniques (eg: 2013-02-20...; 2013-02-20...; 2013-02-20...)\n",
      "  -           \"fk_actor\":   0.00% empty - 61555 ( 91.47%) uniques (eg: 46706; 46707; 46709)\n",
      "  -              \"notes\":   0.00% empty -   420 (  0.62%) uniques (eg: None; ; Se fait ap...)\n",
      "  -   \"comment_end_year\":   0.00% empty -    12 (  0.02%) uniques (eg: None; ; Nom parfoi...)\n",
      "  -         \"apposition\":   0.00% empty -  1892 (  2.81%) uniques (eg: None; Acquanegra; Loyola)\n",
      "  -        \"preposition\":   0.00% empty -    37 (  0.05%) uniques (eg: None; dit de; de)\n",
      "  -              \"title\":   0.00% empty -   229 (  0.34%) uniques (eg: None; d'; de)\n",
      "  - \"comment_begin_year\":   0.00% empty -    25 (  0.04%) uniques (eg: None; ; En septemb...)\n",
      "  -       \"ordinal_text\":   0.00% empty -    28 (  0.04%) uniques (eg: None; VIII; III)\n",
      "  -         \"first_name\":   0.00% empty - 12315 ( 18.30%) uniques (eg: Bernhard; Johann; Giulio)\n",
      "  -               \"name\":   0.00% empty - 32294 ( 47.99%) uniques (eg: Otte; Staud; Roma)\n",
      "  -           \"lang_iso\":   0.00% empty -    27 (  0.04%) uniques (eg: None; ita;    )\n",
      "  -           \"particle\":   0.00% empty -   115 (  0.17%) uniques (eg: None; d'; van)\n",
      "  -   \"is_standard_name\":   0.00% empty -     2 (  0.00%) uniques (eg: True; False)\n",
      "  -        \"concat_acna\":   0.00% empty - 67293 (100.00%) uniques (eg: AcNa49829; AcNa49830; AcNa49832)\n",
      "  -            \"creator\":   0.00% empty -    89 (  0.13%) uniques (eg: 48.0; 3.0; 41.0)\n",
      "  -           \"modifier\":   7.31% empty -    88 (  0.13%) uniques (eg: 48.0; 3.0; 116.0)\n",
      "  -  \"modification_time\":  24.75% empty -  4689 (  6.97%) uniques (eg: NaT; 2013-02-14...; 2013-02-20...)\n",
      "  -  \"fk_abob_name_type\":  70.46% empty -     8 (  0.01%) uniques (eg: nan; 1058.0; 1060.0)\n",
      "  -         \"begin_year\":  98.74% empty -   279 (  0.41%) uniques (eg: 1883.0; 1882.0; nan)\n",
      "  -           \"end_year\":  99.49% empty -   210 (  0.31%) uniques (eg: 1933.0; 1939.0; nan)\n",
      "  -        \"ordinal_num\":  99.90% empty -     9 (  0.01%) uniques (eg: nan; 8.0; 1.0)\n",
      "  -        \"begin_month\":  99.98% empty -     9 (  0.01%) uniques (eg: nan; 9.0; 3.0)\n",
      "  -          \"begin_day\":  99.99% empty -     9 (  0.01%) uniques (eg: nan; 17.0; 7.0)\n",
      "  -          \"end_month\":  99.99% empty -     5 (  0.01%) uniques (eg: nan; 2.0; 7.0)\n",
      "  -            \"end_day\":  99.99% empty -     5 (  0.01%) uniques (eg: nan; 15.0; 16.0)\n"
     ]
    }
   ],
   "source": [
    "a.discover(actor_name, uniq_ex_nb=3)"
   ]
  },
  {
   "attachments": {},
   "cell_type": "markdown",
   "metadata": {},
   "source": [
    "## Type parsing"
   ]
  },
  {
   "attachments": {},
   "cell_type": "markdown",
   "metadata": {},
   "source": [
    "According to the table before, we will parse each column by the most meaningful type."
   ]
  },
  {
   "cell_type": "code",
   "execution_count": 7,
   "metadata": {},
   "outputs": [],
   "source": [
    "a.set_types(actor_name, {\n",
    "     \"pk_actor_name\": 'int',\n",
    "       \"concat_acna\": 'string',\n",
    "     \"creation_time\": 'datetime',\n",
    "  \"is_standard_name\": 'bool',\n",
    "          \"fk_actor\": 'int',\n",
    "       \"concat_name\": 'string',\n",
    "           \"creator\": 'int',\n",
    "              \"name\": 'string',\n",
    "          \"lang_iso\": 'string',\n",
    "          \"modifier\": 'int',\n",
    "        \"first_name\": 'string',\n",
    " \"modification_time\": 'datetime',\n",
    " \"fk_abob_name_type\": 'int',\n",
    "             \"notes\": 'string',\n",
    "\"comment_begin_year\": 'string',\n",
    "  \"comment_end_year\": 'string',\n",
    "        \"apposition\": 'string',\n",
    "       \"preposition\": 'string',\n",
    "          \"particle\": 'string',\n",
    "             \"title\": 'string',\n",
    "        \"begin_year\": 'int',\n",
    "          \"end_year\": 'int',\n",
    "      \"ordinal_text\": 'string',\n",
    "       \"ordinal_num\": 'int',\n",
    "       \"begin_month\": 'int',\n",
    "         \"begin_day\": 'int',\n",
    "         \"end_month\": 'int',\n",
    "           \"end_day\": 'int',\n",
    "})     \n",
    "\n",
    "# So that they appear correctly\n",
    "a.set_types(actor_name, {\n",
    "        \"begin_year\": 'string',\n",
    "          \"end_year\": 'string',\n",
    "       \"begin_month\": 'string',\n",
    "         \"end_month\": 'string',\n",
    "         \"begin_day\": 'string',\n",
    "           \"end_day\": 'string',\n",
    "})     "
   ]
  },
  {
   "attachments": {},
   "cell_type": "markdown",
   "metadata": {},
   "source": [
    "## Handle data"
   ]
  },
  {
   "attachments": {},
   "cell_type": "markdown",
   "metadata": {},
   "source": [
    "### begin and end dates"
   ]
  },
  {
   "attachments": {},
   "cell_type": "markdown",
   "metadata": {},
   "source": [
    "We create 2 new columns, made of the joining of `begin_year`, `begin_month`, `begin_day` and `end_year`, `end_month`, `end_day`."
   ]
  },
  {
   "cell_type": "code",
   "execution_count": 8,
   "metadata": {},
   "outputs": [],
   "source": [
    "def prefix_date(date):\n",
    "    if pd.isna(date): return date\n",
    "    if len(str(date)) == 3: return f'0{date}'\n",
    "    return date \n",
    "\n",
    "# Set the length of begin_year and end_year to 4\n",
    "actor_name['begin_year'] = [prefix_date(d) for d in actor_name['begin_year']]\n",
    "actor_name['end_year'] = [prefix_date(d) for d in actor_name['end_year']]\n",
    "\n",
    "# Replace existing 6 columns by 2\n",
    "actor_name['begin_date'] = actor_name['begin_year'] + actor_name['begin_month'] + actor_name['begin_day']\n",
    "actor_name['end_date'] = actor_name['end_year'] + actor_name['end_month'] + actor_name['end_day']\n",
    "actor_name.drop(columns=['begin_year', 'begin_month', 'begin_day', 'end_year', 'end_month', 'end_day'], inplace=True)\n",
    "\n",
    "# Parse into datetime\n",
    "actor_name['begin_date'] = [datetime.datetime.strptime(d, '%Y%m%d') if pd.notna(d) else pd.NaT for d in actor_name['begin_date']]\n",
    "actor_name['end_date'] = [datetime.datetime.strptime(d, '%Y%m%d') if pd.notna(d) else pd.NaT for d in actor_name['end_date']]"
   ]
  },
  {
   "attachments": {},
   "cell_type": "markdown",
   "metadata": {},
   "source": [
    "### lang_iso"
   ]
  },
  {
   "attachments": {},
   "cell_type": "markdown",
   "metadata": {},
   "source": [
    "Some cleaning is made on this column, in order to fit ISO639-2/T (3 letters code, native prefered, eg 'deu' instead of 'ger')."
   ]
  },
  {
   "cell_type": "code",
   "execution_count": 9,
   "metadata": {},
   "outputs": [],
   "source": [
    "actor_name['lang_iso'].replace('   ', pd.NA, inplace=True)\n",
    "actor_name['lang_iso'].replace('fr ', 'fra', inplace=True)\n",
    "actor_name['lang_iso'].replace('Fr ', 'fra', inplace=True)\n",
    "actor_name['lang_iso'].replace('FRA', 'fra', inplace=True)\n",
    "actor_name['lang_iso'].replace('ang', 'eng', inplace=True)\n",
    "actor_name['lang_iso'].replace('gre', 'ell', inplace=True)\n",
    "actor_name['lang_iso'].replace('gal', 'gla', inplace=True)"
   ]
  },
  {
   "attachments": {},
   "cell_type": "markdown",
   "metadata": {},
   "source": [
    "## Save data"
   ]
  },
  {
   "cell_type": "code",
   "execution_count": 10,
   "metadata": {},
   "outputs": [],
   "source": [
    "u.save_df(actor_name, actor_name_path)"
   ]
  }
 ],
 "metadata": {
  "kernelspec": {
   "display_name": "Python 3",
   "language": "python",
   "name": "python3"
  },
  "language_info": {
   "codemirror_mode": {
    "name": "ipython",
    "version": 3
   },
   "file_extension": ".py",
   "mimetype": "text/x-python",
   "name": "python",
   "nbconvert_exporter": "python",
   "pygments_lexer": "ipython3",
   "version": "3.8.10"
  },
  "orig_nbformat": 4
 },
 "nbformat": 4,
 "nbformat_minor": 2
}
