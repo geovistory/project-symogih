{
 "cells": [
  {
   "cell_type": "code",
   "execution_count": 1,
   "metadata": {},
   "outputs": [],
   "source": [
    "named_place_name_path = '../../data/bhp/named_place_name.csv'"
   ]
  },
  {
   "cell_type": "code",
   "execution_count": 2,
   "metadata": {},
   "outputs": [
    {
     "name": "stdout",
     "output_type": "stream",
     "text": [
      ">> Connecting to PGSQL Database ... Connected!\n"
     ]
    }
   ],
   "source": [
    "import os, datetime\n",
    "import pandas as pd\n",
    "\n",
    "import geovpylib.utils as u\n",
    "import geovpylib.analysis as a\n",
    "import geovpylib.database as db\n",
    "\n",
    "db.connect_external(os.environ.get('YELLOW_BHP'))\n",
    "eta = u.Eta()"
   ]
  },
  {
   "attachments": {},
   "cell_type": "markdown",
   "metadata": {},
   "source": [
    "## Fetch full table"
   ]
  },
  {
   "cell_type": "code",
   "execution_count": 3,
   "metadata": {},
   "outputs": [],
   "source": [
    "named_place_name = db.query('select * from bhp.named_place_name')"
   ]
  },
  {
   "attachments": {},
   "cell_type": "markdown",
   "metadata": {},
   "source": [
    "## Filter unwanted columns"
   ]
  },
  {
   "attachments": {},
   "cell_type": "markdown",
   "metadata": {},
   "source": [
    "According to the wiki page, we can get rid of those columns:"
   ]
  },
  {
   "cell_type": "code",
   "execution_count": 4,
   "metadata": {},
   "outputs": [],
   "source": [
    "named_place_name.drop(columns=['complement_address'], inplace=True)\n",
    "named_place_name.drop(columns=['name_type'], inplace=True)"
   ]
  },
  {
   "attachments": {},
   "cell_type": "markdown",
   "metadata": {},
   "source": [
    "## Remove binary characters"
   ]
  },
  {
   "cell_type": "code",
   "execution_count": 5,
   "metadata": {},
   "outputs": [],
   "source": [
    "named_place_name.replace({'\\r\\n':''}, regex=True, inplace=True)\n",
    "named_place_name.replace({'<p>':''}, regex=True, inplace=True)\n",
    "named_place_name.replace({'</p>':''}, regex=True, inplace=True)\n",
    "\n",
    "u.remove_binary_chars(named_place_name)"
   ]
  },
  {
   "attachments": {},
   "cell_type": "markdown",
   "metadata": {},
   "source": [
    "## Discovery"
   ]
  },
  {
   "cell_type": "code",
   "execution_count": 6,
   "metadata": {},
   "outputs": [
    {
     "name": "stdout",
     "output_type": "stream",
     "text": [
      "Columns contain:\n",
      "Total number of rows: 128529\n",
      "  -    \"pk_named_place_name\":   0.00% empty - 128529 (100.00%) uniques (eg: 152213; 152242; 152214)\n",
      "  -          \"creation_time\":   0.00% empty -   4599 (  3.58%) uniques (eg: 2012-07-13...; 2012-09-10...; 2012-07-13...)\n",
      "  -         \"fk_named_place\":   0.00% empty - 127466 ( 99.17%) uniques (eg: 120967; 48; 90320)\n",
      "  -                  \"notes\":   0.00% empty -    769 (  0.60%) uniques (eg: None; Nom donné ...; Nom offici...)\n",
      "  -     \"comment_begin_year\":   0.00% empty -     24 (  0.02%) uniques (eg: None; ; fondation )\n",
      "  -               \"lang_iso\":   0.00% empty -     36 (  0.03%) uniques (eg: None; spa; fra)\n",
      "  -       \"comment_end_year\":   0.00% empty -     37 (  0.03%) uniques (eg: None; ; devient Ma...)\n",
      "  -       \"is_standard_name\":   0.00% empty -      2 (  0.00%) uniques (eg: True; False)\n",
      "  -                   \"name\":   0.00% empty -  85475 ( 66.50%) uniques (eg: Hellemmes; Espagne; Col de Par...)\n",
      "  -            \"concat_plna\":   0.00% empty - 128529 (100.00%) uniques (eg: PlNa152213; PlNa152242; PlNa152214)\n",
      "  -      \"complement_number\":   0.00% empty -     39 (  0.03%) uniques (eg: None; ;    )\n",
      "  -                \"creator\":   0.00% empty -     50 (  0.04%) uniques (eg: 4.0; 3.0; 2.0)\n",
      "  -               \"modifier\":   0.00% empty -     49 (  0.04%) uniques (eg: 4.0; 3.0; 2.0)\n",
      "  -      \"modification_time\":   1.24% empty -    747 (  0.58%) uniques (eg: NaT; 2012-07-13...; 2012-08-03...)\n",
      "  -                 \"number\":  76.15% empty -    532 (  0.41%) uniques (eg: nan; 1.0; 4.0)\n",
      "  - \"fk_abob_napl_name_type\":  95.18% empty -      3 (  0.00%) uniques (eg: nan; 1253.0; 697.0)\n",
      "  -             \"begin_year\":  96.26% empty -    118 (  0.09%) uniques (eg: nan; 1495.0; 1818.0)\n",
      "  -               \"end_year\":  96.34% empty -    104 (  0.08%) uniques (eg: nan; 1495.0; 1791.0)\n",
      "  -            \"begin_month\":  96.51% empty -     12 (  0.01%) uniques (eg: nan; 12.0; 1.0)\n",
      "  -              \"begin_day\":  96.52% empty -     32 (  0.02%) uniques (eg: nan; 15.0; 1.0)\n",
      "  -              \"end_month\":  96.53% empty -     12 (  0.01%) uniques (eg: nan; 6.0; 11.0)\n",
      "  -                \"end_day\":  96.53% empty -     32 (  0.02%) uniques (eg: nan; 20.0; 14.0)\n"
     ]
    }
   ],
   "source": [
    "a.discover(named_place_name, uniq_ex_nb=3)"
   ]
  },
  {
   "attachments": {},
   "cell_type": "markdown",
   "metadata": {},
   "source": [
    "## Type parsing"
   ]
  },
  {
   "attachments": {},
   "cell_type": "markdown",
   "metadata": {},
   "source": [
    "According to the table before, we will parse each column by the most meaningful type."
   ]
  },
  {
   "cell_type": "code",
   "execution_count": 7,
   "metadata": {},
   "outputs": [],
   "source": [
    "a.set_types(named_place_name, {\n",
    "   \"pk_named_place_name\": \"int\",\n",
    "           \"concat_plna\": \"string\",\n",
    "      \"is_standard_name\": \"boolean\",\n",
    "        \"fk_named_place\": \"int\",\n",
    "         \"creation_time\": \"datetime\",\n",
    "               \"creator\": \"int\",\n",
    "              \"modifier\": \"int\",\n",
    "                  \"name\": \"string\",\n",
    "              \"lang_iso\": \"string\",\n",
    "     \"modification_time\": \"datetime\",\n",
    "                 \"notes\": \"string\",\n",
    "                \"number\": \"int\",\n",
    "     \"complement_number\": \"string\",\n",
    "\"fk_abob_napl_name_type\": \"int\",\n",
    "    \"comment_begin_year\": \"string\",\n",
    "      \"comment_end_year\": \"string\",\n",
    "            \"begin_year\": \"int\",\n",
    "              \"end_year\": \"int\",\n",
    "           \"begin_month\": \"int\",\n",
    "             \"begin_day\": \"int\",\n",
    "             \"end_month\": \"int\",\n",
    "               \"end_day\": \"int\",\n",
    "})     \n",
    "\n",
    "# So that they appear correctly\n",
    "a.set_types(named_place_name, {\n",
    "        \"begin_year\": 'string',\n",
    "          \"end_year\": 'string',\n",
    "       \"begin_month\": 'string',\n",
    "         \"end_month\": 'string',\n",
    "         \"begin_day\": 'string',\n",
    "           \"end_day\": 'string',\n",
    "})"
   ]
  },
  {
   "attachments": {},
   "cell_type": "markdown",
   "metadata": {},
   "source": [
    "## Handle data"
   ]
  },
  {
   "attachments": {},
   "cell_type": "markdown",
   "metadata": {},
   "source": [
    "### begin and end dates"
   ]
  },
  {
   "attachments": {},
   "cell_type": "markdown",
   "metadata": {},
   "source": [
    "We create 2 new columns, made of the joining of `begin_year`, `begin_month`, `begin_day` and `end_year`, `end_month`, `end_day`."
   ]
  },
  {
   "cell_type": "code",
   "execution_count": 8,
   "metadata": {},
   "outputs": [],
   "source": [
    "def prefix_date(date):\n",
    "    if pd.isna(date): return date\n",
    "    if len(str(date)) == 3: return f'0{date}'\n",
    "    return date \n",
    "\n",
    "# Set the length of begin_year and end_year to 4\n",
    "named_place_name['begin_year'] = [prefix_date(d) for d in named_place_name['begin_year']]\n",
    "named_place_name['end_year'] = [prefix_date(d) for d in named_place_name['end_year']]\n",
    "\n",
    "# Replace existing 6 columns by 2\n",
    "named_place_name['begin_date'] = named_place_name['begin_year'] + named_place_name['begin_month'] + named_place_name['begin_day']\n",
    "named_place_name['end_date'] = named_place_name['end_year'] + named_place_name['end_month'] + named_place_name['end_day']\n",
    "named_place_name.drop(columns=['begin_year', 'begin_month', 'begin_day', 'end_year', 'end_month', 'end_day'], inplace=True)\n",
    "\n",
    "# Parse into datetime\n",
    "named_place_name['begin_date'] = [datetime.datetime.strptime(d, '%Y%m%d') if pd.notna(d) else pd.NaT for d in named_place_name['begin_date']]\n",
    "named_place_name['end_date'] = [datetime.datetime.strptime(d, '%Y%m%d') if pd.notna(d) else pd.NaT for d in named_place_name['end_date']]"
   ]
  },
  {
   "attachments": {},
   "cell_type": "markdown",
   "metadata": {},
   "source": [
    "### lang_iso"
   ]
  },
  {
   "attachments": {},
   "cell_type": "markdown",
   "metadata": {},
   "source": [
    "Some cleaning is made on this column, in order to fit ISO639-2/T (3 letters code, native prefered, eg 'deu' instead of 'ger')."
   ]
  },
  {
   "cell_type": "code",
   "execution_count": 9,
   "metadata": {},
   "outputs": [],
   "source": [
    "named_place_name['lang_iso'].replace('   ', pd.NA, inplace=True)\n",
    "named_place_name['lang_iso'].replace('Fra', 'fra', inplace=True)\n",
    "named_place_name['lang_iso'].replace('FRA', 'fra', inplace=True)\n",
    "named_place_name['lang_iso'].replace('Ita', 'ita', inplace=True)\n",
    "named_place_name['lang_iso'].replace('fr ', 'fra', inplace=True)\n",
    "named_place_name['lang_iso'].replace('und', pd.NA, inplace=True)"
   ]
  },
  {
   "attachments": {},
   "cell_type": "markdown",
   "metadata": {},
   "source": [
    "## Save data"
   ]
  },
  {
   "cell_type": "code",
   "execution_count": 10,
   "metadata": {},
   "outputs": [],
   "source": [
    "u.save_df(named_place_name, named_place_name_path)"
   ]
  }
 ],
 "metadata": {
  "kernelspec": {
   "display_name": "Python 3",
   "language": "python",
   "name": "python3"
  },
  "language_info": {
   "codemirror_mode": {
    "name": "ipython",
    "version": 3
   },
   "file_extension": ".py",
   "mimetype": "text/x-python",
   "name": "python",
   "nbconvert_exporter": "python",
   "pygments_lexer": "ipython3",
   "version": "3.8.10"
  },
  "orig_nbformat": 4
 },
 "nbformat": 4,
 "nbformat_minor": 2
}
