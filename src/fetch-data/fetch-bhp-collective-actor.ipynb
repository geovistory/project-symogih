{
 "cells": [
  {
   "cell_type": "code",
   "execution_count": 30,
   "metadata": {},
   "outputs": [
    {
     "name": "stdout",
     "output_type": "stream",
     "text": [
      "The autoreload extension is already loaded. To reload it, use:\n",
      "  %reload_ext autoreload\n"
     ]
    }
   ],
   "source": [
    "%load_ext autoreload\n",
    "%autoreload 2\n",
    "\n",
    "env = 'prod'\n",
    "pk_project = -1\n",
    "execute = False\n",
    "metadata_str = ''\n",
    "import_manner = 'one-shot' # 'batch'\n",
    "\n",
    "import os\n",
    "import pandas as pd\n",
    "import numpy as np\n",
    "from datetime import datetime\n",
    "import duckdb\n",
    "import plotly.express as px\n",
    "\n",
    "import geovpylib.analysis as a\n",
    "import geovpylib.database as db\n",
    "import geovpylib.graphs as graphs\n",
    "import geovpylib.pks as pks\n",
    "import geovpylib.recordlinkage as rl\n",
    "import geovpylib.sparql as sparql\n",
    "import geovpylib.utils as u\n",
    "\n",
    "eta = u.Eta()"
   ]
  },
  {
   "cell_type": "code",
   "execution_count": 31,
   "metadata": {},
   "outputs": [],
   "source": [
    "collective_actor_path = '../../data/bhp/collective-actor.csv'"
   ]
  },
  {
   "attachments": {},
   "cell_type": "markdown",
   "metadata": {},
   "source": [
    "# Fetch table from database"
   ]
  },
  {
   "cell_type": "code",
   "execution_count": 32,
   "metadata": {},
   "outputs": [
    {
     "name": "stdout",
     "output_type": "stream",
     "text": [
      "[DB] Connecting to PGSQL Database ... Connected!\n"
     ]
    }
   ],
   "source": [
    "db.connect_external(os.environ.get('YELLOW_BHP'))\n",
    "collective_actor = db.query('select * from bhp.collective_actor')"
   ]
  },
  {
   "cell_type": "code",
   "execution_count": 33,
   "metadata": {},
   "outputs": [],
   "source": [
    "collective_actor.drop(columns=['standard_text_property', 'count_text_property', 'concat_names', 'concat_coac'], inplace=True)\n",
    "collective_actor.drop(columns=['creator', 'modifier', 'creation_time', 'modification_time'], inplace=True)\n",
    "a.set_types(collective_actor, {\n",
    "    'notes_begin': 'int',\n",
    "    'certainty_begin': 'int',\n",
    "    'notes_end': 'int',\n",
    "    'certainty_end': 'int',\n",
    "    'notes': 'string',\n",
    "    'fk_abob_type_collective_actor': 'int',\n",
    "    'begin_year': 'int',\n",
    "    'end_year': 'int'\n",
    "})"
   ]
  },
  {
   "attachments": {},
   "cell_type": "markdown",
   "metadata": {},
   "source": [
    "## Filter only wanted rows"
   ]
  },
  {
   "cell_type": "code",
   "execution_count": 34,
   "metadata": {},
   "outputs": [
    {
     "name": "stdout",
     "output_type": "stream",
     "text": [
      "Rows number before filter: 22717\n",
      "Rows number after filter: 22027 (690 have been removed)\n"
     ]
    }
   ],
   "source": [
    "len_before = len(collective_actor)\n",
    "print(f'Rows number before filter: {len_before}')\n",
    "\n",
    "collective_actor = collective_actor[~collective_actor['concat_standard_name'].str.contains('\\[à identifier\\]')]\n",
    "collective_actor = collective_actor[~collective_actor['concat_standard_name'].str.contains('\\[ne pas importer\\]')]\n",
    "collective_actor = collective_actor[~collective_actor['concat_standard_name'].str.contains('DOUBLON')]\n",
    "collective_actor = collective_actor[~collective_actor['concat_standard_name'].str.contains('Doublon')]\n",
    "collective_actor = collective_actor[~collective_actor['concat_standard_name'].str.contains('réutiliser')]\n",
    "collective_actor = collective_actor[~collective_actor['concat_standard_name'].str.contains('REUTILISER')]\n",
    "\n",
    "len_after = len(collective_actor)\n",
    "\n",
    "print(f'Rows number after filter: {len_after} ({len_before - len_after} have been removed)')"
   ]
  },
  {
   "cell_type": "code",
   "execution_count": 35,
   "metadata": {},
   "outputs": [
    {
     "data": {
      "text/html": [
       "<div>\n",
       "<style scoped>\n",
       "    .dataframe tbody tr th:only-of-type {\n",
       "        vertical-align: middle;\n",
       "    }\n",
       "\n",
       "    .dataframe tbody tr th {\n",
       "        vertical-align: top;\n",
       "    }\n",
       "\n",
       "    .dataframe thead th {\n",
       "        text-align: right;\n",
       "    }\n",
       "</style>\n",
       "<table border=\"1\" class=\"dataframe\">\n",
       "  <thead>\n",
       "    <tr style=\"text-align: right;\">\n",
       "      <th></th>\n",
       "      <th>pk_collective_actor</th>\n",
       "      <th>notes_begin</th>\n",
       "      <th>certainty_begin</th>\n",
       "      <th>notes_end</th>\n",
       "      <th>certainty_end</th>\n",
       "      <th>notes</th>\n",
       "      <th>fk_abob_type_collective_actor</th>\n",
       "      <th>begin_year</th>\n",
       "      <th>end_year</th>\n",
       "      <th>concat_standard_name</th>\n",
       "    </tr>\n",
       "  </thead>\n",
       "  <tbody>\n",
       "    <tr>\n",
       "      <th>0</th>\n",
       "      <td>14725</td>\n",
       "      <td>2</td>\n",
       "      <td>1</td>\n",
       "      <td>&lt;NA&gt;</td>\n",
       "      <td>&lt;NA&gt;</td>\n",
       "      <td></td>\n",
       "      <td>1051</td>\n",
       "      <td>1969</td>\n",
       "      <td>&lt;NA&gt;</td>\n",
       "      <td>Parti Socialiste (PS)</td>\n",
       "    </tr>\n",
       "    <tr>\n",
       "      <th>1</th>\n",
       "      <td>9712</td>\n",
       "      <td>2</td>\n",
       "      <td>1</td>\n",
       "      <td>2</td>\n",
       "      <td>1</td>\n",
       "      <td></td>\n",
       "      <td>1051</td>\n",
       "      <td>1945</td>\n",
       "      <td>1998</td>\n",
       "      <td>Conseil national du patronat français (CNPF)</td>\n",
       "    </tr>\n",
       "    <tr>\n",
       "      <th>2</th>\n",
       "      <td>13649</td>\n",
       "      <td>&lt;NA&gt;</td>\n",
       "      <td>1</td>\n",
       "      <td>&lt;NA&gt;</td>\n",
       "      <td>1</td>\n",
       "      <td>&lt;NA&gt;</td>\n",
       "      <td>&lt;NA&gt;</td>\n",
       "      <td>&lt;NA&gt;</td>\n",
       "      <td>&lt;NA&gt;</td>\n",
       "      <td>Parlement des États de Bourgogne</td>\n",
       "    </tr>\n",
       "    <tr>\n",
       "      <th>3</th>\n",
       "      <td>14723</td>\n",
       "      <td>&lt;NA&gt;</td>\n",
       "      <td>&lt;NA&gt;</td>\n",
       "      <td>&lt;NA&gt;</td>\n",
       "      <td>&lt;NA&gt;</td>\n",
       "      <td></td>\n",
       "      <td>1051</td>\n",
       "      <td>1477</td>\n",
       "      <td>1789</td>\n",
       "      <td>Bailliage de Chalon</td>\n",
       "    </tr>\n",
       "    <tr>\n",
       "      <th>4</th>\n",
       "      <td>14726</td>\n",
       "      <td>2</td>\n",
       "      <td>1</td>\n",
       "      <td>&lt;NA&gt;</td>\n",
       "      <td>&lt;NA&gt;</td>\n",
       "      <td></td>\n",
       "      <td>1051</td>\n",
       "      <td>1971</td>\n",
       "      <td>&lt;NA&gt;</td>\n",
       "      <td>Université Paris 1 (Panthéon-Sorbonne)</td>\n",
       "    </tr>\n",
       "    <tr>\n",
       "      <th>...</th>\n",
       "      <td>...</td>\n",
       "      <td>...</td>\n",
       "      <td>...</td>\n",
       "      <td>...</td>\n",
       "      <td>...</td>\n",
       "      <td>...</td>\n",
       "      <td>...</td>\n",
       "      <td>...</td>\n",
       "      <td>...</td>\n",
       "      <td>...</td>\n",
       "    </tr>\n",
       "    <tr>\n",
       "      <th>22707</th>\n",
       "      <td>10200</td>\n",
       "      <td>&lt;NA&gt;</td>\n",
       "      <td>1</td>\n",
       "      <td>&lt;NA&gt;</td>\n",
       "      <td>1</td>\n",
       "      <td>&lt;NA&gt;</td>\n",
       "      <td>1051</td>\n",
       "      <td>&lt;NA&gt;</td>\n",
       "      <td>&lt;NA&gt;</td>\n",
       "      <td>Borgnis D. &amp; Cie</td>\n",
       "    </tr>\n",
       "    <tr>\n",
       "      <th>22708</th>\n",
       "      <td>22801</td>\n",
       "      <td>2</td>\n",
       "      <td>1</td>\n",
       "      <td>&lt;NA&gt;</td>\n",
       "      <td>1</td>\n",
       "      <td>&lt;NA&gt;</td>\n",
       "      <td>1051</td>\n",
       "      <td>1881</td>\n",
       "      <td>&lt;NA&gt;</td>\n",
       "      <td>Ouest algérien (Compagnie de chemin de fer)</td>\n",
       "    </tr>\n",
       "    <tr>\n",
       "      <th>22709</th>\n",
       "      <td>10246</td>\n",
       "      <td>1</td>\n",
       "      <td>1</td>\n",
       "      <td>&lt;NA&gt;</td>\n",
       "      <td>1</td>\n",
       "      <td></td>\n",
       "      <td>1051</td>\n",
       "      <td>1882</td>\n",
       "      <td>&lt;NA&gt;</td>\n",
       "      <td>Rosset (S.A.)(Fabrique de crêpes et grenadines)</td>\n",
       "    </tr>\n",
       "    <tr>\n",
       "      <th>22710</th>\n",
       "      <td>14264</td>\n",
       "      <td>1</td>\n",
       "      <td>1</td>\n",
       "      <td>&lt;NA&gt;</td>\n",
       "      <td>&lt;NA&gt;</td>\n",
       "      <td></td>\n",
       "      <td>1051</td>\n",
       "      <td>1882</td>\n",
       "      <td>&lt;NA&gt;</td>\n",
       "      <td>Araud neveu et Eyraud C.et C°</td>\n",
       "    </tr>\n",
       "    <tr>\n",
       "      <th>22711</th>\n",
       "      <td>14385</td>\n",
       "      <td>2</td>\n",
       "      <td>1</td>\n",
       "      <td>&lt;NA&gt;</td>\n",
       "      <td>&lt;NA&gt;</td>\n",
       "      <td></td>\n",
       "      <td>1051</td>\n",
       "      <td>1904</td>\n",
       "      <td>&lt;NA&gt;</td>\n",
       "      <td>Syndicat de l'ennoblissement textile de Lyon e...</td>\n",
       "    </tr>\n",
       "  </tbody>\n",
       "</table>\n",
       "<p>22027 rows × 10 columns</p>\n",
       "</div>"
      ],
      "text/plain": [
       "       pk_collective_actor  notes_begin  certainty_begin  notes_end  \\\n",
       "0                    14725            2                1       <NA>   \n",
       "1                     9712            2                1          2   \n",
       "2                    13649         <NA>                1       <NA>   \n",
       "3                    14723         <NA>             <NA>       <NA>   \n",
       "4                    14726            2                1       <NA>   \n",
       "...                    ...          ...              ...        ...   \n",
       "22707                10200         <NA>                1       <NA>   \n",
       "22708                22801            2                1       <NA>   \n",
       "22709                10246            1                1       <NA>   \n",
       "22710                14264            1                1       <NA>   \n",
       "22711                14385            2                1       <NA>   \n",
       "\n",
       "       certainty_end notes  fk_abob_type_collective_actor  begin_year  \\\n",
       "0               <NA>                                 1051        1969   \n",
       "1                  1                                 1051        1945   \n",
       "2                  1  <NA>                           <NA>        <NA>   \n",
       "3               <NA>                                 1051        1477   \n",
       "4               <NA>                                 1051        1971   \n",
       "...              ...   ...                            ...         ...   \n",
       "22707              1  <NA>                           1051        <NA>   \n",
       "22708              1  <NA>                           1051        1881   \n",
       "22709              1                                 1051        1882   \n",
       "22710           <NA>                                 1051        1882   \n",
       "22711           <NA>                                 1051        1904   \n",
       "\n",
       "       end_year                               concat_standard_name  \n",
       "0          <NA>                              Parti Socialiste (PS)  \n",
       "1          1998       Conseil national du patronat français (CNPF)  \n",
       "2          <NA>                   Parlement des États de Bourgogne  \n",
       "3          1789                                Bailliage de Chalon  \n",
       "4          <NA>             Université Paris 1 (Panthéon-Sorbonne)  \n",
       "...         ...                                                ...  \n",
       "22707      <NA>                                   Borgnis D. & Cie  \n",
       "22708      <NA>        Ouest algérien (Compagnie de chemin de fer)  \n",
       "22709      <NA>    Rosset (S.A.)(Fabrique de crêpes et grenadines)  \n",
       "22710      <NA>                      Araud neveu et Eyraud C.et C°  \n",
       "22711      <NA>  Syndicat de l'ennoblissement textile de Lyon e...  \n",
       "\n",
       "[22027 rows x 10 columns]"
      ]
     },
     "execution_count": 35,
     "metadata": {},
     "output_type": "execute_result"
    }
   ],
   "source": [
    "collective_actor"
   ]
  },
  {
   "attachments": {},
   "cell_type": "markdown",
   "metadata": {},
   "source": [
    "## Filter by type"
   ]
  },
  {
   "attachments": {},
   "cell_type": "markdown",
   "metadata": {},
   "source": [
    "## Remove unwanted characters"
   ]
  },
  {
   "cell_type": "code",
   "execution_count": 48,
   "metadata": {},
   "outputs": [],
   "source": [
    "collective_actor.replace({'\\r\\n':''}, regex=True, inplace=True)\n",
    "collective_actor.replace({'<p>':''}, regex=True, inplace=True)\n",
    "collective_actor.replace({'</p>':''}, regex=True, inplace=True)\n",
    "\n",
    "collective_actor.notes = collective_actor.notes.str.replace('<p>', '')\n",
    "collective_actor.notes = collective_actor.notes.str.replace('</p>', '')\n",
    "collective_actor.notes = collective_actor.notes.str.replace('\\r', '')\n",
    "collective_actor.notes = collective_actor.notes.str.replace('\\n', ' ')\n",
    "\n",
    "u.remove_binary_chars(collective_actor)"
   ]
  },
  {
   "attachments": {},
   "cell_type": "markdown",
   "metadata": {},
   "source": [
    "## Discovery"
   ]
  },
  {
   "cell_type": "code",
   "execution_count": 49,
   "metadata": {},
   "outputs": [
    {
     "name": "stdout",
     "output_type": "stream",
     "text": [
      "Columns contain:\n",
      "Total number of rows: 22027\n",
      "  -           \"pk_collective_actor\":   0.00% empty - 22027 (100.00%) uniques (eg: 14725; 9712; 13649; 14723; 14726; 14727)\n",
      "  -          \"concat_standard_name\":   0.00% empty - 21540 ( 97.79%) uniques (eg: Parti Soci...; Conseil na...; Parlement ...; Bailliage ...; Université...; La vie des...)\n",
      "  - \"fk_abob_type_collective_actor\":   3.50% empty -     5 (  0.02%) uniques (eg: 1051; <NA>; 1052; 153; 1053)\n",
      "  -               \"certainty_begin\":   3.60% empty -     4 (  0.02%) uniques (eg: 1; <NA>; 3; 2)\n",
      "  -                 \"certainty_end\":   4.91% empty -     4 (  0.02%) uniques (eg: <NA>; 1; 3; 2)\n",
      "  -                    \"begin_year\":  52.06% empty -   806 (  3.66%) uniques (eg: 1969; 1945; <NA>; 1477; 1971; 2007)\n",
      "  -                   \"notes_begin\":  68.67% empty -     6 (  0.03%) uniques (eg: 2; <NA>; 3; 1; 4; 5)\n",
      "  -                      \"end_year\":  69.00% empty -   327 (  1.48%) uniques (eg: <NA>; 1998; 1789; 1818; 2005; 1791)\n",
      "  -                     \"notes_end\":  74.17% empty -     5 (  0.02%) uniques (eg: <NA>; 2; 3; 4; 1)\n",
      "  -                         \"notes\":  79.53% empty -    77 (  0.35%) uniques (eg: ; <NA>; Agence de ...; Associatio...; Institut d...; Think tank)\n"
     ]
    }
   ],
   "source": [
    "a.discover(collective_actor,6)"
   ]
  },
  {
   "attachments": {},
   "cell_type": "markdown",
   "metadata": {},
   "source": [
    "## Save data"
   ]
  },
  {
   "cell_type": "code",
   "execution_count": 38,
   "metadata": {},
   "outputs": [],
   "source": [
    "u.save_df(collective_actor, collective_actor_path)"
   ]
  }
 ],
 "metadata": {
  "kernelspec": {
   "display_name": "Python 3",
   "language": "python",
   "name": "python3"
  },
  "language_info": {
   "codemirror_mode": {
    "name": "ipython",
    "version": 3
   },
   "file_extension": ".py",
   "mimetype": "text/x-python",
   "name": "python",
   "nbconvert_exporter": "python",
   "pygments_lexer": "ipython3",
   "version": "3.8.10"
  },
  "orig_nbformat": 4
 },
 "nbformat": 4,
 "nbformat_minor": 2
}
