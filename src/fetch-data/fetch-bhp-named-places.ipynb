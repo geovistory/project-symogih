{
 "cells": [
  {
   "cell_type": "code",
   "execution_count": 1,
   "metadata": {},
   "outputs": [],
   "source": [
    "named_place_path = '../../data/bhp/named_place.csv'"
   ]
  },
  {
   "cell_type": "code",
   "execution_count": 2,
   "metadata": {},
   "outputs": [
    {
     "name": "stdout",
     "output_type": "stream",
     "text": [
      "[DB] Requests will not be executed\n",
      "[DB] Connecting to PGSQL Database ... Connected!\n"
     ]
    }
   ],
   "source": [
    "import os, datetime\n",
    "import pandas as pd\n",
    "\n",
    "import geovpylib.utils as u\n",
    "import geovpylib.analysis as a\n",
    "import geovpylib.database as db\n",
    "\n",
    "db.connect_external(os.environ.get('YELLOW_BHP'))\n",
    "eta = u.Eta()"
   ]
  },
  {
   "attachments": {},
   "cell_type": "markdown",
   "metadata": {},
   "source": [
    "## Fetch full table"
   ]
  },
  {
   "cell_type": "code",
   "execution_count": 3,
   "metadata": {},
   "outputs": [],
   "source": [
    "named_place = db.query('select * from bhp.named_place')"
   ]
  },
  {
   "attachments": {},
   "cell_type": "markdown",
   "metadata": {},
   "source": [
    "## Filter unwanted columns"
   ]
  },
  {
   "attachments": {},
   "cell_type": "markdown",
   "metadata": {},
   "source": [
    "According to the wiki page, we can get rid of those columns:"
   ]
  },
  {
   "cell_type": "code",
   "execution_count": 4,
   "metadata": {},
   "outputs": [],
   "source": [
    "named_place.drop(columns=['concat_classes', 'concat_names', 'count_text_property', 'standard_text_property'], inplace=True)\n",
    "named_place.drop(columns=['historical_period', 'comment_end_year', 'comment_begin_year'], inplace=True)"
   ]
  },
  {
   "attachments": {},
   "cell_type": "markdown",
   "metadata": {},
   "source": [
    "## Filter only wanted rows"
   ]
  },
  {
   "attachments": {},
   "cell_type": "markdown",
   "metadata": {},
   "source": [
    "Some of the rows has been identified to not be imported (see this [wiki page](https://github.com/geovistory/symogih/wiki/Liste-des-balises-des-entit%C3%A9s-%C3%A0-ne-pas-importer))."
   ]
  },
  {
   "cell_type": "code",
   "execution_count": 5,
   "metadata": {},
   "outputs": [
    {
     "name": "stdout",
     "output_type": "stream",
     "text": [
      "Rows number before filter: 127466\n",
      "Rows number after filter: 127420 (46 have been removed)\n"
     ]
    }
   ],
   "source": [
    "len_before = len(named_place)\n",
    "print(f'Rows number before filter: {len_before}')\n",
    "\n",
    "named_place = named_place[~named_place['concat_standard_name'].str.contains('\\[à identifier\\]')]\n",
    "named_place = named_place[~named_place['concat_standard_name'].str.contains('\\[ne pas importer\\]')]\n",
    "named_place = named_place[~named_place['concat_standard_name'].str.contains('DOUBLON')]\n",
    "named_place = named_place[~named_place['concat_standard_name'].str.contains('Doublon')]\n",
    "named_place = named_place[~named_place['concat_standard_name'].str.contains('réutiliser')]\n",
    "named_place = named_place[~named_place['concat_standard_name'].str.contains('REUTILISER')]\n",
    "\n",
    "len_after = len(named_place)\n",
    "\n",
    "print(f'Rows number after filter: {len_after} ({len_before - len_after} have been removed)')"
   ]
  },
  {
   "attachments": {},
   "cell_type": "markdown",
   "metadata": {},
   "source": [
    "## Remove binary characters"
   ]
  },
  {
   "cell_type": "code",
   "execution_count": 6,
   "metadata": {},
   "outputs": [],
   "source": [
    "named_place.replace({'\\r\\n':''}, regex=True, inplace=True)\n",
    "named_place.replace({'<p>':''}, regex=True, inplace=True)\n",
    "named_place.replace({'</p>':''}, regex=True, inplace=True)\n",
    "\n",
    "u.remove_binary_chars(named_place)"
   ]
  },
  {
   "attachments": {},
   "cell_type": "markdown",
   "metadata": {},
   "source": [
    "## Discovery"
   ]
  },
  {
   "cell_type": "code",
   "execution_count": 7,
   "metadata": {},
   "outputs": [
    {
     "name": "stdout",
     "output_type": "stream",
     "text": [
      "Columns contain:\n",
      "Total number of rows: 127420\n",
      "  -       \"pk_named_place\":   0.00% empty - 127420 (100.00%) uniques (eg: 15922; 15923; 15924; 15925; 15926)\n",
      "  -          \"concat_napl\":   0.00% empty - 127420 (100.00%) uniques (eg: NaPl15922; NaPl15923; NaPl15924; NaPl15925; NaPl15926)\n",
      "  - \"concat_standard_name\":   0.00% empty -  84574 ( 66.37%) uniques (eg: Vèbre; Ventenac; Verdun; Vernajoul; Vernaux)\n",
      "  -                \"notes\":   0.00% empty -   1199 (  0.94%) uniques (eg: Commune ex...; None; Etats-Unis; Bolivie; Pas de Cal...)\n",
      "  -    \"fk_abob_type_napl\":   0.00% empty -      6 (  0.00%) uniques (eg: 697.0; 156.0; 696.0; 245.0; 698.0)\n",
      "  -          \"notes_begin\":   0.00% empty -      5 (  0.00%) uniques (eg: None; 4; 2; 3; 1)\n",
      "  -    \"modification_time\":   0.00% empty -   1499 (  1.18%) uniques (eg: 2014-12-03...; 2014-12-03...; 2014-12-06...; 2014-12-07...; 2014-12-06...)\n",
      "  -        \"creation_time\":   0.00% empty -   2541 (  1.99%) uniques (eg: 2009-10-28...; 2010-03-03...; 2010-03-03...; 2010-03-02...; 2010-03-02...)\n",
      "  -      \"certainty_begin\":   0.00% empty -      4 (  0.00%) uniques (eg: None; 1; 2; 3)\n",
      "  -            \"notes_end\":   0.00% empty -      5 (  0.00%) uniques (eg: None; 3; 1; 4; 2)\n",
      "  -        \"certainty_end\":   0.00% empty -      4 (  0.00%) uniques (eg: None; 1; 2; 3)\n",
      "  -              \"creator\":   0.00% empty -     50 (  0.04%) uniques (eg: 4.0; 26.0; 11.0; 70.0; 29.0)\n",
      "  -             \"modifier\":   0.00% empty -     48 (  0.04%) uniques (eg: 4.0; 26.0; 11.0; 63.0; 29.0)\n",
      "  -    \"standard_latitude\":  32.64% empty -  68972 ( 54.13%) uniques (eg: nan; 46.983333; 36.736667; -12.266667; -23.214722)\n",
      "  -   \"standard_longitude\":  32.64% empty -  78600 ( 61.69%) uniques (eg: nan; 2.25; 3.956111; 49.283056; -47.523889)\n",
      "  -           \"begin_year\":  95.85% empty -    279 (  0.22%) uniques (eg: nan; 1700.0; 1790.0; 1477.0; 2000.0)\n",
      "  -             \"end_year\":  96.16% empty -    107 (  0.08%) uniques (eg: nan; 1800.0; 1963.0; 1678.0; 1860.0)\n"
     ]
    }
   ],
   "source": [
    "a.discover(named_place, uniq_ex_nb=5)"
   ]
  },
  {
   "attachments": {},
   "cell_type": "markdown",
   "metadata": {},
   "source": [
    "## Handle data"
   ]
  },
  {
   "attachments": {},
   "cell_type": "markdown",
   "metadata": {},
   "source": [
    "## Type parsing"
   ]
  },
  {
   "cell_type": "code",
   "execution_count": 8,
   "metadata": {},
   "outputs": [],
   "source": [
    "named_place['certainty_end'].replace(' ', None, inplace=True)\n",
    "named_place['certainty_end'].replace('None', None, inplace=True)\n",
    "named_place['certainty_begin'].replace('None', None, inplace=True)\n",
    "a.set_types(named_place, {\n",
    "        \"pk_named_place\": \"int\",\n",
    "           \"concat_napl\": \"string\",\n",
    "  \"concat_standard_name\": \"string\",\n",
    "     \"fk_abob_type_napl\": \"int\",\n",
    "     \"modification_time\": \"datetime\",\n",
    "         \"creation_time\": \"datetime\",\n",
    "               \"creator\": \"int\",\n",
    "              \"modifier\": \"int\",\n",
    "    \"standard_longitude\": \"float\",\n",
    "     \"standard_latitude\": \"float\",\n",
    "                 \"notes\": \"string\",\n",
    "       \"certainty_begin\": \"int\",\n",
    "         \"certainty_end\": \"int\",\n",
    "            \"begin_year\": \"int\",\n",
    "           \"notes_begin\": \"string\",\n",
    "              \"end_year\": \"int\",\n",
    "             \"notes_end\": \"string\"\n",
    "})"
   ]
  },
  {
   "attachments": {},
   "cell_type": "markdown",
   "metadata": {},
   "source": [
    "## Save data"
   ]
  },
  {
   "cell_type": "code",
   "execution_count": 9,
   "metadata": {},
   "outputs": [],
   "source": [
    "u.write_df(named_place, named_place_path)"
   ]
  }
 ],
 "metadata": {
  "kernelspec": {
   "display_name": "Python 3",
   "language": "python",
   "name": "python3"
  },
  "language_info": {
   "codemirror_mode": {
    "name": "ipython",
    "version": 3
   },
   "file_extension": ".py",
   "mimetype": "text/x-python",
   "name": "python",
   "nbconvert_exporter": "python",
   "pygments_lexer": "ipython3",
   "version": "3.10.13"
  },
  "orig_nbformat": 4
 },
 "nbformat": 4,
 "nbformat_minor": 2
}
