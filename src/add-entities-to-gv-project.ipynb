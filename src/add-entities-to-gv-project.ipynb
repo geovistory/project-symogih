{
 "cells": [
  {
   "cell_type": "code",
   "execution_count": 1,
   "metadata": {},
   "outputs": [],
   "source": [
    "%load_ext autoreload\n",
    "%autoreload 2\n",
    "\n",
    "import os\n",
    "\n",
    "import geovpylib.database as db\n",
    "import geovpylib.pks as pks\n",
    "import geovdata.kit as kit\n",
    "\n",
    "\n",
    "# Siprojuris\n",
    "pk_project_bhp = 14841 # The pk project in BHP\n",
    "pk_project_gv = pks.projects.siprojuris # The pk project in GEOVISTORY\n",
    "metadata_str = 'bhp-add-entity-to-project-siprojuris'\n",
    "\n",
    "# # Academic Education & Careers (Community Project)\n",
    "# pk_project_bhp = 14841 # The pk project in BHP\n",
    "# pk_project_gv = pks.projects.academic_education_and_careers # The pk project in GEOVISTORY\n",
    "# metadata_str = 'bhp-add-entity-to-project-academic-eduction-and-careers'\n",
    "\n",
    "# # Monastica\n",
    "# pk_project_bhp = 14698 # The pk project in BHP\n",
    "# pk_project_gv = pks.projects.monastica # The pk project in GEOVISTORY\n",
    "# metadata_str = 'bhp-add-entity-to-project-monastica'\n",
    "\n",
    "# # Établissements d'enseignement technique\n",
    "# pk_project_bhp = 15789 # The pk project in BHP\n",
    "# pk_project_gv = pks.projects.etablissement_enseignement_technique # The pk project in GEOVISTORY\n",
    "# metadata_str = 'bhp-add-entity-to-project-etab-enseignement-technique'\n",
    "\n",
    "# # Scholasticon\n",
    "# pk_project_bhp = 12782 # The pk project in BHP\n",
    "# pk_project_gv = pks.projects.scholasticon # The pk project in GEOVISTORY\n",
    "# metadata_str = 'bhp-add-entity-to-project-scholasticon'\n",
    "\n",
    "# # Espace intellectuel\n",
    "# pk_project_bhp = 12782 # The pk project in BHP\n",
    "# pk_project_gv = pks.projects.espace_intellectuel # The pk project in GEOVISTORY\n",
    "# metadata_str = 'bhp-add-entity-to-project-espace-intellectuel'\n",
    "\n",
    "\n",
    "\n",
    "# Not to change:\n",
    "pk_symogih_gv = 6857901 # The pk project of symogih on GEOVISTORY\n",
    "\n",
    "env = 'prod'\n",
    "execute = False\n",
    "import_manner = 'one-shot'\n",
    "\n",
    "eta = kit.Eta()"
   ]
  },
  {
   "attachments": {},
   "cell_type": "markdown",
   "metadata": {},
   "source": [
    "# Add entities to project"
   ]
  },
  {
   "attachments": {},
   "cell_type": "markdown",
   "metadata": {},
   "source": [
    "The goal here is to add a list of entities that were in a particular BHP project, to the equivalent Geovistory project."
   ]
  },
  {
   "attachments": {},
   "cell_type": "markdown",
   "metadata": {},
   "source": [
    "## Fetch Geovistory SYMOGIH data"
   ]
  },
  {
   "cell_type": "code",
   "execution_count": 2,
   "metadata": {},
   "outputs": [
    {
     "name": "stdout",
     "output_type": "stream",
     "text": [
      "[DB] Requests will not be executed\n",
      "[DB] Connecting to PRODUCTION Database ... Connected!\n",
      "Shape:  (245428, 2) - extract:\n"
     ]
    },
    {
     "data": {
      "text/html": [
       "<div>\n",
       "<style scoped>\n",
       "    .dataframe tbody tr th:only-of-type {\n",
       "        vertical-align: middle;\n",
       "    }\n",
       "\n",
       "    .dataframe tbody tr th {\n",
       "        vertical-align: top;\n",
       "    }\n",
       "\n",
       "    .dataframe thead th {\n",
       "        text-align: right;\n",
       "    }\n",
       "</style>\n",
       "<table border=\"1\" class=\"dataframe\">\n",
       "  <thead>\n",
       "    <tr style=\"text-align: right;\">\n",
       "      <th></th>\n",
       "      <th>pk_gv</th>\n",
       "      <th>pk_bhp</th>\n",
       "    </tr>\n",
       "  </thead>\n",
       "  <tbody>\n",
       "    <tr>\n",
       "      <th>98</th>\n",
       "      <td>6140930</td>\n",
       "      <td>http://symogih.org/?q=collective-actor-record/...</td>\n",
       "    </tr>\n",
       "    <tr>\n",
       "      <th>99</th>\n",
       "      <td>6141350</td>\n",
       "      <td>http://symogih.org/?q=collective-actor-record/...</td>\n",
       "    </tr>\n",
       "    <tr>\n",
       "      <th>100</th>\n",
       "      <td>6141622</td>\n",
       "      <td>http://symogih.org/?q=collective-actor-record/...</td>\n",
       "    </tr>\n",
       "    <tr>\n",
       "      <th>101</th>\n",
       "      <td>6141764</td>\n",
       "      <td>http://symogih.org/?q=collective-actor-record/219</td>\n",
       "    </tr>\n",
       "    <tr>\n",
       "      <th>102</th>\n",
       "      <td>6141871</td>\n",
       "      <td>http://symogih.org/?q=collective-actor-record/...</td>\n",
       "    </tr>\n",
       "  </tbody>\n",
       "</table>\n",
       "</div>"
      ],
      "text/plain": [
       "       pk_gv                                             pk_bhp\n",
       "98   6140930  http://symogih.org/?q=collective-actor-record/...\n",
       "99   6141350  http://symogih.org/?q=collective-actor-record/...\n",
       "100  6141622  http://symogih.org/?q=collective-actor-record/...\n",
       "101  6141764  http://symogih.org/?q=collective-actor-record/219\n",
       "102  6141871  http://symogih.org/?q=collective-actor-record/..."
      ]
     },
     "metadata": {},
     "output_type": "display_data"
    },
    {
     "name": "stdout",
     "output_type": "stream",
     "text": [
      "[DB] Database correctly disconnected.\n"
     ]
    }
   ],
   "source": [
    "db.connect_geovistory(env, pk_symogih_gv, False, skip_protection=True)\n",
    "\n",
    "symogih_entities_gv = db.query(f\"\"\"\n",
    "    select\n",
    "        r.pk_entity as pk_gv,\n",
    "        a3.string as uri        \n",
    "    from information.resource r \n",
    "    inner join projects.info_proj_rel ipr on ipr.fk_entity = r.pk_entity and ipr.fk_project = {pk_symogih_gv} and ipr.is_in_project = true\n",
    "    -- URI\n",
    "    inner join information.statement s1 on s1.fk_subject_info = r.pk_entity and s1.fk_property = {pks.properties.entity_sameAsURI_URI}\n",
    "    inner join projects.info_proj_rel ipr1 on ipr1.fk_entity = s1.pk_entity and ipr1.fk_project = {pk_symogih_gv} and ipr1.is_in_project = true\n",
    "    inner join information.statement s2 on s2.fk_subject_info = s1.fk_object_info and s2.fk_property = {pks.properties.appe_hasValue_string}\n",
    "    inner join information.appellation a3 on a3.pk_entity = s2.fk_object_info\n",
    "\"\"\")\n",
    "\n",
    "# Only symogih URIs\n",
    "symogih_entities_gv = symogih_entities_gv[symogih_entities_gv['uri'].str.contains('symogih.org')]\n",
    "\n",
    "# Extract PK\n",
    "symogih_entities_gv['pk_bhp'] = symogih_entities_gv['uri'].str.replace('http://symogih.org/resource/', '', regex=False)\n",
    "symogih_entities_gv.drop(columns=['uri'], inplace=True)\n",
    "\n",
    "kit.infos(symogih_entities_gv)\n",
    "\n",
    "db.disconnect()\n",
    "\n",
    "# 12s"
   ]
  },
  {
   "attachments": {},
   "cell_type": "markdown",
   "metadata": {},
   "source": [
    "## Fetch BHP entities"
   ]
  },
  {
   "cell_type": "code",
   "execution_count": 3,
   "metadata": {},
   "outputs": [
    {
     "name": "stdout",
     "output_type": "stream",
     "text": [
      "[DB] Requests will not be executed\n",
      "[DB] Connecting to PGSQL Database ... Connected!\n",
      "Shape:  (7726, 1) - extract:\n"
     ]
    },
    {
     "data": {
      "text/html": [
       "<div>\n",
       "<style scoped>\n",
       "    .dataframe tbody tr th:only-of-type {\n",
       "        vertical-align: middle;\n",
       "    }\n",
       "\n",
       "    .dataframe tbody tr th {\n",
       "        vertical-align: top;\n",
       "    }\n",
       "\n",
       "    .dataframe thead th {\n",
       "        text-align: right;\n",
       "    }\n",
       "</style>\n",
       "<table border=\"1\" class=\"dataframe\">\n",
       "  <thead>\n",
       "    <tr style=\"text-align: right;\">\n",
       "      <th></th>\n",
       "      <th>pk_bhp</th>\n",
       "    </tr>\n",
       "  </thead>\n",
       "  <tbody>\n",
       "    <tr>\n",
       "      <th>0</th>\n",
       "      <td>AcTP31261</td>\n",
       "    </tr>\n",
       "    <tr>\n",
       "      <th>1</th>\n",
       "      <td>AcTP31262</td>\n",
       "    </tr>\n",
       "    <tr>\n",
       "      <th>2</th>\n",
       "      <td>AcTP31338</td>\n",
       "    </tr>\n",
       "    <tr>\n",
       "      <th>3</th>\n",
       "      <td>Info100328</td>\n",
       "    </tr>\n",
       "    <tr>\n",
       "      <th>4</th>\n",
       "      <td>AcTP31249</td>\n",
       "    </tr>\n",
       "  </tbody>\n",
       "</table>\n",
       "</div>"
      ],
      "text/plain": [
       "       pk_bhp\n",
       "0   AcTP31261\n",
       "1   AcTP31262\n",
       "2   AcTP31338\n",
       "3  Info100328\n",
       "4   AcTP31249"
      ]
     },
     "metadata": {},
     "output_type": "display_data"
    },
    {
     "name": "stdout",
     "output_type": "stream",
     "text": [
      "[DB] Database correctly disconnected.\n"
     ]
    }
   ],
   "source": [
    "db.connect_external(os.environ.get('YELLOW_BHP'))\n",
    "\n",
    "symogih_entities_bhp = db.query(f\"\"\"\n",
    "    select \n",
    "        fk_collective_actor as pk_bhp_project, fk_object as pk_bhp\n",
    "    from bhp.associate_project ap\n",
    "    where ap.fk_collective_actor = {pk_project_bhp}\n",
    "\"\"\")\n",
    "\n",
    "symogih_entities_bhp = symogih_entities_bhp[['pk_bhp']]\n",
    "\n",
    "kit.infos(symogih_entities_bhp)\n",
    "\n",
    "db.disconnect()\n",
    "\n",
    "# 2s"
   ]
  },
  {
   "attachments": {},
   "cell_type": "markdown",
   "metadata": {},
   "source": [
    "## Filter only the wanted"
   ]
  },
  {
   "cell_type": "code",
   "execution_count": 4,
   "metadata": {},
   "outputs": [
    {
     "name": "stdout",
     "output_type": "stream",
     "text": [
      "Entity number: 567\n"
     ]
    }
   ],
   "source": [
    "entities = symogih_entities_gv.merge(symogih_entities_bhp, how='inner')['pk_gv'].tolist()\n",
    "\n",
    "print('Entity number:', len(entities))"
   ]
  },
  {
   "attachments": {},
   "cell_type": "markdown",
   "metadata": {},
   "source": [
    "## Get all information we have about those entities in Geovistory Symogih project"
   ]
  },
  {
   "cell_type": "code",
   "execution_count": 5,
   "metadata": {},
   "outputs": [
    {
     "name": "stdout",
     "output_type": "stream",
     "text": [
      "[DB] Requests will not be executed\n",
      "[DB] Connecting to PRODUCTION Database ... Connected!\n",
      "> Getting graph of 567 entities (level: 0, )... 21872 statements fetched\n",
      "  > Getting graph of 8669 entities (level: 1, PeIt)... 16343 statements fetched\n",
      "    > Getting graph of 5 entities (level: 2, PeIt)... 6 statements fetched\n",
      "    > Getting graph of 9 entities (level: 2, TeEn)... 18 statements fetched\n",
      "    > Getting graph of 4 entities (level: 2, OutOfProject)... 4 statements fetched\n",
      "  > Getting graph of 1703 entities (level: 1, TeEn)... 5500 statements fetched\n",
      "    > Getting graph of 1537 entities (level: 2, PeIt)... 4981 statements fetched\n",
      "      > Getting graph of 621 entities (level: 3, PeIt)... 815 statements fetched\n",
      "      > Getting graph of 892 entities (level: 3, TeEn)... 1827 statements fetched\n",
      "        > Getting graph of 6 entities (level: 4, PeIt)... 21 statements fetched\n",
      "          > Getting graph of 6 entities (level: 5, PeIt)... 15 statements fetched\n",
      "            > Getting graph of 3 entities (level: 6, PeIt)... 4 statements fetched\n",
      "            > Getting graph of 5 entities (level: 6, TeEn)... 10 statements fetched\n",
      "            > Getting graph of 2 entities (level: 6, OutOfProject)... 2 statements fetched\n",
      "          > Getting graph of 3 entities (level: 5, TeEn)... 7 statements fetched\n",
      "            > Getting graph of 2 entities (level: 6, PeIt)... 13 statements fetched\n",
      "              > Getting graph of 3 entities (level: 7, PeIt)... 3 statements fetched\n",
      "              > Getting graph of 3 entities (level: 7, TeEn)... 8 statements fetched\n",
      "                > Getting graph of 1 entities (level: 8, PeIt)... 2 statements fetched\n",
      "              > Getting graph of 2 entities (level: 7, OutOfProject)... 1 statements fetched\n",
      "            > Getting graph of 1 entities (level: 6, OutOfProject)... 1 statements fetched\n",
      "          > Getting graph of 6 entities (level: 5, OutOfProject)... 3 statements fetched\n",
      "        > Getting graph of 3 entities (level: 4, OutOfProject)... 3 statements fetched\n",
      "      > Getting graph of 846 entities (level: 3, OutOfProject)... 423 statements fetched\n",
      "    > Getting graph of 1115 entities (level: 2, OutOfProject)... 1115 statements fetched\n",
      "  > Getting graph of 2010 entities (level: 1, OutOfProject)... 1005 statements fetched\n",
      "[DB] Database correctly disconnected.\n"
     ]
    }
   ],
   "source": [
    "db.connect_geovistory(env, -1, False, skip_protection=True)\n",
    "\n",
    "# Get the whole graph ids of those entities (with rules; eg only incoming properties for TeEn)\n",
    "peits, teens, stmts = db.queries.get_graph_pks(entities, pk_symogih_gv, max_level=100)\n",
    "\n",
    "# Make the graph explicit\n",
    "# the_graph = db.explicit_statements(stmts)\n",
    "# print('Explicit graph:')\n",
    "# display(the_graph)\n",
    "\n",
    "# Make a visual graph out of the explicit statements  \n",
    "# graphs.show(the_graph, 'test.html')\n",
    "\n",
    "db.disconnect()\n",
    "\n",
    "# up to 12min"
   ]
  },
  {
   "cell_type": "code",
   "execution_count": 6,
   "metadata": {},
   "outputs": [],
   "source": [
    "### For info, if needed, to spot unwanted incoming entities\n",
    "\n",
    "# db.connect_geovistory(env, -1, False, skip_protection=True)\n",
    "# stmts_expl = db.tools.explicit_statements(stmts)\n",
    "\n",
    "# display(a.group_by_count(stmts_expl, 'subject')[0:10])\n",
    "# display(a.group_by_count(stmts_expl, 'property')[0:10])\n",
    "# display(a.group_by_count(stmts_expl, 'object')[0:10])"
   ]
  },
  {
   "attachments": {},
   "cell_type": "markdown",
   "metadata": {},
   "source": [
    "## Add those information to the project"
   ]
  },
  {
   "cell_type": "code",
   "execution_count": 7,
   "metadata": {},
   "outputs": [
    {
     "name": "stdout",
     "output_type": "stream",
     "text": [
      "[DB] Requests will not be executed\n",
      "[DB] Connecting to PRODUCTION Database ... Connected!\n"
     ]
    }
   ],
   "source": [
    "db.connect_geovistory(env, pk_project_gv, execute, skip_protection=True)"
   ]
  },
  {
   "attachments": {},
   "cell_type": "markdown",
   "metadata": {},
   "source": [
    "### Before import"
   ]
  },
  {
   "cell_type": "code",
   "execution_count": 9,
   "metadata": {},
   "outputs": [
    {
     "name": "stdout",
     "output_type": "stream",
     "text": [
      "Number of informations already in the project: 51501\n",
      "Number of informations resulting from the original Symogih project: 51924\n",
      "Classes distribution of the original Symogih project:\n"
     ]
    },
    {
     "data": {
      "text/html": [
       "<div>\n",
       "<style scoped>\n",
       "    .dataframe tbody tr th:only-of-type {\n",
       "        vertical-align: middle;\n",
       "    }\n",
       "\n",
       "    .dataframe tbody tr th {\n",
       "        vertical-align: top;\n",
       "    }\n",
       "\n",
       "    .dataframe thead th {\n",
       "        text-align: right;\n",
       "    }\n",
       "</style>\n",
       "<table border=\"1\" class=\"dataframe\">\n",
       "  <thead>\n",
       "    <tr style=\"text-align: right;\">\n",
       "      <th></th>\n",
       "      <th>class</th>\n",
       "      <th>count</th>\n",
       "      <th>percent</th>\n",
       "    </tr>\n",
       "  </thead>\n",
       "  <tbody>\n",
       "    <tr>\n",
       "      <th>0</th>\n",
       "      <td>Person (21)</td>\n",
       "      <td>566</td>\n",
       "      <td>100.00%</td>\n",
       "    </tr>\n",
       "  </tbody>\n",
       "</table>\n",
       "</div>"
      ],
      "text/plain": [
       "         class  count  percent\n",
       "0  Person (21)    566  100.00%"
      ]
     },
     "metadata": {},
     "output_type": "display_data"
    }
   ],
   "source": [
    "ipr_before = db.query(f'select pk_entity, fk_entity from projects.info_proj_rel where fk_project = {pk_project_gv} and is_in_project = true')\n",
    "\n",
    "print('Number of informations already in the project:', len(ipr_before))\n",
    "print('Number of informations resulting from the original Symogih project:', (len(entities) + len(peits) + len(teens) + len(stmts) ))\n",
    "\n",
    "entities_str = db.tools.pks_to_string(entities) # peits + teens)\n",
    "classes = db.query(f'''\n",
    "    select \n",
    "        r.pk_entity, r.fk_class, ac.dfh_class_label\n",
    "    from information.resource r\n",
    "    left join data_for_history.api_class ac on ac.dfh_pk_class = r.fk_class and ac.dfh_class_label_language = 'en'\n",
    "    where r.pk_entity in {entities_str}\n",
    "''')\n",
    "classes['class'] = classes['dfh_class_label'] + ' (' + classes['fk_class'].astype(str) + ')'\n",
    "classes.drop_duplicates(inplace=True)\n",
    "print('Classes distribution of the original Symogih project:')\n",
    "display(kit.group_by_count(classes, 'class'))"
   ]
  },
  {
   "cell_type": "markdown",
   "metadata": {},
   "source": [
    "### Filter out already in project"
   ]
  },
  {
   "cell_type": "code",
   "execution_count": 10,
   "metadata": {},
   "outputs": [
    {
     "name": "stdout",
     "output_type": "stream",
     "text": [
      "Entities to add to project: 0\n",
      "PeIts to add to project: 0\n",
      "TeEns to add to project: 0\n",
      "Statements to add to project: 0\n"
     ]
    }
   ],
   "source": [
    "in_project = set(ipr_before['fk_entity'])\n",
    "\n",
    "entities = list(filter(lambda element: element not in in_project, entities))\n",
    "peits = list(filter(lambda element: element not in in_project, peits))\n",
    "teens = list(filter(lambda element: element not in in_project, teens))\n",
    "stmts = list(filter(lambda element: element not in in_project, stmts))\n",
    "\n",
    "print('Entities to add to project:', len(entities))\n",
    "print('PeIts to add to project:', len(peits))\n",
    "print('TeEns to add to project:', len(teens))\n",
    "print('Statements to add to project:', len(stmts))"
   ]
  },
  {
   "cell_type": "markdown",
   "metadata": {},
   "source": [
    "### Import to the project"
   ]
  },
  {
   "cell_type": "code",
   "execution_count": 11,
   "metadata": {},
   "outputs": [],
   "source": [
    "db.info_proj_rels.create(entities)\n",
    "db.info_proj_rels.create(peits)\n",
    "db.info_proj_rels.create(teens)\n",
    "db.info_proj_rels.create(stmts)"
   ]
  },
  {
   "cell_type": "code",
   "execution_count": 12,
   "metadata": {},
   "outputs": [
    {
     "name": "stdout",
     "output_type": "stream",
     "text": [
      "Number of information after import: 51501\n"
     ]
    }
   ],
   "source": [
    "ipr_after = db.query(f'select pk_entity from projects.info_proj_rel where fk_project = {pk_project_gv} and is_in_project = true')\n",
    "\n",
    "print('Number of information after import:', len(ipr_after))"
   ]
  },
  {
   "cell_type": "markdown",
   "metadata": {},
   "source": [
    "## Add favorites (take column `ord_num_of_domain` and `ord_num_of_range`)"
   ]
  },
  {
   "cell_type": "markdown",
   "metadata": {},
   "source": [
    "### Prepare"
   ]
  },
  {
   "cell_type": "code",
   "execution_count": 13,
   "metadata": {},
   "outputs": [
    {
     "name": "stdout",
     "output_type": "stream",
     "text": [
      "[DB] Requests will not be executed\n",
      "[DB] Connecting to PRODUCTION Database ... Connected!\n",
      "IPR source: 3608947\n",
      "IPR target: 51501\n",
      "IPRs to reset: 51497\n",
      "IPRs to set to 1: 990\n"
     ]
    }
   ],
   "source": [
    "db.connect_geovistory(env, pk_symogih_gv, execute)\n",
    "\n",
    "# Fetch all IPR source\n",
    "ipr_source = db.query(f\"\"\"\n",
    "    select\n",
    "        pk_entity as ipr_source, fk_entity, fk_project, ord_num_of_domain, ord_num_of_range\n",
    "    from projects.info_proj_rel\n",
    "    where fk_project = {pk_symogih_gv} and is_in_project = true\n",
    "\"\"\")\n",
    "print('IPR source:', len(ipr_source))\n",
    "\n",
    "# Fetch all IPR target\n",
    "ipr_target = db.query(f\"\"\"\n",
    "    select\n",
    "        pk_entity as ipr_target, fk_entity\n",
    "    from projects.info_proj_rel\n",
    "    where fk_project = {pk_project_gv} and is_in_project = true\n",
    "\"\"\")\n",
    "print('IPR target:', len(ipr_target))\n",
    "\n",
    "# Take only the ones we are interested in\n",
    "iprs = ipr_target.merge(ipr_source)\n",
    "\n",
    "# Format & prepare request\n",
    "iprs_to_reset = iprs.ipr_target.unique().tolist()\n",
    "iprs_to_1 = iprs[iprs.ord_num_of_domain == 1].ipr_target.unique().tolist()\n",
    "\n",
    "print('IPRs to reset:', len(iprs_to_reset))\n",
    "print('IPRs to set to 1:', len(iprs_to_1))\n",
    "\n",
    "# 12s"
   ]
  },
  {
   "cell_type": "markdown",
   "metadata": {},
   "source": [
    "### Execute"
   ]
  },
  {
   "cell_type": "code",
   "execution_count": 15,
   "metadata": {},
   "outputs": [],
   "source": [
    "iprs_to_reset_str = db.tools.pks_to_string(iprs_to_reset)\n",
    "iprs_to_1_str = db.tools.pks_to_string(iprs_to_1)"
   ]
  },
  {
   "cell_type": "code",
   "execution_count": 16,
   "metadata": {},
   "outputs": [
    {
     "name": "stdout",
     "output_type": "stream",
     "text": [
      "[DB] SQL not executed\n"
     ]
    }
   ],
   "source": [
    "db.execute(f\"\"\"\n",
    "    update projects.info_proj_rel\n",
    "        set ord_num_of_domain = NULL\n",
    "    where pk_entity in {iprs_to_reset_str} and ord_num_of_domain != NULL and pk_entity not in {iprs_to_1_str};\n",
    "\"\"\")"
   ]
  },
  {
   "cell_type": "code",
   "execution_count": 17,
   "metadata": {},
   "outputs": [
    {
     "name": "stdout",
     "output_type": "stream",
     "text": [
      "[DB] SQL not executed\n"
     ]
    }
   ],
   "source": [
    "db.execute(f\"\"\"\n",
    "    update projects.info_proj_rel\n",
    "        set ord_num_of_domain = 1\n",
    "    where pk_entity in {iprs_to_1_str} and ord_num_of_domain != 1;\n",
    "\"\"\")"
   ]
  },
  {
   "cell_type": "markdown",
   "metadata": {},
   "source": [
    "### Finish"
   ]
  },
  {
   "cell_type": "code",
   "execution_count": 18,
   "metadata": {},
   "outputs": [
    {
     "name": "stdout",
     "output_type": "stream",
     "text": [
      "[DB] Database correctly disconnected.\n"
     ]
    }
   ],
   "source": [
    "db.disconnect()"
   ]
  }
 ],
 "metadata": {
  "kernelspec": {
   "display_name": "Python 3",
   "language": "python",
   "name": "python3"
  },
  "language_info": {
   "codemirror_mode": {
    "name": "ipython",
    "version": 3
   },
   "file_extension": ".py",
   "mimetype": "text/x-python",
   "name": "python",
   "nbconvert_exporter": "python",
   "pygments_lexer": "ipython3",
   "version": "3.12.0"
  },
  "orig_nbformat": 4
 },
 "nbformat": 4,
 "nbformat_minor": 2
}
