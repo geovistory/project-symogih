{
 "cells": [
  {
   "attachments": {},
   "cell_type": "markdown",
   "metadata": {},
   "source": [
    "# Exploratory Analysis of table `actor_text_property`"
   ]
  },
  {
   "cell_type": "code",
   "execution_count": 1,
   "metadata": {},
   "outputs": [],
   "source": [
    "# Python lib\n",
    "import os\n",
    "import pandas as pd\n",
    "import datetime\n",
    "\n",
    "# External lib\n",
    "import plotly.express as px\n",
    "import plotly.io as pio\n",
    "pio.renderers.default = \"plotly_mimetype+notebook\"\n",
    "gv_color_seq = ['#322659','#44337A','#553C9A','#6B46C1','#805AD5','#9F7AEA','#B794F4','#D6BCFA','#E9D8FD','#FAF5FF','#E9D8FD','#D6BCFA','#B794F4','#9F7AEA','#805AD5','#6B46C1','#553C9A','#44337A','#322659']\n",
    "\n",
    "# Local lib\n",
    "import toolkit as tk\n",
    "\n",
    "# Connect to db\n",
    "tk.db_connect(os.environ.get('YELLOW_BHP'), verbose=False)\n",
    "\n",
    "# Fetch data\n",
    "actor_text_property = tk.db_execute('select * from bhp.actor_text_property')"
   ]
  },
  {
   "cell_type": "markdown",
   "metadata": {},
   "source": [
    "## Table extract"
   ]
  },
  {
   "cell_type": "code",
   "execution_count": 2,
   "metadata": {},
   "outputs": [
    {
     "data": {
      "text/html": [
       "<div>\n",
       "<style scoped>\n",
       "    .dataframe tbody tr th:only-of-type {\n",
       "        vertical-align: middle;\n",
       "    }\n",
       "\n",
       "    .dataframe tbody tr th {\n",
       "        vertical-align: top;\n",
       "    }\n",
       "\n",
       "    .dataframe thead th {\n",
       "        text-align: right;\n",
       "    }\n",
       "</style>\n",
       "<table border=\"1\" class=\"dataframe\">\n",
       "  <thead>\n",
       "    <tr style=\"text-align: right;\">\n",
       "      <th></th>\n",
       "      <th>pk_actor_text_property</th>\n",
       "      <th>property_type</th>\n",
       "      <th>lang_iso_code</th>\n",
       "      <th>text</th>\n",
       "      <th>notes</th>\n",
       "      <th>fk_actor</th>\n",
       "      <th>creator</th>\n",
       "      <th>modifier</th>\n",
       "      <th>creation_time</th>\n",
       "      <th>modification_time</th>\n",
       "      <th>concat_actp</th>\n",
       "    </tr>\n",
       "  </thead>\n",
       "  <tbody>\n",
       "    <tr>\n",
       "      <th>40158</th>\n",
       "      <td>3132</td>\n",
       "      <td>notice_web</td>\n",
       "      <td>fra</td>\n",
       "      <td>Né à Lyon en 1862, diplômé de l'École supérieu...</td>\n",
       "      <td>None</td>\n",
       "      <td>22244</td>\n",
       "      <td>11.0</td>\n",
       "      <td>11.0</td>\n",
       "      <td>2009-06-18 10:50:31.000</td>\n",
       "      <td>2013-12-18 15:24:16</td>\n",
       "      <td>AcTP3132</td>\n",
       "    </tr>\n",
       "    <tr>\n",
       "      <th>53704</th>\n",
       "      <td>74246</td>\n",
       "      <td>notice_web</td>\n",
       "      <td>fra</td>\n",
       "      <td>&lt;p&gt;Enseigne la discipline de Philosophie natur...</td>\n",
       "      <td>Notice générée automatiquement à partir de l'i...</td>\n",
       "      <td>2380</td>\n",
       "      <td>50.0</td>\n",
       "      <td>50.0</td>\n",
       "      <td>2017-11-30 15:17:44.290</td>\n",
       "      <td>NaT</td>\n",
       "      <td>AcTP74246</td>\n",
       "    </tr>\n",
       "    <tr>\n",
       "      <th>38776</th>\n",
       "      <td>27479</td>\n",
       "      <td>notice</td>\n",
       "      <td>fra</td>\n",
       "      <td>&lt;p&gt;Religieuse professe du Carmel de l'Incarnat...</td>\n",
       "      <td></td>\n",
       "      <td>45489</td>\n",
       "      <td>1.0</td>\n",
       "      <td>1.0</td>\n",
       "      <td>2012-04-27 22:02:56.970</td>\n",
       "      <td>2021-11-22 16:12:42</td>\n",
       "      <td>AcTP27479</td>\n",
       "    </tr>\n",
       "    <tr>\n",
       "      <th>16186</th>\n",
       "      <td>65745</td>\n",
       "      <td>complément</td>\n",
       "      <td>fra</td>\n",
       "      <td>D633</td>\n",
       "      <td>494</td>\n",
       "      <td>56812</td>\n",
       "      <td>51.0</td>\n",
       "      <td>51.0</td>\n",
       "      <td>2014-12-20 22:34:22.890</td>\n",
       "      <td>NaT</td>\n",
       "      <td>AcTP65745</td>\n",
       "    </tr>\n",
       "    <tr>\n",
       "      <th>37349</th>\n",
       "      <td>24109</td>\n",
       "      <td>notice</td>\n",
       "      <td>fra</td>\n",
       "      <td>Né à Mardore, en 1883, industriel ; ARASSH : C...</td>\n",
       "      <td>None</td>\n",
       "      <td>7942</td>\n",
       "      <td>11.0</td>\n",
       "      <td>11.0</td>\n",
       "      <td>2008-07-18 19:32:39.000</td>\n",
       "      <td>2013-12-18 15:24:16</td>\n",
       "      <td>AcTP24109</td>\n",
       "    </tr>\n",
       "  </tbody>\n",
       "</table>\n",
       "</div>"
      ],
      "text/plain": [
       "       pk_actor_text_property property_type lang_iso_code  \\\n",
       "40158                    3132    notice_web           fra   \n",
       "53704                   74246    notice_web           fra   \n",
       "38776                   27479        notice           fra   \n",
       "16186                   65745    complément           fra   \n",
       "37349                   24109        notice           fra   \n",
       "\n",
       "                                                    text  \\\n",
       "40158  Né à Lyon en 1862, diplômé de l'École supérieu...   \n",
       "53704  <p>Enseigne la discipline de Philosophie natur...   \n",
       "38776  <p>Religieuse professe du Carmel de l'Incarnat...   \n",
       "16186                                               D633   \n",
       "37349  Né à Mardore, en 1883, industriel ; ARASSH : C...   \n",
       "\n",
       "                                                   notes  fk_actor  creator  \\\n",
       "40158                                               None     22244     11.0   \n",
       "53704  Notice générée automatiquement à partir de l'i...      2380     50.0   \n",
       "38776                                                        45489      1.0   \n",
       "16186                                                494     56812     51.0   \n",
       "37349                                               None      7942     11.0   \n",
       "\n",
       "       modifier           creation_time   modification_time concat_actp  \n",
       "40158      11.0 2009-06-18 10:50:31.000 2013-12-18 15:24:16    AcTP3132  \n",
       "53704      50.0 2017-11-30 15:17:44.290                 NaT   AcTP74246  \n",
       "38776       1.0 2012-04-27 22:02:56.970 2021-11-22 16:12:42   AcTP27479  \n",
       "16186      51.0 2014-12-20 22:34:22.890                 NaT   AcTP65745  \n",
       "37349      11.0 2008-07-18 19:32:39.000 2013-12-18 15:24:16   AcTP24109  "
      ]
     },
     "execution_count": 2,
     "metadata": {},
     "output_type": "execute_result"
    }
   ],
   "source": [
    "actor_text_property.sample(5)"
   ]
  },
  {
   "attachments": {},
   "cell_type": "markdown",
   "metadata": {},
   "source": [
    "## Discovery"
   ]
  },
  {
   "cell_type": "code",
   "execution_count": 3,
   "metadata": {},
   "outputs": [
    {
     "name": "stdout",
     "output_type": "stream",
     "text": [
      "Columns contain:\n",
      "Total number of rows: 53887\n",
      "  - \"pk_actor_text_property\":   0.00% empty - 53887 (100.00%) uniques (eg: 29364; 29366; 17991)\n",
      "  -          \"property_type\":   0.00% empty -     4 (  0.01%) uniques (eg: notice; notice_web; complément)\n",
      "  -                   \"text\":   0.00% empty - 38518 ( 71.48%) uniques (eg: <p>Directe...; <p>Conseil...; <p>Il a ét...)\n",
      "  -               \"fk_actor\":   0.00% empty - 45931 ( 85.24%) uniques (eg: 47735; 47736; 40250)\n",
      "  -            \"concat_actp\":   0.00% empty - 53887 (100.00%) uniques (eg: AcTP29364; AcTP29366; AcTP17991)\n",
      "  -          \"creation_time\":   0.00% empty - 30407 ( 56.43%) uniques (eg: 2013-12-19...; 2013-12-19...; 2010-11-18...)\n",
      "  -                \"creator\":   0.01% empty -    87 (  0.16%) uniques (eg: 2.0; 50.0; 3.0)\n",
      "  -          \"lang_iso_code\":   2.79% empty -     6 (  0.01%) uniques (eg: fra; None; ita)\n",
      "  -               \"modifier\":  13.57% empty -    82 (  0.15%) uniques (eg: 2.0; 50.0; 3.0)\n",
      "  -      \"modification_time\":  42.69% empty -  4417 (  8.20%) uniques (eg: NaT; 2013-12-19...; 2013-12-19...)\n",
      "  -                  \"notes\":  60.97% empty -  8515 ( 15.80%) uniques (eg: ; None; 96)\n"
     ]
    }
   ],
   "source": [
    "tk.discover(actor_text_property, uniq_ex_nb=3)"
   ]
  },
  {
   "attachments": {},
   "cell_type": "markdown",
   "metadata": {},
   "source": [
    "## Type parsing"
   ]
  },
  {
   "cell_type": "markdown",
   "metadata": {},
   "source": [
    "According to the table before, we will parse each column by the most meaningful type."
   ]
  },
  {
   "cell_type": "code",
   "execution_count": 4,
   "metadata": {},
   "outputs": [],
   "source": [
    "tk.set_types(actor_text_property, {\n",
    "'pk_actor_text_property': 'int',\n",
    "         'property_type': 'string',\n",
    "                  'text': 'text',\n",
    "              'fk_actor': 'int',\n",
    "           'concat_actp': 'string',\n",
    "         'creation_time': 'datetime',\n",
    "               'creator': 'int',\n",
    "         'lang_iso_code': 'string',\n",
    "              'modifier': 'int',\n",
    "     'modification_time': 'datetime',\n",
    "                 'notes': 'string',\n",
    "})     "
   ]
  },
  {
   "attachments": {},
   "cell_type": "markdown",
   "metadata": {},
   "source": [
    "## Columns analysis"
   ]
  },
  {
   "cell_type": "markdown",
   "metadata": {},
   "source": [
    "Here we will report the analysis of interesting information found on different columns. They are not exhaustive.\n",
    "\n",
    "For some of the column, we will update their value."
   ]
  },
  {
   "attachments": {},
   "cell_type": "markdown",
   "metadata": {},
   "source": [
    "### property_type"
   ]
  },
  {
   "attachments": {},
   "cell_type": "markdown",
   "metadata": {},
   "source": [
    "'notice web' and 'notice_web' are being merged."
   ]
  },
  {
   "cell_type": "code",
   "execution_count": 5,
   "metadata": {},
   "outputs": [],
   "source": [
    "actor_text_property['property_type'] = actor_text_property['property_type'].replace('notice_web', 'notice web')\n",
    "\n",
    "# tk.histogram(actor_text_property, 'property_type', 'Property type distribution', style='pie', colors=gv_color_seq)"
   ]
  },
  {
   "attachments": {},
   "cell_type": "markdown",
   "metadata": {},
   "source": [
    "Moreover, according to the wiki page, 'notice_web' and 'notice' would then be merged."
   ]
  },
  {
   "cell_type": "code",
   "execution_count": 6,
   "metadata": {},
   "outputs": [],
   "source": [
    "actor_text_property['property_type'] = actor_text_property['property_type'].replace('notice web', 'notice')"
   ]
  },
  {
   "attachments": {},
   "cell_type": "markdown",
   "metadata": {},
   "source": [
    "### text"
   ]
  },
  {
   "cell_type": "markdown",
   "metadata": {},
   "source": [
    "All HTML tags, non ASCII chars and new line are removed."
   ]
  },
  {
   "cell_type": "code",
   "execution_count": 7,
   "metadata": {},
   "outputs": [],
   "source": [
    "actor_text_property.replace({r'[^\\x00-\\x7F]+':''}, regex=True, inplace=True)\n",
    "actor_text_property.replace({'\\r\\n':''}, regex=True, inplace=True)\n",
    "actor_text_property.replace({'<p>':''}, regex=True, inplace=True)\n",
    "actor_text_property.replace({'</p>':''}, regex=True, inplace=True)"
   ]
  },
  {
   "attachments": {},
   "cell_type": "markdown",
   "metadata": {},
   "source": [
    "### creation_time"
   ]
  },
  {
   "cell_type": "code",
   "execution_count": 8,
   "metadata": {},
   "outputs": [],
   "source": [
    "# px.violin(actor_text_property, x='creation_time', title='Violin plot of the \"creation_time\" column')"
   ]
  },
  {
   "attachments": {},
   "cell_type": "markdown",
   "metadata": {},
   "source": [
    "### creator"
   ]
  },
  {
   "cell_type": "code",
   "execution_count": 9,
   "metadata": {},
   "outputs": [],
   "source": [
    "# tk.histogram(actor_text_property, 'creator', 'Creator distribution', 10)"
   ]
  },
  {
   "attachments": {},
   "cell_type": "markdown",
   "metadata": {},
   "source": [
    "### lang_iso_code"
   ]
  },
  {
   "cell_type": "code",
   "execution_count": 10,
   "metadata": {},
   "outputs": [],
   "source": [
    "# tk.histogram(actor_text_property, 'lang_iso_code', 'Language distribution', style='pie', colors=gv_color_seq)"
   ]
  },
  {
   "attachments": {},
   "cell_type": "markdown",
   "metadata": {},
   "source": [
    "---"
   ]
  },
  {
   "cell_type": "code",
   "execution_count": 11,
   "metadata": {},
   "outputs": [],
   "source": [
    "actor_text_property.to_csv('../../data/actor_text_property.csv', index=False, sep=';', quoting=2)"
   ]
  }
 ],
 "metadata": {
  "kernelspec": {
   "display_name": "Python 3",
   "language": "python",
   "name": "python3"
  },
  "language_info": {
   "codemirror_mode": {
    "name": "ipython",
    "version": 3
   },
   "file_extension": ".py",
   "mimetype": "text/x-python",
   "name": "python",
   "nbconvert_exporter": "python",
   "pygments_lexer": "ipython3",
   "version": "3.8.10"
  },
  "orig_nbformat": 4,
  "vscode": {
   "interpreter": {
    "hash": "916dbcbb3f70747c44a77c7bcd40155683ae19c65e1c03b4aa3499c5328201f1"
   }
  }
 },
 "nbformat": 4,
 "nbformat_minor": 2
}
