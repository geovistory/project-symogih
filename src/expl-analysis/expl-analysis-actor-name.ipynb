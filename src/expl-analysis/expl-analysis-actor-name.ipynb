{
 "cells": [
  {
   "cell_type": "markdown",
   "metadata": {},
   "source": [
    "# Exploratory Analysis of table `actor_name`"
   ]
  },
  {
   "cell_type": "code",
   "execution_count": 1,
   "metadata": {},
   "outputs": [],
   "source": [
    "# Python lib\n",
    "import os\n",
    "import pandas as pd\n",
    "import datetime\n",
    "\n",
    "# External lib\n",
    "import plotly.express as px\n",
    "import plotly.io as pio\n",
    "pio.renderers.default = \"plotly_mimetype+notebook\"\n",
    "gv_color_seq = ['#322659','#44337A','#553C9A','#6B46C1','#805AD5','#9F7AEA','#B794F4','#D6BCFA','#E9D8FD','#FAF5FF','#E9D8FD','#D6BCFA','#B794F4','#9F7AEA','#805AD5','#6B46C1','#553C9A','#44337A','#322659']\n",
    "\n",
    "# Local lib\n",
    "import toolkit as tk\n",
    "\n",
    "# Connect to db\n",
    "tk.db_connect(os.environ.get('YELLOW_BHP'), verbose=False)\n",
    "\n",
    "# Fetch data\n",
    "actor_name = tk.db_execute('select * from bhp.actor_name')"
   ]
  },
  {
   "attachments": {},
   "cell_type": "markdown",
   "metadata": {},
   "source": [
    "## Filter unwanted columns"
   ]
  },
  {
   "attachments": {},
   "cell_type": "markdown",
   "metadata": {},
   "source": [
    "According to the wiki page, we can get rid of those columns:\n",
    "- `name_type`\n",
    "- `name_number`"
   ]
  },
  {
   "cell_type": "code",
   "execution_count": 2,
   "metadata": {},
   "outputs": [],
   "source": [
    "actor_name.drop(columns=['name_type', 'name_number'], inplace=True)"
   ]
  },
  {
   "attachments": {},
   "cell_type": "markdown",
   "metadata": {},
   "source": [
    "## Table extract"
   ]
  },
  {
   "cell_type": "code",
   "execution_count": 3,
   "metadata": {},
   "outputs": [
    {
     "data": {
      "text/html": [
       "<div>\n",
       "<style scoped>\n",
       "    .dataframe tbody tr th:only-of-type {\n",
       "        vertical-align: middle;\n",
       "    }\n",
       "\n",
       "    .dataframe tbody tr th {\n",
       "        vertical-align: top;\n",
       "    }\n",
       "\n",
       "    .dataframe thead th {\n",
       "        text-align: right;\n",
       "    }\n",
       "</style>\n",
       "<table border=\"1\" class=\"dataframe\">\n",
       "  <thead>\n",
       "    <tr style=\"text-align: right;\">\n",
       "      <th></th>\n",
       "      <th>pk_actor_name</th>\n",
       "      <th>concat_acna</th>\n",
       "      <th>is_standard_name</th>\n",
       "      <th>lang_iso</th>\n",
       "      <th>name</th>\n",
       "      <th>first_name</th>\n",
       "      <th>ordinal_text</th>\n",
       "      <th>ordinal_num</th>\n",
       "      <th>particle</th>\n",
       "      <th>title</th>\n",
       "      <th>...</th>\n",
       "      <th>creator</th>\n",
       "      <th>creation_time</th>\n",
       "      <th>modifier</th>\n",
       "      <th>modification_time</th>\n",
       "      <th>concat_name</th>\n",
       "      <th>fk_abob_name_type</th>\n",
       "      <th>begin_month</th>\n",
       "      <th>begin_day</th>\n",
       "      <th>end_month</th>\n",
       "      <th>end_day</th>\n",
       "    </tr>\n",
       "  </thead>\n",
       "  <tbody>\n",
       "    <tr>\n",
       "      <th>56711</th>\n",
       "      <td>57662</td>\n",
       "      <td>AcNa57662</td>\n",
       "      <td>True</td>\n",
       "      <td>deu</td>\n",
       "      <td>Tafel</td>\n",
       "      <td>Johann Friedrich Immanuel</td>\n",
       "      <td>None</td>\n",
       "      <td>NaN</td>\n",
       "      <td>None</td>\n",
       "      <td>None</td>\n",
       "      <td>...</td>\n",
       "      <td>3.0</td>\n",
       "      <td>2014-09-11 22:47:27.880</td>\n",
       "      <td>NaN</td>\n",
       "      <td>NaT</td>\n",
       "      <td>Tafel, Johann Friedrich Immanuel</td>\n",
       "      <td>1058.0</td>\n",
       "      <td>NaN</td>\n",
       "      <td>NaN</td>\n",
       "      <td>NaN</td>\n",
       "      <td>NaN</td>\n",
       "    </tr>\n",
       "    <tr>\n",
       "      <th>5316</th>\n",
       "      <td>5622</td>\n",
       "      <td>AcNa5622</td>\n",
       "      <td>True</td>\n",
       "      <td></td>\n",
       "      <td>Cottin</td>\n",
       "      <td>Joseph, François, Régis</td>\n",
       "      <td>None</td>\n",
       "      <td>NaN</td>\n",
       "      <td>None</td>\n",
       "      <td>None</td>\n",
       "      <td>...</td>\n",
       "      <td>11.0</td>\n",
       "      <td>2008-07-18 18:36:46.000</td>\n",
       "      <td>11.0</td>\n",
       "      <td>2013-02-14 11:00:03</td>\n",
       "      <td>Cottin, Joseph, François, Régis</td>\n",
       "      <td>NaN</td>\n",
       "      <td>NaN</td>\n",
       "      <td>NaN</td>\n",
       "      <td>NaN</td>\n",
       "      <td>NaN</td>\n",
       "    </tr>\n",
       "    <tr>\n",
       "      <th>30473</th>\n",
       "      <td>31003</td>\n",
       "      <td>AcNa31003</td>\n",
       "      <td>True</td>\n",
       "      <td></td>\n",
       "      <td>Lechère</td>\n",
       "      <td>Louis</td>\n",
       "      <td>None</td>\n",
       "      <td>NaN</td>\n",
       "      <td>None</td>\n",
       "      <td>None</td>\n",
       "      <td>...</td>\n",
       "      <td>14.0</td>\n",
       "      <td>2010-03-17 09:40:30.000</td>\n",
       "      <td>14.0</td>\n",
       "      <td>2013-02-14 11:00:03</td>\n",
       "      <td>Lechère, Louis</td>\n",
       "      <td>NaN</td>\n",
       "      <td>NaN</td>\n",
       "      <td>NaN</td>\n",
       "      <td>NaN</td>\n",
       "      <td>NaN</td>\n",
       "    </tr>\n",
       "    <tr>\n",
       "      <th>55011</th>\n",
       "      <td>55959</td>\n",
       "      <td>AcNa55959</td>\n",
       "      <td>True</td>\n",
       "      <td>deu</td>\n",
       "      <td>Geoffroy</td>\n",
       "      <td>Claude-Joseph</td>\n",
       "      <td>None</td>\n",
       "      <td>NaN</td>\n",
       "      <td>None</td>\n",
       "      <td>None</td>\n",
       "      <td>...</td>\n",
       "      <td>3.0</td>\n",
       "      <td>2014-09-11 22:47:27.880</td>\n",
       "      <td>NaN</td>\n",
       "      <td>NaT</td>\n",
       "      <td>Geoffroy, Claude-Joseph</td>\n",
       "      <td>1058.0</td>\n",
       "      <td>NaN</td>\n",
       "      <td>NaN</td>\n",
       "      <td>NaN</td>\n",
       "      <td>NaN</td>\n",
       "    </tr>\n",
       "    <tr>\n",
       "      <th>35282</th>\n",
       "      <td>35939</td>\n",
       "      <td>AcNa35939</td>\n",
       "      <td>True</td>\n",
       "      <td></td>\n",
       "      <td>Herr</td>\n",
       "      <td>G</td>\n",
       "      <td>None</td>\n",
       "      <td>NaN</td>\n",
       "      <td>None</td>\n",
       "      <td>None</td>\n",
       "      <td>...</td>\n",
       "      <td>31.0</td>\n",
       "      <td>2010-05-30 12:59:15.000</td>\n",
       "      <td>31.0</td>\n",
       "      <td>2013-02-14 11:00:03</td>\n",
       "      <td>Herr, G</td>\n",
       "      <td>NaN</td>\n",
       "      <td>NaN</td>\n",
       "      <td>NaN</td>\n",
       "      <td>NaN</td>\n",
       "      <td>NaN</td>\n",
       "    </tr>\n",
       "  </tbody>\n",
       "</table>\n",
       "<p>5 rows × 28 columns</p>\n",
       "</div>"
      ],
      "text/plain": [
       "       pk_actor_name concat_acna  is_standard_name lang_iso      name  \\\n",
       "56711          57662   AcNa57662              True      deu     Tafel   \n",
       "5316            5622    AcNa5622              True             Cottin   \n",
       "30473          31003   AcNa31003              True            Lechère   \n",
       "55011          55959   AcNa55959              True      deu  Geoffroy   \n",
       "35282          35939   AcNa35939              True               Herr   \n",
       "\n",
       "                      first_name ordinal_text  ordinal_num particle title  \\\n",
       "56711  Johann Friedrich Immanuel         None          NaN     None  None   \n",
       "5316     Joseph, François, Régis         None          NaN     None  None   \n",
       "30473                      Louis         None          NaN     None  None   \n",
       "55011              Claude-Joseph         None          NaN     None  None   \n",
       "35282                          G         None          NaN     None  None   \n",
       "\n",
       "       ... creator           creation_time  modifier   modification_time  \\\n",
       "56711  ...     3.0 2014-09-11 22:47:27.880       NaN                 NaT   \n",
       "5316   ...    11.0 2008-07-18 18:36:46.000      11.0 2013-02-14 11:00:03   \n",
       "30473  ...    14.0 2010-03-17 09:40:30.000      14.0 2013-02-14 11:00:03   \n",
       "55011  ...     3.0 2014-09-11 22:47:27.880       NaN                 NaT   \n",
       "35282  ...    31.0 2010-05-30 12:59:15.000      31.0 2013-02-14 11:00:03   \n",
       "\n",
       "                            concat_name fk_abob_name_type begin_month  \\\n",
       "56711  Tafel, Johann Friedrich Immanuel            1058.0         NaN   \n",
       "5316    Cottin, Joseph, François, Régis               NaN         NaN   \n",
       "30473                    Lechère, Louis               NaN         NaN   \n",
       "55011           Geoffroy, Claude-Joseph            1058.0         NaN   \n",
       "35282                           Herr, G               NaN         NaN   \n",
       "\n",
       "       begin_day  end_month end_day  \n",
       "56711        NaN        NaN     NaN  \n",
       "5316         NaN        NaN     NaN  \n",
       "30473        NaN        NaN     NaN  \n",
       "55011        NaN        NaN     NaN  \n",
       "35282        NaN        NaN     NaN  \n",
       "\n",
       "[5 rows x 28 columns]"
      ]
     },
     "execution_count": 3,
     "metadata": {},
     "output_type": "execute_result"
    }
   ],
   "source": [
    "actor_name.sample(5)"
   ]
  },
  {
   "attachments": {},
   "cell_type": "markdown",
   "metadata": {},
   "source": [
    "## Discovery"
   ]
  },
  {
   "cell_type": "code",
   "execution_count": 4,
   "metadata": {},
   "outputs": [
    {
     "name": "stdout",
     "output_type": "stream",
     "text": [
      "Columns contain:\n",
      "Total number of rows: 67293\n",
      "  -      \"pk_actor_name\":   0.00% empty - 67293 (100.00%) uniques (eg: 49829; 49830; 49832)\n",
      "  -        \"concat_acna\":   0.00% empty - 67293 (100.00%) uniques (eg: AcNa49829; AcNa49830; AcNa49832)\n",
      "  -   \"is_standard_name\":   0.00% empty -     2 (  0.00%) uniques (eg: True; False)\n",
      "  -        \"concat_name\":   0.00% empty - 63642 ( 94.57%) uniques (eg: Otte, Bern...; Staud, Joh...; Roma, Giul...)\n",
      "  -      \"creation_time\":   0.00% empty - 40469 ( 60.14%) uniques (eg: 2013-02-20...; 2013-02-20...; 2013-02-20...)\n",
      "  -           \"fk_actor\":   0.00% empty - 61555 ( 91.47%) uniques (eg: 46706; 46707; 46709)\n",
      "  -            \"creator\":   0.00% empty -    89 (  0.13%) uniques (eg: 48.0; 3.0; 41.0)\n",
      "  -               \"name\":   3.55% empty - 32301 ( 48.00%) uniques (eg: Otte; Staud; Roma)\n",
      "  -           \"lang_iso\":   4.20% empty -    27 (  0.04%) uniques (eg: None; ita;    )\n",
      "  -           \"modifier\":   7.31% empty -    88 (  0.13%) uniques (eg: 48.0; 3.0; 116.0)\n",
      "  -         \"first_name\":   7.88% empty - 12315 ( 18.30%) uniques (eg: Bernhard; Johann; Giulio)\n",
      "  -  \"modification_time\":  24.75% empty -  4689 (  6.97%) uniques (eg: NaT; 2013-02-14...; 2013-02-20...)\n",
      "  -  \"fk_abob_name_type\":  70.46% empty -     8 (  0.01%) uniques (eg: nan; 1058.0; 1060.0)\n",
      "  -              \"notes\":  86.47% empty -   420 (  0.62%) uniques (eg: None; ; Se fait ap...)\n",
      "  - \"comment_begin_year\":  87.64% empty -    25 (  0.04%) uniques (eg: None; ; En septemb...)\n",
      "  -   \"comment_end_year\":  87.68% empty -    12 (  0.02%) uniques (eg: None; ; Nom parfoi...)\n",
      "  -         \"apposition\":  95.00% empty -  1892 (  2.81%) uniques (eg: None; Acquanegra; Loyola)\n",
      "  -        \"preposition\":  95.52% empty -    37 (  0.05%) uniques (eg: None; dit de; de)\n",
      "  -           \"particle\":  95.63% empty -   115 (  0.17%) uniques (eg: None; d'; van)\n",
      "  -              \"title\":  98.37% empty -   229 (  0.34%) uniques (eg: None; d'; de)\n",
      "  -         \"begin_year\":  98.74% empty -   279 (  0.41%) uniques (eg: 1883.0; 1882.0; nan)\n",
      "  -           \"end_year\":  99.49% empty -   210 (  0.31%) uniques (eg: 1933.0; 1939.0; nan)\n",
      "  -       \"ordinal_text\":  99.70% empty -    28 (  0.04%) uniques (eg: None; VIII; III)\n",
      "  -        \"ordinal_num\":  99.90% empty -     9 (  0.01%) uniques (eg: nan; 8.0; 1.0)\n",
      "  -        \"begin_month\":  99.98% empty -     9 (  0.01%) uniques (eg: nan; 9.0; 3.0)\n",
      "  -          \"begin_day\":  99.99% empty -     9 (  0.01%) uniques (eg: nan; 17.0; 7.0)\n",
      "  -          \"end_month\":  99.99% empty -     5 (  0.01%) uniques (eg: nan; 2.0; 7.0)\n",
      "  -            \"end_day\":  99.99% empty -     5 (  0.01%) uniques (eg: nan; 15.0; 16.0)\n"
     ]
    }
   ],
   "source": [
    "tk.discover(actor_name, uniq_ex_nb=3)"
   ]
  },
  {
   "cell_type": "markdown",
   "metadata": {},
   "source": [
    "## Type parsing"
   ]
  },
  {
   "cell_type": "markdown",
   "metadata": {},
   "source": [
    "According to the table before, we will parse each column by the most meaningful type."
   ]
  },
  {
   "cell_type": "code",
   "execution_count": 5,
   "metadata": {},
   "outputs": [],
   "source": [
    "tk.set_types(actor_name, {\n",
    "     \"pk_actor_name\": 'int',\n",
    "       \"concat_acna\": 'string',\n",
    "     \"creation_time\": 'datetime',\n",
    "  \"is_standard_name\": 'bool',\n",
    "          \"fk_actor\": 'int',\n",
    "       \"concat_name\": 'string',\n",
    "           \"creator\": 'int',\n",
    "              \"name\": 'string',\n",
    "          \"lang_iso\": 'string',\n",
    "          \"modifier\": 'int',\n",
    "        \"first_name\": 'string',\n",
    " \"modification_time\": 'datetime',\n",
    " \"fk_abob_name_type\": 'int',\n",
    "             \"notes\": 'string',\n",
    "\"comment_begin_year\": 'string',\n",
    "  \"comment_end_year\": 'string',\n",
    "        \"apposition\": 'string',\n",
    "       \"preposition\": 'string',\n",
    "          \"particle\": 'string',\n",
    "             \"title\": 'string',\n",
    "        \"begin_year\": 'int',\n",
    "          \"end_year\": 'int',\n",
    "      \"ordinal_text\": 'string',\n",
    "       \"ordinal_num\": 'int',\n",
    "       \"begin_month\": 'int',\n",
    "         \"begin_day\": 'int',\n",
    "         \"end_month\": 'int',\n",
    "           \"end_day\": 'int',\n",
    "})     \n",
    "\n",
    "# So that they appear correctly\n",
    "tk.set_types(actor_name, {\n",
    "        \"begin_year\": 'string',\n",
    "          \"end_year\": 'string',\n",
    "       \"begin_month\": 'string',\n",
    "         \"end_month\": 'string',\n",
    "         \"begin_day\": 'string',\n",
    "           \"end_day\": 'string',\n",
    "})     "
   ]
  },
  {
   "attachments": {},
   "cell_type": "markdown",
   "metadata": {},
   "source": [
    "## Columns analysis"
   ]
  },
  {
   "attachments": {},
   "cell_type": "markdown",
   "metadata": {},
   "source": [
    "Here we will report the analysis of interesting information found on different columns. They are not exhaustive.\n",
    "\n",
    "For some of the column, we will update their value."
   ]
  },
  {
   "attachments": {},
   "cell_type": "markdown",
   "metadata": {},
   "source": [
    "### begin_date & end_date"
   ]
  },
  {
   "attachments": {},
   "cell_type": "markdown",
   "metadata": {},
   "source": [
    "We create 2 new columns, made of the joining of `begin_year`, `begin_month`, `begin_day` and `end_year`, `end_month`, `end_day`."
   ]
  },
  {
   "cell_type": "code",
   "execution_count": 6,
   "metadata": {},
   "outputs": [],
   "source": [
    "def prefix_date(date):\n",
    "    if pd.isna(date): return date\n",
    "    if len(str(date)) == 3: return f'0{date}'\n",
    "    return date \n",
    "\n",
    "# Set the length of begin_year and end_year to 4\n",
    "actor_name['begin_year'] = [prefix_date(d) for d in actor_name['begin_year']]\n",
    "actor_name['end_year'] = [prefix_date(d) for d in actor_name['end_year']]\n",
    "\n",
    "actor_name['begin_date'] = actor_name['begin_year'] + actor_name['begin_month'] + actor_name['begin_day']\n",
    "actor_name['end_date'] = actor_name['end_year'] + actor_name['end_month'] + actor_name['end_day']\n",
    "actor_name.drop(columns=['begin_year', 'begin_month', 'begin_day', 'end_year', 'end_month', 'end_day'], inplace=True)\n",
    "\n",
    "# Parse into datetime\n",
    "actor_name['begin_date'] = [datetime.datetime.strptime(d, '%Y%m%d') if pd.notna(d) else pd.NaT for d in actor_name['begin_date']]\n",
    "actor_name['end_date'] = [datetime.datetime.strptime(d, '%Y%m%d') if pd.notna(d) else pd.NaT for d in actor_name['end_date']]"
   ]
  },
  {
   "attachments": {},
   "cell_type": "markdown",
   "metadata": {},
   "source": [
    "### creation_time "
   ]
  },
  {
   "cell_type": "code",
   "execution_count": 7,
   "metadata": {},
   "outputs": [],
   "source": [
    "# px.violin(actor_name, x='creation_time', title='Violin plot of the \"creation_time\" column')"
   ]
  },
  {
   "cell_type": "markdown",
   "metadata": {},
   "source": [
    "### creator"
   ]
  },
  {
   "cell_type": "code",
   "execution_count": 8,
   "metadata": {},
   "outputs": [],
   "source": [
    "# tk.histogram(actor_name, 'creator', 'Creator distribution', 10)"
   ]
  },
  {
   "attachments": {},
   "cell_type": "markdown",
   "metadata": {},
   "source": [
    "### lang_iso"
   ]
  },
  {
   "attachments": {},
   "cell_type": "markdown",
   "metadata": {},
   "source": [
    "Some cleaning is made on this column, in order to fit ISO639-2/T (3 letters code, native prefered, eg 'deu' instead of 'ger')."
   ]
  },
  {
   "cell_type": "code",
   "execution_count": 9,
   "metadata": {},
   "outputs": [],
   "source": [
    "actor_name['lang_iso'].replace('   ', pd.NA, inplace=True)\n",
    "actor_name['lang_iso'].replace('fr ', 'fra', inplace=True)\n",
    "actor_name['lang_iso'].replace('Fr ', 'fra', inplace=True)\n",
    "actor_name['lang_iso'].replace('FRA', 'fra', inplace=True)\n",
    "actor_name['lang_iso'].replace('ang', 'eng', inplace=True)\n",
    "actor_name['lang_iso'].replace('gre', 'ell', inplace=True)\n",
    "actor_name['lang_iso'].replace('gal', 'gla', inplace=True)"
   ]
  },
  {
   "cell_type": "code",
   "execution_count": 10,
   "metadata": {},
   "outputs": [],
   "source": [
    "# tk.histogram(actor_name, 'lang_iso', 'Language distribution', style='pie', colors=gv_color_seq)"
   ]
  },
  {
   "attachments": {},
   "cell_type": "markdown",
   "metadata": {},
   "source": [
    "### notes"
   ]
  },
  {
   "cell_type": "markdown",
   "metadata": {},
   "source": [
    "All HTML tags, non ASCII chars and new line are removed."
   ]
  },
  {
   "cell_type": "code",
   "execution_count": 11,
   "metadata": {},
   "outputs": [],
   "source": [
    "actor_name.replace({r'[^\\x00-\\x7F]+':''}, regex=True, inplace=True)\n",
    "actor_name.replace({'\\r\\n':''}, regex=True, inplace=True)\n",
    "actor_name.replace({'<p>':''}, regex=True, inplace=True)\n",
    "actor_name.replace({'</p>':''}, regex=True, inplace=True)"
   ]
  },
  {
   "attachments": {},
   "cell_type": "markdown",
   "metadata": {},
   "source": [
    "---"
   ]
  },
  {
   "cell_type": "code",
   "execution_count": 12,
   "metadata": {},
   "outputs": [],
   "source": [
    "actor_name.to_csv('../../data/actor_name.csv', index=False, sep=';', quoting=2)"
   ]
  }
 ],
 "metadata": {
  "kernelspec": {
   "display_name": "Python 3",
   "language": "python",
   "name": "python3"
  },
  "language_info": {
   "codemirror_mode": {
    "name": "ipython",
    "version": 3
   },
   "file_extension": ".py",
   "mimetype": "text/x-python",
   "name": "python",
   "nbconvert_exporter": "python",
   "pygments_lexer": "ipython3",
   "version": "3.8.10"
  },
  "orig_nbformat": 4,
  "vscode": {
   "interpreter": {
    "hash": "916dbcbb3f70747c44a77c7bcd40155683ae19c65e1c03b4aa3499c5328201f1"
   }
  }
 },
 "nbformat": 4,
 "nbformat_minor": 2
}
