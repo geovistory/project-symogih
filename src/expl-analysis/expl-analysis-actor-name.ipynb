{
 "cells": [
  {
   "cell_type": "markdown",
   "metadata": {},
   "source": [
    "# Exploratory Analysis of table `actor_name`"
   ]
  },
  {
   "cell_type": "code",
   "execution_count": null,
   "metadata": {},
   "outputs": [],
   "source": [
    "# Python lib\n",
    "import os\n",
    "import pandas as pd\n",
    "import datetime\n",
    "\n",
    "# External lib\n",
    "import plotly.express as px\n",
    "import plotly.io as pio\n",
    "pio.renderers.default = \"plotly_mimetype+notebook\"\n",
    "gv_color_seq = ['#322659','#44337A','#553C9A','#6B46C1','#805AD5','#9F7AEA','#B794F4','#D6BCFA','#E9D8FD','#FAF5FF','#E9D8FD','#D6BCFA','#B794F4','#9F7AEA','#805AD5','#6B46C1','#553C9A','#44337A','#322659']\n",
    "\n",
    "\n",
    "# Local lib\n",
    "import toolkit as tk\n",
    "\n",
    "# Connect to db\n",
    "tk.db_connect(os.environ.get('YELLOW_BHP'), verbose=False)\n",
    "\n",
    "actor_name = tk.db_execute('select * from bhp.actor_name')"
   ]
  },
  {
   "attachments": {},
   "cell_type": "markdown",
   "metadata": {},
   "source": [
    "## Filter unwanted columns"
   ]
  },
  {
   "attachments": {},
   "cell_type": "markdown",
   "metadata": {},
   "source": [
    "According to the wiki page, we can get rid of those columns:\n",
    "- `name_type`\n",
    "- `name_number`"
   ]
  },
  {
   "cell_type": "code",
   "execution_count": null,
   "metadata": {},
   "outputs": [],
   "source": [
    "actor_name.drop(columns=['name_type', 'name_number'], inplace=True)"
   ]
  },
  {
   "attachments": {},
   "cell_type": "markdown",
   "metadata": {},
   "source": [
    "## Table extract"
   ]
  },
  {
   "cell_type": "code",
   "execution_count": null,
   "metadata": {},
   "outputs": [],
   "source": [
    "actor_name.sample(5)"
   ]
  },
  {
   "attachments": {},
   "cell_type": "markdown",
   "metadata": {},
   "source": [
    "## Discovery"
   ]
  },
  {
   "cell_type": "code",
   "execution_count": null,
   "metadata": {},
   "outputs": [],
   "source": [
    "tk.discover(actor_name, uniq_ex_nb=3)"
   ]
  },
  {
   "cell_type": "markdown",
   "metadata": {},
   "source": [
    "## Type parsing"
   ]
  },
  {
   "cell_type": "markdown",
   "metadata": {},
   "source": [
    "According to the table before, we will parse each column by the most meaningful type."
   ]
  },
  {
   "cell_type": "code",
   "execution_count": null,
   "metadata": {},
   "outputs": [],
   "source": [
    "tk.set_types(actor_name, {\n",
    "     \"pk_actor_name\": 'int',\n",
    "       \"concat_acna\": 'string',\n",
    "     \"creation_time\": 'datetime',\n",
    "  \"is_standard_name\": 'bool',\n",
    "          \"fk_actor\": 'int',\n",
    "       \"concat_name\": 'string',\n",
    "           \"creator\": 'int',\n",
    "              \"name\": 'string',\n",
    "          \"lang_iso\": 'string',\n",
    "          \"modifier\": 'int',\n",
    "        \"first_name\": 'string',\n",
    " \"modification_time\": 'datetime',\n",
    " \"fk_abob_name_type\": 'int',\n",
    "             \"notes\": 'string',\n",
    "\"comment_begin_year\": 'string',\n",
    "  \"comment_end_year\": 'string',\n",
    "        \"apposition\": 'string',\n",
    "       \"preposition\": 'string',\n",
    "          \"particle\": 'string',\n",
    "             \"title\": 'string',\n",
    "        \"begin_year\": 'int',\n",
    "          \"end_year\": 'int',\n",
    "      \"ordinal_text\": 'string',\n",
    "       \"ordinal_num\": 'int',\n",
    "       \"begin_month\": 'int',\n",
    "         \"begin_day\": 'int',\n",
    "         \"end_month\": 'int',\n",
    "           \"end_day\": 'int',\n",
    "})     \n",
    "\n",
    "# So that they appear correctly\n",
    "tk.set_types(actor_name, {\n",
    "        \"begin_year\": 'string',\n",
    "          \"end_year\": 'string',\n",
    "       \"begin_month\": 'string',\n",
    "         \"end_month\": 'string',\n",
    "         \"begin_day\": 'string',\n",
    "           \"end_day\": 'string',\n",
    "})     "
   ]
  },
  {
   "attachments": {},
   "cell_type": "markdown",
   "metadata": {},
   "source": [
    "## Columns analysis"
   ]
  },
  {
   "attachments": {},
   "cell_type": "markdown",
   "metadata": {},
   "source": [
    "Here we will report the analysis of interesting information found on different columns. They are not exhaustive.\n",
    "\n",
    "For some of the column, we will update their value."
   ]
  },
  {
   "attachments": {},
   "cell_type": "markdown",
   "metadata": {},
   "source": [
    "### begin_date & end_date"
   ]
  },
  {
   "attachments": {},
   "cell_type": "markdown",
   "metadata": {},
   "source": [
    "We create 2 new columns, made of the joining of `begin_year`, `begin_month`, `begin_day` and `end_year`, `end_month`, `end_day`."
   ]
  },
  {
   "cell_type": "code",
   "execution_count": null,
   "metadata": {},
   "outputs": [],
   "source": [
    "def prefix_date(date):\n",
    "    if pd.isna(date): return date\n",
    "    if len(str(date)) == 3: return f'0{date}'\n",
    "    return date \n",
    "\n",
    "# Set the length of begin_year and end_year to 4\n",
    "actor_name['begin_year'] = [prefix_date(d) for d in actor_name['begin_year']]\n",
    "actor_name['end_year'] = [prefix_date(d) for d in actor_name['end_year']]\n",
    "\n",
    "actor_name['begin_date'] = actor_name['begin_year'] + actor_name['begin_month'] + actor_name['begin_day']\n",
    "actor_name['end_date'] = actor_name['end_year'] + actor_name['end_month'] + actor_name['end_day']\n",
    "actor_name.drop(columns=['begin_year', 'begin_month', 'begin_day', 'end_year', 'end_month', 'end_day'], inplace=True)\n",
    "\n",
    "# Parse into datetime\n",
    "actor_name['begin_date'] = [datetime.datetime.strptime(d, '%Y%m%d') if pd.notna(d) else pd.NaT for d in actor_name['begin_date']]\n",
    "actor_name['end_date'] = [datetime.datetime.strptime(d, '%Y%m%d') if pd.notna(d) else pd.NaT for d in actor_name['end_date']]"
   ]
  },
  {
   "attachments": {},
   "cell_type": "markdown",
   "metadata": {},
   "source": [
    "### creation_time "
   ]
  },
  {
   "cell_type": "code",
   "execution_count": null,
   "metadata": {},
   "outputs": [],
   "source": [
    "px.violin(actor_name, x='creation_time', title='Violin plot of the \"creation_time\" column')"
   ]
  },
  {
   "cell_type": "markdown",
   "metadata": {},
   "source": [
    "### creator"
   ]
  },
  {
   "cell_type": "code",
   "execution_count": null,
   "metadata": {},
   "outputs": [],
   "source": [
    "tk.histogram(actor_name, 'creator', 'Creator distribution', 10)"
   ]
  },
  {
   "attachments": {},
   "cell_type": "markdown",
   "metadata": {},
   "source": [
    "### lang_iso"
   ]
  },
  {
   "attachments": {},
   "cell_type": "markdown",
   "metadata": {},
   "source": [
    "Some cleaning is made on this column, in order to fit ISO639-2/T (3 letters code, native prefered, eg 'deu' instead of 'ger')."
   ]
  },
  {
   "cell_type": "code",
   "execution_count": null,
   "metadata": {},
   "outputs": [],
   "source": [
    "actor_name['lang_iso'].replace('   ', pd.NA, inplace=True)\n",
    "actor_name['lang_iso'].replace('fr ', 'fra', inplace=True)\n",
    "actor_name['lang_iso'].replace('Fr ', 'fra', inplace=True)\n",
    "actor_name['lang_iso'].replace('FRA', 'fra', inplace=True)\n",
    "actor_name['lang_iso'].replace('ang', 'eng', inplace=True)\n",
    "actor_name['lang_iso'].replace('gre', 'ell', inplace=True)\n",
    "actor_name['lang_iso'].replace('gal', '', inplace=True) #?????"
   ]
  },
  {
   "cell_type": "code",
   "execution_count": null,
   "metadata": {},
   "outputs": [],
   "source": [
    "tk.histogram(actor_name, 'lang_iso', 'Language distribution', style='pie', colors=gv_color_seq)"
   ]
  },
  {
   "attachments": {},
   "cell_type": "markdown",
   "metadata": {},
   "source": [
    "### notes"
   ]
  },
  {
   "cell_type": "markdown",
   "metadata": {},
   "source": [
    "All HTML tags, non ASCII chars and new line are removed."
   ]
  },
  {
   "cell_type": "code",
   "execution_count": null,
   "metadata": {},
   "outputs": [],
   "source": [
    "actor_name.replace({r'[^\\x00-\\x7F]+':''}, regex=True, inplace=True)\n",
    "actor_name.replace({'\\r\\n':''}, regex=True, inplace=True)\n",
    "actor_name.replace({'<p>':''}, regex=True, inplace=True)\n",
    "actor_name.replace({'</p>':''}, regex=True, inplace=True)"
   ]
  },
  {
   "attachments": {},
   "cell_type": "markdown",
   "metadata": {},
   "source": [
    "---"
   ]
  },
  {
   "cell_type": "code",
   "execution_count": null,
   "metadata": {},
   "outputs": [],
   "source": [
    "actor_name.to_csv('../../data/actor_name.csv', index=False, sep=';')"
   ]
  }
 ],
 "metadata": {
  "kernelspec": {
   "display_name": "Python 3",
   "language": "python",
   "name": "python3"
  },
  "language_info": {
   "codemirror_mode": {
    "name": "ipython",
    "version": 3
   },
   "file_extension": ".py",
   "mimetype": "text/x-python",
   "name": "python",
   "nbconvert_exporter": "python",
   "pygments_lexer": "ipython3",
   "version": "3.8.10"
  },
  "orig_nbformat": 4,
  "vscode": {
   "interpreter": {
    "hash": "916dbcbb3f70747c44a77c7bcd40155683ae19c65e1c03b4aa3499c5328201f1"
   }
  }
 },
 "nbformat": 4,
 "nbformat_minor": 2
}
