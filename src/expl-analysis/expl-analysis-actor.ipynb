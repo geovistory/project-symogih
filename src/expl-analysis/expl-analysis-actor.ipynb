{
 "cells": [
  {
   "attachments": {},
   "cell_type": "markdown",
   "metadata": {},
   "source": [
    "# Exploratory Analysis of table `actor`"
   ]
  },
  {
   "cell_type": "code",
   "execution_count": 1,
   "metadata": {},
   "outputs": [],
   "source": [
    "# Python lib\n",
    "import os\n",
    "import pandas as pd\n",
    "import csv\n",
    "\n",
    "# External lib\n",
    "import plotly.express as px\n",
    "import plotly.io as pio\n",
    "pio.renderers.default = \"plotly_mimetype+notebook\"\n",
    "gv_color_seq = ['#322659','#44337A','#553C9A','#6B46C1','#805AD5','#9F7AEA','#B794F4','#D6BCFA','#E9D8FD','#FAF5FF','#E9D8FD','#D6BCFA','#B794F4','#9F7AEA','#805AD5','#6B46C1','#553C9A','#44337A','#322659']\n",
    "\n",
    "# Local lib\n",
    "import toolkit as tk\n",
    "\n",
    "# Connect to db\n",
    "tk.db_connect(os.environ.get('YELLOW_BHP'), verbose=False)\n",
    "\n",
    "# Fetch data\n",
    "actor = tk.db_execute('select * from bhp.actor')"
   ]
  },
  {
   "attachments": {},
   "cell_type": "markdown",
   "metadata": {},
   "source": [
    "## Filter unwanted columns"
   ]
  },
  {
   "attachments": {},
   "cell_type": "markdown",
   "metadata": {},
   "source": [
    "According to the wiki page, we can get rid of those columns:\n",
    "- `standard_text_property`\n",
    "- `count_text_property`\n",
    "- `concat_names`"
   ]
  },
  {
   "cell_type": "code",
   "execution_count": 2,
   "metadata": {},
   "outputs": [],
   "source": [
    "actor.drop(columns=['standard_text_property', 'count_text_property', 'concat_names'], inplace=True)"
   ]
  },
  {
   "attachments": {},
   "cell_type": "markdown",
   "metadata": {},
   "source": [
    "## Table extract"
   ]
  },
  {
   "cell_type": "code",
   "execution_count": 3,
   "metadata": {},
   "outputs": [
    {
     "data": {
      "text/html": [
       "<div>\n",
       "<style scoped>\n",
       "    .dataframe tbody tr th:only-of-type {\n",
       "        vertical-align: middle;\n",
       "    }\n",
       "\n",
       "    .dataframe tbody tr th {\n",
       "        vertical-align: top;\n",
       "    }\n",
       "\n",
       "    .dataframe thead th {\n",
       "        text-align: right;\n",
       "    }\n",
       "</style>\n",
       "<table border=\"1\" class=\"dataframe\">\n",
       "  <thead>\n",
       "    <tr style=\"text-align: right;\">\n",
       "      <th></th>\n",
       "      <th>pk_actor</th>\n",
       "      <th>concat_actr</th>\n",
       "      <th>concat_standard_name</th>\n",
       "      <th>begin_year</th>\n",
       "      <th>certainty_begin</th>\n",
       "      <th>notes_begin</th>\n",
       "      <th>end_year</th>\n",
       "      <th>certainty_end</th>\n",
       "      <th>notes_end</th>\n",
       "      <th>gender_iso</th>\n",
       "      <th>notes</th>\n",
       "      <th>fk_abob_type_actor</th>\n",
       "      <th>creator</th>\n",
       "      <th>creation_time</th>\n",
       "      <th>modifier</th>\n",
       "      <th>modification_time</th>\n",
       "    </tr>\n",
       "  </thead>\n",
       "  <tbody>\n",
       "    <tr>\n",
       "      <th>56385</th>\n",
       "      <td>61929</td>\n",
       "      <td>Actr61929</td>\n",
       "      <td>Lenoir, Alfred</td>\n",
       "      <td>1850.0</td>\n",
       "      <td>1</td>\n",
       "      <td>None</td>\n",
       "      <td>1920.0</td>\n",
       "      <td>1</td>\n",
       "      <td>None</td>\n",
       "      <td>1</td>\n",
       "      <td>None</td>\n",
       "      <td>104.0</td>\n",
       "      <td>133.0</td>\n",
       "      <td>2019-01-30 19:07:47.160</td>\n",
       "      <td>133.0</td>\n",
       "      <td>2019-01-30 19:08:32</td>\n",
       "    </tr>\n",
       "    <tr>\n",
       "      <th>42367</th>\n",
       "      <td>15629</td>\n",
       "      <td>Actr15629</td>\n",
       "      <td>Monnier, Pierre [à identifier]</td>\n",
       "      <td>NaN</td>\n",
       "      <td>1</td>\n",
       "      <td>None</td>\n",
       "      <td>NaN</td>\n",
       "      <td>1</td>\n",
       "      <td>None</td>\n",
       "      <td>1</td>\n",
       "      <td>None</td>\n",
       "      <td>104.0</td>\n",
       "      <td>28.0</td>\n",
       "      <td>2008-12-04 16:35:57.000</td>\n",
       "      <td>11.0</td>\n",
       "      <td>2016-03-30 10:24:15</td>\n",
       "    </tr>\n",
       "    <tr>\n",
       "      <th>53287</th>\n",
       "      <td>1668</td>\n",
       "      <td>Actr1668</td>\n",
       "      <td>Zañartu, Juan de</td>\n",
       "      <td>1635.0</td>\n",
       "      <td>3</td>\n",
       "      <td>None</td>\n",
       "      <td>1695.0</td>\n",
       "      <td>1</td>\n",
       "      <td>None</td>\n",
       "      <td>1</td>\n",
       "      <td>None</td>\n",
       "      <td>104.0</td>\n",
       "      <td>27.0</td>\n",
       "      <td>2008-11-09 00:10:48.000</td>\n",
       "      <td>50.0</td>\n",
       "      <td>2016-10-20 11:43:57</td>\n",
       "    </tr>\n",
       "    <tr>\n",
       "      <th>24066</th>\n",
       "      <td>30898</td>\n",
       "      <td>Actr30898</td>\n",
       "      <td>Le Faucheur, Michel</td>\n",
       "      <td>1582.0</td>\n",
       "      <td>1</td>\n",
       "      <td>None</td>\n",
       "      <td>1657.0</td>\n",
       "      <td>1</td>\n",
       "      <td>None</td>\n",
       "      <td>1</td>\n",
       "      <td>None</td>\n",
       "      <td>104.0</td>\n",
       "      <td>9.0</td>\n",
       "      <td>2010-03-30 17:15:41.000</td>\n",
       "      <td>11.0</td>\n",
       "      <td>2013-12-18 15:35:49</td>\n",
       "    </tr>\n",
       "    <tr>\n",
       "      <th>11441</th>\n",
       "      <td>2988</td>\n",
       "      <td>Actr2988</td>\n",
       "      <td>Ortensio, Martino</td>\n",
       "      <td>1605.0</td>\n",
       "      <td>1</td>\n",
       "      <td>None</td>\n",
       "      <td>1639.0</td>\n",
       "      <td>1</td>\n",
       "      <td>None</td>\n",
       "      <td>1</td>\n",
       "      <td>None</td>\n",
       "      <td>104.0</td>\n",
       "      <td>3.0</td>\n",
       "      <td>2008-11-09 00:12:53.000</td>\n",
       "      <td>11.0</td>\n",
       "      <td>2013-12-18 15:35:49</td>\n",
       "    </tr>\n",
       "  </tbody>\n",
       "</table>\n",
       "</div>"
      ],
      "text/plain": [
       "       pk_actor concat_actr            concat_standard_name  begin_year  \\\n",
       "56385     61929   Actr61929                  Lenoir, Alfred      1850.0   \n",
       "42367     15629   Actr15629  Monnier, Pierre [à identifier]         NaN   \n",
       "53287      1668    Actr1668                Zañartu, Juan de      1635.0   \n",
       "24066     30898   Actr30898             Le Faucheur, Michel      1582.0   \n",
       "11441      2988    Actr2988               Ortensio, Martino      1605.0   \n",
       "\n",
       "      certainty_begin notes_begin  end_year certainty_end notes_end  \\\n",
       "56385               1        None    1920.0             1      None   \n",
       "42367               1        None       NaN             1      None   \n",
       "53287               3        None    1695.0             1      None   \n",
       "24066               1        None    1657.0             1      None   \n",
       "11441               1        None    1639.0             1      None   \n",
       "\n",
       "      gender_iso notes  fk_abob_type_actor  creator           creation_time  \\\n",
       "56385          1  None               104.0    133.0 2019-01-30 19:07:47.160   \n",
       "42367          1  None               104.0     28.0 2008-12-04 16:35:57.000   \n",
       "53287          1  None               104.0     27.0 2008-11-09 00:10:48.000   \n",
       "24066          1  None               104.0      9.0 2010-03-30 17:15:41.000   \n",
       "11441          1  None               104.0      3.0 2008-11-09 00:12:53.000   \n",
       "\n",
       "       modifier   modification_time  \n",
       "56385     133.0 2019-01-30 19:08:32  \n",
       "42367      11.0 2016-03-30 10:24:15  \n",
       "53287      50.0 2016-10-20 11:43:57  \n",
       "24066      11.0 2013-12-18 15:35:49  \n",
       "11441      11.0 2013-12-18 15:35:49  "
      ]
     },
     "execution_count": 3,
     "metadata": {},
     "output_type": "execute_result"
    }
   ],
   "source": [
    "actor.sample(5)"
   ]
  },
  {
   "attachments": {},
   "cell_type": "markdown",
   "metadata": {},
   "source": [
    "## Filter only wanted rows"
   ]
  },
  {
   "attachments": {},
   "cell_type": "markdown",
   "metadata": {},
   "source": [
    "Some of the rows has been identified to not be imported (see this [wiki page](https://github.com/geovistory/symogih/wiki/Liste-des-balises-des-entit%C3%A9s-%C3%A0-ne-pas-importer))."
   ]
  },
  {
   "cell_type": "code",
   "execution_count": 4,
   "metadata": {},
   "outputs": [
    {
     "name": "stdout",
     "output_type": "stream",
     "text": [
      "Rows number before filter: 61556\n",
      "Rows number after filter: 59526 (2030 have been removed)\n"
     ]
    }
   ],
   "source": [
    "len_before = len(actor)\n",
    "print(f'Rows number before filter: {len_before}')\n",
    "\n",
    "actor = actor[~actor['concat_standard_name'].str.contains('\\[à identifier\\]')]\n",
    "actor = actor[~actor['concat_standard_name'].str.contains('\\[ne pas importer\\]')]\n",
    "actor = actor[~actor['concat_standard_name'].str.contains('DOUBLON')]\n",
    "actor = actor[~actor['concat_standard_name'].str.contains('Doublon')]\n",
    "actor = actor[~actor['concat_standard_name'].str.contains('réutiliser')]\n",
    "actor = actor[~actor['concat_standard_name'].str.contains('REUTILISER')]\n",
    "\n",
    "len_after = len(actor)\n",
    "\n",
    "print(f'Rows number after filter: {len_after} ({len_before - len_after} have been removed)')"
   ]
  },
  {
   "attachments": {},
   "cell_type": "markdown",
   "metadata": {},
   "source": [
    "## Filter by Actor type"
   ]
  },
  {
   "attachments": {},
   "cell_type": "markdown",
   "metadata": {},
   "source": [
    "For now we are interested only in persons. \n",
    "\n",
    "Persons can be found by having the column `fk_abob_type_actor` being 104."
   ]
  },
  {
   "cell_type": "code",
   "execution_count": 5,
   "metadata": {},
   "outputs": [
    {
     "name": "stdout",
     "output_type": "stream",
     "text": [
      "Number of not 104 actors: 3\n",
      "\n"
     ]
    },
    {
     "data": {
      "text/html": [
       "<div>\n",
       "<style scoped>\n",
       "    .dataframe tbody tr th:only-of-type {\n",
       "        vertical-align: middle;\n",
       "    }\n",
       "\n",
       "    .dataframe tbody tr th {\n",
       "        vertical-align: top;\n",
       "    }\n",
       "\n",
       "    .dataframe thead th {\n",
       "        text-align: right;\n",
       "    }\n",
       "</style>\n",
       "<table border=\"1\" class=\"dataframe\">\n",
       "  <thead>\n",
       "    <tr style=\"text-align: right;\">\n",
       "      <th></th>\n",
       "      <th>pk_actor</th>\n",
       "      <th>concat_actr</th>\n",
       "      <th>concat_standard_name</th>\n",
       "      <th>begin_year</th>\n",
       "      <th>certainty_begin</th>\n",
       "      <th>notes_begin</th>\n",
       "      <th>end_year</th>\n",
       "      <th>certainty_end</th>\n",
       "      <th>notes_end</th>\n",
       "      <th>gender_iso</th>\n",
       "      <th>notes</th>\n",
       "      <th>fk_abob_type_actor</th>\n",
       "      <th>creator</th>\n",
       "      <th>creation_time</th>\n",
       "      <th>modifier</th>\n",
       "      <th>modification_time</th>\n",
       "    </tr>\n",
       "  </thead>\n",
       "  <tbody>\n",
       "    <tr>\n",
       "      <th>10340</th>\n",
       "      <td>59031</td>\n",
       "      <td>Actr59031</td>\n",
       "      <td>Forster, James</td>\n",
       "      <td>1830.0</td>\n",
       "      <td>3</td>\n",
       "      <td>3</td>\n",
       "      <td>1930.0</td>\n",
       "      <td>3</td>\n",
       "      <td>3</td>\n",
       "      <td>1</td>\n",
       "      <td>None</td>\n",
       "      <td>106.0</td>\n",
       "      <td>81.0</td>\n",
       "      <td>2016-11-29 11:05:00.060</td>\n",
       "      <td>81.0</td>\n",
       "      <td>2016-11-29 11:05:00</td>\n",
       "    </tr>\n",
       "    <tr>\n",
       "      <th>28940</th>\n",
       "      <td>60660</td>\n",
       "      <td>Actr60660</td>\n",
       "      <td>Valjean, Jean</td>\n",
       "      <td>1769.0</td>\n",
       "      <td>1</td>\n",
       "      <td>None</td>\n",
       "      <td>1833.0</td>\n",
       "      <td>1</td>\n",
       "      <td>None</td>\n",
       "      <td>1</td>\n",
       "      <td>None</td>\n",
       "      <td>106.0</td>\n",
       "      <td>122.0</td>\n",
       "      <td>2018-10-23 16:48:50.050</td>\n",
       "      <td>122.0</td>\n",
       "      <td>2018-10-23 16:48:50</td>\n",
       "    </tr>\n",
       "    <tr>\n",
       "      <th>46002</th>\n",
       "      <td>46914</td>\n",
       "      <td>Actr46914</td>\n",
       "      <td>Dieu (conception chrétienne)</td>\n",
       "      <td>NaN</td>\n",
       "      <td>1</td>\n",
       "      <td>None</td>\n",
       "      <td>NaN</td>\n",
       "      <td>None</td>\n",
       "      <td>None</td>\n",
       "      <td>0</td>\n",
       "      <td>None</td>\n",
       "      <td>106.0</td>\n",
       "      <td>3.0</td>\n",
       "      <td>2013-07-04 11:43:15.990</td>\n",
       "      <td>3.0</td>\n",
       "      <td>2013-12-18 15:24:16</td>\n",
       "    </tr>\n",
       "  </tbody>\n",
       "</table>\n",
       "</div>"
      ],
      "text/plain": [
       "       pk_actor concat_actr          concat_standard_name  begin_year  \\\n",
       "10340     59031   Actr59031                Forster, James      1830.0   \n",
       "28940     60660   Actr60660                 Valjean, Jean      1769.0   \n",
       "46002     46914   Actr46914  Dieu (conception chrétienne)         NaN   \n",
       "\n",
       "      certainty_begin notes_begin  end_year certainty_end notes_end  \\\n",
       "10340               3           3    1930.0             3         3   \n",
       "28940               1        None    1833.0             1      None   \n",
       "46002               1        None       NaN          None      None   \n",
       "\n",
       "      gender_iso notes  fk_abob_type_actor  creator           creation_time  \\\n",
       "10340          1  None               106.0     81.0 2016-11-29 11:05:00.060   \n",
       "28940          1  None               106.0    122.0 2018-10-23 16:48:50.050   \n",
       "46002          0  None               106.0      3.0 2013-07-04 11:43:15.990   \n",
       "\n",
       "       modifier   modification_time  \n",
       "10340      81.0 2016-11-29 11:05:00  \n",
       "28940     122.0 2018-10-23 16:48:50  \n",
       "46002       3.0 2013-12-18 15:24:16  "
      ]
     },
     "metadata": {},
     "output_type": "display_data"
    }
   ],
   "source": [
    "not104 = actor[actor['fk_abob_type_actor'] != 104]\n",
    "print(f'Number of not 104 actors: {len(not104)}\\n')\n",
    "\n",
    "display(not104)\n",
    "\n",
    "actor = actor[actor['fk_abob_type_actor'] == 104]\n",
    "\n",
    "actor.drop(columns=['fk_abob_type_actor'], inplace=True)"
   ]
  },
  {
   "attachments": {},
   "cell_type": "markdown",
   "metadata": {},
   "source": [
    "## Discovery"
   ]
  },
  {
   "cell_type": "code",
   "execution_count": 6,
   "metadata": {},
   "outputs": [
    {
     "name": "stdout",
     "output_type": "stream",
     "text": [
      "Columns contain:\n",
      "Total number of rows: 59523\n",
      "  -             \"pk_actor\":   0.00% empty - 59523 (100.00%) uniques (eg: 44895; 47015)\n",
      "  -          \"concat_actr\":   0.00% empty - 59523 (100.00%) uniques (eg: Actr44895; Actr47015)\n",
      "  - \"concat_standard_name\":   0.00% empty - 56550 ( 95.01%) uniques (eg: Sainte-Mar...; Costantino...)\n",
      "  -           \"gender_iso\":   0.00% empty -     3 (  0.01%) uniques (eg: 1; 2)\n",
      "  -        \"creation_time\":   0.00% empty - 34441 ( 57.86%) uniques (eg: 2012-04-08...; 2013-07-26...)\n",
      "  -    \"modification_time\":   0.00% empty - 13973 ( 23.47%) uniques (eg: 2013-12-18...; 2016-10-21...)\n",
      "  -              \"creator\":   0.01% empty -    88 (  0.15%) uniques (eg: 43.0; 30.0)\n",
      "  -             \"modifier\":   8.92% empty -    85 (  0.14%) uniques (eg: 2.0; 30.0)\n",
      "  -      \"certainty_begin\":   9.42% empty -     4 (  0.01%) uniques (eg: 3; 1)\n",
      "  -        \"certainty_end\":  14.48% empty -     5 (  0.01%) uniques (eg: 3; None)\n",
      "  -           \"begin_year\":  18.56% empty -   847 (  1.42%) uniques (eg: 1870.0; 1506.0)\n",
      "  -             \"end_year\":  50.66% empty -   819 (  1.38%) uniques (eg: 1930.0; 1545.0)\n",
      "  -          \"notes_begin\":  67.74% empty -     5 (  0.01%) uniques (eg: 3; 2)\n",
      "  -            \"notes_end\":  72.41% empty -     6 (  0.01%) uniques (eg: 3; 4)\n",
      "  -                \"notes\":  89.85% empty -  6012 ( 10.10%) uniques (eg: <p>Il s'ag...; None)\n"
     ]
    }
   ],
   "source": [
    "tk.discover(actor, uniq_ex_nb=2)"
   ]
  },
  {
   "attachments": {},
   "cell_type": "markdown",
   "metadata": {},
   "source": [
    "## Type parsing"
   ]
  },
  {
   "attachments": {},
   "cell_type": "markdown",
   "metadata": {},
   "source": [
    "According to the table before, we will parse each column by the most meaningful type."
   ]
  },
  {
   "cell_type": "code",
   "execution_count": 7,
   "metadata": {},
   "outputs": [],
   "source": [
    "actor['certainty_end'].replace(' ', None, inplace=True)\n",
    "tk.set_types(actor, {\n",
    "               \"pk_actor\": 'int', \n",
    "      \"modification_time\": 'datetime',\n",
    "          \"creation_time\": 'datetime',\n",
    "   \"concat_standard_name\": 'string',\n",
    "            \"concat_actr\": 'string',\n",
    "                \"creator\": 'int',\n",
    "             \"gender_iso\": 'string',\n",
    "               \"modifier\": 'int',\n",
    "        \"certainty_begin\": 'int',\n",
    "          \"certainty_end\": 'int',\n",
    "             \"begin_year\": 'int',\n",
    "               \"end_year\": 'int',\n",
    "            \"notes_begin\": 'int',\n",
    "              \"notes_end\": 'int',\n",
    "                  \"notes\": 'string'\n",
    "})\n"
   ]
  },
  {
   "attachments": {},
   "cell_type": "markdown",
   "metadata": {},
   "source": [
    "## Columns analysis"
   ]
  },
  {
   "attachments": {},
   "cell_type": "markdown",
   "metadata": {},
   "source": [
    "Here we will report the analysis of interesting information found on different columns. They are not exhaustive.\n",
    "\n",
    "For some columns, we will update their value."
   ]
  },
  {
   "attachments": {},
   "cell_type": "markdown",
   "metadata": {},
   "source": [
    "### gender_iso"
   ]
  },
  {
   "attachments": {},
   "cell_type": "markdown",
   "metadata": {},
   "source": [
    "We observe some of the gender values being undefined. As the ISO mentions, it should be 0, 1, 2 or 9. So we replace the undefined gender by 0."
   ]
  },
  {
   "cell_type": "code",
   "execution_count": 8,
   "metadata": {},
   "outputs": [],
   "source": [
    "actor['gender_iso'].replace(pd.NA, '0', inplace=True)\n",
    "\n",
    "# tk.histogram(actor, 'gender_iso', title='Gender distribution', style='bar', colors=gv_color_seq)"
   ]
  },
  {
   "attachments": {},
   "cell_type": "markdown",
   "metadata": {},
   "source": [
    "### certainty_begin"
   ]
  },
  {
   "attachments": {},
   "cell_type": "markdown",
   "metadata": {},
   "source": [
    "We replace the not filled values by 0."
   ]
  },
  {
   "cell_type": "code",
   "execution_count": 9,
   "metadata": {},
   "outputs": [],
   "source": [
    "actor['certainty_begin'].replace(pd.NA, 0, inplace=True)\n",
    "\n",
    "# tk.histogram(actor, 'certainty_begin', title='Begin certainty distribution', style='pie', colors=gv_color_seq)"
   ]
  },
  {
   "attachments": {},
   "cell_type": "markdown",
   "metadata": {},
   "source": [
    "### begin_year"
   ]
  },
  {
   "cell_type": "code",
   "execution_count": 10,
   "metadata": {},
   "outputs": [],
   "source": [
    "# px.violin(actor, x='begin_year', color='gender_iso', height=600, title='Violin plot of the \"begin_year\" column, by gender')"
   ]
  },
  {
   "cell_type": "code",
   "execution_count": 11,
   "metadata": {},
   "outputs": [],
   "source": [
    "# px.violin(actor.sort_values(by='certainty_begin'), x='begin_year', color='certainty_begin', height=600, title='Violin plot of the \"begin_year\" column, by certainty')"
   ]
  },
  {
   "cell_type": "code",
   "execution_count": 12,
   "metadata": {},
   "outputs": [],
   "source": [
    "# px.violin(actor.sort_values(by='certainty_begin'), x='begin_year', y='gender_iso', color='certainty_begin', height=1000, title='Violin plot of the \"begin_year\" column, by certainty, for each gender')"
   ]
  },
  {
   "attachments": {},
   "cell_type": "markdown",
   "metadata": {},
   "source": [
    "### certainty_end"
   ]
  },
  {
   "attachments": {},
   "cell_type": "markdown",
   "metadata": {},
   "source": [
    "We replace the not filled values by 0."
   ]
  },
  {
   "cell_type": "code",
   "execution_count": 13,
   "metadata": {},
   "outputs": [],
   "source": [
    "actor['certainty_end'].replace(pd.NA, 0, inplace=True)\n",
    "\n",
    "# tk.histogram(actor, 'certainty_end', title='End certainty distribution', style='pie', colors=gv_color_seq)"
   ]
  },
  {
   "attachments": {},
   "cell_type": "markdown",
   "metadata": {},
   "source": [
    "### end_year"
   ]
  },
  {
   "cell_type": "code",
   "execution_count": 14,
   "metadata": {},
   "outputs": [],
   "source": [
    "# px.violin(actor, x='end_year', color='gender_iso', height=600, title='Violin plot of the \"end_year\" column, by gender')"
   ]
  },
  {
   "cell_type": "code",
   "execution_count": 15,
   "metadata": {},
   "outputs": [],
   "source": [
    "# px.violin(actor.sort_values(by='certainty_end'), x='end_year', color='certainty_end', height=600, title='Violin plot of the \"end_year\" column, by certainty')"
   ]
  },
  {
   "cell_type": "code",
   "execution_count": 16,
   "metadata": {},
   "outputs": [],
   "source": [
    "# px.violin(actor.sort_values(by='certainty_end'), x='end_year', y='gender_iso', color='certainty_end', height=1000, title='Violin plot of the \"end_year\" column, by certainty, for each gender')"
   ]
  },
  {
   "attachments": {},
   "cell_type": "markdown",
   "metadata": {},
   "source": [
    "### creation_time"
   ]
  },
  {
   "cell_type": "code",
   "execution_count": 17,
   "metadata": {},
   "outputs": [],
   "source": [
    "# px.violin(actor, x='creation_time', title='Violin plot of the \"creation_time\" column')"
   ]
  },
  {
   "cell_type": "markdown",
   "metadata": {},
   "source": [
    "### creator"
   ]
  },
  {
   "cell_type": "code",
   "execution_count": 18,
   "metadata": {},
   "outputs": [],
   "source": [
    "# tk.histogram(actor, 'creator', '10 firsts creators distribution', 10)"
   ]
  },
  {
   "attachments": {},
   "cell_type": "markdown",
   "metadata": {},
   "source": [
    "### notes"
   ]
  },
  {
   "attachments": {},
   "cell_type": "markdown",
   "metadata": {},
   "source": [
    "All HTML tags, non ASCII chars and new line are removed."
   ]
  },
  {
   "cell_type": "code",
   "execution_count": 19,
   "metadata": {},
   "outputs": [],
   "source": [
    "actor.replace({r'[^\\x00-\\x7F]+':''}, regex=True, inplace=True)\n",
    "actor.replace({'\\r\\n':''}, regex=True, inplace=True)\n",
    "actor.replace({'<p>':''}, regex=True, inplace=True)\n",
    "actor.replace({'</p>':''}, regex=True, inplace=True)"
   ]
  },
  {
   "attachments": {},
   "cell_type": "markdown",
   "metadata": {},
   "source": [
    "---"
   ]
  },
  {
   "cell_type": "code",
   "execution_count": 20,
   "metadata": {},
   "outputs": [],
   "source": [
    "actor.to_csv('../../data/actor.csv', index=False, sep=';', quoting=2)"
   ]
  }
 ],
 "metadata": {
  "kernelspec": {
   "display_name": "Python 3",
   "language": "python",
   "name": "python3"
  },
  "language_info": {
   "codemirror_mode": {
    "name": "ipython",
    "version": 3
   },
   "file_extension": ".py",
   "mimetype": "text/x-python",
   "name": "python",
   "nbconvert_exporter": "python",
   "pygments_lexer": "ipython3",
   "version": "3.8.10"
  },
  "orig_nbformat": 4,
  "vscode": {
   "interpreter": {
    "hash": "916dbcbb3f70747c44a77c7bcd40155683ae19c65e1c03b4aa3499c5328201f1"
   }
  }
 },
 "nbformat": 4,
 "nbformat_minor": 2
}
