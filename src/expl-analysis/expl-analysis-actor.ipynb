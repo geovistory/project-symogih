{
 "cells": [
  {
   "attachments": {},
   "cell_type": "markdown",
   "metadata": {},
   "source": [
    "# Exploratory Analysis of table `actor`"
   ]
  },
  {
   "cell_type": "code",
   "execution_count": null,
   "metadata": {},
   "outputs": [],
   "source": [
    "# Python lib\n",
    "import os\n",
    "import pandas as pd\n",
    "import csv\n",
    "\n",
    "# External lib\n",
    "import plotly.express as px\n",
    "import plotly.io as pio\n",
    "pio.renderers.default = \"plotly_mimetype+notebook\"\n",
    "gv_color_seq = ['#322659','#44337A','#553C9A','#6B46C1','#805AD5','#9F7AEA','#B794F4','#D6BCFA','#E9D8FD','#FAF5FF','#E9D8FD','#D6BCFA','#B794F4','#9F7AEA','#805AD5','#6B46C1','#553C9A','#44337A','#322659']\n",
    "\n",
    "# Local lib\n",
    "import toolkit as tk\n",
    "\n",
    "# Connect to db\n",
    "tk.db_connect(os.environ.get('YELLOW_BHP'), verbose=False)\n",
    "\n",
    "# Fetch data\n",
    "actor = tk.db_execute('select * from bhp.actor')"
   ]
  },
  {
   "attachments": {},
   "cell_type": "markdown",
   "metadata": {},
   "source": [
    "## Filter unwanted columns"
   ]
  },
  {
   "attachments": {},
   "cell_type": "markdown",
   "metadata": {},
   "source": [
    "According to the wiki page, we can get rid of those columns:\n",
    "- `standard_text_property`\n",
    "- `count_text_property`\n",
    "- `concat_names`"
   ]
  },
  {
   "cell_type": "code",
   "execution_count": null,
   "metadata": {},
   "outputs": [],
   "source": [
    "actor.drop(columns=['standard_text_property', 'count_text_property', 'concat_names'], inplace=True)"
   ]
  },
  {
   "attachments": {},
   "cell_type": "markdown",
   "metadata": {},
   "source": [
    "## Table extract"
   ]
  },
  {
   "cell_type": "code",
   "execution_count": null,
   "metadata": {},
   "outputs": [],
   "source": [
    "actor.sample(5)"
   ]
  },
  {
   "attachments": {},
   "cell_type": "markdown",
   "metadata": {},
   "source": [
    "## Filter only wanted rows"
   ]
  },
  {
   "attachments": {},
   "cell_type": "markdown",
   "metadata": {},
   "source": [
    "Some of the rows has been identified to not be imported (see this [wiki page](https://github.com/geovistory/symogih/wiki/Liste-des-balises-des-entit%C3%A9s-%C3%A0-ne-pas-importer))."
   ]
  },
  {
   "cell_type": "code",
   "execution_count": null,
   "metadata": {},
   "outputs": [],
   "source": [
    "len_before = len(actor)\n",
    "print(f'Rows number before filter: {len_before}')\n",
    "\n",
    "actor = actor[~actor['concat_standard_name'].str.contains('\\[à identifier\\]')]\n",
    "actor = actor[~actor['concat_standard_name'].str.contains('\\[ne pas importer\\]')]\n",
    "actor = actor[~actor['concat_standard_name'].str.contains('DOUBLON')]\n",
    "actor = actor[~actor['concat_standard_name'].str.contains('Doublon')]\n",
    "actor = actor[~actor['concat_standard_name'].str.contains('réutiliser')]\n",
    "actor = actor[~actor['concat_standard_name'].str.contains('REUTILISER')]\n",
    "\n",
    "len_after = len(actor)\n",
    "\n",
    "print(f'Rows number after filter: {len_after} ({len_before - len_after} have been removed)')"
   ]
  },
  {
   "attachments": {},
   "cell_type": "markdown",
   "metadata": {},
   "source": [
    "## Filter by Actor type"
   ]
  },
  {
   "attachments": {},
   "cell_type": "markdown",
   "metadata": {},
   "source": [
    "For now we are interested only in persons. \n",
    "\n",
    "Persons can be found by having the column `fk_abob_type_actor` being 104."
   ]
  },
  {
   "cell_type": "code",
   "execution_count": null,
   "metadata": {},
   "outputs": [],
   "source": [
    "not104 = actor[actor['fk_abob_type_actor'] != 104]\n",
    "print(f'Number of not 104 actors: {len(not104)}\\n')\n",
    "\n",
    "display(not104)\n",
    "\n",
    "actor = actor[actor['fk_abob_type_actor'] == 104]\n",
    "\n",
    "actor.drop(columns=['fk_abob_type_actor'], inplace=True)"
   ]
  },
  {
   "attachments": {},
   "cell_type": "markdown",
   "metadata": {},
   "source": [
    "## Discovery"
   ]
  },
  {
   "cell_type": "code",
   "execution_count": null,
   "metadata": {},
   "outputs": [],
   "source": [
    "tk.discover(actor, uniq_ex_nb=2)"
   ]
  },
  {
   "attachments": {},
   "cell_type": "markdown",
   "metadata": {},
   "source": [
    "## Type parsing"
   ]
  },
  {
   "attachments": {},
   "cell_type": "markdown",
   "metadata": {},
   "source": [
    "According to the table before, we will parse each column by the most meaningful type."
   ]
  },
  {
   "cell_type": "code",
   "execution_count": null,
   "metadata": {},
   "outputs": [],
   "source": [
    "actor['certainty_end'].replace(' ', None, inplace=True)\n",
    "tk.set_types(actor, {\n",
    "               \"pk_actor\": 'int', \n",
    "      \"modification_time\": 'datetime',\n",
    "          \"creation_time\": 'datetime',\n",
    "   \"concat_standard_name\": 'string',\n",
    "            \"concat_actr\": 'string',\n",
    "                \"creator\": 'int',\n",
    "             \"gender_iso\": 'string',\n",
    "               \"modifier\": 'int',\n",
    "        \"certainty_begin\": 'int',\n",
    "          \"certainty_end\": 'int',\n",
    "             \"begin_year\": 'int',\n",
    "               \"end_year\": 'int',\n",
    "            \"notes_begin\": 'int',\n",
    "              \"notes_end\": 'int',\n",
    "                  \"notes\": 'string'\n",
    "})\n"
   ]
  },
  {
   "attachments": {},
   "cell_type": "markdown",
   "metadata": {},
   "source": [
    "## Columns analysis"
   ]
  },
  {
   "attachments": {},
   "cell_type": "markdown",
   "metadata": {},
   "source": [
    "Here we will report the analysis of interesting information found on different columns. They are not exhaustive.\n",
    "\n",
    "For some columns, we will update their value."
   ]
  },
  {
   "attachments": {},
   "cell_type": "markdown",
   "metadata": {},
   "source": [
    "### gender_iso"
   ]
  },
  {
   "attachments": {},
   "cell_type": "markdown",
   "metadata": {},
   "source": [
    "We observe some of the gender values being undefined. As the ISO mentions, it should be 0, 1, 2 or 9. So we replace the undefined gender by 0."
   ]
  },
  {
   "cell_type": "code",
   "execution_count": null,
   "metadata": {},
   "outputs": [],
   "source": [
    "actor['gender_iso'].replace(pd.NA, '0', inplace=True)\n",
    "\n",
    "tk.histogram(actor, 'gender_iso', title='Gender distribution', style='bar', colors=gv_color_seq)"
   ]
  },
  {
   "attachments": {},
   "cell_type": "markdown",
   "metadata": {},
   "source": [
    "### certainty_begin"
   ]
  },
  {
   "attachments": {},
   "cell_type": "markdown",
   "metadata": {},
   "source": [
    "We replace the not filled values by 0."
   ]
  },
  {
   "cell_type": "code",
   "execution_count": null,
   "metadata": {},
   "outputs": [],
   "source": [
    "actor['certainty_begin'].replace(pd.NA, 0, inplace=True)\n",
    "\n",
    "tk.histogram(actor, 'certainty_begin', title='Begin certainty distribution', style='pie', colors=gv_color_seq)"
   ]
  },
  {
   "attachments": {},
   "cell_type": "markdown",
   "metadata": {},
   "source": [
    "### begin_year"
   ]
  },
  {
   "cell_type": "code",
   "execution_count": null,
   "metadata": {},
   "outputs": [],
   "source": [
    "px.violin(actor, x='begin_year', color='gender_iso', height=600, title='Violin plot of the \"begin_year\" column, by gender')"
   ]
  },
  {
   "cell_type": "code",
   "execution_count": null,
   "metadata": {},
   "outputs": [],
   "source": [
    "px.violin(actor.sort_values(by='certainty_begin'), x='begin_year', color='certainty_begin', height=600, title='Violin plot of the \"begin_year\" column, by certainty')"
   ]
  },
  {
   "cell_type": "code",
   "execution_count": null,
   "metadata": {},
   "outputs": [],
   "source": [
    "px.violin(actor.sort_values(by='certainty_begin'), x='begin_year', y='gender_iso', color='certainty_begin', height=1000, title='Violin plot of the \"begin_year\" column, by certainty, for each gender')"
   ]
  },
  {
   "attachments": {},
   "cell_type": "markdown",
   "metadata": {},
   "source": [
    "### certainty_end"
   ]
  },
  {
   "attachments": {},
   "cell_type": "markdown",
   "metadata": {},
   "source": [
    "We replace the not filled values by 0."
   ]
  },
  {
   "cell_type": "code",
   "execution_count": null,
   "metadata": {},
   "outputs": [],
   "source": [
    "actor['certainty_end'].replace(pd.NA, 0, inplace=True)\n",
    "\n",
    "tk.histogram(actor, 'certainty_end', title='End certainty distribution', style='pie', colors=gv_color_seq)"
   ]
  },
  {
   "attachments": {},
   "cell_type": "markdown",
   "metadata": {},
   "source": [
    "### end_year"
   ]
  },
  {
   "cell_type": "code",
   "execution_count": null,
   "metadata": {},
   "outputs": [],
   "source": [
    "px.violin(actor, x='end_year', color='gender_iso', height=600, title='Violin plot of the \"end_year\" column, by gender')"
   ]
  },
  {
   "cell_type": "code",
   "execution_count": null,
   "metadata": {},
   "outputs": [],
   "source": [
    "px.violin(actor.sort_values(by='certainty_end'), x='end_year', color='certainty_end', height=600, title='Violin plot of the \"end_year\" column, by certainty')"
   ]
  },
  {
   "cell_type": "code",
   "execution_count": null,
   "metadata": {},
   "outputs": [],
   "source": [
    "px.violin(actor.sort_values(by='certainty_end'), x='end_year', y='gender_iso', color='certainty_end', height=1000, title='Violin plot of the \"end_year\" column, by certainty, for each gender')"
   ]
  },
  {
   "attachments": {},
   "cell_type": "markdown",
   "metadata": {},
   "source": [
    "### creation_time"
   ]
  },
  {
   "cell_type": "code",
   "execution_count": null,
   "metadata": {},
   "outputs": [],
   "source": [
    "px.violin(actor, x='creation_time', title='Violin plot of the \"creation_time\" column')"
   ]
  },
  {
   "cell_type": "markdown",
   "metadata": {},
   "source": [
    "### creator"
   ]
  },
  {
   "cell_type": "code",
   "execution_count": null,
   "metadata": {},
   "outputs": [],
   "source": [
    "tk.histogram(actor, 'creator', '10 firsts creators distribution', 10)"
   ]
  },
  {
   "attachments": {},
   "cell_type": "markdown",
   "metadata": {},
   "source": [
    "### notes"
   ]
  },
  {
   "attachments": {},
   "cell_type": "markdown",
   "metadata": {},
   "source": [
    "All HTML tags, non ASCII chars and new line are removed."
   ]
  },
  {
   "cell_type": "code",
   "execution_count": null,
   "metadata": {},
   "outputs": [],
   "source": [
    "actor.replace({r'[^\\x00-\\x7F]+':''}, regex=True, inplace=True)\n",
    "actor.replace({'\\r\\n':''}, regex=True, inplace=True)\n",
    "actor.replace({'<p>':''}, regex=True, inplace=True)\n",
    "actor.replace({'</p>':''}, regex=True, inplace=True)"
   ]
  },
  {
   "attachments": {},
   "cell_type": "markdown",
   "metadata": {},
   "source": [
    "---"
   ]
  },
  {
   "cell_type": "code",
   "execution_count": null,
   "metadata": {},
   "outputs": [],
   "source": [
    "actor.to_csv('../../data/actor.csv', index=False, sep=';', quoting=2)"
   ]
  }
 ],
 "metadata": {
  "kernelspec": {
   "display_name": "Python 3",
   "language": "python",
   "name": "python3"
  },
  "language_info": {
   "codemirror_mode": {
    "name": "ipython",
    "version": 3
   },
   "file_extension": ".py",
   "mimetype": "text/x-python",
   "name": "python",
   "nbconvert_exporter": "python",
   "pygments_lexer": "ipython3",
   "version": "3.8.10"
  },
  "orig_nbformat": 4,
  "vscode": {
   "interpreter": {
    "hash": "916dbcbb3f70747c44a77c7bcd40155683ae19c65e1c03b4aa3499c5328201f1"
   }
  }
 },
 "nbformat": 4,
 "nbformat_minor": 2
}
