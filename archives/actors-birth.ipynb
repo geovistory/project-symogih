{
 "cells": [
  {
   "cell_type": "code",
   "execution_count": 48,
   "metadata": {},
   "outputs": [
    {
     "name": "stdout",
     "output_type": "stream",
     "text": [
      "The autoreload extension is already loaded. To reload it, use:\n",
      "  %reload_ext autoreload\n",
      ">> Connecting to PRODUCTION Database ... Connected!\n"
     ]
    }
   ],
   "source": [
    "%load_ext autoreload\n",
    "%autoreload 2\n",
    "\n",
    "env = 'prod'\n",
    "pk_project = 6857901\n",
    "execute = True\n",
    "metadata_str = 'bhp-actors-births'\n",
    "import_manner = 'batch'\n",
    "\n",
    "import os\n",
    "import pandas as pd\n",
    "import numpy as np\n",
    "from datetime import datetime\n",
    "import duckdb\n",
    "import plotly.express as px\n",
    "\n",
    "import geovpylib.analysis as a\n",
    "import geovpylib.database as db\n",
    "import geovpylib.graphs as graphs\n",
    "import geovpylib.pks as pks\n",
    "import geovpylib.recordlinkage as rl\n",
    "import geovpylib.sparql as sparql\n",
    "import geovpylib.utils as u\n",
    "\n",
    "eta = u.Eta()\n",
    "\n",
    "db.connect_geovistory(env, pk_project, execute)\n",
    "db.set_metadata({'import-id': datetime.today().strftime('%Y%m%d') + '-' + metadata_str})\n",
    "db.set_insert_manner(import_manner)"
   ]
  },
  {
   "cell_type": "code",
   "execution_count": 49,
   "metadata": {},
   "outputs": [
    {
     "data": {
      "text/plain": [
       "{'import-id': '20230531-bhp-actors-births'}"
      ]
     },
     "execution_count": 49,
     "metadata": {},
     "output_type": "execute_result"
    }
   ],
   "source": [
    "db.globals.metadata"
   ]
  },
  {
   "attachments": {},
   "cell_type": "markdown",
   "metadata": {},
   "source": [
    "# Import BHP actors' birth into Geovistory"
   ]
  },
  {
   "attachments": {},
   "cell_type": "markdown",
   "metadata": {},
   "source": [
    "## Fetch data"
   ]
  },
  {
   "attachments": {},
   "cell_type": "markdown",
   "metadata": {},
   "source": [
    "### Junction table: pk BHP <=> pk Geovistory"
   ]
  },
  {
   "cell_type": "code",
   "execution_count": 2,
   "metadata": {},
   "outputs": [
    {
     "name": "stdout",
     "output_type": "stream",
     "text": [
      "Shape:  (59526, 2) - extract:\n"
     ]
    },
    {
     "data": {
      "text/html": [
       "<div>\n",
       "<style scoped>\n",
       "    .dataframe tbody tr th:only-of-type {\n",
       "        vertical-align: middle;\n",
       "    }\n",
       "\n",
       "    .dataframe tbody tr th {\n",
       "        vertical-align: top;\n",
       "    }\n",
       "\n",
       "    .dataframe thead th {\n",
       "        text-align: right;\n",
       "    }\n",
       "</style>\n",
       "<table border=\"1\" class=\"dataframe\">\n",
       "  <thead>\n",
       "    <tr style=\"text-align: right;\">\n",
       "      <th></th>\n",
       "      <th>pk_bhp</th>\n",
       "      <th>pk_gv</th>\n",
       "    </tr>\n",
       "  </thead>\n",
       "  <tbody>\n",
       "    <tr>\n",
       "      <th>0</th>\n",
       "      <td>1</td>\n",
       "      <td>6532778</td>\n",
       "    </tr>\n",
       "    <tr>\n",
       "      <th>1</th>\n",
       "      <td>2</td>\n",
       "      <td>6499432</td>\n",
       "    </tr>\n",
       "    <tr>\n",
       "      <th>2</th>\n",
       "      <td>3</td>\n",
       "      <td>783602</td>\n",
       "    </tr>\n",
       "    <tr>\n",
       "      <th>3</th>\n",
       "      <td>4</td>\n",
       "      <td>6509333</td>\n",
       "    </tr>\n",
       "    <tr>\n",
       "      <th>4</th>\n",
       "      <td>5</td>\n",
       "      <td>6511070</td>\n",
       "    </tr>\n",
       "  </tbody>\n",
       "</table>\n",
       "</div>"
      ],
      "text/plain": [
       "   pk_bhp    pk_gv\n",
       "0       1  6532778\n",
       "1       2  6499432\n",
       "2       3   783602\n",
       "3       4  6509333\n",
       "4       5  6511070"
      ]
     },
     "metadata": {},
     "output_type": "display_data"
    }
   ],
   "source": [
    "persons = db.query(f\"\"\"\n",
    "    select distinct\n",
    "        r.pk_entity as pk_gv,\n",
    "        a3.string as uri\n",
    "    from information.resource r\n",
    "    inner join projects.info_proj_rel ipr on ipr.fk_entity = r.pk_entity and ipr.fk_project = {pk_project} and ipr.is_in_project = true\n",
    "    -- URI\n",
    "    inner join information.statement s1 on s1.fk_subject_info = r.pk_entity and s1.fk_property = {pks.properties.entity_sameAsURI_URI}\n",
    "    inner join projects.info_proj_rel ipr1 on ipr1.fk_entity = s1.pk_entity and ipr1.fk_project = {pk_project} and ipr1.is_in_project = true\n",
    "    inner join information.statement s2 on s2.fk_subject_info = s1.fk_object_info and s2.fk_property = {pks.properties.appe_hasValue_string}\n",
    "    inner join projects.info_proj_rel ipr2 on ipr2.fk_entity = s2.pk_entity and ipr2.fk_project = {pk_project} and ipr2.is_in_project = true\n",
    "    inner join information.appellation a3 on a3.pk_entity = s2.fk_object_info\n",
    "    inner join projects.info_proj_rel ipr3 on ipr3.fk_entity = a3.pk_entity and ipr3.fk_project = {pk_project} and ipr3.is_in_project = true\n",
    "    where r.fk_class = {pks.classes.person}\n",
    "\"\"\")\n",
    "\n",
    "persons = persons[persons.uri.str.contains('symogih.org')]\n",
    "persons['pk_bhp'] = persons.uri.str.replace('http://symogih.org/resource/Actr', '', regex=False).astype(int)\n",
    "persons.drop(columns=['uri'], inplace=True)\n",
    "persons.sort_values('pk_bhp', inplace=True)\n",
    "persons.drop_duplicates(inplace=True)\n",
    "persons.reset_index(inplace=True, drop=True)\n",
    "persons = persons[['pk_bhp', 'pk_gv']]\n",
    "\n",
    "a.infos(persons)\n",
    "\n",
    "# 2s"
   ]
  },
  {
   "attachments": {},
   "cell_type": "markdown",
   "metadata": {},
   "source": [
    "### Add infos from BHP - Full births"
   ]
  },
  {
   "cell_type": "code",
   "execution_count": 3,
   "metadata": {},
   "outputs": [
    {
     "name": "stdout",
     "output_type": "stream",
     "text": [
      ">> Connecting to PGSQL Database ... Connected!\n",
      "Shape:  (18446, 3) - extract:\n"
     ]
    },
    {
     "data": {
      "text/html": [
       "<div>\n",
       "<style scoped>\n",
       "    .dataframe tbody tr th:only-of-type {\n",
       "        vertical-align: middle;\n",
       "    }\n",
       "\n",
       "    .dataframe tbody tr th {\n",
       "        vertical-align: top;\n",
       "    }\n",
       "\n",
       "    .dataframe thead th {\n",
       "        text-align: right;\n",
       "    }\n",
       "</style>\n",
       "<table border=\"1\" class=\"dataframe\">\n",
       "  <thead>\n",
       "    <tr style=\"text-align: right;\">\n",
       "      <th></th>\n",
       "      <th>pk_bhp</th>\n",
       "      <th>date_bhp</th>\n",
       "      <th>uri_birth</th>\n",
       "    </tr>\n",
       "  </thead>\n",
       "  <tbody>\n",
       "    <tr>\n",
       "      <th>0</th>\n",
       "      <td>59480</td>\n",
       "      <td>(1884, 8, 27)</td>\n",
       "      <td>http://symogih.org/resource/Info530</td>\n",
       "    </tr>\n",
       "    <tr>\n",
       "      <th>1</th>\n",
       "      <td>46711</td>\n",
       "      <td>(1881, 10, 4)</td>\n",
       "      <td>http://symogih.org/resource/Info531</td>\n",
       "    </tr>\n",
       "    <tr>\n",
       "      <th>2</th>\n",
       "      <td>21382</td>\n",
       "      <td>(1787, 7, 4)</td>\n",
       "      <td>http://symogih.org/resource/Info1125</td>\n",
       "    </tr>\n",
       "    <tr>\n",
       "      <th>3</th>\n",
       "      <td>579</td>\n",
       "      <td>(1650, &lt;NA&gt;, &lt;NA&gt;)</td>\n",
       "      <td>http://symogih.org/resource/Info1162</td>\n",
       "    </tr>\n",
       "    <tr>\n",
       "      <th>4</th>\n",
       "      <td>630</td>\n",
       "      <td>(1619, 10, 12)</td>\n",
       "      <td>http://symogih.org/resource/Info1328</td>\n",
       "    </tr>\n",
       "  </tbody>\n",
       "</table>\n",
       "</div>"
      ],
      "text/plain": [
       "   pk_bhp            date_bhp                             uri_birth\n",
       "0   59480       (1884, 8, 27)   http://symogih.org/resource/Info530\n",
       "1   46711       (1881, 10, 4)   http://symogih.org/resource/Info531\n",
       "2   21382        (1787, 7, 4)  http://symogih.org/resource/Info1125\n",
       "3     579  (1650, <NA>, <NA>)  http://symogih.org/resource/Info1162\n",
       "4     630      (1619, 10, 12)  http://symogih.org/resource/Info1328"
      ]
     },
     "metadata": {},
     "output_type": "display_data"
    }
   ],
   "source": [
    "db.connect_external(os.environ.get('YELLOW_BHP'))\n",
    "\n",
    "actor_list = persons.pk_bhp.tolist()\n",
    "actor_list = [('Actr' + str(pk)) for pk in actor_list]\n",
    "\n",
    "real_birth_bhp = db.query(f\"\"\"\n",
    "    select \n",
    "        ir.fk_associated_object as pk_bhp,\n",
    "        ir.fk_information as fk_info,\n",
    "        id.year, id.month, id.day,\n",
    "        id.fk_abob_type_information_date\n",
    "    from bhp.information_role ir\n",
    "    inner join bhp.information_date id on ir.fk_information = id.fk_information\n",
    "    where ir.fk_type_role = 40\n",
    "\"\"\")\n",
    "real_birth_bhp = real_birth_bhp[pd.notna(real_birth_bhp['pk_bhp'])]                          \n",
    "real_birth_bhp = real_birth_bhp[real_birth_bhp['pk_bhp'].str.contains('Actr')]\n",
    "real_birth_bhp['pk_bhp'] = real_birth_bhp['pk_bhp'].str.replace('Actr', '', regex=False)\n",
    "real_birth_bhp['pk_bhp'] = real_birth_bhp['pk_bhp'].astype(pd.Int64Dtype())\n",
    "real_birth_bhp['year'] = real_birth_bhp['year'].astype(pd.Int64Dtype())\n",
    "real_birth_bhp['month'] = real_birth_bhp['month'].astype(pd.Int64Dtype())\n",
    "real_birth_bhp['day'] = real_birth_bhp['day'].astype(pd.Int64Dtype())\n",
    "real_birth_bhp['date_bhp'] = [(row.year, row.month, row.day) for i, row in real_birth_bhp.iterrows()]\n",
    "real_birth_bhp['uri_birth'] = ['http://symogih.org/resource/Info' + str(fk_info) for fk_info in real_birth_bhp['fk_info']]\n",
    "\n",
    "# For now we only import unique data ie: id.fk_abob_type_information_date == 246\n",
    "real_birth_bhp = real_birth_bhp[real_birth_bhp['fk_abob_type_information_date'] == 246]\n",
    "\n",
    "real_birth_bhp.drop(columns=['year', 'month', 'day', 'fk_info', 'fk_abob_type_information_date'], inplace=True)\n",
    "\n",
    "a.infos(real_birth_bhp)\n",
    "\n",
    "# 2s"
   ]
  },
  {
   "cell_type": "code",
   "execution_count": 4,
   "metadata": {},
   "outputs": [
    {
     "name": "stdout",
     "output_type": "stream",
     "text": [
      "Shape:  (59587, 4) - extract:\n"
     ]
    },
    {
     "data": {
      "text/html": [
       "<div>\n",
       "<style scoped>\n",
       "    .dataframe tbody tr th:only-of-type {\n",
       "        vertical-align: middle;\n",
       "    }\n",
       "\n",
       "    .dataframe tbody tr th {\n",
       "        vertical-align: top;\n",
       "    }\n",
       "\n",
       "    .dataframe thead th {\n",
       "        text-align: right;\n",
       "    }\n",
       "</style>\n",
       "<table border=\"1\" class=\"dataframe\">\n",
       "  <thead>\n",
       "    <tr style=\"text-align: right;\">\n",
       "      <th></th>\n",
       "      <th>pk_bhp</th>\n",
       "      <th>pk_gv</th>\n",
       "      <th>date_bhp</th>\n",
       "      <th>uri_birth</th>\n",
       "    </tr>\n",
       "  </thead>\n",
       "  <tbody>\n",
       "    <tr>\n",
       "      <th>6812</th>\n",
       "      <td>7050</td>\n",
       "      <td>6525468</td>\n",
       "      <td>NaN</td>\n",
       "      <td>NaN</td>\n",
       "    </tr>\n",
       "    <tr>\n",
       "      <th>20295</th>\n",
       "      <td>20850</td>\n",
       "      <td>6508002</td>\n",
       "      <td>(1793, 10, 1)</td>\n",
       "      <td>http://symogih.org/resource/Info18312</td>\n",
       "    </tr>\n",
       "    <tr>\n",
       "      <th>57052</th>\n",
       "      <td>61106</td>\n",
       "      <td>6537215</td>\n",
       "      <td>NaN</td>\n",
       "      <td>NaN</td>\n",
       "    </tr>\n",
       "    <tr>\n",
       "      <th>23512</th>\n",
       "      <td>24191</td>\n",
       "      <td>6505441</td>\n",
       "      <td>(1714, 10, 16)</td>\n",
       "      <td>http://symogih.org/resource/Info19642</td>\n",
       "    </tr>\n",
       "    <tr>\n",
       "      <th>59088</th>\n",
       "      <td>63153</td>\n",
       "      <td>6541101</td>\n",
       "      <td>(1688, 12, &lt;NA&gt;)</td>\n",
       "      <td>http://symogih.org/resource/Info164097</td>\n",
       "    </tr>\n",
       "  </tbody>\n",
       "</table>\n",
       "</div>"
      ],
      "text/plain": [
       "       pk_bhp    pk_gv          date_bhp  \\\n",
       "6812     7050  6525468               NaN   \n",
       "20295   20850  6508002     (1793, 10, 1)   \n",
       "57052   61106  6537215               NaN   \n",
       "23512   24191  6505441    (1714, 10, 16)   \n",
       "59088   63153  6541101  (1688, 12, <NA>)   \n",
       "\n",
       "                                    uri_birth  \n",
       "6812                                      NaN  \n",
       "20295   http://symogih.org/resource/Info18312  \n",
       "57052                                     NaN  \n",
       "23512   http://symogih.org/resource/Info19642  \n",
       "59088  http://symogih.org/resource/Info164097  "
      ]
     },
     "metadata": {},
     "output_type": "display_data"
    }
   ],
   "source": [
    "# Merge to main table\n",
    "persons = persons.merge(real_birth_bhp, on='pk_bhp', how='left')\n",
    "\n",
    "a.infos(persons, random=True)"
   ]
  },
  {
   "attachments": {},
   "cell_type": "markdown",
   "metadata": {},
   "source": [
    "### Add infos from BHP - Small birth"
   ]
  },
  {
   "cell_type": "code",
   "execution_count": 5,
   "metadata": {},
   "outputs": [],
   "source": [
    "actors = u.read_df('../../data/bhp/actor.csv')\n",
    "actors = actors[['pk_actor', 'begin_year']]\n",
    "actors.rename(inplace=True, columns={'pk_actor':'pk_bhp'})\n",
    "actors['begin_year'] = [(year, pd.NA, pd.NA) for year in actors.begin_year]"
   ]
  },
  {
   "cell_type": "code",
   "execution_count": 6,
   "metadata": {},
   "outputs": [
    {
     "name": "stdout",
     "output_type": "stream",
     "text": [
      "Shape:  (59587, 4) - extract:\n"
     ]
    },
    {
     "data": {
      "text/html": [
       "<div>\n",
       "<style scoped>\n",
       "    .dataframe tbody tr th:only-of-type {\n",
       "        vertical-align: middle;\n",
       "    }\n",
       "\n",
       "    .dataframe tbody tr th {\n",
       "        vertical-align: top;\n",
       "    }\n",
       "\n",
       "    .dataframe thead th {\n",
       "        text-align: right;\n",
       "    }\n",
       "</style>\n",
       "<table border=\"1\" class=\"dataframe\">\n",
       "  <thead>\n",
       "    <tr style=\"text-align: right;\">\n",
       "      <th></th>\n",
       "      <th>pk_bhp</th>\n",
       "      <th>pk_gv</th>\n",
       "      <th>date_bhp</th>\n",
       "      <th>uri_birth</th>\n",
       "    </tr>\n",
       "  </thead>\n",
       "  <tbody>\n",
       "    <tr>\n",
       "      <th>0</th>\n",
       "      <td>1</td>\n",
       "      <td>6532778</td>\n",
       "      <td>(1599, &lt;NA&gt;, &lt;NA&gt;)</td>\n",
       "      <td>http://symogih.org/resource/Info8034</td>\n",
       "    </tr>\n",
       "    <tr>\n",
       "      <th>1</th>\n",
       "      <td>2</td>\n",
       "      <td>6499432</td>\n",
       "      <td>(1600, &lt;NA&gt;, &lt;NA&gt;)</td>\n",
       "      <td>NaN</td>\n",
       "    </tr>\n",
       "    <tr>\n",
       "      <th>2</th>\n",
       "      <td>3</td>\n",
       "      <td>783602</td>\n",
       "      <td>(1581, &lt;NA&gt;, &lt;NA&gt;)</td>\n",
       "      <td>NaN</td>\n",
       "    </tr>\n",
       "    <tr>\n",
       "      <th>3</th>\n",
       "      <td>4</td>\n",
       "      <td>6509333</td>\n",
       "      <td>(1600, &lt;NA&gt;, &lt;NA&gt;)</td>\n",
       "      <td>NaN</td>\n",
       "    </tr>\n",
       "    <tr>\n",
       "      <th>4</th>\n",
       "      <td>5</td>\n",
       "      <td>6511070</td>\n",
       "      <td>(1681, &lt;NA&gt;, &lt;NA&gt;)</td>\n",
       "      <td>http://symogih.org/resource/Info32594</td>\n",
       "    </tr>\n",
       "  </tbody>\n",
       "</table>\n",
       "</div>"
      ],
      "text/plain": [
       "   pk_bhp    pk_gv            date_bhp                              uri_birth\n",
       "0       1  6532778  (1599, <NA>, <NA>)   http://symogih.org/resource/Info8034\n",
       "1       2  6499432  (1600, <NA>, <NA>)                                    NaN\n",
       "2       3   783602  (1581, <NA>, <NA>)                                    NaN\n",
       "3       4  6509333  (1600, <NA>, <NA>)                                    NaN\n",
       "4       5  6511070  (1681, <NA>, <NA>)  http://symogih.org/resource/Info32594"
      ]
     },
     "metadata": {},
     "output_type": "display_data"
    }
   ],
   "source": [
    "# Merge to main table\n",
    "persons = persons.merge(actors, on='pk_bhp', how='left')\n",
    "persons['date_bhp'] = [row['date_bhp'] if pd.notna(row['date_bhp']) else row.begin_year for i, row in persons.iterrows()]\n",
    "persons.drop(columns=['begin_year'], inplace=True)\n",
    "\n",
    "a.infos(persons)\n",
    "\n",
    "# 2s"
   ]
  },
  {
   "attachments": {},
   "cell_type": "markdown",
   "metadata": {},
   "source": [
    "### Add existing birth from geovistory"
   ]
  },
  {
   "cell_type": "code",
   "execution_count": 7,
   "metadata": {},
   "outputs": [
    {
     "name": "stdout",
     "output_type": "stream",
     "text": [
      "Requests will not be executed\n",
      ">> Connecting to PRODUCTION Database ... Connected!\n",
      "Shape:  (1171, 3) - extract:\n"
     ]
    },
    {
     "data": {
      "text/html": [
       "<div>\n",
       "<style scoped>\n",
       "    .dataframe tbody tr th:only-of-type {\n",
       "        vertical-align: middle;\n",
       "    }\n",
       "\n",
       "    .dataframe tbody tr th {\n",
       "        vertical-align: top;\n",
       "    }\n",
       "\n",
       "    .dataframe thead th {\n",
       "        text-align: right;\n",
       "    }\n",
       "</style>\n",
       "<table border=\"1\" class=\"dataframe\">\n",
       "  <thead>\n",
       "    <tr style=\"text-align: right;\">\n",
       "      <th></th>\n",
       "      <th>pk_person</th>\n",
       "      <th>pk_stmt_person_to_birth</th>\n",
       "      <th>pk_birth</th>\n",
       "    </tr>\n",
       "  </thead>\n",
       "  <tbody>\n",
       "    <tr>\n",
       "      <th>0</th>\n",
       "      <td>786108</td>\n",
       "      <td>813029</td>\n",
       "      <td>809279</td>\n",
       "    </tr>\n",
       "    <tr>\n",
       "      <th>1</th>\n",
       "      <td>784475</td>\n",
       "      <td>811396</td>\n",
       "      <td>807646</td>\n",
       "    </tr>\n",
       "    <tr>\n",
       "      <th>2</th>\n",
       "      <td>149826</td>\n",
       "      <td>149839</td>\n",
       "      <td>149838</td>\n",
       "    </tr>\n",
       "    <tr>\n",
       "      <th>3</th>\n",
       "      <td>786873</td>\n",
       "      <td>813794</td>\n",
       "      <td>810044</td>\n",
       "    </tr>\n",
       "    <tr>\n",
       "      <th>4</th>\n",
       "      <td>26811</td>\n",
       "      <td>72101</td>\n",
       "      <td>69101</td>\n",
       "    </tr>\n",
       "  </tbody>\n",
       "</table>\n",
       "</div>"
      ],
      "text/plain": [
       "   pk_person  pk_stmt_person_to_birth  pk_birth\n",
       "0     786108                   813029    809279\n",
       "1     784475                   811396    807646\n",
       "2     149826                   149839    149838\n",
       "3     786873                   813794    810044\n",
       "4      26811                    72101     69101"
      ]
     },
     "metadata": {},
     "output_type": "display_data"
    }
   ],
   "source": [
    "values = '(' + ','.join([str(pk) for pk in persons.pk_gv.tolist()]) + ')'\n",
    "\n",
    "db.connect_geovistory(env, pk_project, False, skip_protection=True)\n",
    "gv_births = db.query(f\"\"\"\n",
    "    select distinct\n",
    "        s1.fk_object_info as pk_person,\n",
    "        s1.pk_entity as pk_stmt_person_to_birth,\n",
    "        s1.fk_subject_info as pk_birth\n",
    "    from information.statement s1\n",
    "    inner join projects.info_proj_rel ipr1 on ipr1.fk_entity = s1.pk_entity and ipr1.is_in_project = true\n",
    "    left join information.statement s2 on s2.fk_subject_info = s1.fk_subject_info and s2.fk_property = {pks.properties.timeSpan_atSomeTimeWithin_timePrimitive}\n",
    "    where s1.fk_object_info in {values}\n",
    "      and s1.fk_property = {pks.properties.birth_broughtIntoLife_person}\n",
    "\"\"\")\n",
    "\n",
    "a.infos(gv_births)\n",
    "\n",
    "# 2s"
   ]
  },
  {
   "cell_type": "code",
   "execution_count": 8,
   "metadata": {},
   "outputs": [
    {
     "data": {
      "text/html": [
       "<div>\n",
       "<style scoped>\n",
       "    .dataframe tbody tr th:only-of-type {\n",
       "        vertical-align: middle;\n",
       "    }\n",
       "\n",
       "    .dataframe tbody tr th {\n",
       "        vertical-align: top;\n",
       "    }\n",
       "\n",
       "    .dataframe thead th {\n",
       "        text-align: right;\n",
       "    }\n",
       "</style>\n",
       "<table border=\"1\" class=\"dataframe\">\n",
       "  <thead>\n",
       "    <tr style=\"text-align: right;\">\n",
       "      <th></th>\n",
       "      <th>pk_bhp</th>\n",
       "      <th>pk_gv</th>\n",
       "      <th>date_bhp</th>\n",
       "      <th>uri_birth</th>\n",
       "      <th>pk_stmt_person_to_birth</th>\n",
       "      <th>pk_birth</th>\n",
       "    </tr>\n",
       "  </thead>\n",
       "  <tbody>\n",
       "    <tr>\n",
       "      <th>0</th>\n",
       "      <td>1</td>\n",
       "      <td>6532778</td>\n",
       "      <td>(1599, &lt;NA&gt;, &lt;NA&gt;)</td>\n",
       "      <td>http://symogih.org/resource/Info8034</td>\n",
       "      <td>&lt;NA&gt;</td>\n",
       "      <td>&lt;NA&gt;</td>\n",
       "    </tr>\n",
       "    <tr>\n",
       "      <th>1</th>\n",
       "      <td>2</td>\n",
       "      <td>6499432</td>\n",
       "      <td>(1600, &lt;NA&gt;, &lt;NA&gt;)</td>\n",
       "      <td>&lt;NA&gt;</td>\n",
       "      <td>&lt;NA&gt;</td>\n",
       "      <td>&lt;NA&gt;</td>\n",
       "    </tr>\n",
       "    <tr>\n",
       "      <th>2</th>\n",
       "      <td>3</td>\n",
       "      <td>783602</td>\n",
       "      <td>(1581, &lt;NA&gt;, &lt;NA&gt;)</td>\n",
       "      <td>&lt;NA&gt;</td>\n",
       "      <td>810523</td>\n",
       "      <td>806773</td>\n",
       "    </tr>\n",
       "    <tr>\n",
       "      <th>3</th>\n",
       "      <td>4</td>\n",
       "      <td>6509333</td>\n",
       "      <td>(1600, &lt;NA&gt;, &lt;NA&gt;)</td>\n",
       "      <td>&lt;NA&gt;</td>\n",
       "      <td>&lt;NA&gt;</td>\n",
       "      <td>&lt;NA&gt;</td>\n",
       "    </tr>\n",
       "    <tr>\n",
       "      <th>4</th>\n",
       "      <td>5</td>\n",
       "      <td>6511070</td>\n",
       "      <td>(1681, &lt;NA&gt;, &lt;NA&gt;)</td>\n",
       "      <td>http://symogih.org/resource/Info32594</td>\n",
       "      <td>&lt;NA&gt;</td>\n",
       "      <td>&lt;NA&gt;</td>\n",
       "    </tr>\n",
       "    <tr>\n",
       "      <th>...</th>\n",
       "      <td>...</td>\n",
       "      <td>...</td>\n",
       "      <td>...</td>\n",
       "      <td>...</td>\n",
       "      <td>...</td>\n",
       "      <td>...</td>\n",
       "    </tr>\n",
       "    <tr>\n",
       "      <th>59582</th>\n",
       "      <td>63646</td>\n",
       "      <td>6544154</td>\n",
       "      <td>(1709, &lt;NA&gt;, &lt;NA&gt;)</td>\n",
       "      <td>http://symogih.org/resource/Info166193</td>\n",
       "      <td>&lt;NA&gt;</td>\n",
       "      <td>&lt;NA&gt;</td>\n",
       "    </tr>\n",
       "    <tr>\n",
       "      <th>59583</th>\n",
       "      <td>63647</td>\n",
       "      <td>6543685</td>\n",
       "      <td>(1711, 5, &lt;NA&gt;)</td>\n",
       "      <td>http://symogih.org/resource/Info166197</td>\n",
       "      <td>&lt;NA&gt;</td>\n",
       "      <td>&lt;NA&gt;</td>\n",
       "    </tr>\n",
       "    <tr>\n",
       "      <th>59584</th>\n",
       "      <td>63648</td>\n",
       "      <td>6543708</td>\n",
       "      <td>(1728, &lt;NA&gt;, &lt;NA&gt;)</td>\n",
       "      <td>http://symogih.org/resource/Info166201</td>\n",
       "      <td>&lt;NA&gt;</td>\n",
       "      <td>&lt;NA&gt;</td>\n",
       "    </tr>\n",
       "    <tr>\n",
       "      <th>59585</th>\n",
       "      <td>63649</td>\n",
       "      <td>6544155</td>\n",
       "      <td>(1726, &lt;NA&gt;, &lt;NA&gt;)</td>\n",
       "      <td>http://symogih.org/resource/Info166205</td>\n",
       "      <td>&lt;NA&gt;</td>\n",
       "      <td>&lt;NA&gt;</td>\n",
       "    </tr>\n",
       "    <tr>\n",
       "      <th>59586</th>\n",
       "      <td>63650</td>\n",
       "      <td>6544156</td>\n",
       "      <td>(1790, &lt;NA&gt;, &lt;NA&gt;)</td>\n",
       "      <td>&lt;NA&gt;</td>\n",
       "      <td>&lt;NA&gt;</td>\n",
       "      <td>&lt;NA&gt;</td>\n",
       "    </tr>\n",
       "  </tbody>\n",
       "</table>\n",
       "<p>59587 rows × 6 columns</p>\n",
       "</div>"
      ],
      "text/plain": [
       "       pk_bhp    pk_gv            date_bhp  \\\n",
       "0           1  6532778  (1599, <NA>, <NA>)   \n",
       "1           2  6499432  (1600, <NA>, <NA>)   \n",
       "2           3   783602  (1581, <NA>, <NA>)   \n",
       "3           4  6509333  (1600, <NA>, <NA>)   \n",
       "4           5  6511070  (1681, <NA>, <NA>)   \n",
       "...       ...      ...                 ...   \n",
       "59582   63646  6544154  (1709, <NA>, <NA>)   \n",
       "59583   63647  6543685     (1711, 5, <NA>)   \n",
       "59584   63648  6543708  (1728, <NA>, <NA>)   \n",
       "59585   63649  6544155  (1726, <NA>, <NA>)   \n",
       "59586   63650  6544156  (1790, <NA>, <NA>)   \n",
       "\n",
       "                                    uri_birth  pk_stmt_person_to_birth  \\\n",
       "0        http://symogih.org/resource/Info8034                     <NA>   \n",
       "1                                        <NA>                     <NA>   \n",
       "2                                        <NA>                   810523   \n",
       "3                                        <NA>                     <NA>   \n",
       "4       http://symogih.org/resource/Info32594                     <NA>   \n",
       "...                                       ...                      ...   \n",
       "59582  http://symogih.org/resource/Info166193                     <NA>   \n",
       "59583  http://symogih.org/resource/Info166197                     <NA>   \n",
       "59584  http://symogih.org/resource/Info166201                     <NA>   \n",
       "59585  http://symogih.org/resource/Info166205                     <NA>   \n",
       "59586                                    <NA>                     <NA>   \n",
       "\n",
       "       pk_birth  \n",
       "0          <NA>  \n",
       "1          <NA>  \n",
       "2        806773  \n",
       "3          <NA>  \n",
       "4          <NA>  \n",
       "...         ...  \n",
       "59582      <NA>  \n",
       "59583      <NA>  \n",
       "59584      <NA>  \n",
       "59585      <NA>  \n",
       "59586      <NA>  \n",
       "\n",
       "[59587 rows x 6 columns]"
      ]
     },
     "execution_count": 8,
     "metadata": {},
     "output_type": "execute_result"
    }
   ],
   "source": [
    "persons = persons.merge(gv_births, left_on='pk_gv', right_on='pk_person', how='left').drop(columns=['pk_person'])\n",
    "persons['uri_birth'] = persons['uri_birth'].astype(pd.StringDtype())\n",
    "persons['pk_stmt_person_to_birth'] = persons['pk_stmt_person_to_birth'].astype(pd.Int64Dtype())\n",
    "persons['pk_birth'] = persons['pk_birth'].astype(pd.Int64Dtype())\n",
    "\n",
    "persons"
   ]
  },
  {
   "attachments": {},
   "cell_type": "markdown",
   "metadata": {},
   "source": [
    "## Import data"
   ]
  },
  {
   "cell_type": "code",
   "execution_count": 9,
   "metadata": {},
   "outputs": [
    {
     "name": "stdout",
     "output_type": "stream",
     "text": [
      ">> Connecting to PRODUCTION Database ... Connected!\n"
     ]
    }
   ],
   "source": [
    "db.connect_geovistory(env, pk_project, execute)"
   ]
  },
  {
   "attachments": {},
   "cell_type": "markdown",
   "metadata": {},
   "source": [
    "### Birth - Add existing to project"
   ]
  },
  {
   "cell_type": "code",
   "execution_count": 10,
   "metadata": {},
   "outputs": [
    {
     "name": "stdout",
     "output_type": "stream",
     "text": [
      "Creating info_proj_rel of 2352 entities with project <6857901> ... Done in [00h00'02]\n"
     ]
    }
   ],
   "source": [
    "to_add = []\n",
    "to_add += persons[pd.notna(persons['pk_stmt_person_to_birth'])]['pk_stmt_person_to_birth'].tolist()\n",
    "to_add += persons[pd.notna(persons['pk_birth'])]['pk_birth'].tolist()\n",
    "db.info_proj_rels.create(to_add)"
   ]
  },
  {
   "attachments": {},
   "cell_type": "markdown",
   "metadata": {},
   "source": [
    "### Birth - Create new"
   ]
  },
  {
   "cell_type": "code",
   "execution_count": 11,
   "metadata": {},
   "outputs": [
    {
     "name": "stdout",
     "output_type": "stream",
     "text": [
      "Batch creation of 58411 entities  is done - Elapsed: [00h32'58]                   \n"
     ]
    }
   ],
   "source": [
    "selection = persons[pd.isna(persons['pk_birth'])][['pk_gv']].copy()\n",
    "selection['pk_birth_new'] = db.resources.create(pks.classes.birth, len(selection))"
   ]
  },
  {
   "cell_type": "code",
   "execution_count": 12,
   "metadata": {},
   "outputs": [
    {
     "name": "stdout",
     "output_type": "stream",
     "text": [
      "Shape:  (59709, 6) - extract:\n"
     ]
    },
    {
     "data": {
      "text/html": [
       "<div>\n",
       "<style scoped>\n",
       "    .dataframe tbody tr th:only-of-type {\n",
       "        vertical-align: middle;\n",
       "    }\n",
       "\n",
       "    .dataframe tbody tr th {\n",
       "        vertical-align: top;\n",
       "    }\n",
       "\n",
       "    .dataframe thead th {\n",
       "        text-align: right;\n",
       "    }\n",
       "</style>\n",
       "<table border=\"1\" class=\"dataframe\">\n",
       "  <thead>\n",
       "    <tr style=\"text-align: right;\">\n",
       "      <th></th>\n",
       "      <th>pk_bhp</th>\n",
       "      <th>pk_gv</th>\n",
       "      <th>date_bhp</th>\n",
       "      <th>uri_birth</th>\n",
       "      <th>pk_stmt_person_to_birth</th>\n",
       "      <th>pk_birth</th>\n",
       "    </tr>\n",
       "  </thead>\n",
       "  <tbody>\n",
       "    <tr>\n",
       "      <th>0</th>\n",
       "      <td>1</td>\n",
       "      <td>6532778</td>\n",
       "      <td>(1599, &lt;NA&gt;, &lt;NA&gt;)</td>\n",
       "      <td>http://symogih.org/resource/Info8034</td>\n",
       "      <td>&lt;NA&gt;</td>\n",
       "      <td>7489054</td>\n",
       "    </tr>\n",
       "    <tr>\n",
       "      <th>1</th>\n",
       "      <td>2</td>\n",
       "      <td>6499432</td>\n",
       "      <td>(1600, &lt;NA&gt;, &lt;NA&gt;)</td>\n",
       "      <td>&lt;NA&gt;</td>\n",
       "      <td>&lt;NA&gt;</td>\n",
       "      <td>7489055</td>\n",
       "    </tr>\n",
       "    <tr>\n",
       "      <th>2</th>\n",
       "      <td>3</td>\n",
       "      <td>783602</td>\n",
       "      <td>(1581, &lt;NA&gt;, &lt;NA&gt;)</td>\n",
       "      <td>&lt;NA&gt;</td>\n",
       "      <td>810523</td>\n",
       "      <td>806773</td>\n",
       "    </tr>\n",
       "    <tr>\n",
       "      <th>3</th>\n",
       "      <td>4</td>\n",
       "      <td>6509333</td>\n",
       "      <td>(1600, &lt;NA&gt;, &lt;NA&gt;)</td>\n",
       "      <td>&lt;NA&gt;</td>\n",
       "      <td>&lt;NA&gt;</td>\n",
       "      <td>7489056</td>\n",
       "    </tr>\n",
       "    <tr>\n",
       "      <th>4</th>\n",
       "      <td>5</td>\n",
       "      <td>6511070</td>\n",
       "      <td>(1681, &lt;NA&gt;, &lt;NA&gt;)</td>\n",
       "      <td>http://symogih.org/resource/Info32594</td>\n",
       "      <td>&lt;NA&gt;</td>\n",
       "      <td>7489057</td>\n",
       "    </tr>\n",
       "  </tbody>\n",
       "</table>\n",
       "</div>"
      ],
      "text/plain": [
       "   pk_bhp    pk_gv            date_bhp                              uri_birth  \\\n",
       "0       1  6532778  (1599, <NA>, <NA>)   http://symogih.org/resource/Info8034   \n",
       "1       2  6499432  (1600, <NA>, <NA>)                                   <NA>   \n",
       "2       3   783602  (1581, <NA>, <NA>)                                   <NA>   \n",
       "3       4  6509333  (1600, <NA>, <NA>)                                   <NA>   \n",
       "4       5  6511070  (1681, <NA>, <NA>)  http://symogih.org/resource/Info32594   \n",
       "\n",
       "   pk_stmt_person_to_birth  pk_birth  \n",
       "0                     <NA>   7489054  \n",
       "1                     <NA>   7489055  \n",
       "2                   810523    806773  \n",
       "3                     <NA>   7489056  \n",
       "4                     <NA>   7489057  "
      ]
     },
     "metadata": {},
     "output_type": "display_data"
    }
   ],
   "source": [
    "persons = persons.merge(selection, on='pk_gv', how='left')\n",
    "persons['pk_birth'] = [row['pk_birth'] if pd.notna(row.pk_birth) else row['pk_birth_new'] for _, row in persons.iterrows()]\n",
    "persons['pk_birth'] = persons['pk_birth'].astype(pd.Int64Dtype())\n",
    "persons.drop(columns=['pk_birth_new'], inplace=True)\n",
    "\n",
    "a.infos(persons)"
   ]
  },
  {
   "attachments": {},
   "cell_type": "markdown",
   "metadata": {},
   "source": [
    "### Birth - Add URI"
   ]
  },
  {
   "cell_type": "code",
   "execution_count": 22,
   "metadata": {},
   "outputs": [
    {
     "name": "stdout",
     "output_type": "stream",
     "text": [
      "Batch creation of 18565 entities  is done - Elapsed: [00h20'50]                   \n",
      "Batch creation of 18565 appellations  is done - Elapsed: [00h20'09]                   \n",
      "Batch creation of 18565 statements  is done - Elapsed: [00h20'28]                   \n",
      "Batch creation of 18565 statements  is done - Elapsed: [00h20'27]                   \n"
     ]
    }
   ],
   "source": [
    "selection = persons[pd.notna(persons['uri_birth'])]\n",
    "graphs.add_uris(selection['pk_birth'].tolist(), selection['uri_birth'].tolist())"
   ]
  },
  {
   "attachments": {},
   "cell_type": "markdown",
   "metadata": {},
   "source": [
    "### Birth - Add date"
   ]
  },
  {
   "cell_type": "code",
   "execution_count": 46,
   "metadata": {},
   "outputs": [
    {
     "name": "stdout",
     "output_type": "stream",
     "text": [
      "Batch creation of 37127 time_primitives  is done - Elapsed: [00h26'34]                   \n",
      "Batch creation of 37127 statements  - Elapsed: [00h20'59] - ETA [08h18'30] -   4.04%\r"
     ]
    },
    {
     "ename": "KeyboardInterrupt",
     "evalue": "",
     "output_type": "error",
     "traceback": [
      "\u001b[0;31m---------------------------------------------------------------------------\u001b[0m",
      "\u001b[0;31mKeyboardInterrupt\u001b[0m                         Traceback (most recent call last)",
      "\u001b[0;32m<ipython-input-46-2c5ecb1024a7>\u001b[0m in \u001b[0;36m<module>\u001b[0;34m\u001b[0m\n\u001b[1;32m     15\u001b[0m \u001b[0;34m\u001b[0m\u001b[0m\n\u001b[1;32m     16\u001b[0m \u001b[0;31m# Birth has time primitive\u001b[0m\u001b[0;34m\u001b[0m\u001b[0;34m\u001b[0m\u001b[0;34m\u001b[0m\u001b[0m\n\u001b[0;32m---> 17\u001b[0;31m db.statements.create(\n\u001b[0m\u001b[1;32m     18\u001b[0m     \u001b[0mselection\u001b[0m\u001b[0;34m[\u001b[0m\u001b[0;34m'pk_birth'\u001b[0m\u001b[0;34m]\u001b[0m\u001b[0;34m,\u001b[0m\u001b[0;34m\u001b[0m\u001b[0;34m\u001b[0m\u001b[0m\n\u001b[1;32m     19\u001b[0m     \u001b[0mpks\u001b[0m\u001b[0;34m.\u001b[0m\u001b[0mproperties\u001b[0m\u001b[0;34m.\u001b[0m\u001b[0mtimeSpan_atSomeTimeWithin_timePrimitive\u001b[0m\u001b[0;34m,\u001b[0m\u001b[0;34m\u001b[0m\u001b[0;34m\u001b[0m\u001b[0m\n",
      "\u001b[0;32m~/Desktop/geovpylib/database/statements.py\u001b[0m in \u001b[0;36mcreate\u001b[0;34m(fk_subjects, fk_properties, fk_objects, subject_type, object_type, return_pks, metadata)\u001b[0m\n\u001b[1;32m     14\u001b[0m \u001b[0;32mdef\u001b[0m \u001b[0mcreate\u001b[0m\u001b[0;34m(\u001b[0m\u001b[0mfk_subjects\u001b[0m\u001b[0;34m,\u001b[0m \u001b[0mfk_properties\u001b[0m\u001b[0;34m,\u001b[0m \u001b[0mfk_objects\u001b[0m\u001b[0;34m,\u001b[0m \u001b[0msubject_type\u001b[0m\u001b[0;34m=\u001b[0m\u001b[0;34m'info'\u001b[0m\u001b[0;34m,\u001b[0m \u001b[0mobject_type\u001b[0m\u001b[0;34m=\u001b[0m\u001b[0;34m'info'\u001b[0m\u001b[0;34m,\u001b[0m \u001b[0mreturn_pks\u001b[0m\u001b[0;34m=\u001b[0m\u001b[0;32mFalse\u001b[0m\u001b[0;34m,\u001b[0m \u001b[0mmetadata\u001b[0m\u001b[0;34m=\u001b[0m\u001b[0;34m{\u001b[0m\u001b[0;34m}\u001b[0m\u001b[0;34m)\u001b[0m\u001b[0;34m:\u001b[0m\u001b[0;34m\u001b[0m\u001b[0;34m\u001b[0m\u001b[0m\n\u001b[1;32m     15\u001b[0m     \u001b[0;32mif\u001b[0m \u001b[0mglobals\u001b[0m\u001b[0;34m.\u001b[0m\u001b[0minsert_manner\u001b[0m \u001b[0;34m==\u001b[0m \u001b[0;34m'one-shot'\u001b[0m\u001b[0;34m:\u001b[0m \u001b[0;32mreturn\u001b[0m \u001b[0m__create_oneshot\u001b[0m\u001b[0;34m(\u001b[0m\u001b[0mfk_subjects\u001b[0m\u001b[0;34m,\u001b[0m \u001b[0mfk_properties\u001b[0m\u001b[0;34m,\u001b[0m \u001b[0mfk_objects\u001b[0m\u001b[0;34m,\u001b[0m \u001b[0msubject_type\u001b[0m\u001b[0;34m,\u001b[0m \u001b[0mobject_type\u001b[0m\u001b[0;34m,\u001b[0m \u001b[0mreturn_pks\u001b[0m\u001b[0;34m,\u001b[0m \u001b[0mmetadata\u001b[0m\u001b[0;34m)\u001b[0m\u001b[0;34m\u001b[0m\u001b[0;34m\u001b[0m\u001b[0m\n\u001b[0;32m---> 16\u001b[0;31m     \u001b[0;32mif\u001b[0m \u001b[0mglobals\u001b[0m\u001b[0;34m.\u001b[0m\u001b[0minsert_manner\u001b[0m \u001b[0;34m==\u001b[0m \u001b[0;34m'batch'\u001b[0m\u001b[0;34m:\u001b[0m \u001b[0;32mreturn\u001b[0m \u001b[0m__create_batch\u001b[0m\u001b[0;34m(\u001b[0m\u001b[0mfk_subjects\u001b[0m\u001b[0;34m,\u001b[0m \u001b[0mfk_properties\u001b[0m\u001b[0;34m,\u001b[0m \u001b[0mfk_objects\u001b[0m\u001b[0;34m,\u001b[0m \u001b[0msubject_type\u001b[0m\u001b[0;34m,\u001b[0m \u001b[0mobject_type\u001b[0m\u001b[0;34m,\u001b[0m \u001b[0mreturn_pks\u001b[0m\u001b[0;34m,\u001b[0m \u001b[0mmetadata\u001b[0m\u001b[0;34m)\u001b[0m\u001b[0;34m\u001b[0m\u001b[0;34m\u001b[0m\u001b[0m\n\u001b[0m\u001b[1;32m     17\u001b[0m \u001b[0;34m\u001b[0m\u001b[0m\n\u001b[1;32m     18\u001b[0m \u001b[0;34m\u001b[0m\u001b[0m\n",
      "\u001b[0;32m~/Desktop/geovpylib/database/statements.py\u001b[0m in \u001b[0;36m__create_batch\u001b[0;34m(fk_subjects, fk_properties, fk_objects, subject_type, object_type, return_pks, metadata)\u001b[0m\n\u001b[1;32m    134\u001b[0m         \u001b[0mselection_objects\u001b[0m \u001b[0;34m=\u001b[0m \u001b[0mfk_objects\u001b[0m\u001b[0;34m[\u001b[0m\u001b[0mcursor\u001b[0m\u001b[0;34m:\u001b[0m\u001b[0mcursor\u001b[0m \u001b[0;34m+\u001b[0m \u001b[0mglobals\u001b[0m\u001b[0;34m.\u001b[0m\u001b[0mbatch_size\u001b[0m\u001b[0;34m]\u001b[0m \u001b[0;32mif\u001b[0m \u001b[0misinstance\u001b[0m\u001b[0;34m(\u001b[0m\u001b[0mfk_objects\u001b[0m\u001b[0;34m,\u001b[0m \u001b[0mlist\u001b[0m\u001b[0;34m)\u001b[0m \u001b[0;32melse\u001b[0m \u001b[0mfk_objects\u001b[0m\u001b[0;34m\u001b[0m\u001b[0;34m\u001b[0m\u001b[0m\n\u001b[1;32m    135\u001b[0m \u001b[0;34m\u001b[0m\u001b[0m\n\u001b[0;32m--> 136\u001b[0;31m         \u001b[0mpks\u001b[0m \u001b[0;34m+=\u001b[0m \u001b[0m__create_oneshot\u001b[0m\u001b[0;34m(\u001b[0m\u001b[0mselection_subjects\u001b[0m\u001b[0;34m,\u001b[0m \u001b[0mselection_properties\u001b[0m\u001b[0;34m,\u001b[0m \u001b[0mselection_objects\u001b[0m\u001b[0;34m,\u001b[0m \u001b[0msubject_type\u001b[0m\u001b[0;34m,\u001b[0m \u001b[0mobject_type\u001b[0m\u001b[0;34m,\u001b[0m \u001b[0mreturn_pks\u001b[0m\u001b[0;34m=\u001b[0m\u001b[0;32mTrue\u001b[0m\u001b[0;34m,\u001b[0m \u001b[0mmetadata\u001b[0m\u001b[0;34m=\u001b[0m\u001b[0mmetadata\u001b[0m\u001b[0;34m,\u001b[0m \u001b[0mverbose\u001b[0m\u001b[0;34m=\u001b[0m\u001b[0;32mFalse\u001b[0m\u001b[0;34m)\u001b[0m\u001b[0;34m\u001b[0m\u001b[0;34m\u001b[0m\u001b[0m\n\u001b[0m\u001b[1;32m    137\u001b[0m \u001b[0;34m\u001b[0m\u001b[0m\n\u001b[1;32m    138\u001b[0m         \u001b[0mtime\u001b[0m\u001b[0;34m.\u001b[0m\u001b[0msleep\u001b[0m\u001b[0;34m(\u001b[0m\u001b[0mglobals\u001b[0m\u001b[0;34m.\u001b[0m\u001b[0mbatch_time\u001b[0m\u001b[0;34m)\u001b[0m\u001b[0;34m\u001b[0m\u001b[0;34m\u001b[0m\u001b[0m\n",
      "\u001b[0;32m~/Desktop/geovpylib/database/statements.py\u001b[0m in \u001b[0;36m__create_oneshot\u001b[0;34m(fk_subjects, fk_properties, fk_objects, subject_type, object_type, return_pks, metadata, verbose)\u001b[0m\n\u001b[1;32m    102\u001b[0m             \u001b[0mwhere\u001b[0m \u001b[0mpk_entity\u001b[0m \u001b[0;32min\u001b[0m \u001b[0;34m{\u001b[0m\u001b[0mpk_entities_str\u001b[0m\u001b[0;34m}\u001b[0m\u001b[0;34m;\u001b[0m\u001b[0;34m\u001b[0m\u001b[0;34m\u001b[0m\u001b[0m\n\u001b[1;32m    103\u001b[0m         \"\"\"\n\u001b[0;32m--> 104\u001b[0;31m         \u001b[0mt\u001b[0m\u001b[0;34m.\u001b[0m\u001b[0mexecute\u001b[0m\u001b[0;34m(\u001b[0m\u001b[0msql\u001b[0m\u001b[0;34m)\u001b[0m\u001b[0;34m\u001b[0m\u001b[0;34m\u001b[0m\u001b[0m\n\u001b[0m\u001b[1;32m    105\u001b[0m \u001b[0;34m\u001b[0m\u001b[0m\n\u001b[1;32m    106\u001b[0m     \u001b[0;32melse\u001b[0m\u001b[0;34m:\u001b[0m\u001b[0;34m\u001b[0m\u001b[0;34m\u001b[0m\u001b[0m\n",
      "\u001b[0;32m~/Desktop/geovpylib/database/tools.py\u001b[0m in \u001b[0;36mexecute\u001b[0;34m(sql, format_df)\u001b[0m\n\u001b[1;32m     10\u001b[0m         \u001b[0;32mreturn\u001b[0m \u001b[0mpd\u001b[0m\u001b[0;34m.\u001b[0m\u001b[0mread_sql_query\u001b[0m\u001b[0;34m(\u001b[0m\u001b[0msql\u001b[0m\u001b[0;34m,\u001b[0m \u001b[0mglobals\u001b[0m\u001b[0;34m.\u001b[0m\u001b[0mdb_engine\u001b[0m\u001b[0;34m)\u001b[0m\u001b[0;34m\u001b[0m\u001b[0;34m\u001b[0m\u001b[0m\n\u001b[1;32m     11\u001b[0m     \u001b[0;32melse\u001b[0m\u001b[0;34m:\u001b[0m\u001b[0;34m\u001b[0m\u001b[0;34m\u001b[0m\u001b[0m\n\u001b[0;32m---> 12\u001b[0;31m         \u001b[0;32mreturn\u001b[0m \u001b[0mglobals\u001b[0m\u001b[0;34m.\u001b[0m\u001b[0mdb_connection\u001b[0m\u001b[0;34m.\u001b[0m\u001b[0mexecute\u001b[0m\u001b[0;34m(\u001b[0m\u001b[0msql\u001b[0m \u001b[0;34m+\u001b[0m \u001b[0;34m'\\ncommit;'\u001b[0m\u001b[0;34m)\u001b[0m\u001b[0;34m\u001b[0m\u001b[0;34m\u001b[0m\u001b[0m\n\u001b[0m\u001b[1;32m     13\u001b[0m \u001b[0;34m\u001b[0m\u001b[0m\n\u001b[1;32m     14\u001b[0m \u001b[0;34m\u001b[0m\u001b[0m\n",
      "\u001b[0;32m~/.local/lib/python3.8/site-packages/sqlalchemy/engine/base.py\u001b[0m in \u001b[0;36mexecute\u001b[0;34m(self, statement, *multiparams, **params)\u001b[0m\n\u001b[1;32m   1289\u001b[0m             )\n\u001b[1;32m   1290\u001b[0m \u001b[0;34m\u001b[0m\u001b[0m\n\u001b[0;32m-> 1291\u001b[0;31m             return self._exec_driver_sql(\n\u001b[0m\u001b[1;32m   1292\u001b[0m                 \u001b[0mstatement\u001b[0m\u001b[0;34m,\u001b[0m\u001b[0;34m\u001b[0m\u001b[0;34m\u001b[0m\u001b[0m\n\u001b[1;32m   1293\u001b[0m                 \u001b[0mmultiparams\u001b[0m\u001b[0;34m,\u001b[0m\u001b[0;34m\u001b[0m\u001b[0;34m\u001b[0m\u001b[0m\n",
      "\u001b[0;32m~/.local/lib/python3.8/site-packages/sqlalchemy/engine/base.py\u001b[0m in \u001b[0;36m_exec_driver_sql\u001b[0;34m(self, statement, multiparams, params, execution_options, future)\u001b[0m\n\u001b[1;32m   1593\u001b[0m \u001b[0;34m\u001b[0m\u001b[0m\n\u001b[1;32m   1594\u001b[0m         \u001b[0mdialect\u001b[0m \u001b[0;34m=\u001b[0m \u001b[0mself\u001b[0m\u001b[0;34m.\u001b[0m\u001b[0mdialect\u001b[0m\u001b[0;34m\u001b[0m\u001b[0;34m\u001b[0m\u001b[0m\n\u001b[0;32m-> 1595\u001b[0;31m         ret = self._execute_context(\n\u001b[0m\u001b[1;32m   1596\u001b[0m             \u001b[0mdialect\u001b[0m\u001b[0;34m,\u001b[0m\u001b[0;34m\u001b[0m\u001b[0;34m\u001b[0m\u001b[0m\n\u001b[1;32m   1597\u001b[0m             \u001b[0mdialect\u001b[0m\u001b[0;34m.\u001b[0m\u001b[0mexecution_ctx_cls\u001b[0m\u001b[0;34m.\u001b[0m\u001b[0m_init_statement\u001b[0m\u001b[0;34m,\u001b[0m\u001b[0;34m\u001b[0m\u001b[0;34m\u001b[0m\u001b[0m\n",
      "\u001b[0;32m~/.local/lib/python3.8/site-packages/sqlalchemy/engine/base.py\u001b[0m in \u001b[0;36m_execute_context\u001b[0;34m(self, dialect, constructor, statement, parameters, execution_options, *args, **kw)\u001b[0m\n\u001b[1;32m   1860\u001b[0m \u001b[0;34m\u001b[0m\u001b[0m\n\u001b[1;32m   1861\u001b[0m         \u001b[0;32mexcept\u001b[0m \u001b[0mBaseException\u001b[0m \u001b[0;32mas\u001b[0m \u001b[0me\u001b[0m\u001b[0;34m:\u001b[0m\u001b[0;34m\u001b[0m\u001b[0;34m\u001b[0m\u001b[0m\n\u001b[0;32m-> 1862\u001b[0;31m             self._handle_dbapi_exception(\n\u001b[0m\u001b[1;32m   1863\u001b[0m                 \u001b[0me\u001b[0m\u001b[0;34m,\u001b[0m \u001b[0mstatement\u001b[0m\u001b[0;34m,\u001b[0m \u001b[0mparameters\u001b[0m\u001b[0;34m,\u001b[0m \u001b[0mcursor\u001b[0m\u001b[0;34m,\u001b[0m \u001b[0mcontext\u001b[0m\u001b[0;34m\u001b[0m\u001b[0;34m\u001b[0m\u001b[0m\n\u001b[1;32m   1864\u001b[0m             )\n",
      "\u001b[0;32m~/.local/lib/python3.8/site-packages/sqlalchemy/engine/base.py\u001b[0m in \u001b[0;36m_handle_dbapi_exception\u001b[0;34m(self, e, statement, parameters, cursor, context)\u001b[0m\n\u001b[1;32m   2045\u001b[0m                 )\n\u001b[1;32m   2046\u001b[0m             \u001b[0;32melse\u001b[0m\u001b[0;34m:\u001b[0m\u001b[0;34m\u001b[0m\u001b[0;34m\u001b[0m\u001b[0m\n\u001b[0;32m-> 2047\u001b[0;31m                 \u001b[0mutil\u001b[0m\u001b[0;34m.\u001b[0m\u001b[0mraise_\u001b[0m\u001b[0;34m(\u001b[0m\u001b[0mexc_info\u001b[0m\u001b[0;34m[\u001b[0m\u001b[0;36m1\u001b[0m\u001b[0;34m]\u001b[0m\u001b[0;34m,\u001b[0m \u001b[0mwith_traceback\u001b[0m\u001b[0;34m=\u001b[0m\u001b[0mexc_info\u001b[0m\u001b[0;34m[\u001b[0m\u001b[0;36m2\u001b[0m\u001b[0;34m]\u001b[0m\u001b[0;34m)\u001b[0m\u001b[0;34m\u001b[0m\u001b[0;34m\u001b[0m\u001b[0m\n\u001b[0m\u001b[1;32m   2048\u001b[0m \u001b[0;34m\u001b[0m\u001b[0m\n\u001b[1;32m   2049\u001b[0m         \u001b[0;32mfinally\u001b[0m\u001b[0;34m:\u001b[0m\u001b[0;34m\u001b[0m\u001b[0;34m\u001b[0m\u001b[0m\n",
      "\u001b[0;32m~/.local/lib/python3.8/site-packages/sqlalchemy/util/compat.py\u001b[0m in \u001b[0;36mraise_\u001b[0;34m(***failed resolving arguments***)\u001b[0m\n\u001b[1;32m    206\u001b[0m \u001b[0;34m\u001b[0m\u001b[0m\n\u001b[1;32m    207\u001b[0m         \u001b[0;32mtry\u001b[0m\u001b[0;34m:\u001b[0m\u001b[0;34m\u001b[0m\u001b[0;34m\u001b[0m\u001b[0m\n\u001b[0;32m--> 208\u001b[0;31m             \u001b[0;32mraise\u001b[0m \u001b[0mexception\u001b[0m\u001b[0;34m\u001b[0m\u001b[0;34m\u001b[0m\u001b[0m\n\u001b[0m\u001b[1;32m    209\u001b[0m         \u001b[0;32mfinally\u001b[0m\u001b[0;34m:\u001b[0m\u001b[0;34m\u001b[0m\u001b[0;34m\u001b[0m\u001b[0m\n\u001b[1;32m    210\u001b[0m             \u001b[0;31m# credit to\u001b[0m\u001b[0;34m\u001b[0m\u001b[0;34m\u001b[0m\u001b[0;34m\u001b[0m\u001b[0m\n",
      "\u001b[0;32m~/.local/lib/python3.8/site-packages/sqlalchemy/engine/base.py\u001b[0m in \u001b[0;36m_execute_context\u001b[0;34m(self, dialect, constructor, statement, parameters, execution_options, *args, **kw)\u001b[0m\n\u001b[1;32m   1817\u001b[0m                             \u001b[0;32mbreak\u001b[0m\u001b[0;34m\u001b[0m\u001b[0;34m\u001b[0m\u001b[0m\n\u001b[1;32m   1818\u001b[0m                 \u001b[0;32mif\u001b[0m \u001b[0;32mnot\u001b[0m \u001b[0mevt_handled\u001b[0m\u001b[0;34m:\u001b[0m\u001b[0;34m\u001b[0m\u001b[0;34m\u001b[0m\u001b[0m\n\u001b[0;32m-> 1819\u001b[0;31m                     self.dialect.do_execute(\n\u001b[0m\u001b[1;32m   1820\u001b[0m                         \u001b[0mcursor\u001b[0m\u001b[0;34m,\u001b[0m \u001b[0mstatement\u001b[0m\u001b[0;34m,\u001b[0m \u001b[0mparameters\u001b[0m\u001b[0;34m,\u001b[0m \u001b[0mcontext\u001b[0m\u001b[0;34m\u001b[0m\u001b[0;34m\u001b[0m\u001b[0m\n\u001b[1;32m   1821\u001b[0m                     )\n",
      "\u001b[0;32m~/.local/lib/python3.8/site-packages/sqlalchemy/engine/default.py\u001b[0m in \u001b[0;36mdo_execute\u001b[0;34m(self, cursor, statement, parameters, context)\u001b[0m\n\u001b[1;32m    730\u001b[0m \u001b[0;34m\u001b[0m\u001b[0m\n\u001b[1;32m    731\u001b[0m     \u001b[0;32mdef\u001b[0m \u001b[0mdo_execute\u001b[0m\u001b[0;34m(\u001b[0m\u001b[0mself\u001b[0m\u001b[0;34m,\u001b[0m \u001b[0mcursor\u001b[0m\u001b[0;34m,\u001b[0m \u001b[0mstatement\u001b[0m\u001b[0;34m,\u001b[0m \u001b[0mparameters\u001b[0m\u001b[0;34m,\u001b[0m \u001b[0mcontext\u001b[0m\u001b[0;34m=\u001b[0m\u001b[0;32mNone\u001b[0m\u001b[0;34m)\u001b[0m\u001b[0;34m:\u001b[0m\u001b[0;34m\u001b[0m\u001b[0;34m\u001b[0m\u001b[0m\n\u001b[0;32m--> 732\u001b[0;31m         \u001b[0mcursor\u001b[0m\u001b[0;34m.\u001b[0m\u001b[0mexecute\u001b[0m\u001b[0;34m(\u001b[0m\u001b[0mstatement\u001b[0m\u001b[0;34m,\u001b[0m \u001b[0mparameters\u001b[0m\u001b[0;34m)\u001b[0m\u001b[0;34m\u001b[0m\u001b[0;34m\u001b[0m\u001b[0m\n\u001b[0m\u001b[1;32m    733\u001b[0m \u001b[0;34m\u001b[0m\u001b[0m\n\u001b[1;32m    734\u001b[0m     \u001b[0;32mdef\u001b[0m \u001b[0mdo_execute_no_params\u001b[0m\u001b[0;34m(\u001b[0m\u001b[0mself\u001b[0m\u001b[0;34m,\u001b[0m \u001b[0mcursor\u001b[0m\u001b[0;34m,\u001b[0m \u001b[0mstatement\u001b[0m\u001b[0;34m,\u001b[0m \u001b[0mcontext\u001b[0m\u001b[0;34m=\u001b[0m\u001b[0;32mNone\u001b[0m\u001b[0;34m)\u001b[0m\u001b[0;34m:\u001b[0m\u001b[0;34m\u001b[0m\u001b[0;34m\u001b[0m\u001b[0m\n",
      "\u001b[0;32m/usr/lib/python3.8/encodings/utf_8.py\u001b[0m in \u001b[0;36mdecode\u001b[0;34m(input, errors)\u001b[0m\n\u001b[1;32m     13\u001b[0m \u001b[0mencode\u001b[0m \u001b[0;34m=\u001b[0m \u001b[0mcodecs\u001b[0m\u001b[0;34m.\u001b[0m\u001b[0mutf_8_encode\u001b[0m\u001b[0;34m\u001b[0m\u001b[0;34m\u001b[0m\u001b[0m\n\u001b[1;32m     14\u001b[0m \u001b[0;34m\u001b[0m\u001b[0m\n\u001b[0;32m---> 15\u001b[0;31m \u001b[0;32mdef\u001b[0m \u001b[0mdecode\u001b[0m\u001b[0;34m(\u001b[0m\u001b[0minput\u001b[0m\u001b[0;34m,\u001b[0m \u001b[0merrors\u001b[0m\u001b[0;34m=\u001b[0m\u001b[0;34m'strict'\u001b[0m\u001b[0;34m)\u001b[0m\u001b[0;34m:\u001b[0m\u001b[0;34m\u001b[0m\u001b[0;34m\u001b[0m\u001b[0m\n\u001b[0m\u001b[1;32m     16\u001b[0m     \u001b[0;32mreturn\u001b[0m \u001b[0mcodecs\u001b[0m\u001b[0;34m.\u001b[0m\u001b[0mutf_8_decode\u001b[0m\u001b[0;34m(\u001b[0m\u001b[0minput\u001b[0m\u001b[0;34m,\u001b[0m \u001b[0merrors\u001b[0m\u001b[0;34m,\u001b[0m \u001b[0;32mTrue\u001b[0m\u001b[0;34m)\u001b[0m\u001b[0;34m\u001b[0m\u001b[0;34m\u001b[0m\u001b[0m\n\u001b[1;32m     17\u001b[0m \u001b[0;34m\u001b[0m\u001b[0m\n",
      "\u001b[0;31mKeyboardInterrupt\u001b[0m: "
     ]
    }
   ],
   "source": [
    "def get_duration(date):\n",
    "    if pd.notna(date[0]) and pd.isna(date[1]) and pd.isna(date[2]): return '1 year'\n",
    "    if pd.notna(date[0]) and pd.notna(date[1]) and pd.isna(date[2]): return '1 month'\n",
    "    if pd.notna(date[0]) and pd.notna(date[1]) and pd.notna(date[2]): return '1 day'\n",
    "    return pd.NA\n",
    "\n",
    "\n",
    "# Compute durations\n",
    "selection = persons[['pk_birth', 'date_bhp']].copy()\n",
    "selection['duration'] = [get_duration(d) for d in selection['date_bhp']]\n",
    "selection.dropna(inplace=True)\n",
    "\n",
    "# Create Time primitive\n",
    "selection['pk_time_primitives'] = db.time_primitives.create(selection['date_bhp'].tolist(), selection['duration'].tolist())\n",
    "\n",
    "# Birth has time primitive\n",
    "db.statements.create(\n",
    "    selection['pk_birth'], \n",
    "    pks.properties.timeSpan_atSomeTimeWithin_timePrimitive, \n",
    "    selection['pk_time_primitives']\n",
    ")"
   ]
  },
  {
   "attachments": {},
   "cell_type": "markdown",
   "metadata": {},
   "source": [
    "### Birth - Link birth to persons"
   ]
  },
  {
   "cell_type": "code",
   "execution_count": 50,
   "metadata": {},
   "outputs": [
    {
     "name": "stdout",
     "output_type": "stream",
     "text": [
      "Batch creation of 58533 statements  is done - Elapsed: [00h32'58]                   \n"
     ]
    }
   ],
   "source": [
    "selection = persons[['pk_gv', 'pk_birth', 'pk_stmt_person_to_birth']]\n",
    "selection = selection[pd.isna(selection['pk_stmt_person_to_birth'])].drop(columns=['pk_stmt_person_to_birth'])\n",
    "\n",
    "db.statements.create(\n",
    "    selection['pk_birth'].tolist(), \n",
    "    pks.properties.birth_broughtIntoLife_person, \n",
    "    selection['pk_gv'].tolist()\n",
    ")"
   ]
  }
 ],
 "metadata": {
  "kernelspec": {
   "display_name": "Python 3",
   "language": "python",
   "name": "python3"
  },
  "language_info": {
   "codemirror_mode": {
    "name": "ipython",
    "version": 3
   },
   "file_extension": ".py",
   "mimetype": "text/x-python",
   "name": "python",
   "nbconvert_exporter": "python",
   "pygments_lexer": "ipython3",
   "version": "3.8.10"
  },
  "orig_nbformat": 4
 },
 "nbformat": 4,
 "nbformat_minor": 2
}
