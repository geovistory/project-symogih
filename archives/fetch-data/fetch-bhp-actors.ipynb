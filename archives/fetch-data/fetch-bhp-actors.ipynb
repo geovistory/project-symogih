{
 "cells": [
  {
   "cell_type": "code",
   "execution_count": 1,
   "metadata": {},
   "outputs": [],
   "source": [
    "actor_path = '../../data/bhp/actor.csv'"
   ]
  },
  {
   "cell_type": "code",
   "execution_count": 2,
   "metadata": {},
   "outputs": [
    {
     "name": "stdout",
     "output_type": "stream",
     "text": [
      ">> Connecting to PGSQL Database ... Connected!\n"
     ]
    }
   ],
   "source": [
    "import os\n",
    "import pandas as pd\n",
    "\n",
    "import geovpylib.utils as u\n",
    "import geovpylib.analysis as a\n",
    "import geovpylib.database as db\n",
    "\n",
    "db.connect_external(os.environ.get('YELLOW_BHP'))\n",
    "eta = u.Eta()"
   ]
  },
  {
   "attachments": {},
   "cell_type": "markdown",
   "metadata": {},
   "source": [
    "## Fetch full table"
   ]
  },
  {
   "cell_type": "code",
   "execution_count": 3,
   "metadata": {},
   "outputs": [],
   "source": [
    "actor = db.query('select * from bhp.actor')"
   ]
  },
  {
   "attachments": {},
   "cell_type": "markdown",
   "metadata": {},
   "source": [
    "## Filter unwanted columns"
   ]
  },
  {
   "attachments": {},
   "cell_type": "markdown",
   "metadata": {},
   "source": [
    "According to the wiki page, we can get rid of those columns:\n",
    "- `standard_text_property`\n",
    "- `count_text_property`\n",
    "- `concat_names`"
   ]
  },
  {
   "cell_type": "code",
   "execution_count": 4,
   "metadata": {},
   "outputs": [],
   "source": [
    "actor.drop(columns=['standard_text_property', 'count_text_property', 'concat_names'], inplace=True)"
   ]
  },
  {
   "attachments": {},
   "cell_type": "markdown",
   "metadata": {},
   "source": [
    "## Filter only wanted rows"
   ]
  },
  {
   "attachments": {},
   "cell_type": "markdown",
   "metadata": {},
   "source": [
    "Some of the rows has been identified to not be imported (see this [wiki page](https://github.com/geovistory/symogih/wiki/Liste-des-balises-des-entit%C3%A9s-%C3%A0-ne-pas-importer))."
   ]
  },
  {
   "cell_type": "code",
   "execution_count": 5,
   "metadata": {},
   "outputs": [
    {
     "name": "stdout",
     "output_type": "stream",
     "text": [
      "Rows number before filter: 61556\n",
      "Rows number after filter: 59526 (2030 have been removed)\n"
     ]
    }
   ],
   "source": [
    "len_before = len(actor)\n",
    "print(f'Rows number before filter: {len_before}')\n",
    "\n",
    "actor = actor[~actor['concat_standard_name'].str.contains('\\[à identifier\\]')]\n",
    "actor = actor[~actor['concat_standard_name'].str.contains('\\[ne pas importer\\]')]\n",
    "actor = actor[~actor['concat_standard_name'].str.contains('DOUBLON')]\n",
    "actor = actor[~actor['concat_standard_name'].str.contains('Doublon')]\n",
    "actor = actor[~actor['concat_standard_name'].str.contains('réutiliser')]\n",
    "actor = actor[~actor['concat_standard_name'].str.contains('REUTILISER')]\n",
    "\n",
    "len_after = len(actor)\n",
    "\n",
    "print(f'Rows number after filter: {len_after} ({len_before - len_after} have been removed)')"
   ]
  },
  {
   "attachments": {},
   "cell_type": "markdown",
   "metadata": {},
   "source": [
    "## Filter by Actor type"
   ]
  },
  {
   "attachments": {},
   "cell_type": "markdown",
   "metadata": {},
   "source": [
    "For now we are interested only in persons. \n",
    "\n",
    "Persons can be found by having the column `fk_abob_type_actor` being 104."
   ]
  },
  {
   "cell_type": "code",
   "execution_count": 6,
   "metadata": {},
   "outputs": [
    {
     "name": "stdout",
     "output_type": "stream",
     "text": [
      "Number of not 104 actors: 3\n",
      "\n"
     ]
    },
    {
     "data": {
      "text/html": [
       "<div>\n",
       "<style scoped>\n",
       "    .dataframe tbody tr th:only-of-type {\n",
       "        vertical-align: middle;\n",
       "    }\n",
       "\n",
       "    .dataframe tbody tr th {\n",
       "        vertical-align: top;\n",
       "    }\n",
       "\n",
       "    .dataframe thead th {\n",
       "        text-align: right;\n",
       "    }\n",
       "</style>\n",
       "<table border=\"1\" class=\"dataframe\">\n",
       "  <thead>\n",
       "    <tr style=\"text-align: right;\">\n",
       "      <th></th>\n",
       "      <th>pk_actor</th>\n",
       "      <th>concat_actr</th>\n",
       "      <th>concat_standard_name</th>\n",
       "      <th>begin_year</th>\n",
       "      <th>certainty_begin</th>\n",
       "      <th>notes_begin</th>\n",
       "      <th>end_year</th>\n",
       "      <th>certainty_end</th>\n",
       "      <th>notes_end</th>\n",
       "      <th>gender_iso</th>\n",
       "      <th>notes</th>\n",
       "      <th>fk_abob_type_actor</th>\n",
       "      <th>creator</th>\n",
       "      <th>creation_time</th>\n",
       "      <th>modifier</th>\n",
       "      <th>modification_time</th>\n",
       "    </tr>\n",
       "  </thead>\n",
       "  <tbody>\n",
       "    <tr>\n",
       "      <th>10340</th>\n",
       "      <td>59031</td>\n",
       "      <td>Actr59031</td>\n",
       "      <td>Forster, James</td>\n",
       "      <td>1830.0</td>\n",
       "      <td>3</td>\n",
       "      <td>3</td>\n",
       "      <td>1930.0</td>\n",
       "      <td>3</td>\n",
       "      <td>3</td>\n",
       "      <td>1</td>\n",
       "      <td>None</td>\n",
       "      <td>106.0</td>\n",
       "      <td>81.0</td>\n",
       "      <td>2016-11-29 11:05:00.060</td>\n",
       "      <td>81.0</td>\n",
       "      <td>2016-11-29 11:05:00</td>\n",
       "    </tr>\n",
       "    <tr>\n",
       "      <th>28940</th>\n",
       "      <td>60660</td>\n",
       "      <td>Actr60660</td>\n",
       "      <td>Valjean, Jean</td>\n",
       "      <td>1769.0</td>\n",
       "      <td>1</td>\n",
       "      <td>None</td>\n",
       "      <td>1833.0</td>\n",
       "      <td>1</td>\n",
       "      <td>None</td>\n",
       "      <td>1</td>\n",
       "      <td>None</td>\n",
       "      <td>106.0</td>\n",
       "      <td>122.0</td>\n",
       "      <td>2018-10-23 16:48:50.050</td>\n",
       "      <td>122.0</td>\n",
       "      <td>2018-10-23 16:48:50</td>\n",
       "    </tr>\n",
       "    <tr>\n",
       "      <th>46002</th>\n",
       "      <td>46914</td>\n",
       "      <td>Actr46914</td>\n",
       "      <td>Dieu (conception chrétienne)</td>\n",
       "      <td>NaN</td>\n",
       "      <td>1</td>\n",
       "      <td>None</td>\n",
       "      <td>NaN</td>\n",
       "      <td>None</td>\n",
       "      <td>None</td>\n",
       "      <td>0</td>\n",
       "      <td>None</td>\n",
       "      <td>106.0</td>\n",
       "      <td>3.0</td>\n",
       "      <td>2013-07-04 11:43:15.990</td>\n",
       "      <td>3.0</td>\n",
       "      <td>2013-12-18 15:24:16</td>\n",
       "    </tr>\n",
       "  </tbody>\n",
       "</table>\n",
       "</div>"
      ],
      "text/plain": [
       "       pk_actor concat_actr          concat_standard_name  begin_year  \\\n",
       "10340     59031   Actr59031                Forster, James      1830.0   \n",
       "28940     60660   Actr60660                 Valjean, Jean      1769.0   \n",
       "46002     46914   Actr46914  Dieu (conception chrétienne)         NaN   \n",
       "\n",
       "      certainty_begin notes_begin  end_year certainty_end notes_end  \\\n",
       "10340               3           3    1930.0             3         3   \n",
       "28940               1        None    1833.0             1      None   \n",
       "46002               1        None       NaN          None      None   \n",
       "\n",
       "      gender_iso notes  fk_abob_type_actor  creator           creation_time  \\\n",
       "10340          1  None               106.0     81.0 2016-11-29 11:05:00.060   \n",
       "28940          1  None               106.0    122.0 2018-10-23 16:48:50.050   \n",
       "46002          0  None               106.0      3.0 2013-07-04 11:43:15.990   \n",
       "\n",
       "       modifier   modification_time  \n",
       "10340      81.0 2016-11-29 11:05:00  \n",
       "28940     122.0 2018-10-23 16:48:50  \n",
       "46002       3.0 2013-12-18 15:24:16  "
      ]
     },
     "metadata": {},
     "output_type": "display_data"
    }
   ],
   "source": [
    "not104 = actor[actor['fk_abob_type_actor'] != 104]\n",
    "print(f'Number of not 104 actors: {len(not104)}\\n')\n",
    "\n",
    "display(not104)\n",
    "\n",
    "actor = actor[actor['fk_abob_type_actor'] == 104]\n",
    "\n",
    "actor.drop(columns=['fk_abob_type_actor'], inplace=True)"
   ]
  },
  {
   "attachments": {},
   "cell_type": "markdown",
   "metadata": {},
   "source": [
    "## Remove unwanted characters"
   ]
  },
  {
   "cell_type": "code",
   "execution_count": 7,
   "metadata": {},
   "outputs": [],
   "source": [
    "actor.replace({'\\r\\n':''}, regex=True, inplace=True)\n",
    "actor.replace({'<p>':''}, regex=True, inplace=True)\n",
    "actor.replace({'</p>':''}, regex=True, inplace=True)\n",
    "\n",
    "u.remove_binary_chars(actor)"
   ]
  },
  {
   "attachments": {},
   "cell_type": "markdown",
   "metadata": {},
   "source": [
    "## Discovery"
   ]
  },
  {
   "cell_type": "code",
   "execution_count": 8,
   "metadata": {},
   "outputs": [
    {
     "name": "stdout",
     "output_type": "stream",
     "text": [
      "Columns contain:\n",
      "Total number of rows: 59523\n",
      "  -             \"pk_actor\":   0.00% empty - 59523 (100.00%) uniques (eg: 44895; 47015; 47190; 47578; 47630)\n",
      "  -          \"concat_actr\":   0.00% empty - 59523 (100.00%) uniques (eg: Actr44895; Actr47015; Actr47190; Actr47578; Actr47630)\n",
      "  - \"concat_standard_name\":   0.00% empty - 56548 ( 95.00%) uniques (eg: Sainte-Mar...; Costantino...; Duimio , A...; Zampa, Ang...; Isaresi, P...)\n",
      "  -      \"certainty_begin\":   0.00% empty -     4 (  0.01%) uniques (eg: 3; 1; None; 2)\n",
      "  -          \"notes_begin\":   0.00% empty -     5 (  0.01%) uniques (eg: 3; 2; None; 4; 1)\n",
      "  -        \"certainty_end\":   0.00% empty -     5 (  0.01%) uniques (eg: 3; None; 1; 2;  )\n",
      "  -            \"notes_end\":   0.00% empty -     6 (  0.01%) uniques (eg: 3; 4; None; 2; 1)\n",
      "  -           \"gender_iso\":   0.00% empty -     3 (  0.01%) uniques (eg: 1; 2; 0)\n",
      "  -                \"notes\":   0.00% empty -  6012 ( 10.10%) uniques (eg: Il s'agit ...; None; fb_import_...; fb_import_...; fb_import_...)\n",
      "  -        \"creation_time\":   0.00% empty - 34441 ( 57.86%) uniques (eg: 2012-04-08...; 2013-07-26...; 2013-10-18...; 2013-11-18...; 2013-11-24...)\n",
      "  -    \"modification_time\":   0.00% empty - 13973 ( 23.47%) uniques (eg: 2013-12-18...; 2016-10-21...; 2014-09-12...; 2016-10-21...; 2016-10-21...)\n",
      "  -              \"creator\":   0.01% empty -    88 (  0.15%) uniques (eg: 43.0; 30.0; 27.0; 2.0; 3.0)\n",
      "  -             \"modifier\":   8.92% empty -    85 (  0.14%) uniques (eg: 2.0; 30.0; 50.0; 3.0; 11.0)\n",
      "  -           \"begin_year\":  18.56% empty -   847 (  1.42%) uniques (eg: 1870.0; 1506.0; 1510.0; nan; 1550.0)\n",
      "  -             \"end_year\":  50.66% empty -   819 (  1.38%) uniques (eg: 1930.0; 1545.0; 1564.0; 1575.0; 1602.0)\n"
     ]
    }
   ],
   "source": [
    "a.discover(actor, uniq_ex_nb=5)"
   ]
  },
  {
   "attachments": {},
   "cell_type": "markdown",
   "metadata": {},
   "source": [
    "## Handle data"
   ]
  },
  {
   "cell_type": "code",
   "execution_count": 9,
   "metadata": {},
   "outputs": [],
   "source": [
    "# ISO mentions, gender should be 0, 1, 2 or 9.\n",
    "actor['gender_iso'].replace(pd.NA, 0, inplace=True)\n",
    "\n",
    "# Not filled certainty should be 0\n",
    "actor['certainty_begin'].replace(pd.NA, '0', inplace=True)\n",
    "actor['certainty_end'].replace(' ', pd.NA, inplace=True)\n",
    "actor['certainty_end'].replace(pd.NA, '0', inplace=True)"
   ]
  },
  {
   "attachments": {},
   "cell_type": "markdown",
   "metadata": {},
   "source": [
    "When importing FileMaker database into BHP, date certainty has been set to 1 by default. So When date is missing and certainty is at 1, it should actually be 0"
   ]
  },
  {
   "cell_type": "code",
   "execution_count": 10,
   "metadata": {},
   "outputs": [],
   "source": [
    "for i, row in actor.iterrows():\n",
    "    if pd.isna(row['begin_year']): actor.at[i, 'certainty_begin'] = '0'\n",
    "    if pd.isna(row['end_year']): actor.at[i, 'certainty_end'] = '0'"
   ]
  },
  {
   "attachments": {},
   "cell_type": "markdown",
   "metadata": {},
   "source": [
    "When dates certainty is equal to 3, we can remove those dates: they have been postulated (cf [comment on issue](https://github.com/geovistory/project-symogih/issues/1#issuecomment-1485216923))."
   ]
  },
  {
   "cell_type": "code",
   "execution_count": 11,
   "metadata": {},
   "outputs": [],
   "source": [
    "for i, row in actor.iterrows():\n",
    "    if row['certainty_begin'] == '3': \n",
    "        actor.at[i, 'begin_year'] = pd.NA\n",
    "        actor.at[i, 'certainty_begin'] = '0'\n",
    "    if row['certainty_end'] == '3': \n",
    "        actor.at[i, 'end_year'] = pd.NA\n",
    "        actor.at[i, 'certainty_end'] = '0'"
   ]
  },
  {
   "attachments": {},
   "cell_type": "markdown",
   "metadata": {},
   "source": [
    "## Type parsing"
   ]
  },
  {
   "cell_type": "code",
   "execution_count": 12,
   "metadata": {},
   "outputs": [
    {
     "ename": "ValueError",
     "evalue": "Error trying to parse column <certainty_begin> into <int>",
     "output_type": "error",
     "traceback": [
      "\u001b[0;31m---------------------------------------------------------------------------\u001b[0m",
      "\u001b[0;31mValueError\u001b[0m                                Traceback (most recent call last)",
      "\u001b[0;32m~/Desktop/geovpylib/analysis/general.py\u001b[0m in \u001b[0;36mset_types\u001b[0;34m(df, types)\u001b[0m\n\u001b[1;32m     48\u001b[0m             \u001b[0;32mif\u001b[0m \u001b[0mtypes\u001b[0m\u001b[0;34m[\u001b[0m\u001b[0mkey\u001b[0m\u001b[0;34m]\u001b[0m \u001b[0;34m==\u001b[0m \u001b[0;34m'int'\u001b[0m\u001b[0;34m:\u001b[0m\u001b[0;34m\u001b[0m\u001b[0;34m\u001b[0m\u001b[0m\n\u001b[0;32m---> 49\u001b[0;31m                 \u001b[0mdf\u001b[0m\u001b[0;34m[\u001b[0m\u001b[0mkey\u001b[0m\u001b[0;34m]\u001b[0m \u001b[0;34m=\u001b[0m \u001b[0mdf\u001b[0m\u001b[0;34m[\u001b[0m\u001b[0mkey\u001b[0m\u001b[0;34m]\u001b[0m\u001b[0;34m.\u001b[0m\u001b[0mastype\u001b[0m\u001b[0;34m(\u001b[0m\u001b[0mpd\u001b[0m\u001b[0;34m.\u001b[0m\u001b[0mInt64Dtype\u001b[0m\u001b[0;34m(\u001b[0m\u001b[0;34m)\u001b[0m\u001b[0;34m)\u001b[0m\u001b[0;34m\u001b[0m\u001b[0;34m\u001b[0m\u001b[0m\n\u001b[0m\u001b[1;32m     50\u001b[0m             \u001b[0;32mif\u001b[0m \u001b[0mtypes\u001b[0m\u001b[0;34m[\u001b[0m\u001b[0mkey\u001b[0m\u001b[0;34m]\u001b[0m \u001b[0;34m==\u001b[0m \u001b[0;34m'float'\u001b[0m\u001b[0;34m:\u001b[0m\u001b[0;34m\u001b[0m\u001b[0;34m\u001b[0m\u001b[0m\n",
      "\u001b[0;32m~/.local/lib/python3.8/site-packages/pandas/core/generic.py\u001b[0m in \u001b[0;36mastype\u001b[0;34m(self, dtype, copy, errors)\u001b[0m\n\u001b[1;32m   5911\u001b[0m             \u001b[0;31m# else, only a single dtype is given\u001b[0m\u001b[0;34m\u001b[0m\u001b[0;34m\u001b[0m\u001b[0;34m\u001b[0m\u001b[0m\n\u001b[0;32m-> 5912\u001b[0;31m             \u001b[0mnew_data\u001b[0m \u001b[0;34m=\u001b[0m \u001b[0mself\u001b[0m\u001b[0;34m.\u001b[0m\u001b[0m_mgr\u001b[0m\u001b[0;34m.\u001b[0m\u001b[0mastype\u001b[0m\u001b[0;34m(\u001b[0m\u001b[0mdtype\u001b[0m\u001b[0;34m=\u001b[0m\u001b[0mdtype\u001b[0m\u001b[0;34m,\u001b[0m \u001b[0mcopy\u001b[0m\u001b[0;34m=\u001b[0m\u001b[0mcopy\u001b[0m\u001b[0;34m,\u001b[0m \u001b[0merrors\u001b[0m\u001b[0;34m=\u001b[0m\u001b[0merrors\u001b[0m\u001b[0;34m)\u001b[0m\u001b[0;34m\u001b[0m\u001b[0;34m\u001b[0m\u001b[0m\n\u001b[0m\u001b[1;32m   5913\u001b[0m             \u001b[0;32mreturn\u001b[0m \u001b[0mself\u001b[0m\u001b[0;34m.\u001b[0m\u001b[0m_constructor\u001b[0m\u001b[0;34m(\u001b[0m\u001b[0mnew_data\u001b[0m\u001b[0;34m)\u001b[0m\u001b[0;34m.\u001b[0m\u001b[0m__finalize__\u001b[0m\u001b[0;34m(\u001b[0m\u001b[0mself\u001b[0m\u001b[0;34m,\u001b[0m \u001b[0mmethod\u001b[0m\u001b[0;34m=\u001b[0m\u001b[0;34m\"astype\"\u001b[0m\u001b[0;34m)\u001b[0m\u001b[0;34m\u001b[0m\u001b[0;34m\u001b[0m\u001b[0m\n",
      "\u001b[0;32m~/.local/lib/python3.8/site-packages/pandas/core/internals/managers.py\u001b[0m in \u001b[0;36mastype\u001b[0;34m(self, dtype, copy, errors)\u001b[0m\n\u001b[1;32m    418\u001b[0m     \u001b[0;32mdef\u001b[0m \u001b[0mastype\u001b[0m\u001b[0;34m(\u001b[0m\u001b[0mself\u001b[0m\u001b[0;34m:\u001b[0m \u001b[0mT\u001b[0m\u001b[0;34m,\u001b[0m \u001b[0mdtype\u001b[0m\u001b[0;34m,\u001b[0m \u001b[0mcopy\u001b[0m\u001b[0;34m:\u001b[0m \u001b[0mbool\u001b[0m \u001b[0;34m=\u001b[0m \u001b[0;32mFalse\u001b[0m\u001b[0;34m,\u001b[0m \u001b[0merrors\u001b[0m\u001b[0;34m:\u001b[0m \u001b[0mstr\u001b[0m \u001b[0;34m=\u001b[0m \u001b[0;34m\"raise\"\u001b[0m\u001b[0;34m)\u001b[0m \u001b[0;34m->\u001b[0m \u001b[0mT\u001b[0m\u001b[0;34m:\u001b[0m\u001b[0;34m\u001b[0m\u001b[0;34m\u001b[0m\u001b[0m\n\u001b[0;32m--> 419\u001b[0;31m         \u001b[0;32mreturn\u001b[0m \u001b[0mself\u001b[0m\u001b[0;34m.\u001b[0m\u001b[0mapply\u001b[0m\u001b[0;34m(\u001b[0m\u001b[0;34m\"astype\"\u001b[0m\u001b[0;34m,\u001b[0m \u001b[0mdtype\u001b[0m\u001b[0;34m=\u001b[0m\u001b[0mdtype\u001b[0m\u001b[0;34m,\u001b[0m \u001b[0mcopy\u001b[0m\u001b[0;34m=\u001b[0m\u001b[0mcopy\u001b[0m\u001b[0;34m,\u001b[0m \u001b[0merrors\u001b[0m\u001b[0;34m=\u001b[0m\u001b[0merrors\u001b[0m\u001b[0;34m)\u001b[0m\u001b[0;34m\u001b[0m\u001b[0;34m\u001b[0m\u001b[0m\n\u001b[0m\u001b[1;32m    420\u001b[0m \u001b[0;34m\u001b[0m\u001b[0m\n",
      "\u001b[0;32m~/.local/lib/python3.8/site-packages/pandas/core/internals/managers.py\u001b[0m in \u001b[0;36mapply\u001b[0;34m(self, f, align_keys, ignore_failures, **kwargs)\u001b[0m\n\u001b[1;32m    303\u001b[0m                 \u001b[0;32melse\u001b[0m\u001b[0;34m:\u001b[0m\u001b[0;34m\u001b[0m\u001b[0;34m\u001b[0m\u001b[0m\n\u001b[0;32m--> 304\u001b[0;31m                     \u001b[0mapplied\u001b[0m \u001b[0;34m=\u001b[0m \u001b[0mgetattr\u001b[0m\u001b[0;34m(\u001b[0m\u001b[0mb\u001b[0m\u001b[0;34m,\u001b[0m \u001b[0mf\u001b[0m\u001b[0;34m)\u001b[0m\u001b[0;34m(\u001b[0m\u001b[0;34m**\u001b[0m\u001b[0mkwargs\u001b[0m\u001b[0;34m)\u001b[0m\u001b[0;34m\u001b[0m\u001b[0;34m\u001b[0m\u001b[0m\n\u001b[0m\u001b[1;32m    305\u001b[0m             \u001b[0;32mexcept\u001b[0m \u001b[0;34m(\u001b[0m\u001b[0mTypeError\u001b[0m\u001b[0;34m,\u001b[0m \u001b[0mNotImplementedError\u001b[0m\u001b[0;34m)\u001b[0m\u001b[0;34m:\u001b[0m\u001b[0;34m\u001b[0m\u001b[0;34m\u001b[0m\u001b[0m\n",
      "\u001b[0;32m~/.local/lib/python3.8/site-packages/pandas/core/internals/blocks.py\u001b[0m in \u001b[0;36mastype\u001b[0;34m(self, dtype, copy, errors)\u001b[0m\n\u001b[1;32m    579\u001b[0m \u001b[0;34m\u001b[0m\u001b[0m\n\u001b[0;32m--> 580\u001b[0;31m         \u001b[0mnew_values\u001b[0m \u001b[0;34m=\u001b[0m \u001b[0mastype_array_safe\u001b[0m\u001b[0;34m(\u001b[0m\u001b[0mvalues\u001b[0m\u001b[0;34m,\u001b[0m \u001b[0mdtype\u001b[0m\u001b[0;34m,\u001b[0m \u001b[0mcopy\u001b[0m\u001b[0;34m=\u001b[0m\u001b[0mcopy\u001b[0m\u001b[0;34m,\u001b[0m \u001b[0merrors\u001b[0m\u001b[0;34m=\u001b[0m\u001b[0merrors\u001b[0m\u001b[0;34m)\u001b[0m\u001b[0;34m\u001b[0m\u001b[0;34m\u001b[0m\u001b[0m\n\u001b[0m\u001b[1;32m    581\u001b[0m \u001b[0;34m\u001b[0m\u001b[0m\n",
      "\u001b[0;32m~/.local/lib/python3.8/site-packages/pandas/core/dtypes/cast.py\u001b[0m in \u001b[0;36mastype_array_safe\u001b[0;34m(values, dtype, copy, errors)\u001b[0m\n\u001b[1;32m   1291\u001b[0m     \u001b[0;32mtry\u001b[0m\u001b[0;34m:\u001b[0m\u001b[0;34m\u001b[0m\u001b[0;34m\u001b[0m\u001b[0m\n\u001b[0;32m-> 1292\u001b[0;31m         \u001b[0mnew_values\u001b[0m \u001b[0;34m=\u001b[0m \u001b[0mastype_array\u001b[0m\u001b[0;34m(\u001b[0m\u001b[0mvalues\u001b[0m\u001b[0;34m,\u001b[0m \u001b[0mdtype\u001b[0m\u001b[0;34m,\u001b[0m \u001b[0mcopy\u001b[0m\u001b[0;34m=\u001b[0m\u001b[0mcopy\u001b[0m\u001b[0;34m)\u001b[0m\u001b[0;34m\u001b[0m\u001b[0;34m\u001b[0m\u001b[0m\n\u001b[0m\u001b[1;32m   1293\u001b[0m     \u001b[0;32mexcept\u001b[0m \u001b[0;34m(\u001b[0m\u001b[0mValueError\u001b[0m\u001b[0;34m,\u001b[0m \u001b[0mTypeError\u001b[0m\u001b[0;34m)\u001b[0m\u001b[0;34m:\u001b[0m\u001b[0;34m\u001b[0m\u001b[0;34m\u001b[0m\u001b[0m\n",
      "\u001b[0;32m~/.local/lib/python3.8/site-packages/pandas/core/dtypes/cast.py\u001b[0m in \u001b[0;36mastype_array\u001b[0;34m(values, dtype, copy)\u001b[0m\n\u001b[1;32m   1236\u001b[0m     \u001b[0;32melse\u001b[0m\u001b[0;34m:\u001b[0m\u001b[0;34m\u001b[0m\u001b[0;34m\u001b[0m\u001b[0m\n\u001b[0;32m-> 1237\u001b[0;31m         \u001b[0mvalues\u001b[0m \u001b[0;34m=\u001b[0m \u001b[0mastype_nansafe\u001b[0m\u001b[0;34m(\u001b[0m\u001b[0mvalues\u001b[0m\u001b[0;34m,\u001b[0m \u001b[0mdtype\u001b[0m\u001b[0;34m,\u001b[0m \u001b[0mcopy\u001b[0m\u001b[0;34m=\u001b[0m\u001b[0mcopy\u001b[0m\u001b[0;34m)\u001b[0m\u001b[0;34m\u001b[0m\u001b[0;34m\u001b[0m\u001b[0m\n\u001b[0m\u001b[1;32m   1238\u001b[0m \u001b[0;34m\u001b[0m\u001b[0m\n",
      "\u001b[0;32m~/.local/lib/python3.8/site-packages/pandas/core/dtypes/cast.py\u001b[0m in \u001b[0;36mastype_nansafe\u001b[0;34m(arr, dtype, copy, skipna)\u001b[0m\n\u001b[1;32m   1107\u001b[0m     \u001b[0;32mif\u001b[0m \u001b[0misinstance\u001b[0m\u001b[0;34m(\u001b[0m\u001b[0mdtype\u001b[0m\u001b[0;34m,\u001b[0m \u001b[0mExtensionDtype\u001b[0m\u001b[0;34m)\u001b[0m\u001b[0;34m:\u001b[0m\u001b[0;34m\u001b[0m\u001b[0;34m\u001b[0m\u001b[0m\n\u001b[0;32m-> 1108\u001b[0;31m         \u001b[0;32mreturn\u001b[0m \u001b[0mdtype\u001b[0m\u001b[0;34m.\u001b[0m\u001b[0mconstruct_array_type\u001b[0m\u001b[0;34m(\u001b[0m\u001b[0;34m)\u001b[0m\u001b[0;34m.\u001b[0m\u001b[0m_from_sequence\u001b[0m\u001b[0;34m(\u001b[0m\u001b[0marr\u001b[0m\u001b[0;34m,\u001b[0m \u001b[0mdtype\u001b[0m\u001b[0;34m=\u001b[0m\u001b[0mdtype\u001b[0m\u001b[0;34m,\u001b[0m \u001b[0mcopy\u001b[0m\u001b[0;34m=\u001b[0m\u001b[0mcopy\u001b[0m\u001b[0;34m)\u001b[0m\u001b[0;34m\u001b[0m\u001b[0;34m\u001b[0m\u001b[0m\n\u001b[0m\u001b[1;32m   1109\u001b[0m \u001b[0;34m\u001b[0m\u001b[0m\n",
      "\u001b[0;32m~/.local/lib/python3.8/site-packages/pandas/core/arrays/integer.py\u001b[0m in \u001b[0;36m_from_sequence\u001b[0;34m(cls, scalars, dtype, copy)\u001b[0m\n\u001b[1;32m    324\u001b[0m     ) -> IntegerArray:\n\u001b[0;32m--> 325\u001b[0;31m         \u001b[0mvalues\u001b[0m\u001b[0;34m,\u001b[0m \u001b[0mmask\u001b[0m \u001b[0;34m=\u001b[0m \u001b[0mcoerce_to_array\u001b[0m\u001b[0;34m(\u001b[0m\u001b[0mscalars\u001b[0m\u001b[0;34m,\u001b[0m \u001b[0mdtype\u001b[0m\u001b[0;34m=\u001b[0m\u001b[0mdtype\u001b[0m\u001b[0;34m,\u001b[0m \u001b[0mcopy\u001b[0m\u001b[0;34m=\u001b[0m\u001b[0mcopy\u001b[0m\u001b[0;34m)\u001b[0m\u001b[0;34m\u001b[0m\u001b[0;34m\u001b[0m\u001b[0m\n\u001b[0m\u001b[1;32m    326\u001b[0m         \u001b[0;32mreturn\u001b[0m \u001b[0mIntegerArray\u001b[0m\u001b[0;34m(\u001b[0m\u001b[0mvalues\u001b[0m\u001b[0;34m,\u001b[0m \u001b[0mmask\u001b[0m\u001b[0;34m)\u001b[0m\u001b[0;34m\u001b[0m\u001b[0;34m\u001b[0m\u001b[0m\n",
      "\u001b[0;32m~/.local/lib/python3.8/site-packages/pandas/core/arrays/integer.py\u001b[0m in \u001b[0;36mcoerce_to_array\u001b[0;34m(values, dtype, mask, copy)\u001b[0m\n\u001b[1;32m    227\u001b[0m         \u001b[0;31m# a ValueError if the str cannot be parsed into an int\u001b[0m\u001b[0;34m\u001b[0m\u001b[0;34m\u001b[0m\u001b[0;34m\u001b[0m\u001b[0m\n\u001b[0;32m--> 228\u001b[0;31m         \u001b[0mvalues\u001b[0m \u001b[0;34m=\u001b[0m \u001b[0mvalues\u001b[0m\u001b[0;34m.\u001b[0m\u001b[0mastype\u001b[0m\u001b[0;34m(\u001b[0m\u001b[0mdtype\u001b[0m\u001b[0;34m,\u001b[0m \u001b[0mcopy\u001b[0m\u001b[0;34m=\u001b[0m\u001b[0mcopy\u001b[0m\u001b[0;34m)\u001b[0m\u001b[0;34m\u001b[0m\u001b[0;34m\u001b[0m\u001b[0m\n\u001b[0m\u001b[1;32m    229\u001b[0m     \u001b[0;32melse\u001b[0m\u001b[0;34m:\u001b[0m\u001b[0;34m\u001b[0m\u001b[0;34m\u001b[0m\u001b[0m\n",
      "\u001b[0;31mValueError\u001b[0m: invalid literal for int() with base 10: 'None'",
      "\nDuring handling of the above exception, another exception occurred:\n",
      "\u001b[0;31mValueError\u001b[0m                                Traceback (most recent call last)",
      "\u001b[0;32m<ipython-input-12-652705cc03b6>\u001b[0m in \u001b[0;36m<module>\u001b[0;34m\u001b[0m\n\u001b[1;32m      1\u001b[0m \u001b[0mactor\u001b[0m\u001b[0;34m[\u001b[0m\u001b[0;34m'certainty_end'\u001b[0m\u001b[0;34m]\u001b[0m\u001b[0;34m.\u001b[0m\u001b[0mreplace\u001b[0m\u001b[0;34m(\u001b[0m\u001b[0;34m' '\u001b[0m\u001b[0;34m,\u001b[0m \u001b[0;32mNone\u001b[0m\u001b[0;34m,\u001b[0m \u001b[0minplace\u001b[0m\u001b[0;34m=\u001b[0m\u001b[0;32mTrue\u001b[0m\u001b[0;34m)\u001b[0m\u001b[0;34m\u001b[0m\u001b[0;34m\u001b[0m\u001b[0m\n\u001b[0;32m----> 2\u001b[0;31m a.set_types(actor, {\n\u001b[0m\u001b[1;32m      3\u001b[0m                \u001b[0;34m\"pk_actor\"\u001b[0m\u001b[0;34m:\u001b[0m \u001b[0;34m'int'\u001b[0m\u001b[0;34m,\u001b[0m\u001b[0;34m\u001b[0m\u001b[0;34m\u001b[0m\u001b[0m\n\u001b[1;32m      4\u001b[0m       \u001b[0;34m\"modification_time\"\u001b[0m\u001b[0;34m:\u001b[0m \u001b[0;34m'datetime'\u001b[0m\u001b[0;34m,\u001b[0m\u001b[0;34m\u001b[0m\u001b[0;34m\u001b[0m\u001b[0m\n\u001b[1;32m      5\u001b[0m           \u001b[0;34m\"creation_time\"\u001b[0m\u001b[0;34m:\u001b[0m \u001b[0;34m'datetime'\u001b[0m\u001b[0;34m,\u001b[0m\u001b[0;34m\u001b[0m\u001b[0;34m\u001b[0m\u001b[0m\n",
      "\u001b[0;32m~/Desktop/geovpylib/analysis/general.py\u001b[0m in \u001b[0;36mset_types\u001b[0;34m(df, types)\u001b[0m\n\u001b[1;32m     60\u001b[0m                     dt, format) if pd.notna(dt) else pd.NaT for dt in df[key]]\n\u001b[1;32m     61\u001b[0m         \u001b[0;32mexcept\u001b[0m \u001b[0mValueError\u001b[0m\u001b[0;34m:\u001b[0m\u001b[0;34m\u001b[0m\u001b[0;34m\u001b[0m\u001b[0m\n\u001b[0;32m---> 62\u001b[0;31m             raise ValueError(\n\u001b[0m\u001b[1;32m     63\u001b[0m                 f'Error trying to parse column <{key}> into <{types[key]}>')\n",
      "\u001b[0;31mValueError\u001b[0m: Error trying to parse column <certainty_begin> into <int>"
     ]
    }
   ],
   "source": [
    "actor['certainty_end'].replace(' ', None, inplace=True)\n",
    "a.set_types(actor, {\n",
    "               \"pk_actor\": 'int', \n",
    "      \"modification_time\": 'datetime',\n",
    "          \"creation_time\": 'datetime',\n",
    "   \"concat_standard_name\": 'string',\n",
    "            \"concat_actr\": 'string',\n",
    "                \"creator\": 'int',\n",
    "             \"gender_iso\": 'string',\n",
    "               \"modifier\": 'int',\n",
    "        \"certainty_begin\": 'int',\n",
    "          \"certainty_end\": 'int',\n",
    "             \"begin_year\": 'int',\n",
    "               \"end_year\": 'int',\n",
    "            \"notes_begin\": 'int',\n",
    "              \"notes_end\": 'int',\n",
    "                  \"notes\": 'string'\n",
    "})"
   ]
  },
  {
   "attachments": {},
   "cell_type": "markdown",
   "metadata": {},
   "source": [
    "## Save data"
   ]
  },
  {
   "cell_type": "code",
   "execution_count": null,
   "metadata": {},
   "outputs": [],
   "source": [
    "u.save_df(actor, actor_path)"
   ]
  }
 ],
 "metadata": {
  "kernelspec": {
   "display_name": "Python 3",
   "language": "python",
   "name": "python3"
  },
  "language_info": {
   "codemirror_mode": {
    "name": "ipython",
    "version": 3
   },
   "file_extension": ".py",
   "mimetype": "text/x-python",
   "name": "python",
   "nbconvert_exporter": "python",
   "pygments_lexer": "ipython3",
   "version": "3.8.10"
  },
  "orig_nbformat": 4
 },
 "nbformat": 4,
 "nbformat_minor": 2
}
