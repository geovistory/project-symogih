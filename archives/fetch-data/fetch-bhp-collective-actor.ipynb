{
 "cells": [
  {
   "cell_type": "code",
   "execution_count": 25,
   "metadata": {},
   "outputs": [
    {
     "name": "stdout",
     "output_type": "stream",
     "text": [
      "The autoreload extension is already loaded. To reload it, use:\n",
      "  %reload_ext autoreload\n"
     ]
    }
   ],
   "source": [
    "%load_ext autoreload\n",
    "%autoreload 2\n",
    "\n",
    "env = 'prod'\n",
    "pk_project = -1\n",
    "execute = False\n",
    "metadata_str = ''\n",
    "import_manner = 'one-shot' # 'batch'\n",
    "\n",
    "import os\n",
    "import pandas as pd\n",
    "import numpy as np\n",
    "from datetime import datetime\n",
    "import duckdb\n",
    "import plotly.express as px\n",
    "\n",
    "import geovpylib.analysis as a\n",
    "import geovpylib.database as db\n",
    "import geovpylib.graphs as graphs\n",
    "import geovpylib.pks as pks\n",
    "import geovpylib.recordlinkage as rl\n",
    "import geovpylib.sparql as sparql\n",
    "import geovpylib.utils as u\n",
    "\n",
    "eta = u.Eta()"
   ]
  },
  {
   "cell_type": "code",
   "execution_count": 26,
   "metadata": {},
   "outputs": [],
   "source": [
    "collective_actor_path = '../../data/bhp/collective-actor.csv'"
   ]
  },
  {
   "attachments": {},
   "cell_type": "markdown",
   "metadata": {},
   "source": [
    "# Fetch table from database"
   ]
  },
  {
   "cell_type": "code",
   "execution_count": 27,
   "metadata": {},
   "outputs": [
    {
     "name": "stdout",
     "output_type": "stream",
     "text": [
      "[DB] Connecting to PGSQL Database ... Connected!\n"
     ]
    }
   ],
   "source": [
    "db.connect_external(os.environ.get('YELLOW_BHP'))\n",
    "collective_actor = db.query('select * from bhp.collective_actor')"
   ]
  },
  {
   "cell_type": "code",
   "execution_count": 28,
   "metadata": {},
   "outputs": [],
   "source": [
    "collective_actor.drop(columns=['standard_text_property', 'count_text_property', 'concat_names', 'concat_coac'], inplace=True)\n",
    "collective_actor.drop(columns=['creator', 'modifier', 'creation_time', 'modification_time'], inplace=True)\n",
    "a.set_types(collective_actor, {\n",
    "    'notes_begin': 'int',\n",
    "    'certainty_begin': 'int',\n",
    "    'notes_end': 'int',\n",
    "    'certainty_end': 'int',\n",
    "    'notes': 'string',\n",
    "    'fk_abob_type_collective_actor': 'int',\n",
    "    'begin_year': 'int',\n",
    "    'end_year': 'int'\n",
    "})"
   ]
  },
  {
   "attachments": {},
   "cell_type": "markdown",
   "metadata": {},
   "source": [
    "## Filter only wanted rows"
   ]
  },
  {
   "cell_type": "code",
   "execution_count": 29,
   "metadata": {},
   "outputs": [
    {
     "name": "stdout",
     "output_type": "stream",
     "text": [
      "Rows number before filter: 22717\n",
      "Rows number after filter: 22027 (690 have been removed)\n"
     ]
    }
   ],
   "source": [
    "len_before = len(collective_actor)\n",
    "print(f'Rows number before filter: {len_before}')\n",
    "\n",
    "collective_actor = collective_actor[~collective_actor['concat_standard_name'].str.contains('\\[à identifier\\]')]\n",
    "collective_actor = collective_actor[~collective_actor['concat_standard_name'].str.contains('\\[ne pas importer\\]')]\n",
    "collective_actor = collective_actor[~collective_actor['concat_standard_name'].str.contains('DOUBLON')]\n",
    "collective_actor = collective_actor[~collective_actor['concat_standard_name'].str.contains('Doublon')]\n",
    "collective_actor = collective_actor[~collective_actor['concat_standard_name'].str.contains('réutiliser')]\n",
    "collective_actor = collective_actor[~collective_actor['concat_standard_name'].str.contains('REUTILISER')]\n",
    "\n",
    "len_after = len(collective_actor)\n",
    "\n",
    "print(f'Rows number after filter: {len_after} ({len_before - len_after} have been removed)')"
   ]
  },
  {
   "attachments": {},
   "cell_type": "markdown",
   "metadata": {},
   "source": [
    "## Filter by type"
   ]
  },
  {
   "cell_type": "code",
   "execution_count": 30,
   "metadata": {},
   "outputs": [],
   "source": [
    "collective_actor = collective_actor[(collective_actor['fk_abob_type_collective_actor'] == 1051) | (collective_actor['fk_abob_type_collective_actor'] == 1052) | pd.isna(collective_actor['fk_abob_type_collective_actor'])]"
   ]
  },
  {
   "attachments": {},
   "cell_type": "markdown",
   "metadata": {},
   "source": [
    "## Remove unwanted characters"
   ]
  },
  {
   "cell_type": "code",
   "execution_count": 31,
   "metadata": {},
   "outputs": [],
   "source": [
    "collective_actor.replace({'\\r\\n':''}, regex=True, inplace=True)\n",
    "collective_actor.replace({'<p>':''}, regex=True, inplace=True)\n",
    "collective_actor.replace({'</p>':''}, regex=True, inplace=True)\n",
    "\n",
    "collective_actor.notes = collective_actor.notes.str.replace('<p>', '')\n",
    "collective_actor.notes = collective_actor.notes.str.replace('</p>', '')\n",
    "collective_actor.notes = collective_actor.notes.str.replace('\\r', '')\n",
    "collective_actor.notes = collective_actor.notes.str.replace('\\n', ' ')\n",
    "\n",
    "u.remove_binary_chars(collective_actor)"
   ]
  },
  {
   "attachments": {},
   "cell_type": "markdown",
   "metadata": {},
   "source": [
    "## Discovery"
   ]
  },
  {
   "cell_type": "code",
   "execution_count": 32,
   "metadata": {},
   "outputs": [
    {
     "name": "stdout",
     "output_type": "stream",
     "text": [
      "Columns contain:\n",
      "Total number of rows: 22009\n",
      "  -           \"pk_collective_actor\":   0.00% empty - 22009 (100.00%) uniques (eg: 14725; 9712; 13649; 14723; 14726; 14727)\n",
      "  -          \"concat_standard_name\":   0.00% empty - 21522 ( 97.79%) uniques (eg: Parti Soci...; Conseil na...; Parlement ...; Bailliage ...; Université...; La vie des...)\n",
      "  - \"fk_abob_type_collective_actor\":   3.51% empty -     3 (  0.01%) uniques (eg: 1051; <NA>; 1052)\n",
      "  -               \"certainty_begin\":   3.60% empty -     4 (  0.02%) uniques (eg: 1; <NA>; 3; 2)\n",
      "  -                 \"certainty_end\":   4.92% empty -     4 (  0.02%) uniques (eg: <NA>; 1; 3; 2)\n",
      "  -                    \"begin_year\":  52.06% empty -   805 (  3.66%) uniques (eg: 1969; 1945; <NA>; 1477; 1971; 2007)\n",
      "  -                   \"notes_begin\":  68.69% empty -     6 (  0.03%) uniques (eg: 2; <NA>; 3; 1; 4; 5)\n",
      "  -                      \"end_year\":  68.98% empty -   326 (  1.48%) uniques (eg: <NA>; 1998; 1789; 1818; 2005; 1791)\n",
      "  -                     \"notes_end\":  74.16% empty -     5 (  0.02%) uniques (eg: <NA>; 2; 3; 4; 1)\n",
      "  -                         \"notes\":  79.53% empty -    75 (  0.34%) uniques (eg: ; <NA>; Agence de ...; Associatio...; Institut d...; Think tank)\n"
     ]
    }
   ],
   "source": [
    "a.discover(collective_actor,6)"
   ]
  },
  {
   "attachments": {},
   "cell_type": "markdown",
   "metadata": {},
   "source": [
    "## Save data"
   ]
  },
  {
   "cell_type": "code",
   "execution_count": 33,
   "metadata": {},
   "outputs": [],
   "source": [
    "u.save_df(collective_actor, collective_actor_path)"
   ]
  }
 ],
 "metadata": {
  "kernelspec": {
   "display_name": "Python 3",
   "language": "python",
   "name": "python3"
  },
  "language_info": {
   "codemirror_mode": {
    "name": "ipython",
    "version": 3
   },
   "file_extension": ".py",
   "mimetype": "text/x-python",
   "name": "python",
   "nbconvert_exporter": "python",
   "pygments_lexer": "ipython3",
   "version": "3.8.10"
  },
  "orig_nbformat": 4
 },
 "nbformat": 4,
 "nbformat_minor": 2
}
