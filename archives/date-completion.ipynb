{
 "cells": [
  {
   "cell_type": "code",
   "execution_count": 1,
   "metadata": {},
   "outputs": [],
   "source": [
    "%load_ext autoreload\n",
    "%autoreload 2\n",
    "\n",
    "env = 'prod'\n",
    "pk_project = 6857901\n",
    "execute = True\n",
    "metadata_str = 'bhp-actors-births'\n",
    "import_manner = 'one-shot'\n",
    "\n",
    "import os\n",
    "import pandas as pd\n",
    "import numpy as np\n",
    "from datetime import datetime\n",
    "import duckdb\n",
    "import plotly.express as px\n",
    "\n",
    "import geovpylib.analysis as a\n",
    "import geovpylib.database as db\n",
    "import geovpylib.graphs as graphs\n",
    "import geovpylib.pks as pks\n",
    "import geovpylib.recordlinkage as rl\n",
    "import geovpylib.sparql as sparql\n",
    "import geovpylib.utils as u\n",
    "\n",
    "eta = u.Eta()"
   ]
  },
  {
   "attachments": {},
   "cell_type": "markdown",
   "metadata": {},
   "source": [
    "# Date completion"
   ]
  },
  {
   "attachments": {},
   "cell_type": "markdown",
   "metadata": {},
   "source": [
    "Because of this [comment](https://github.com/geovistory/project-symogih/issues/1#issuecomment-1485216923), some births/deaths does not have a date. The goal of this notebook is to add them."
   ]
  },
  {
   "attachments": {},
   "cell_type": "markdown",
   "metadata": {},
   "source": [
    "## Births"
   ]
  },
  {
   "attachments": {},
   "cell_type": "markdown",
   "metadata": {},
   "source": [
    "### Fetch information on BHP"
   ]
  },
  {
   "attachments": {},
   "cell_type": "markdown",
   "metadata": {},
   "source": [
    "We take the logic we had at the first place, but keep certainty_begin == 3 or 2"
   ]
  },
  {
   "cell_type": "code",
   "execution_count": 2,
   "metadata": {},
   "outputs": [
    {
     "name": "stdout",
     "output_type": "stream",
     "text": [
      "[DB] Connecting to PGSQL Database ... Connected!\n",
      "Shape:  (16350, 3) - extract:\n"
     ]
    },
    {
     "data": {
      "text/html": [
       "<div>\n",
       "<style scoped>\n",
       "    .dataframe tbody tr th:only-of-type {\n",
       "        vertical-align: middle;\n",
       "    }\n",
       "\n",
       "    .dataframe tbody tr th {\n",
       "        vertical-align: top;\n",
       "    }\n",
       "\n",
       "    .dataframe thead th {\n",
       "        text-align: right;\n",
       "    }\n",
       "</style>\n",
       "<table border=\"1\" class=\"dataframe\">\n",
       "  <thead>\n",
       "    <tr style=\"text-align: right;\">\n",
       "      <th></th>\n",
       "      <th>pk_bhp</th>\n",
       "      <th>date</th>\n",
       "      <th>certainty</th>\n",
       "    </tr>\n",
       "  </thead>\n",
       "  <tbody>\n",
       "    <tr>\n",
       "      <th>0</th>\n",
       "      <td>44895</td>\n",
       "      <td>(1870, 1, 1)</td>\n",
       "      <td>3</td>\n",
       "    </tr>\n",
       "    <tr>\n",
       "      <th>5</th>\n",
       "      <td>4040</td>\n",
       "      <td>(1621, 1, 1)</td>\n",
       "      <td>3</td>\n",
       "    </tr>\n",
       "    <tr>\n",
       "      <th>14</th>\n",
       "      <td>12072</td>\n",
       "      <td>(1830, 1, 1)</td>\n",
       "      <td>3</td>\n",
       "    </tr>\n",
       "    <tr>\n",
       "      <th>22</th>\n",
       "      <td>30861</td>\n",
       "      <td>(1631, 1, 1)</td>\n",
       "      <td>3</td>\n",
       "    </tr>\n",
       "    <tr>\n",
       "      <th>31</th>\n",
       "      <td>25185</td>\n",
       "      <td>(1849, 1, 1)</td>\n",
       "      <td>3</td>\n",
       "    </tr>\n",
       "  </tbody>\n",
       "</table>\n",
       "</div>"
      ],
      "text/plain": [
       "    pk_bhp          date certainty\n",
       "0    44895  (1870, 1, 1)         3\n",
       "5     4040  (1621, 1, 1)         3\n",
       "14   12072  (1830, 1, 1)         3\n",
       "22   30861  (1631, 1, 1)         3\n",
       "31   25185  (1849, 1, 1)         3"
      ]
     },
     "metadata": {},
     "output_type": "display_data"
    }
   ],
   "source": [
    "db.connect_external(os.environ.get('YELLOW_BHP'))\n",
    "\n",
    "actors = db.query('select * from bhp.actor')\n",
    "\n",
    "actors = actors[~actors['concat_standard_name'].str.contains('\\[à identifier\\]')]\n",
    "actors = actors[~actors['concat_standard_name'].str.contains('\\[ne pas importer\\]')]\n",
    "actors = actors[~actors['concat_standard_name'].str.contains('DOUBLON')]\n",
    "actors = actors[~actors['concat_standard_name'].str.contains('Doublon')]\n",
    "actors = actors[~actors['concat_standard_name'].str.contains('réutiliser')]\n",
    "actors = actors[~actors['concat_standard_name'].str.contains('REUTILISER')]\n",
    "actors = actors[actors['fk_abob_type_actor'] == 104]\n",
    "actors.replace({'\\r\\n':''}, regex=True, inplace=True)\n",
    "actors.replace({'<p>':''}, regex=True, inplace=True)\n",
    "actors.replace({'</p>':''}, regex=True, inplace=True)\n",
    "actors['gender_iso'].replace(pd.NA, 0, inplace=True)\n",
    "actors['certainty_begin'].replace(pd.NA, '0', inplace=True)\n",
    "actors['certainty_end'].replace(' ', pd.NA, inplace=True)\n",
    "actors['certainty_end'].replace(pd.NA, '0', inplace=True)\n",
    "for i, row in actors.iterrows():\n",
    "    if pd.isna(row['begin_year']): actors.at[i, 'certainty_begin'] = '0'\n",
    "    if pd.isna(row['end_year']): actors.at[i, 'certainty_end'] = '0'\n",
    "\n",
    "\n",
    "actors = actors[(actors['certainty_begin'] == '3') | (actors['certainty_begin'] == '2')]\n",
    "actors['begin_year'] = actors['begin_year'].astype(int)\n",
    "actors['date'] = [(y, 1, 1) for y in actors.begin_year]\n",
    "actors = actors[['pk_actor', 'date', 'certainty_begin']]\n",
    "actors.columns = ['pk_bhp', 'date', 'certainty']\n",
    "\n",
    "a.infos(actors)\n",
    "\n",
    "# 5s"
   ]
  },
  {
   "attachments": {},
   "cell_type": "markdown",
   "metadata": {},
   "source": [
    "### Fetch information on Geovistory"
   ]
  },
  {
   "cell_type": "code",
   "execution_count": 3,
   "metadata": {},
   "outputs": [
    {
     "name": "stdout",
     "output_type": "stream",
     "text": [
      "[DB] Connecting to PRODUCTION Database ... Connected!\n",
      "Shape:  (59525, 3) - extract:\n"
     ]
    },
    {
     "data": {
      "text/html": [
       "<div>\n",
       "<style scoped>\n",
       "    .dataframe tbody tr th:only-of-type {\n",
       "        vertical-align: middle;\n",
       "    }\n",
       "\n",
       "    .dataframe tbody tr th {\n",
       "        vertical-align: top;\n",
       "    }\n",
       "\n",
       "    .dataframe thead th {\n",
       "        text-align: right;\n",
       "    }\n",
       "</style>\n",
       "<table border=\"1\" class=\"dataframe\">\n",
       "  <thead>\n",
       "    <tr style=\"text-align: right;\">\n",
       "      <th></th>\n",
       "      <th>pk_person</th>\n",
       "      <th>pk_birth</th>\n",
       "      <th>pk_bhp</th>\n",
       "    </tr>\n",
       "  </thead>\n",
       "  <tbody>\n",
       "    <tr>\n",
       "      <th>0</th>\n",
       "      <td>6532778</td>\n",
       "      <td>7489054</td>\n",
       "      <td>1</td>\n",
       "    </tr>\n",
       "    <tr>\n",
       "      <th>1</th>\n",
       "      <td>6499432</td>\n",
       "      <td>7489055</td>\n",
       "      <td>2</td>\n",
       "    </tr>\n",
       "    <tr>\n",
       "      <th>2</th>\n",
       "      <td>783602</td>\n",
       "      <td>806773</td>\n",
       "      <td>3</td>\n",
       "    </tr>\n",
       "    <tr>\n",
       "      <th>3</th>\n",
       "      <td>6509333</td>\n",
       "      <td>7489056</td>\n",
       "      <td>4</td>\n",
       "    </tr>\n",
       "    <tr>\n",
       "      <th>4</th>\n",
       "      <td>6511070</td>\n",
       "      <td>7489057</td>\n",
       "      <td>5</td>\n",
       "    </tr>\n",
       "  </tbody>\n",
       "</table>\n",
       "</div>"
      ],
      "text/plain": [
       "   pk_person  pk_birth  pk_bhp\n",
       "0    6532778   7489054       1\n",
       "1    6499432   7489055       2\n",
       "2     783602    806773       3\n",
       "3    6509333   7489056       4\n",
       "4    6511070   7489057       5"
      ]
     },
     "metadata": {},
     "output_type": "display_data"
    },
    {
     "name": "stdout",
     "output_type": "stream",
     "text": [
      "[DB] Database correctly disconnected.\n"
     ]
    }
   ],
   "source": [
    "db.connect_geovistory(env, pk_project, execute, skip_protection=True)\n",
    "\n",
    "persons = db.query(f\"\"\"\n",
    "    select \n",
    "        r.pk_entity as pk_person\n",
    "        ,a3.string as uri\n",
    "        ,s4.fk_subject_info as pk_birth\n",
    "    from information.resource r \n",
    "    inner join projects.info_proj_rel ipr on ipr.fk_entity = r.pk_entity and ipr.fk_project = {pk_project} and ipr.is_in_project = true\n",
    "    -- URI\n",
    "    inner join information.statement s1 on s1.fk_subject_info = r.pk_entity and s1.fk_property = {pks.properties.entity_sameAsURI_URI}\n",
    "    inner join projects.info_proj_rel ipr1 on ipr1.fk_entity = s1.pk_entity and ipr1.fk_project = {pk_project} and ipr1.is_in_project = true\n",
    "    inner join information.statement s2 on s2.fk_subject_info = s1.fk_object_info and s2.fk_property = {pks.properties.appe_hasValue_string}\n",
    "    inner join projects.info_proj_rel ipr2 on ipr2.fk_entity = s2.pk_entity and ipr2.fk_project = {pk_project} and ipr2.is_in_project = true\n",
    "    inner join information.appellation a3 on a3.pk_entity = s2.fk_object_info\n",
    "    inner join projects.info_proj_rel ipr3 on ipr3.fk_entity = a3.pk_entity and ipr3.fk_project = {pk_project} and ipr3.is_in_project = true\n",
    "    -- Birth\n",
    "    inner join information.statement s4 on s4.fk_object_info = r.pk_entity and s4.fk_property = {pks.properties.birth_broughtIntoLife_person}\n",
    "    inner join projects.info_proj_rel ipr4 on ipr4.fk_entity = s4.pk_entity and ipr4.fk_project = {pk_project} and ipr4.is_in_project = true\n",
    "    inner join projects.info_proj_rel ipr4b on ipr4b.fk_entity = s4.fk_subject_info and ipr4b.fk_project = {pk_project} and ipr4b.is_in_project = true\n",
    "    where r.fk_class = {pks.classes.person}\n",
    "\"\"\")\n",
    "\n",
    "# URI\n",
    "persons = persons[persons.uri.str.contains('symogih.org')]\n",
    "persons['pk_bhp'] = persons.uri.str.replace('http://symogih.org/resource/Actr', '', regex=False).astype(int)\n",
    "persons.drop(columns=['uri'], inplace=True)\n",
    "\n",
    "# Reset\n",
    "persons.sort_values('pk_bhp', inplace=True)\n",
    "persons.drop_duplicates(inplace=True)\n",
    "persons.reset_index(inplace=True, drop=True)\n",
    "\n",
    "a.infos(persons)\n",
    "db.disconnect()\n",
    "\n",
    "# 10s"
   ]
  },
  {
   "cell_type": "code",
   "execution_count": 4,
   "metadata": {},
   "outputs": [
    {
     "name": "stdout",
     "output_type": "stream",
     "text": [
      "[DB] Connecting to PRODUCTION Database ... Connected!\n",
      "Shape:  (37385, 3) - extract:\n"
     ]
    },
    {
     "data": {
      "text/html": [
       "<div>\n",
       "<style scoped>\n",
       "    .dataframe tbody tr th:only-of-type {\n",
       "        vertical-align: middle;\n",
       "    }\n",
       "\n",
       "    .dataframe tbody tr th {\n",
       "        vertical-align: top;\n",
       "    }\n",
       "\n",
       "    .dataframe thead th {\n",
       "        text-align: right;\n",
       "    }\n",
       "</style>\n",
       "<table border=\"1\" class=\"dataframe\">\n",
       "  <thead>\n",
       "    <tr style=\"text-align: right;\">\n",
       "      <th></th>\n",
       "      <th>pk_birth</th>\n",
       "      <th>current_comment</th>\n",
       "      <th>date_existing</th>\n",
       "    </tr>\n",
       "  </thead>\n",
       "  <tbody>\n",
       "    <tr>\n",
       "      <th>0</th>\n",
       "      <td>7489073</td>\n",
       "      <td>None</td>\n",
       "      <td>(1647, 1, 1)</td>\n",
       "    </tr>\n",
       "    <tr>\n",
       "      <th>1</th>\n",
       "      <td>7489054</td>\n",
       "      <td>None</td>\n",
       "      <td>(1599, 1, 1)</td>\n",
       "    </tr>\n",
       "    <tr>\n",
       "      <th>2</th>\n",
       "      <td>7489055</td>\n",
       "      <td>None</td>\n",
       "      <td>(1600, 1, 1)</td>\n",
       "    </tr>\n",
       "    <tr>\n",
       "      <th>3</th>\n",
       "      <td>7489056</td>\n",
       "      <td>None</td>\n",
       "      <td>(1600, 1, 1)</td>\n",
       "    </tr>\n",
       "    <tr>\n",
       "      <th>4</th>\n",
       "      <td>7489057</td>\n",
       "      <td>None</td>\n",
       "      <td>(1681, 1, 1)</td>\n",
       "    </tr>\n",
       "  </tbody>\n",
       "</table>\n",
       "</div>"
      ],
      "text/plain": [
       "   pk_birth current_comment date_existing\n",
       "0   7489073            None  (1647, 1, 1)\n",
       "1   7489054            None  (1599, 1, 1)\n",
       "2   7489055            None  (1600, 1, 1)\n",
       "3   7489056            None  (1600, 1, 1)\n",
       "4   7489057            None  (1681, 1, 1)"
      ]
     },
     "metadata": {},
     "output_type": "display_data"
    },
    {
     "name": "stdout",
     "output_type": "stream",
     "text": [
      "[DB] Database correctly disconnected.\n"
     ]
    }
   ],
   "source": [
    "db.connect_geovistory(env, pk_project, execute, skip_protection=True)\n",
    "\n",
    "births = db.query(f\"\"\"\n",
    "    select\n",
    "        r.pk_entity as pk_birth\n",
    "        ,tp1.julian_day, tp1.calendar        \n",
    "        ,a3.string as current_comment\n",
    "    from information.resource r\n",
    "    inner join projects.info_proj_rel ipr on ipr.fk_entity = r.pk_entity and ipr.fk_project = {pk_project} and ipr.is_in_project = true\n",
    "    -- birth date\n",
    "    inner join information.statement s1 on s1.fk_subject_info = r.pk_entity and (s1.fk_property = {pks.properties.timeSpan_atSomeTimeWithin_timePrimitive} or s1.fk_property = {pks.properties.timespan_beginOfTheBegin_timePrim} or s1.fk_property = {pks.properties.timespan_endOfTheEnd_timePrim})\n",
    "    inner join projects.info_proj_rel ipr1 on ipr1.fk_entity = s1.pk_entity and ipr1.fk_project = {pk_project} and ipr1.is_in_project = true\n",
    "    inner join information.time_primitive tp1 on tp1.pk_entity = s1.fk_object_info\n",
    "    -- comment\n",
    "    left join information.statement s2 on s2.fk_subject_info = s1.fk_subject_info and s2.fk_property = {pks.properties.entity_hasComment_text}\n",
    "    left join information.statement s3 on s3.fk_subject_info = s2.fk_object_info and s3.fk_property = {pks.properties.text_hasValueVersion_string}\n",
    "    left join information.appellation a3 on a3.pk_entity = s3.fk_object_info\n",
    "    where r.fk_class = {pks.classes.birth}\n",
    "\"\"\")\n",
    "\n",
    "births['date_existing'] = [u.from_julian_day(row['julian_day'], row['calendar']) for _,row in births.iterrows()]\n",
    "births.drop(columns=['julian_day', 'calendar'], inplace=True)\n",
    "\n",
    "\n",
    "a.infos(births)\n",
    "db.disconnect()\n",
    "\n",
    "# 3s"
   ]
  },
  {
   "cell_type": "code",
   "execution_count": 5,
   "metadata": {},
   "outputs": [
    {
     "name": "stdout",
     "output_type": "stream",
     "text": [
      "Shape:  (59866, 5) - extract:\n"
     ]
    },
    {
     "data": {
      "text/html": [
       "<div>\n",
       "<style scoped>\n",
       "    .dataframe tbody tr th:only-of-type {\n",
       "        vertical-align: middle;\n",
       "    }\n",
       "\n",
       "    .dataframe tbody tr th {\n",
       "        vertical-align: top;\n",
       "    }\n",
       "\n",
       "    .dataframe thead th {\n",
       "        text-align: right;\n",
       "    }\n",
       "</style>\n",
       "<table border=\"1\" class=\"dataframe\">\n",
       "  <thead>\n",
       "    <tr style=\"text-align: right;\">\n",
       "      <th></th>\n",
       "      <th>pk_person</th>\n",
       "      <th>pk_birth</th>\n",
       "      <th>pk_bhp</th>\n",
       "      <th>current_comment</th>\n",
       "      <th>date_existing</th>\n",
       "    </tr>\n",
       "  </thead>\n",
       "  <tbody>\n",
       "    <tr>\n",
       "      <th>0</th>\n",
       "      <td>6532778</td>\n",
       "      <td>7489054</td>\n",
       "      <td>1</td>\n",
       "      <td>None</td>\n",
       "      <td>(1599, 1, 1)</td>\n",
       "    </tr>\n",
       "    <tr>\n",
       "      <th>1</th>\n",
       "      <td>6499432</td>\n",
       "      <td>7489055</td>\n",
       "      <td>2</td>\n",
       "      <td>None</td>\n",
       "      <td>(1600, 1, 1)</td>\n",
       "    </tr>\n",
       "    <tr>\n",
       "      <th>2</th>\n",
       "      <td>783602</td>\n",
       "      <td>806773</td>\n",
       "      <td>3</td>\n",
       "      <td>None</td>\n",
       "      <td>(1581, 1, 1)</td>\n",
       "    </tr>\n",
       "    <tr>\n",
       "      <th>3</th>\n",
       "      <td>6509333</td>\n",
       "      <td>7489056</td>\n",
       "      <td>4</td>\n",
       "      <td>None</td>\n",
       "      <td>(1600, 1, 1)</td>\n",
       "    </tr>\n",
       "    <tr>\n",
       "      <th>4</th>\n",
       "      <td>6511070</td>\n",
       "      <td>7489057</td>\n",
       "      <td>5</td>\n",
       "      <td>None</td>\n",
       "      <td>(1681, 1, 1)</td>\n",
       "    </tr>\n",
       "  </tbody>\n",
       "</table>\n",
       "</div>"
      ],
      "text/plain": [
       "   pk_person  pk_birth  pk_bhp current_comment date_existing\n",
       "0    6532778   7489054       1            None  (1599, 1, 1)\n",
       "1    6499432   7489055       2            None  (1600, 1, 1)\n",
       "2     783602    806773       3            None  (1581, 1, 1)\n",
       "3    6509333   7489056       4            None  (1600, 1, 1)\n",
       "4    6511070   7489057       5            None  (1681, 1, 1)"
      ]
     },
     "metadata": {},
     "output_type": "display_data"
    }
   ],
   "source": [
    "persons = persons.merge(births, on='pk_birth', how='left')\n",
    "\n",
    "a.infos(persons)"
   ]
  },
  {
   "attachments": {},
   "cell_type": "markdown",
   "metadata": {},
   "source": [
    "### Data merge"
   ]
  },
  {
   "cell_type": "code",
   "execution_count": 6,
   "metadata": {},
   "outputs": [
    {
     "name": "stdout",
     "output_type": "stream",
     "text": [
      "Shape:  (11438, 7) - extract:\n"
     ]
    },
    {
     "data": {
      "text/html": [
       "<div>\n",
       "<style scoped>\n",
       "    .dataframe tbody tr th:only-of-type {\n",
       "        vertical-align: middle;\n",
       "    }\n",
       "\n",
       "    .dataframe tbody tr th {\n",
       "        vertical-align: top;\n",
       "    }\n",
       "\n",
       "    .dataframe thead th {\n",
       "        text-align: right;\n",
       "    }\n",
       "</style>\n",
       "<table border=\"1\" class=\"dataframe\">\n",
       "  <thead>\n",
       "    <tr style=\"text-align: right;\">\n",
       "      <th></th>\n",
       "      <th>pk_bhp</th>\n",
       "      <th>date</th>\n",
       "      <th>certainty</th>\n",
       "      <th>pk_person</th>\n",
       "      <th>pk_birth</th>\n",
       "      <th>current_comment</th>\n",
       "      <th>date_existing</th>\n",
       "    </tr>\n",
       "  </thead>\n",
       "  <tbody>\n",
       "    <tr>\n",
       "      <th>951</th>\n",
       "      <td>42443</td>\n",
       "      <td>(1887, 1, 1)</td>\n",
       "      <td>3</td>\n",
       "      <td>6494674</td>\n",
       "      <td>7527651</td>\n",
       "      <td>NaN</td>\n",
       "      <td>NaN</td>\n",
       "    </tr>\n",
       "    <tr>\n",
       "      <th>741</th>\n",
       "      <td>31455</td>\n",
       "      <td>(1880, 1, 1)</td>\n",
       "      <td>3</td>\n",
       "      <td>6494342</td>\n",
       "      <td>7518767</td>\n",
       "      <td>NaN</td>\n",
       "      <td>NaN</td>\n",
       "    </tr>\n",
       "    <tr>\n",
       "      <th>13020</th>\n",
       "      <td>60962</td>\n",
       "      <td>(1825, 1, 1)</td>\n",
       "      <td>3</td>\n",
       "      <td>6535972</td>\n",
       "      <td>7544799</td>\n",
       "      <td>NaN</td>\n",
       "      <td>NaN</td>\n",
       "    </tr>\n",
       "    <tr>\n",
       "      <th>14822</th>\n",
       "      <td>46241</td>\n",
       "      <td>(1625, 1, 1)</td>\n",
       "      <td>3</td>\n",
       "      <td>6539719</td>\n",
       "      <td>7531369</td>\n",
       "      <td>NaN</td>\n",
       "      <td>NaN</td>\n",
       "    </tr>\n",
       "    <tr>\n",
       "      <th>13416</th>\n",
       "      <td>61035</td>\n",
       "      <td>(1825, 1, 1)</td>\n",
       "      <td>3</td>\n",
       "      <td>6537033</td>\n",
       "      <td>7544871</td>\n",
       "      <td>NaN</td>\n",
       "      <td>NaN</td>\n",
       "    </tr>\n",
       "  </tbody>\n",
       "</table>\n",
       "</div>"
      ],
      "text/plain": [
       "       pk_bhp          date certainty  pk_person  pk_birth current_comment  \\\n",
       "951     42443  (1887, 1, 1)         3    6494674   7527651             NaN   \n",
       "741     31455  (1880, 1, 1)         3    6494342   7518767             NaN   \n",
       "13020   60962  (1825, 1, 1)         3    6535972   7544799             NaN   \n",
       "14822   46241  (1625, 1, 1)         3    6539719   7531369             NaN   \n",
       "13416   61035  (1825, 1, 1)         3    6537033   7544871             NaN   \n",
       "\n",
       "      date_existing  \n",
       "951             NaN  \n",
       "741             NaN  \n",
       "13020           NaN  \n",
       "14822           NaN  \n",
       "13416           NaN  "
      ]
     },
     "metadata": {},
     "output_type": "display_data"
    }
   ],
   "source": [
    "table = actors.merge(persons, on='pk_bhp')\n",
    "table = table[pd.isna(table['date_existing'])]\n",
    "table['comment'] = ['Date postulée' if row['certainty'] == '2' else 'Date reconstituée' for _,row in table.iterrows()]\n",
    "\n",
    "a.infos(table, random=True)"
   ]
  },
  {
   "cell_type": "code",
   "execution_count": 7,
   "metadata": {},
   "outputs": [
    {
     "name": "stdout",
     "output_type": "stream",
     "text": [
      "Shape:  (899, 8) - extract:\n"
     ]
    },
    {
     "data": {
      "text/html": [
       "<div>\n",
       "<style scoped>\n",
       "    .dataframe tbody tr th:only-of-type {\n",
       "        vertical-align: middle;\n",
       "    }\n",
       "\n",
       "    .dataframe tbody tr th {\n",
       "        vertical-align: top;\n",
       "    }\n",
       "\n",
       "    .dataframe thead th {\n",
       "        text-align: right;\n",
       "    }\n",
       "</style>\n",
       "<table border=\"1\" class=\"dataframe\">\n",
       "  <thead>\n",
       "    <tr style=\"text-align: right;\">\n",
       "      <th></th>\n",
       "      <th>pk_bhp</th>\n",
       "      <th>date</th>\n",
       "      <th>certainty</th>\n",
       "      <th>pk_person</th>\n",
       "      <th>pk_birth</th>\n",
       "      <th>current_comment</th>\n",
       "      <th>date_existing</th>\n",
       "      <th>comment</th>\n",
       "    </tr>\n",
       "  </thead>\n",
       "  <tbody>\n",
       "    <tr>\n",
       "      <th>9652</th>\n",
       "      <td>42206</td>\n",
       "      <td>(1876, 1, 1)</td>\n",
       "      <td>2</td>\n",
       "      <td>6522925</td>\n",
       "      <td>7527419</td>\n",
       "      <td>None</td>\n",
       "      <td>(1876, 1, 1)</td>\n",
       "      <td>Date postulée</td>\n",
       "    </tr>\n",
       "    <tr>\n",
       "      <th>10468</th>\n",
       "      <td>42068</td>\n",
       "      <td>(1879, 1, 1)</td>\n",
       "      <td>2</td>\n",
       "      <td>6528000</td>\n",
       "      <td>7527281</td>\n",
       "      <td>None</td>\n",
       "      <td>(1879, 1, 1)</td>\n",
       "      <td>Date postulée</td>\n",
       "    </tr>\n",
       "    <tr>\n",
       "      <th>9698</th>\n",
       "      <td>42261</td>\n",
       "      <td>(1878, 1, 1)</td>\n",
       "      <td>2</td>\n",
       "      <td>6522980</td>\n",
       "      <td>7527474</td>\n",
       "      <td>None</td>\n",
       "      <td>(1878, 1, 1)</td>\n",
       "      <td>Date postulée</td>\n",
       "    </tr>\n",
       "    <tr>\n",
       "      <th>9693</th>\n",
       "      <td>42256</td>\n",
       "      <td>(1873, 1, 1)</td>\n",
       "      <td>2</td>\n",
       "      <td>6522974</td>\n",
       "      <td>7527469</td>\n",
       "      <td>None</td>\n",
       "      <td>(1873, 1, 1)</td>\n",
       "      <td>Date postulée</td>\n",
       "    </tr>\n",
       "    <tr>\n",
       "      <th>9362</th>\n",
       "      <td>40108</td>\n",
       "      <td>(1901, 1, 1)</td>\n",
       "      <td>2</td>\n",
       "      <td>6521290</td>\n",
       "      <td>7525606</td>\n",
       "      <td>None</td>\n",
       "      <td>(1901, 1, 1)</td>\n",
       "      <td>Date postulée</td>\n",
       "    </tr>\n",
       "  </tbody>\n",
       "</table>\n",
       "</div>"
      ],
      "text/plain": [
       "       pk_bhp          date certainty  pk_person  pk_birth current_comment  \\\n",
       "9652    42206  (1876, 1, 1)         2    6522925   7527419            None   \n",
       "10468   42068  (1879, 1, 1)         2    6528000   7527281            None   \n",
       "9698    42261  (1878, 1, 1)         2    6522980   7527474            None   \n",
       "9693    42256  (1873, 1, 1)         2    6522974   7527469            None   \n",
       "9362    40108  (1901, 1, 1)         2    6521290   7525606            None   \n",
       "\n",
       "      date_existing        comment  \n",
       "9652   (1876, 1, 1)  Date postulée  \n",
       "10468  (1879, 1, 1)  Date postulée  \n",
       "9698   (1878, 1, 1)  Date postulée  \n",
       "9693   (1873, 1, 1)  Date postulée  \n",
       "9362   (1901, 1, 1)  Date postulée  "
      ]
     },
     "metadata": {},
     "output_type": "display_data"
    }
   ],
   "source": [
    "table2 = actors.merge(persons, on='pk_bhp')\n",
    "table2 = table2[table2['certainty'] == '2']\n",
    "table2 = table2[pd.isna(table2['current_comment'])]\n",
    "table2['comment'] = ['Date postulée' if row['certainty'] == '2' else '' for _,row in table2.iterrows()]\n",
    "\n",
    "a.infos(table2, random=True)"
   ]
  },
  {
   "attachments": {},
   "cell_type": "markdown",
   "metadata": {},
   "source": [
    "### Create information"
   ]
  },
  {
   "cell_type": "code",
   "execution_count": 9,
   "metadata": {},
   "outputs": [
    {
     "name": "stdout",
     "output_type": "stream",
     "text": [
      "[DB] Connecting to PRODUCTION Database ... Connected!\n"
     ]
    }
   ],
   "source": [
    "db.connect_geovistory(env, pk_project, execute)"
   ]
  },
  {
   "attachments": {},
   "cell_type": "markdown",
   "metadata": {},
   "source": [
    "**Birth date**"
   ]
  },
  {
   "cell_type": "code",
   "execution_count": 11,
   "metadata": {},
   "outputs": [
    {
     "name": "stdout",
     "output_type": "stream",
     "text": [
      "Creating 11438 time primitives ... Done in [00h00'01]\n",
      "Creating info_proj_rel of 11438 entities with project <6857901> ... Done in [00h00'05]\n",
      "Creating 11438 statements ... Done in [00h00'10]\n",
      "Creating info_proj_rel of 11438 entities with project <6857901> ... Done in [00h00'04]\n"
     ]
    }
   ],
   "source": [
    "table['pk_tp'] = db.time_primitives.create(table['date'], '1 year')\n",
    "db.statements.create(table['pk_birth'], pks.properties.timeSpan_atSomeTimeWithin_timePrimitive, table['pk_tp'])"
   ]
  },
  {
   "cell_type": "code",
   "execution_count": null,
   "metadata": {},
   "outputs": [],
   "source": [
    "# db.connect_geovistory(env, pk_project, execute, skip_protection=True)\n",
    "# values = '(' + ','.join([str(e) for e in table.pk_birth]) + ')'\n",
    "\n",
    "# r = db.query(f\"\"\"\n",
    "#     select \n",
    "#         s.fk_subject_info, s.fk_property, s.fk_object_info\n",
    "#     from information.statement s\n",
    "#     inner join projects.info_proj_rel ipr on ipr.fk_entity = s.pk_entity and ipr.fk_project = {pk_project} and ipr.is_in_project = true\n",
    "#     where s.fk_subject_info in {values} and \n",
    "#        (s.fk_property = {pks.properties.timeSpan_atSomeTimeWithin_timePrimitive}\n",
    "#     or  s.fk_property = {pks.properties.timespan_beginOfTheBegin_timePrim}\n",
    "#     or  s.fk_property = {pks.properties.timespan_endOfTheEnd_timePrim} )\n",
    "    \n",
    "# \"\"\")\n",
    "\n",
    "# db.disconnect()\n",
    "\n",
    "# r"
   ]
  },
  {
   "attachments": {},
   "cell_type": "markdown",
   "metadata": {},
   "source": [
    "**Comments**: \"Reconstituée\""
   ]
  },
  {
   "cell_type": "code",
   "execution_count": 17,
   "metadata": {},
   "outputs": [
    {
     "name": "stdout",
     "output_type": "stream",
     "text": [
      "Creating 11438 appellations ... Done in [00h00'04]\n",
      "Creating 11438 statements ... Done in [00h00'09]\n",
      "Creating info_proj_rel of 11438 entities with project <6857901> ... Done in [00h00'05]\n",
      "Creating 11438 statements ... Done in [00h00'08]\n",
      "Creating info_proj_rel of 11438 entities with project <6857901> ... Done in [00h00'03]\n",
      "Creating 11438 statements ... Done in [00h00'09]\n",
      "Creating info_proj_rel of 11438 entities with project <6857901> ... Done in [00h00'04]\n"
     ]
    }
   ],
   "source": [
    "pk_intance_comment_type = 7953586\n",
    "\n",
    "# table['pk_comment'] = db.resources.create(pks.classes.text, len(table))\n",
    "table['pk_appe'] = db.appellations.create(table['comment'])\n",
    "\n",
    "db.statements.create(table['pk_birth'], pks.properties.entity_hasComment_text, table['pk_comment'])\n",
    "db.statements.create(table['pk_comment'], pks.properties.text_hasTextType_textType, pk_intance_comment_type)\n",
    "db.statements.create(table['pk_comment'], pks.properties.text_hasValueVersion_string, table['pk_appe'])"
   ]
  },
  {
   "attachments": {},
   "cell_type": "markdown",
   "metadata": {},
   "source": [
    "**Comments**: \"Postulée\""
   ]
  },
  {
   "cell_type": "code",
   "execution_count": 18,
   "metadata": {},
   "outputs": [
    {
     "name": "stdout",
     "output_type": "stream",
     "text": [
      "Creating 899 resources of class [785] ... Done in [00h00'00]\n",
      "Creating info_proj_rel of 899 entities with project <6857901> ... Done in [00h00'01]\n",
      "Creating 899 appellations ... Done in [00h00'00]\n",
      "Creating 899 statements ... Done in [00h00'01]\n",
      "Creating info_proj_rel of 899 entities with project <6857901> ... Done in [00h00'00]\n",
      "Creating 899 statements ... Done in [00h00'01]\n",
      "Creating info_proj_rel of 899 entities with project <6857901> ... Done in [00h00'00]\n",
      "Creating 899 statements ... Done in [00h00'01]\n",
      "Creating info_proj_rel of 899 entities with project <6857901> ... Done in [00h00'01]\n"
     ]
    }
   ],
   "source": [
    "pk_intance_comment_type = 7953586\n",
    "\n",
    "table2['pk_comment'] = db.resources.create(pks.classes.text, len(table2))\n",
    "table2['pk_appe'] = db.appellations.create(table2['comment'])\n",
    "\n",
    "db.statements.create(table2['pk_birth'], pks.properties.entity_hasComment_text, table2['pk_comment'])\n",
    "db.statements.create(table2['pk_comment'], pks.properties.text_hasTextType_textType, pk_intance_comment_type)\n",
    "db.statements.create(table2['pk_comment'], pks.properties.text_hasValueVersion_string, table2['pk_appe'])"
   ]
  },
  {
   "cell_type": "code",
   "execution_count": 19,
   "metadata": {},
   "outputs": [
    {
     "name": "stdout",
     "output_type": "stream",
     "text": [
      "[DB] Database correctly disconnected.\n"
     ]
    }
   ],
   "source": [
    "db.disconnect()"
   ]
  },
  {
   "attachments": {},
   "cell_type": "markdown",
   "metadata": {},
   "source": [
    "## Deaths"
   ]
  },
  {
   "attachments": {},
   "cell_type": "markdown",
   "metadata": {},
   "source": [
    "### Fetch information on BHP"
   ]
  },
  {
   "attachments": {},
   "cell_type": "markdown",
   "metadata": {},
   "source": [
    "We take the logic we had at the first place, but keep certainty_end == 3 or 2"
   ]
  },
  {
   "cell_type": "code",
   "execution_count": 20,
   "metadata": {},
   "outputs": [
    {
     "name": "stdout",
     "output_type": "stream",
     "text": [
      "[DB] Connecting to PGSQL Database ... Connected!\n",
      "Shape:  (3326, 3) - extract:\n"
     ]
    },
    {
     "data": {
      "text/html": [
       "<div>\n",
       "<style scoped>\n",
       "    .dataframe tbody tr th:only-of-type {\n",
       "        vertical-align: middle;\n",
       "    }\n",
       "\n",
       "    .dataframe tbody tr th {\n",
       "        vertical-align: top;\n",
       "    }\n",
       "\n",
       "    .dataframe thead th {\n",
       "        text-align: right;\n",
       "    }\n",
       "</style>\n",
       "<table border=\"1\" class=\"dataframe\">\n",
       "  <thead>\n",
       "    <tr style=\"text-align: right;\">\n",
       "      <th></th>\n",
       "      <th>pk_bhp</th>\n",
       "      <th>date</th>\n",
       "      <th>certainty</th>\n",
       "    </tr>\n",
       "  </thead>\n",
       "  <tbody>\n",
       "    <tr>\n",
       "      <th>0</th>\n",
       "      <td>44895</td>\n",
       "      <td>(1930, 1, 1)</td>\n",
       "      <td>3</td>\n",
       "    </tr>\n",
       "    <tr>\n",
       "      <th>1</th>\n",
       "      <td>47015</td>\n",
       "      <td>(1545, 1, 1)</td>\n",
       "      <td>3</td>\n",
       "    </tr>\n",
       "    <tr>\n",
       "      <th>542</th>\n",
       "      <td>47606</td>\n",
       "      <td>(1582, 1, 1)</td>\n",
       "      <td>3</td>\n",
       "    </tr>\n",
       "    <tr>\n",
       "      <th>624</th>\n",
       "      <td>30877</td>\n",
       "      <td>(1640, 1, 1)</td>\n",
       "      <td>3</td>\n",
       "    </tr>\n",
       "    <tr>\n",
       "      <th>3462</th>\n",
       "      <td>16798</td>\n",
       "      <td>(1684, 1, 1)</td>\n",
       "      <td>3</td>\n",
       "    </tr>\n",
       "  </tbody>\n",
       "</table>\n",
       "</div>"
      ],
      "text/plain": [
       "      pk_bhp          date certainty\n",
       "0      44895  (1930, 1, 1)         3\n",
       "1      47015  (1545, 1, 1)         3\n",
       "542    47606  (1582, 1, 1)         3\n",
       "624    30877  (1640, 1, 1)         3\n",
       "3462   16798  (1684, 1, 1)         3"
      ]
     },
     "metadata": {},
     "output_type": "display_data"
    }
   ],
   "source": [
    "db.connect_external(os.environ.get('YELLOW_BHP'))\n",
    "\n",
    "actors = db.query('select * from bhp.actor')\n",
    "\n",
    "actors = actors[~actors['concat_standard_name'].str.contains('\\[à identifier\\]')]\n",
    "actors = actors[~actors['concat_standard_name'].str.contains('\\[ne pas importer\\]')]\n",
    "actors = actors[~actors['concat_standard_name'].str.contains('DOUBLON')]\n",
    "actors = actors[~actors['concat_standard_name'].str.contains('Doublon')]\n",
    "actors = actors[~actors['concat_standard_name'].str.contains('réutiliser')]\n",
    "actors = actors[~actors['concat_standard_name'].str.contains('REUTILISER')]\n",
    "actors = actors[actors['fk_abob_type_actor'] == 104]\n",
    "actors.replace({'\\r\\n':''}, regex=True, inplace=True)\n",
    "actors.replace({'<p>':''}, regex=True, inplace=True)\n",
    "actors.replace({'</p>':''}, regex=True, inplace=True)\n",
    "actors['gender_iso'].replace(pd.NA, 0, inplace=True)\n",
    "actors['certainty_begin'].replace(pd.NA, '0', inplace=True)\n",
    "actors['certainty_end'].replace(' ', pd.NA, inplace=True)\n",
    "actors['certainty_end'].replace(pd.NA, '0', inplace=True)\n",
    "for i, row in actors.iterrows():\n",
    "    if pd.isna(row['begin_year']): actors.at[i, 'certainty_begin'] = '0'\n",
    "    if pd.isna(row['end_year']): actors.at[i, 'certainty_end'] = '0'\n",
    "\n",
    "\n",
    "actors = actors[(actors['certainty_end'] == '3') | (actors['certainty_end'] == '2')]\n",
    "actors['end_year'] = actors['end_year'].astype(int)\n",
    "actors['date'] = [(y, 1, 1) for y in actors.end_year]\n",
    "actors = actors[['pk_actor', 'date', 'certainty_end']]\n",
    "actors.columns = ['pk_bhp', 'date', 'certainty']\n",
    "\n",
    "a.infos(actors)\n",
    "\n",
    "# 5s"
   ]
  },
  {
   "attachments": {},
   "cell_type": "markdown",
   "metadata": {},
   "source": [
    "### Fetch information on Geovistory"
   ]
  },
  {
   "cell_type": "code",
   "execution_count": 21,
   "metadata": {},
   "outputs": [
    {
     "name": "stdout",
     "output_type": "stream",
     "text": [
      "[DB] Connecting to PRODUCTION Database ... Connected!\n",
      "Shape:  (59525, 3) - extract:\n"
     ]
    },
    {
     "data": {
      "text/html": [
       "<div>\n",
       "<style scoped>\n",
       "    .dataframe tbody tr th:only-of-type {\n",
       "        vertical-align: middle;\n",
       "    }\n",
       "\n",
       "    .dataframe tbody tr th {\n",
       "        vertical-align: top;\n",
       "    }\n",
       "\n",
       "    .dataframe thead th {\n",
       "        text-align: right;\n",
       "    }\n",
       "</style>\n",
       "<table border=\"1\" class=\"dataframe\">\n",
       "  <thead>\n",
       "    <tr style=\"text-align: right;\">\n",
       "      <th></th>\n",
       "      <th>pk_person</th>\n",
       "      <th>pk_death</th>\n",
       "      <th>pk_bhp</th>\n",
       "    </tr>\n",
       "  </thead>\n",
       "  <tbody>\n",
       "    <tr>\n",
       "      <th>0</th>\n",
       "      <td>6532778</td>\n",
       "      <td>7726515</td>\n",
       "      <td>1</td>\n",
       "    </tr>\n",
       "    <tr>\n",
       "      <th>1</th>\n",
       "      <td>6499432</td>\n",
       "      <td>7726516</td>\n",
       "      <td>2</td>\n",
       "    </tr>\n",
       "    <tr>\n",
       "      <th>2</th>\n",
       "      <td>783602</td>\n",
       "      <td>7726517</td>\n",
       "      <td>3</td>\n",
       "    </tr>\n",
       "    <tr>\n",
       "      <th>3</th>\n",
       "      <td>6509333</td>\n",
       "      <td>7726518</td>\n",
       "      <td>4</td>\n",
       "    </tr>\n",
       "    <tr>\n",
       "      <th>4</th>\n",
       "      <td>6511070</td>\n",
       "      <td>7726519</td>\n",
       "      <td>5</td>\n",
       "    </tr>\n",
       "  </tbody>\n",
       "</table>\n",
       "</div>"
      ],
      "text/plain": [
       "   pk_person  pk_death  pk_bhp\n",
       "0    6532778   7726515       1\n",
       "1    6499432   7726516       2\n",
       "2     783602   7726517       3\n",
       "3    6509333   7726518       4\n",
       "4    6511070   7726519       5"
      ]
     },
     "metadata": {},
     "output_type": "display_data"
    },
    {
     "name": "stdout",
     "output_type": "stream",
     "text": [
      "[DB] Database correctly disconnected.\n"
     ]
    }
   ],
   "source": [
    "db.connect_geovistory(env, pk_project, execute, skip_protection=True)\n",
    "\n",
    "persons = db.query(f\"\"\"\n",
    "    select \n",
    "        r.pk_entity as pk_person\n",
    "        ,a3.string as uri\n",
    "        ,s4.fk_subject_info as pk_death\n",
    "    from information.resource r \n",
    "    inner join projects.info_proj_rel ipr on ipr.fk_entity = r.pk_entity and ipr.fk_project = {pk_project} and ipr.is_in_project = true\n",
    "    -- URI\n",
    "    inner join information.statement s1 on s1.fk_subject_info = r.pk_entity and s1.fk_property = {pks.properties.entity_sameAsURI_URI}\n",
    "    inner join projects.info_proj_rel ipr1 on ipr1.fk_entity = s1.pk_entity and ipr1.fk_project = {pk_project} and ipr1.is_in_project = true\n",
    "    inner join information.statement s2 on s2.fk_subject_info = s1.fk_object_info and s2.fk_property = {pks.properties.appe_hasValue_string}\n",
    "    inner join projects.info_proj_rel ipr2 on ipr2.fk_entity = s2.pk_entity and ipr2.fk_project = {pk_project} and ipr2.is_in_project = true\n",
    "    inner join information.appellation a3 on a3.pk_entity = s2.fk_object_info\n",
    "    inner join projects.info_proj_rel ipr3 on ipr3.fk_entity = a3.pk_entity and ipr3.fk_project = {pk_project} and ipr3.is_in_project = true\n",
    "    -- Death\n",
    "    inner join information.statement s4 on s4.fk_object_info = r.pk_entity and s4.fk_property = {pks.properties.death_wasDeathOf_person}\n",
    "    inner join projects.info_proj_rel ipr4 on ipr4.fk_entity = s4.pk_entity and ipr4.fk_project = {pk_project} and ipr4.is_in_project = true\n",
    "    inner join projects.info_proj_rel ipr4b on ipr4b.fk_entity = s4.fk_subject_info and ipr4b.fk_project = {pk_project} and ipr4b.is_in_project = true\n",
    "    where r.fk_class = {pks.classes.person}\n",
    "\"\"\")\n",
    "\n",
    "# URI\n",
    "persons = persons[persons.uri.str.contains('symogih.org')]\n",
    "persons['pk_bhp'] = persons.uri.str.replace('http://symogih.org/resource/Actr', '', regex=False).astype(int)\n",
    "persons.drop(columns=['uri'], inplace=True)\n",
    "\n",
    "# Reset\n",
    "persons.sort_values('pk_bhp', inplace=True)\n",
    "persons.drop_duplicates(inplace=True)\n",
    "persons.reset_index(inplace=True, drop=True)\n",
    "\n",
    "a.infos(persons)\n",
    "db.disconnect()\n",
    "\n",
    "# 5s"
   ]
  },
  {
   "cell_type": "code",
   "execution_count": 23,
   "metadata": {},
   "outputs": [
    {
     "name": "stdout",
     "output_type": "stream",
     "text": [
      "[DB] Connecting to PRODUCTION Database ... Connected!\n",
      "Shape:  (26376, 3) - extract:\n"
     ]
    },
    {
     "data": {
      "text/html": [
       "<div>\n",
       "<style scoped>\n",
       "    .dataframe tbody tr th:only-of-type {\n",
       "        vertical-align: middle;\n",
       "    }\n",
       "\n",
       "    .dataframe tbody tr th {\n",
       "        vertical-align: top;\n",
       "    }\n",
       "\n",
       "    .dataframe thead th {\n",
       "        text-align: right;\n",
       "    }\n",
       "</style>\n",
       "<table border=\"1\" class=\"dataframe\">\n",
       "  <thead>\n",
       "    <tr style=\"text-align: right;\">\n",
       "      <th></th>\n",
       "      <th>pk_death</th>\n",
       "      <th>current_comment</th>\n",
       "      <th>date_existing</th>\n",
       "    </tr>\n",
       "  </thead>\n",
       "  <tbody>\n",
       "    <tr>\n",
       "      <th>0</th>\n",
       "      <td>7727432</td>\n",
       "      <td>None</td>\n",
       "      <td>(1659, 1, 1)</td>\n",
       "    </tr>\n",
       "    <tr>\n",
       "      <th>1</th>\n",
       "      <td>7727415</td>\n",
       "      <td>None</td>\n",
       "      <td>(1596, 1, 1)</td>\n",
       "    </tr>\n",
       "    <tr>\n",
       "      <th>2</th>\n",
       "      <td>7727416</td>\n",
       "      <td>None</td>\n",
       "      <td>(1672, 1, 1)</td>\n",
       "    </tr>\n",
       "    <tr>\n",
       "      <th>3</th>\n",
       "      <td>7727417</td>\n",
       "      <td>None</td>\n",
       "      <td>(1582, 1, 1)</td>\n",
       "    </tr>\n",
       "    <tr>\n",
       "      <th>4</th>\n",
       "      <td>7727418</td>\n",
       "      <td>None</td>\n",
       "      <td>(1678, 1, 1)</td>\n",
       "    </tr>\n",
       "  </tbody>\n",
       "</table>\n",
       "</div>"
      ],
      "text/plain": [
       "   pk_death current_comment date_existing\n",
       "0   7727432            None  (1659, 1, 1)\n",
       "1   7727415            None  (1596, 1, 1)\n",
       "2   7727416            None  (1672, 1, 1)\n",
       "3   7727417            None  (1582, 1, 1)\n",
       "4   7727418            None  (1678, 1, 1)"
      ]
     },
     "metadata": {},
     "output_type": "display_data"
    },
    {
     "name": "stdout",
     "output_type": "stream",
     "text": [
      "[DB] Database correctly disconnected.\n"
     ]
    }
   ],
   "source": [
    "db.connect_geovistory(env, pk_project, execute, skip_protection=True)\n",
    "\n",
    "deaths = db.query(f\"\"\"\n",
    "    select\n",
    "        r.pk_entity as pk_death\n",
    "        ,tp1.julian_day, tp1.calendar        \n",
    "        ,a3.string as current_comment\n",
    "    from information.resource r\n",
    "    inner join projects.info_proj_rel ipr on ipr.fk_entity = r.pk_entity and ipr.fk_project = {pk_project} and ipr.is_in_project = true\n",
    "    -- death date\n",
    "    inner join information.statement s1 on s1.fk_subject_info = r.pk_entity and (s1.fk_property = {pks.properties.timeSpan_atSomeTimeWithin_timePrimitive} or s1.fk_property = {pks.properties.timespan_beginOfTheBegin_timePrim} or s1.fk_property = {pks.properties.timespan_endOfTheEnd_timePrim})\n",
    "    inner join projects.info_proj_rel ipr1 on ipr1.fk_entity = s1.pk_entity and ipr1.fk_project = {pk_project} and ipr1.is_in_project = true\n",
    "    inner join information.time_primitive tp1 on tp1.pk_entity = s1.fk_object_info\n",
    "    -- comment\n",
    "    left join information.statement s2 on s2.fk_subject_info = s1.fk_subject_info and s2.fk_property = {pks.properties.entity_hasComment_text}\n",
    "    left join information.statement s3 on s3.fk_subject_info = s2.fk_object_info and s3.fk_property = {pks.properties.text_hasValueVersion_string}\n",
    "    left join information.appellation a3 on a3.pk_entity = s3.fk_object_info\n",
    "    where r.fk_class = {pks.classes.death}\n",
    "\"\"\")\n",
    "\n",
    "deaths['date_existing'] = [u.from_julian_day(row['julian_day'], row['calendar']) for _,row in deaths.iterrows()]\n",
    "deaths.drop(columns=['julian_day', 'calendar'], inplace=True)\n",
    "\n",
    "\n",
    "a.infos(deaths)\n",
    "db.disconnect()"
   ]
  },
  {
   "cell_type": "code",
   "execution_count": 24,
   "metadata": {},
   "outputs": [
    {
     "name": "stdout",
     "output_type": "stream",
     "text": [
      "Shape:  (59553, 5) - extract:\n"
     ]
    },
    {
     "data": {
      "text/html": [
       "<div>\n",
       "<style scoped>\n",
       "    .dataframe tbody tr th:only-of-type {\n",
       "        vertical-align: middle;\n",
       "    }\n",
       "\n",
       "    .dataframe tbody tr th {\n",
       "        vertical-align: top;\n",
       "    }\n",
       "\n",
       "    .dataframe thead th {\n",
       "        text-align: right;\n",
       "    }\n",
       "</style>\n",
       "<table border=\"1\" class=\"dataframe\">\n",
       "  <thead>\n",
       "    <tr style=\"text-align: right;\">\n",
       "      <th></th>\n",
       "      <th>pk_person</th>\n",
       "      <th>pk_death</th>\n",
       "      <th>pk_bhp</th>\n",
       "      <th>current_comment</th>\n",
       "      <th>date_existing</th>\n",
       "    </tr>\n",
       "  </thead>\n",
       "  <tbody>\n",
       "    <tr>\n",
       "      <th>0</th>\n",
       "      <td>6532778</td>\n",
       "      <td>7726515</td>\n",
       "      <td>1</td>\n",
       "      <td>None</td>\n",
       "      <td>(1653, 1, 1)</td>\n",
       "    </tr>\n",
       "    <tr>\n",
       "      <th>1</th>\n",
       "      <td>6499432</td>\n",
       "      <td>7726516</td>\n",
       "      <td>2</td>\n",
       "      <td>None</td>\n",
       "      <td>(1672, 1, 1)</td>\n",
       "    </tr>\n",
       "    <tr>\n",
       "      <th>2</th>\n",
       "      <td>783602</td>\n",
       "      <td>7726517</td>\n",
       "      <td>3</td>\n",
       "      <td>None</td>\n",
       "      <td>(1643, 1, 1)</td>\n",
       "    </tr>\n",
       "    <tr>\n",
       "      <th>3</th>\n",
       "      <td>6509333</td>\n",
       "      <td>7726518</td>\n",
       "      <td>4</td>\n",
       "      <td>None</td>\n",
       "      <td>(1635, 1, 1)</td>\n",
       "    </tr>\n",
       "    <tr>\n",
       "      <th>4</th>\n",
       "      <td>6511070</td>\n",
       "      <td>7726519</td>\n",
       "      <td>5</td>\n",
       "      <td>None</td>\n",
       "      <td>(1746, 1, 1)</td>\n",
       "    </tr>\n",
       "  </tbody>\n",
       "</table>\n",
       "</div>"
      ],
      "text/plain": [
       "   pk_person  pk_death  pk_bhp current_comment date_existing\n",
       "0    6532778   7726515       1            None  (1653, 1, 1)\n",
       "1    6499432   7726516       2            None  (1672, 1, 1)\n",
       "2     783602   7726517       3            None  (1643, 1, 1)\n",
       "3    6509333   7726518       4            None  (1635, 1, 1)\n",
       "4    6511070   7726519       5            None  (1746, 1, 1)"
      ]
     },
     "metadata": {},
     "output_type": "display_data"
    }
   ],
   "source": [
    "persons = persons.merge(deaths, on='pk_death', how='left')\n",
    "\n",
    "a.infos(persons)"
   ]
  },
  {
   "attachments": {},
   "cell_type": "markdown",
   "metadata": {},
   "source": [
    "### Data merge"
   ]
  },
  {
   "cell_type": "code",
   "execution_count": 27,
   "metadata": {},
   "outputs": [
    {
     "name": "stdout",
     "output_type": "stream",
     "text": [
      "Shape:  (3041, 8) - extract:\n"
     ]
    },
    {
     "data": {
      "text/html": [
       "<div>\n",
       "<style scoped>\n",
       "    .dataframe tbody tr th:only-of-type {\n",
       "        vertical-align: middle;\n",
       "    }\n",
       "\n",
       "    .dataframe tbody tr th {\n",
       "        vertical-align: top;\n",
       "    }\n",
       "\n",
       "    .dataframe thead th {\n",
       "        text-align: right;\n",
       "    }\n",
       "</style>\n",
       "<table border=\"1\" class=\"dataframe\">\n",
       "  <thead>\n",
       "    <tr style=\"text-align: right;\">\n",
       "      <th></th>\n",
       "      <th>pk_bhp</th>\n",
       "      <th>date</th>\n",
       "      <th>certainty</th>\n",
       "      <th>pk_person</th>\n",
       "      <th>pk_death</th>\n",
       "      <th>current_comment</th>\n",
       "      <th>date_existing</th>\n",
       "      <th>comment</th>\n",
       "    </tr>\n",
       "  </thead>\n",
       "  <tbody>\n",
       "    <tr>\n",
       "      <th>2501</th>\n",
       "      <td>61384</td>\n",
       "      <td>(1901, 1, 1)</td>\n",
       "      <td>3</td>\n",
       "      <td>6538089</td>\n",
       "      <td>7783823</td>\n",
       "      <td>NaN</td>\n",
       "      <td>NaN</td>\n",
       "      <td>Date reconstituée</td>\n",
       "    </tr>\n",
       "    <tr>\n",
       "      <th>2313</th>\n",
       "      <td>61192</td>\n",
       "      <td>(1901, 1, 1)</td>\n",
       "      <td>3</td>\n",
       "      <td>6537661</td>\n",
       "      <td>7783631</td>\n",
       "      <td>NaN</td>\n",
       "      <td>NaN</td>\n",
       "      <td>Date reconstituée</td>\n",
       "    </tr>\n",
       "    <tr>\n",
       "      <th>501</th>\n",
       "      <td>26729</td>\n",
       "      <td>(1862, 1, 1)</td>\n",
       "      <td>3</td>\n",
       "      <td>6513056</td>\n",
       "      <td>7752530</td>\n",
       "      <td>NaN</td>\n",
       "      <td>NaN</td>\n",
       "      <td>Date reconstituée</td>\n",
       "    </tr>\n",
       "    <tr>\n",
       "      <th>2487</th>\n",
       "      <td>46295</td>\n",
       "      <td>(1695, 1, 1)</td>\n",
       "      <td>3</td>\n",
       "      <td>6538048</td>\n",
       "      <td>7769205</td>\n",
       "      <td>NaN</td>\n",
       "      <td>NaN</td>\n",
       "      <td>Date reconstituée</td>\n",
       "    </tr>\n",
       "    <tr>\n",
       "      <th>692</th>\n",
       "      <td>27273</td>\n",
       "      <td>(1896, 1, 1)</td>\n",
       "      <td>3</td>\n",
       "      <td>6513469</td>\n",
       "      <td>7752960</td>\n",
       "      <td>NaN</td>\n",
       "      <td>NaN</td>\n",
       "      <td>Date reconstituée</td>\n",
       "    </tr>\n",
       "  </tbody>\n",
       "</table>\n",
       "</div>"
      ],
      "text/plain": [
       "      pk_bhp          date certainty  pk_person  pk_death current_comment  \\\n",
       "2501   61384  (1901, 1, 1)         3    6538089   7783823             NaN   \n",
       "2313   61192  (1901, 1, 1)         3    6537661   7783631             NaN   \n",
       "501    26729  (1862, 1, 1)         3    6513056   7752530             NaN   \n",
       "2487   46295  (1695, 1, 1)         3    6538048   7769205             NaN   \n",
       "692    27273  (1896, 1, 1)         3    6513469   7752960             NaN   \n",
       "\n",
       "     date_existing            comment  \n",
       "2501           NaN  Date reconstituée  \n",
       "2313           NaN  Date reconstituée  \n",
       "501            NaN  Date reconstituée  \n",
       "2487           NaN  Date reconstituée  \n",
       "692            NaN  Date reconstituée  "
      ]
     },
     "metadata": {},
     "output_type": "display_data"
    }
   ],
   "source": [
    "table = actors.merge(persons, on='pk_bhp')\n",
    "table = table[pd.isna(table['date_existing'])]\n",
    "table['comment'] = ['Date postulée' if row['certainty'] == '2' else 'Date reconstituée' for _,row in table.iterrows()]\n",
    "\n",
    "a.infos(table, random=True)"
   ]
  },
  {
   "cell_type": "code",
   "execution_count": 28,
   "metadata": {},
   "outputs": [
    {
     "name": "stdout",
     "output_type": "stream",
     "text": [
      "Shape:  (150, 8) - extract:\n"
     ]
    },
    {
     "data": {
      "text/html": [
       "<div>\n",
       "<style scoped>\n",
       "    .dataframe tbody tr th:only-of-type {\n",
       "        vertical-align: middle;\n",
       "    }\n",
       "\n",
       "    .dataframe tbody tr th {\n",
       "        vertical-align: top;\n",
       "    }\n",
       "\n",
       "    .dataframe thead th {\n",
       "        text-align: right;\n",
       "    }\n",
       "</style>\n",
       "<table border=\"1\" class=\"dataframe\">\n",
       "  <thead>\n",
       "    <tr style=\"text-align: right;\">\n",
       "      <th></th>\n",
       "      <th>pk_bhp</th>\n",
       "      <th>date</th>\n",
       "      <th>certainty</th>\n",
       "      <th>pk_person</th>\n",
       "      <th>pk_death</th>\n",
       "      <th>current_comment</th>\n",
       "      <th>date_existing</th>\n",
       "      <th>comment</th>\n",
       "    </tr>\n",
       "  </thead>\n",
       "  <tbody>\n",
       "    <tr>\n",
       "      <th>1903</th>\n",
       "      <td>57909</td>\n",
       "      <td>(1999, 1, 1)</td>\n",
       "      <td>2</td>\n",
       "      <td>6533919</td>\n",
       "      <td>7780339</td>\n",
       "      <td>None</td>\n",
       "      <td>(1999, 1, 1)</td>\n",
       "      <td>Date postulée</td>\n",
       "    </tr>\n",
       "    <tr>\n",
       "      <th>3176</th>\n",
       "      <td>46209</td>\n",
       "      <td>(1695, 1, 1)</td>\n",
       "      <td>2</td>\n",
       "      <td>6542029</td>\n",
       "      <td>7769119</td>\n",
       "      <td>None</td>\n",
       "      <td>(1695, 1, 1)</td>\n",
       "      <td>Date postulée</td>\n",
       "    </tr>\n",
       "    <tr>\n",
       "      <th>2511</th>\n",
       "      <td>59543</td>\n",
       "      <td>(1527, 1, 1)</td>\n",
       "      <td>2</td>\n",
       "      <td>6538150</td>\n",
       "      <td>7781975</td>\n",
       "      <td>None</td>\n",
       "      <td>(1527, 1, 1)</td>\n",
       "      <td>Date postulée</td>\n",
       "    </tr>\n",
       "    <tr>\n",
       "      <th>1308</th>\n",
       "      <td>38742</td>\n",
       "      <td>(1631, 1, 1)</td>\n",
       "      <td>2</td>\n",
       "      <td>6519981</td>\n",
       "      <td>7761969</td>\n",
       "      <td>None</td>\n",
       "      <td>(1631, 1, 1)</td>\n",
       "      <td>Date postulée</td>\n",
       "    </tr>\n",
       "    <tr>\n",
       "      <th>1897</th>\n",
       "      <td>57894</td>\n",
       "      <td>(1955, 1, 1)</td>\n",
       "      <td>2</td>\n",
       "      <td>6533903</td>\n",
       "      <td>7780324</td>\n",
       "      <td>None</td>\n",
       "      <td>(1955, 1, 1)</td>\n",
       "      <td>Date postulée</td>\n",
       "    </tr>\n",
       "  </tbody>\n",
       "</table>\n",
       "</div>"
      ],
      "text/plain": [
       "      pk_bhp          date certainty  pk_person  pk_death current_comment  \\\n",
       "1903   57909  (1999, 1, 1)         2    6533919   7780339            None   \n",
       "3176   46209  (1695, 1, 1)         2    6542029   7769119            None   \n",
       "2511   59543  (1527, 1, 1)         2    6538150   7781975            None   \n",
       "1308   38742  (1631, 1, 1)         2    6519981   7761969            None   \n",
       "1897   57894  (1955, 1, 1)         2    6533903   7780324            None   \n",
       "\n",
       "     date_existing        comment  \n",
       "1903  (1999, 1, 1)  Date postulée  \n",
       "3176  (1695, 1, 1)  Date postulée  \n",
       "2511  (1527, 1, 1)  Date postulée  \n",
       "1308  (1631, 1, 1)  Date postulée  \n",
       "1897  (1955, 1, 1)  Date postulée  "
      ]
     },
     "metadata": {},
     "output_type": "display_data"
    }
   ],
   "source": [
    "table2 = actors.merge(persons, on='pk_bhp')\n",
    "table2 = table2[table2['certainty'] == '2']\n",
    "table2 = table2[pd.isna(table2['current_comment'])]\n",
    "table2['comment'] = ['Date postulée' if row['certainty'] == '2' else '' for _,row in table2.iterrows()]\n",
    "\n",
    "a.infos(table2, random=True)"
   ]
  },
  {
   "attachments": {},
   "cell_type": "markdown",
   "metadata": {},
   "source": [
    "### Create information"
   ]
  },
  {
   "cell_type": "code",
   "execution_count": 29,
   "metadata": {},
   "outputs": [
    {
     "name": "stdout",
     "output_type": "stream",
     "text": [
      "[DB] Connecting to PRODUCTION Database ... Connected!\n"
     ]
    }
   ],
   "source": [
    "db.connect_geovistory(env, pk_project, execute)"
   ]
  },
  {
   "attachments": {},
   "cell_type": "markdown",
   "metadata": {},
   "source": [
    "**Birth date**"
   ]
  },
  {
   "cell_type": "code",
   "execution_count": 30,
   "metadata": {},
   "outputs": [
    {
     "name": "stdout",
     "output_type": "stream",
     "text": [
      "Creating 3041 time primitives ... Done in [00h00'00]\n",
      "Creating 3041 statements ... Done in [00h00'03]\n",
      "Creating info_proj_rel of 3041 entities with project <6857901> ... Done in [00h00'01]\n"
     ]
    }
   ],
   "source": [
    "table['pk_tp'] = db.time_primitives.create(table['date'], '1 year')\n",
    "db.statements.create(table['pk_death'], pks.properties.timeSpan_atSomeTimeWithin_timePrimitive, table['pk_tp'])"
   ]
  },
  {
   "cell_type": "code",
   "execution_count": null,
   "metadata": {},
   "outputs": [],
   "source": [
    "# db.connect_geovistory(env, pk_project, execute, skip_protection=True)\n",
    "# values = '(' + ','.join([str(e) for e in table.pk_birth]) + ')'\n",
    "\n",
    "# r = db.query(f\"\"\"\n",
    "#     select \n",
    "#         s.fk_subject_info, s.fk_property, s.fk_object_info\n",
    "#     from information.statement s\n",
    "#     inner join projects.info_proj_rel ipr on ipr.fk_entity = s.pk_entity and ipr.fk_project = {pk_project} and ipr.is_in_project = true\n",
    "#     where s.fk_subject_info in {values} and \n",
    "#        (s.fk_property = {pks.properties.timeSpan_atSomeTimeWithin_timePrimitive}\n",
    "#     or  s.fk_property = {pks.properties.timespan_beginOfTheBegin_timePrim}\n",
    "#     or  s.fk_property = {pks.properties.timespan_endOfTheEnd_timePrim} )\n",
    "    \n",
    "# \"\"\")\n",
    "\n",
    "# db.disconnect()\n",
    "\n",
    "# r"
   ]
  },
  {
   "attachments": {},
   "cell_type": "markdown",
   "metadata": {},
   "source": [
    "**Comments**: \"Reconstituée\""
   ]
  },
  {
   "cell_type": "code",
   "execution_count": 31,
   "metadata": {},
   "outputs": [
    {
     "name": "stdout",
     "output_type": "stream",
     "text": [
      "Creating 3041 resources of class [785] ... Done in [00h00'00]\n",
      "Creating info_proj_rel of 3041 entities with project <6857901> ... Done in [00h00'01]\n",
      "Creating 3041 appellations ... Done in [00h00'02]\n",
      "Creating 3041 statements ... Done in [00h00'02]\n",
      "Creating info_proj_rel of 3041 entities with project <6857901> ... Done in [00h00'01]\n",
      "Creating 3041 statements ... Done in [00h00'03]\n",
      "Creating info_proj_rel of 3041 entities with project <6857901> ... Done in [00h00'01]\n",
      "Creating 3041 statements ... Done in [00h00'02]\n",
      "Creating info_proj_rel of 3041 entities with project <6857901> ... Done in [00h00'02]\n"
     ]
    }
   ],
   "source": [
    "pk_intance_comment_type = 7953586\n",
    "\n",
    "table['pk_comment'] = db.resources.create(pks.classes.text, len(table))\n",
    "table['pk_appe'] = db.appellations.create(table['comment'])\n",
    "\n",
    "db.statements.create(table['pk_death'], pks.properties.entity_hasComment_text, table['pk_comment'])\n",
    "db.statements.create(table['pk_comment'], pks.properties.text_hasTextType_textType, pk_intance_comment_type)\n",
    "db.statements.create(table['pk_comment'], pks.properties.text_hasValueVersion_string, table['pk_appe'])"
   ]
  },
  {
   "attachments": {},
   "cell_type": "markdown",
   "metadata": {},
   "source": [
    "**Comments**: \"Postulée\""
   ]
  },
  {
   "cell_type": "code",
   "execution_count": 32,
   "metadata": {},
   "outputs": [
    {
     "name": "stdout",
     "output_type": "stream",
     "text": [
      "Creating 150 resources of class [785] ... Done in [00h00'00]\n",
      "Creating info_proj_rel of 150 entities with project <6857901> ... Done in [00h00'00]\n",
      "Creating 150 appellations ... Done in [00h00'00]\n",
      "Creating 150 statements ... Done in [00h00'01]\n",
      "Creating info_proj_rel of 150 entities with project <6857901> ... Done in [00h00'00]\n",
      "Creating 150 statements ... Done in [00h00'00]\n",
      "Creating info_proj_rel of 150 entities with project <6857901> ... Done in [00h00'00]\n",
      "Creating 150 statements ... Done in [00h00'00]\n",
      "Creating info_proj_rel of 150 entities with project <6857901> ... Done in [00h00'01]\n"
     ]
    }
   ],
   "source": [
    "pk_intance_comment_type = 7953586\n",
    "\n",
    "table2['pk_comment'] = db.resources.create(pks.classes.text, len(table2))\n",
    "table2['pk_appe'] = db.appellations.create(table2['comment'])\n",
    "\n",
    "db.statements.create(table2['pk_death'], pks.properties.entity_hasComment_text, table2['pk_comment'])\n",
    "db.statements.create(table2['pk_comment'], pks.properties.text_hasTextType_textType, pk_intance_comment_type)\n",
    "db.statements.create(table2['pk_comment'], pks.properties.text_hasValueVersion_string, table2['pk_appe'])"
   ]
  },
  {
   "cell_type": "code",
   "execution_count": 33,
   "metadata": {},
   "outputs": [
    {
     "name": "stdout",
     "output_type": "stream",
     "text": [
      "[DB] Database correctly disconnected.\n"
     ]
    }
   ],
   "source": [
    "db.disconnect()"
   ]
  }
 ],
 "metadata": {
  "kernelspec": {
   "display_name": "Python 3",
   "language": "python",
   "name": "python3"
  },
  "language_info": {
   "codemirror_mode": {
    "name": "ipython",
    "version": 3
   },
   "file_extension": ".py",
   "mimetype": "text/x-python",
   "name": "python",
   "nbconvert_exporter": "python",
   "pygments_lexer": "ipython3",
   "version": "3.8.10"
  },
  "orig_nbformat": 4
 },
 "nbformat": 4,
 "nbformat_minor": 2
}
