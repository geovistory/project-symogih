{
 "cells": [
  {
   "cell_type": "code",
   "execution_count": 1,
   "metadata": {},
   "outputs": [],
   "source": [
    "%load_ext autoreload\n",
    "%autoreload 2\n",
    "\n",
    "env = 'prod'\n",
    "pk_project = 6857901\n",
    "execute = True\n",
    "metadata_str = 'add-comment-to-birth-and-death'\n",
    "import_manner = 'one-shot' # 'batch'\n",
    "\n",
    "import os\n",
    "import pandas as pd\n",
    "import numpy as np\n",
    "from datetime import datetime\n",
    "import duckdb\n",
    "import plotly.express as px\n",
    "\n",
    "import geovpylib.analysis as a\n",
    "import geovpylib.database as db\n",
    "import geovpylib.graphs as graphs\n",
    "import geovpylib.pks as pks\n",
    "import geovpylib.recordlinkage as rl\n",
    "import geovpylib.sparql as sparql\n",
    "import geovpylib.utils as u\n",
    "\n",
    "eta = u.Eta()"
   ]
  },
  {
   "attachments": {},
   "cell_type": "markdown",
   "metadata": {},
   "source": [
    "# Add comment to birth and death"
   ]
  },
  {
   "attachments": {},
   "cell_type": "markdown",
   "metadata": {},
   "source": [
    "### Fetch information from BHP"
   ]
  },
  {
   "cell_type": "code",
   "execution_count": 2,
   "metadata": {},
   "outputs": [
    {
     "name": "stdout",
     "output_type": "stream",
     "text": [
      "[DB] Connecting to PGSQL Database ... Connected!\n",
      "Shape:  (50, 5) - extract:\n"
     ]
    },
    {
     "data": {
      "text/html": [
       "<div>\n",
       "<style scoped>\n",
       "    .dataframe tbody tr th:only-of-type {\n",
       "        vertical-align: middle;\n",
       "    }\n",
       "\n",
       "    .dataframe tbody tr th {\n",
       "        vertical-align: top;\n",
       "    }\n",
       "\n",
       "    .dataframe thead th {\n",
       "        text-align: right;\n",
       "    }\n",
       "</style>\n",
       "<table border=\"1\" class=\"dataframe\">\n",
       "  <thead>\n",
       "    <tr style=\"text-align: right;\">\n",
       "      <th></th>\n",
       "      <th>fk_info</th>\n",
       "      <th>complement</th>\n",
       "      <th>notes</th>\n",
       "      <th>date_hour_label</th>\n",
       "      <th>uri</th>\n",
       "    </tr>\n",
       "  </thead>\n",
       "  <tbody>\n",
       "    <tr>\n",
       "      <th>326</th>\n",
       "      <td>15059</td>\n",
       "      <td>Date à supprimer</td>\n",
       "      <td></td>\n",
       "      <td></td>\n",
       "      <td>http://symogih.org/resource/Info15059</td>\n",
       "    </tr>\n",
       "    <tr>\n",
       "      <th>479</th>\n",
       "      <td>15847</td>\n",
       "      <td></td>\n",
       "      <td></td>\n",
       "      <td>premier ventôse an quatre</td>\n",
       "      <td>http://symogih.org/resource/Info15847</td>\n",
       "    </tr>\n",
       "    <tr>\n",
       "      <th>498</th>\n",
       "      <td>16059</td>\n",
       "      <td></td>\n",
       "      <td></td>\n",
       "      <td>13 floréal an trois</td>\n",
       "      <td>http://symogih.org/resource/Info16059</td>\n",
       "    </tr>\n",
       "    <tr>\n",
       "      <th>524</th>\n",
       "      <td>17521</td>\n",
       "      <td></td>\n",
       "      <td></td>\n",
       "      <td>3 complémentaire an six</td>\n",
       "      <td>http://symogih.org/resource/Info17521</td>\n",
       "    </tr>\n",
       "    <tr>\n",
       "      <th>526</th>\n",
       "      <td>17523</td>\n",
       "      <td></td>\n",
       "      <td></td>\n",
       "      <td>30 frimaire an IX</td>\n",
       "      <td>http://symogih.org/resource/Info17523</td>\n",
       "    </tr>\n",
       "  </tbody>\n",
       "</table>\n",
       "</div>"
      ],
      "text/plain": [
       "     fk_info        complement notes            date_hour_label  \\\n",
       "326    15059  Date à supprimer                                    \n",
       "479    15847                          premier ventôse an quatre   \n",
       "498    16059                                13 floréal an trois   \n",
       "524    17521                            3 complémentaire an six   \n",
       "526    17523                                  30 frimaire an IX   \n",
       "\n",
       "                                       uri  \n",
       "326  http://symogih.org/resource/Info15059  \n",
       "479  http://symogih.org/resource/Info15847  \n",
       "498  http://symogih.org/resource/Info16059  \n",
       "524  http://symogih.org/resource/Info17521  \n",
       "526  http://symogih.org/resource/Info17523  "
      ]
     },
     "metadata": {},
     "output_type": "display_data"
    },
    {
     "name": "stdout",
     "output_type": "stream",
     "text": [
      "[DB] Database correctly disconnected.\n"
     ]
    }
   ],
   "source": [
    "db.connect_external(os.environ.get('YELLOW_BHP'))\n",
    "\n",
    "bhp = db.query(f\"\"\"\n",
    "    select \n",
    "        ir.fk_associated_object as pk_bhp,\n",
    "        ir.fk_information as fk_info,\n",
    "        id.complement as complement,\n",
    "        id.notes as notes,\n",
    "        id.date_hour_label\n",
    "    from bhp.information_role ir\n",
    "    inner join bhp.information_date id on ir.fk_information = id.fk_information\n",
    "    where ir.fk_type_role = 40 or ir.fk_type_role = 45\n",
    "\"\"\")\n",
    "\n",
    "bhp = bhp.dropna(subset=['pk_bhp'])\n",
    "bhp = bhp[bhp['pk_bhp'].str.contains('Actr')]\n",
    "bhp = bhp[pd.notna(bhp['complement']) | pd.notna(bhp['notes']) | pd.notna(bhp['date_hour_label'])]\n",
    "bhp = bhp[(bhp['complement'] != '') | (bhp['notes'] != '') | (bhp['notes'] != '')]\n",
    "bhp['uri'] = ['http://symogih.org/resource/Info' + str(fk_info) for fk_info in bhp['fk_info']]\n",
    "bhp.drop(columns=['pk_bhp'], inplace=True)\n",
    "\n",
    "bhp['complement'] = bhp['complement'].str.replace('<p>', '', regex=False).str.replace('</p>', '', regex=False).str.strip()\n",
    "bhp['notes'] = bhp['notes'].str.replace('<p>', '', regex=False).str.replace('</p>', '', regex=False).str.strip()\n",
    "\n",
    "bhp['complement'] = bhp['complement'].fillna('')\n",
    "bhp['notes'] = bhp['notes'].fillna('')\n",
    "bhp['date_hour_label'] = bhp['date_hour_label'].fillna('')\n",
    "\n",
    "a.infos(bhp)\n",
    "\n",
    "db.disconnect()"
   ]
  },
  {
   "attachments": {},
   "cell_type": "markdown",
   "metadata": {},
   "source": [
    "### Fetch Geovistory equivalent"
   ]
  },
  {
   "cell_type": "code",
   "execution_count": 3,
   "metadata": {},
   "outputs": [
    {
     "name": "stdout",
     "output_type": "stream",
     "text": [
      "[DB] Connecting to PRODUCTION Database ... Connected!\n",
      "[DB] Database correctly disconnected.\n"
     ]
    }
   ],
   "source": [
    "db.connect_geovistory(env, pk_project, False, skip_protection=True)\n",
    "\n",
    "uris = \"('\" + \"','\".join(bhp.uri.tolist()) + \"')\"\n",
    "\n",
    "gv = db.query(f\"\"\"\n",
    "    select\n",
    "        s2.fk_subject_info as pk_entity,\n",
    "        s1.fk_subject_info as pk_uri,\n",
    "        a.string as uri\n",
    "    from information.appellation a\n",
    "    inner join information.statement s1 on s1.fk_object_info = a.pk_entity and s1.fk_property = {pks.properties.appe_hasValue_string}\n",
    "    inner join information.statement s2 on s2.fk_object_info = s1.fk_subject_info and s2.fk_property = {pks.properties.entity_sameAsURI_URI}\n",
    "    where a.string in {uris}      \n",
    "\"\"\")\n",
    "\n",
    "db.disconnect()"
   ]
  },
  {
   "attachments": {},
   "cell_type": "markdown",
   "metadata": {},
   "source": [
    "### Merge data"
   ]
  },
  {
   "cell_type": "code",
   "execution_count": null,
   "metadata": {},
   "outputs": [],
   "source": [
    "merged = bhp.merge(gv).drop(columns=['fk_info', 'uri', 'pk_uri'])"
   ]
  },
  {
   "attachments": {},
   "cell_type": "markdown",
   "metadata": {},
   "source": [
    "### Create data"
   ]
  },
  {
   "cell_type": "code",
   "execution_count": null,
   "metadata": {},
   "outputs": [],
   "source": [
    "db.connect_geovistory(env, pk_project, execute)\n",
    "\n",
    "# Complements\n",
    "complements = merged[merged['complement'] != ''].copy()\n",
    "complements['pk_comment'] = db.resources.create(pks.classes.comment, len(complements))\n",
    "complements['pk_appellation'] = db.appellations.create(complements['complement'])\n",
    "db.statements.create(complements['pk_entity'], pks.properties.entity_hasComment_text, complements['pk_comment'])\n",
    "db.statements.create(complements['pk_comment'], pks.properties.comment_hasCommentType_CommentType, 8065621)\n",
    "db.statements.create(complements['pk_comment'], pks.properties.text_hasValueVersion_string, complements['pk_appellation'])\n",
    "\n",
    "# Notes\n",
    "notes = merged[merged['notes'] != ''].copy()\n",
    "notes['pk_comment'] = db.resources.create(pks.classes.comment, len(notes))\n",
    "notes['pk_appellation'] = db.appellations.create(notes['notes'])\n",
    "db.statements.create(notes['pk_entity'], pks.properties.entity_hasComment_text, notes['pk_comment'])\n",
    "db.statements.create(notes['pk_comment'], pks.properties.comment_hasCommentType_CommentType, 8065632)\n",
    "db.statements.create(notes['pk_comment'], pks.properties.text_hasValueVersion_string, notes['pk_appellation'])\n",
    "\n",
    "# date_hour_label\n",
    "date_hour_labels = merged[merged['date_hour_label'] != ''].copy()\n",
    "date_hour_labels['pk_comment'] = db.resources.create(pks.classes.comment, len(date_hour_labels))\n",
    "date_hour_labels['pk_appellation'] = db.appellations.create(date_hour_labels['date_hour_label'])\n",
    "db.statements.create(date_hour_labels['pk_entity'], pks.properties.entity_hasComment_text, date_hour_labels['pk_comment'])\n",
    "db.statements.create(date_hour_labels['pk_comment'], pks.properties.comment_hasCommentType_CommentType, 8065621)\n",
    "db.statements.create(date_hour_labels['pk_comment'], pks.properties.text_hasValueVersion_string, date_hour_labels['pk_appellation'])\n"
   ]
  }
 ],
 "metadata": {
  "kernelspec": {
   "display_name": "Python 3",
   "language": "python",
   "name": "python3"
  },
  "language_info": {
   "codemirror_mode": {
    "name": "ipython",
    "version": 3
   },
   "file_extension": ".py",
   "mimetype": "text/x-python",
   "name": "python",
   "nbconvert_exporter": "python",
   "pygments_lexer": "ipython3",
   "version": "3.8.10"
  },
  "orig_nbformat": 4
 },
 "nbformat": 4,
 "nbformat_minor": 2
}
