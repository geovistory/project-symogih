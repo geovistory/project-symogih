{
 "cells": [
  {
   "cell_type": "code",
   "execution_count": 8,
   "metadata": {},
   "outputs": [
    {
     "name": "stdout",
     "output_type": "stream",
     "text": [
      "The autoreload extension is already loaded. To reload it, use:\n",
      "  %reload_ext autoreload\n"
     ]
    }
   ],
   "source": [
    "%load_ext autoreload\n",
    "%autoreload 2\n",
    "\n",
    "env = 'prod'\n",
    "pk_project = 6857901\n",
    "execute = True\n",
    "metadata_str = 'notes-complement-definition'\n",
    "import_manner = 'one-shot'\n",
    "\n",
    "import os\n",
    "import pandas as pd\n",
    "import numpy as np\n",
    "from datetime import datetime\n",
    "import duckdb\n",
    "import plotly.express as px\n",
    "\n",
    "import geovpylib.analysis as a\n",
    "import geovpylib.database as db\n",
    "import geovpylib.graphs as graphs\n",
    "import geovpylib.pks as pks\n",
    "import geovpylib.recordlinkage as rl\n",
    "import geovpylib.sparql as sparql\n",
    "import geovpylib.utils as u\n",
    "\n",
    "eta = u.Eta()"
   ]
  },
  {
   "attachments": {},
   "cell_type": "markdown",
   "metadata": {},
   "source": [
    "# Add [notes] and [compléments] to the right definitions"
   ]
  },
  {
   "attachments": {},
   "cell_type": "markdown",
   "metadata": {},
   "source": [
    "### Fetch actor text properties from right ones"
   ]
  },
  {
   "cell_type": "code",
   "execution_count": 9,
   "metadata": {},
   "outputs": [],
   "source": [
    "text_prop = u.read_df('../../data/bhp/actor_text_property.csv')\n",
    "definitions = text_prop[['fk_actor', 'property_type', 'text', 'notes']].copy()"
   ]
  },
  {
   "cell_type": "code",
   "execution_count": 10,
   "metadata": {},
   "outputs": [],
   "source": [
    "added = []\n",
    "\n",
    "definitions['def'] = pd.NA\n",
    "for i, row in definitions.iterrows():\n",
    "    the_str = ''\n",
    "    if row['property_type'] == 'complément': the_str += '[Complément] '\n",
    "    if pd.notna(row['text']) and row['text'] != 'None': the_str += row['text']\n",
    "    if pd.notna(row['notes']) and row['notes'] != 'None': the_str += ' [Notes] ' + row['notes']\n",
    "    definitions.at[i, 'def'] = the_str\n",
    "\n",
    "    if '[Notes]' in the_str or '[Complément]' in the_str: \n",
    "        added.append(i)\n",
    "\n",
    "definitions = definitions[['fk_actor', 'text', 'def']]\n",
    "definitions.columns = ['pk_bhp', 'previous_def', 'new_def']\n",
    "\n",
    "definitions = definitions.loc[added]\n",
    "definitions.reset_index(inplace=True, drop=True)"
   ]
  },
  {
   "attachments": {},
   "cell_type": "markdown",
   "metadata": {},
   "source": [
    "### Fetch actors from Geovistory, and their definitions"
   ]
  },
  {
   "cell_type": "code",
   "execution_count": 11,
   "metadata": {},
   "outputs": [
    {
     "name": "stdout",
     "output_type": "stream",
     "text": [
      "[DB] Connecting to PRODUCTION Database ... Connected!\n",
      "[DB] Database correctly disconnected.\n"
     ]
    }
   ],
   "source": [
    "db.connect_geovistory(env, pk_project, execute, skip_protection=True)\n",
    "\n",
    "persons = db.query(f\"\"\"\n",
    "    select distinct\n",
    "        r.pk_entity as pk_gv,\n",
    "        a3.string as uri,\n",
    "        a5.pk_entity as pk_appe,\n",
    "        a5.string as definition\n",
    "    from information.resource r\n",
    "    inner join projects.info_proj_rel ipr on ipr.fk_entity = r.pk_entity and ipr.fk_project = {pk_project} and ipr.is_in_project = true\n",
    "    -- URI\n",
    "    inner join information.statement s1 on s1.fk_subject_info = r.pk_entity and s1.fk_property = {pks.properties.entity_sameAsURI_URI}\n",
    "    inner join projects.info_proj_rel ipr1 on ipr1.fk_entity = s1.pk_entity and ipr1.fk_project = {pk_project} and ipr1.is_in_project = true\n",
    "    inner join information.statement s2 on s2.fk_subject_info = s1.fk_object_info and s2.fk_property = {pks.properties.appe_hasValue_string}\n",
    "    inner join projects.info_proj_rel ipr2 on ipr2.fk_entity = s2.pk_entity and ipr2.fk_project = {pk_project} and ipr2.is_in_project = true\n",
    "    inner join information.appellation a3 on a3.pk_entity = s2.fk_object_info\n",
    "    inner join projects.info_proj_rel ipr3 on ipr3.fk_entity = a3.pk_entity and ipr3.fk_project = {pk_project} and ipr3.is_in_project = true\n",
    "    -- Definition\n",
    "    inner join information.statement s4 on s4.fk_subject_info = r.pk_entity and s4.fk_property = {pks.properties.entity_hasDefinition_text}\n",
    "    inner join projects.info_proj_rel ipr4 on ipr4.fk_entity = s4.pk_entity and ipr4.fk_project = {pk_project} and ipr4.is_in_project = true\n",
    "    inner join information.statement s5 on s5.fk_subject_info = s4.fk_object_info and s5.fk_property = {pks.properties.text_hasValueVersion_string}\n",
    "    inner join information.appellation a5 on a5.pk_entity = s5.fk_object_info\n",
    "    where r.fk_class = {pks.classes.person}\n",
    "\"\"\")\n",
    "persons = persons[persons.uri.str.contains('symogih.org')]\n",
    "persons['pk_bhp'] = persons.uri.str.replace('http://symogih.org/resource/Actr', '', regex=False).astype(int)\n",
    "persons.drop(columns=['uri'], inplace=True)\n",
    "\n",
    "persons.sort_values('pk_bhp', inplace=True)\n",
    "persons.drop_duplicates(inplace=True)\n",
    "persons.reset_index(inplace=True, drop=True)\n",
    "# persons = persons[['pk_bhp', 'pk_gv', 'pk_birth',  'pk_death']].drop_duplicates()\n",
    "\n",
    "db.disconnect()\n",
    "\n",
    "# 18s"
   ]
  },
  {
   "attachments": {},
   "cell_type": "markdown",
   "metadata": {},
   "source": [
    "### Put everything together"
   ]
  },
  {
   "cell_type": "code",
   "execution_count": 12,
   "metadata": {},
   "outputs": [
    {
     "data": {
      "text/plain": [
       "(11711, 6)"
      ]
     },
     "execution_count": 12,
     "metadata": {},
     "output_type": "execute_result"
    }
   ],
   "source": [
    "themerge = definitions.merge(persons, how='left')\n",
    "themerge = themerge[themerge['previous_def'] == themerge['definition']]\n",
    "themerge['pk_appe'] = themerge['pk_appe'].astype(pd.Int64Dtype())\n",
    "themerge['pk_gv'] = themerge['pk_gv'].astype(pd.Int64Dtype())\n",
    "\n",
    "themerge = themerge[themerge['new_def'] != themerge['definition']]\n",
    "themerge.shape"
   ]
  },
  {
   "attachments": {},
   "cell_type": "markdown",
   "metadata": {},
   "source": [
    "### Update appellations"
   ]
  },
  {
   "cell_type": "code",
   "execution_count": 13,
   "metadata": {},
   "outputs": [
    {
     "name": "stdout",
     "output_type": "stream",
     "text": [
      "[DB] Connecting to PRODUCTION Database ... Connected!\n",
      "Updating appellations is done - Elapsed: [00h03'18]                   \n"
     ]
    },
    {
     "data": {
      "text/plain": [
       "<sqlalchemy.engine.cursor.LegacyCursorResult at 0x7f2cbfaf3e50>"
      ]
     },
     "execution_count": 13,
     "metadata": {},
     "output_type": "execute_result"
    }
   ],
   "source": [
    "db.connect_geovistory(env, pk_project, execute)\n",
    "\n",
    "sql = ''\n",
    "eta.begin(len(themerge), 'Updating appellations')\n",
    "for i, row in themerge.iterrows():\n",
    "\n",
    "    if row['previous_def'] == ['definition']: continue\n",
    "    else: \n",
    "        sql += f\"\"\"\n",
    "            update information.appellation\n",
    "                set string = '{row['new_def'].replace(\"'\", \"''\").replace('%', '%%')}'\n",
    "            where pk_entity = {row['pk_appe']};\n",
    "        \"\"\"\n",
    "    \n",
    "    if i % 100 == 0:\n",
    "        db.execute(sql)\n",
    "        sql = ''\n",
    "\n",
    "    # db.execute(sql)\n",
    "    # sql = ''\n",
    "    \n",
    "    eta.iter()\n",
    "eta.end()\n",
    "\n",
    "db.execute(sql)"
   ]
  },
  {
   "cell_type": "code",
   "execution_count": 14,
   "metadata": {},
   "outputs": [
    {
     "data": {
      "text/html": [
       "<div>\n",
       "<style scoped>\n",
       "    .dataframe tbody tr th:only-of-type {\n",
       "        vertical-align: middle;\n",
       "    }\n",
       "\n",
       "    .dataframe tbody tr th {\n",
       "        vertical-align: top;\n",
       "    }\n",
       "\n",
       "    .dataframe thead th {\n",
       "        text-align: right;\n",
       "    }\n",
       "</style>\n",
       "<table border=\"1\" class=\"dataframe\">\n",
       "  <thead>\n",
       "    <tr style=\"text-align: right;\">\n",
       "      <th></th>\n",
       "      <th>pk_bhp</th>\n",
       "      <th>previous_def</th>\n",
       "      <th>new_def</th>\n",
       "      <th>pk_gv</th>\n",
       "      <th>pk_appe</th>\n",
       "      <th>definition</th>\n",
       "    </tr>\n",
       "  </thead>\n",
       "  <tbody>\n",
       "    <tr>\n",
       "      <th>44701</th>\n",
       "      <td>56865</td>\n",
       "      <td>Les bases fondamentales du droit civil en face...</td>\n",
       "      <td>[Complément] Les bases fondamentales du droit ...</td>\n",
       "      <td>6532801</td>\n",
       "      <td>7267597</td>\n",
       "      <td>Les bases fondamentales du droit civil en face...</td>\n",
       "    </tr>\n",
       "    <tr>\n",
       "      <th>44703</th>\n",
       "      <td>56835</td>\n",
       "      <td>Annales de l'Université de Grenoble, Bulletin ...</td>\n",
       "      <td>[Complément] Annales de l'Université de Grenob...</td>\n",
       "      <td>6532800</td>\n",
       "      <td>7267582</td>\n",
       "      <td>Annales de l'Université de Grenoble, Bulletin ...</td>\n",
       "    </tr>\n",
       "    <tr>\n",
       "      <th>44722</th>\n",
       "      <td>56872</td>\n",
       "      <td>\"La révision du régime hypothécaire établi par...</td>\n",
       "      <td>[Complément] \"La révision du régime hypothécai...</td>\n",
       "      <td>6503488</td>\n",
       "      <td>7236946</td>\n",
       "      <td>\"La révision du régime hypothécaire établi par...</td>\n",
       "    </tr>\n",
       "    <tr>\n",
       "      <th>44746</th>\n",
       "      <td>56847</td>\n",
       "      <td>Delpech n'a publié aucun article; on trouve de...</td>\n",
       "      <td>[Complément] Delpech n'a publié aucun article;...</td>\n",
       "      <td>6506651</td>\n",
       "      <td>7242948</td>\n",
       "      <td>Delpech n'a publié aucun article; on trouve de...</td>\n",
       "    </tr>\n",
       "    <tr>\n",
       "      <th>44760</th>\n",
       "      <td>56874</td>\n",
       "      <td>Revue générale de droit international public; ...</td>\n",
       "      <td>[Complément] Revue générale de droit internati...</td>\n",
       "      <td>6506294</td>\n",
       "      <td>7242198</td>\n",
       "      <td>Revue générale de droit international public; ...</td>\n",
       "    </tr>\n",
       "    <tr>\n",
       "      <th>...</th>\n",
       "      <td>...</td>\n",
       "      <td>...</td>\n",
       "      <td>...</td>\n",
       "      <td>...</td>\n",
       "      <td>...</td>\n",
       "      <td>...</td>\n",
       "    </tr>\n",
       "    <tr>\n",
       "      <th>110650</th>\n",
       "      <td>2380</td>\n",
       "      <td>Enseigne la discipline de Scotisme auprès de U...</td>\n",
       "      <td>Enseigne la discipline de Scotisme auprès de U...</td>\n",
       "      <td>6541824</td>\n",
       "      <td>7278115</td>\n",
       "      <td>Enseigne la discipline de Scotisme auprès de U...</td>\n",
       "    </tr>\n",
       "    <tr>\n",
       "      <th>110655</th>\n",
       "      <td>2380</td>\n",
       "      <td>Enseigne la discipline de Logique auprès de Un...</td>\n",
       "      <td>Enseigne la discipline de Logique auprès de Un...</td>\n",
       "      <td>6541824</td>\n",
       "      <td>7278116</td>\n",
       "      <td>Enseigne la discipline de Logique auprès de Un...</td>\n",
       "    </tr>\n",
       "    <tr>\n",
       "      <th>110656</th>\n",
       "      <td>1659</td>\n",
       "      <td>Enseigne la discipline de Théologie auprès de ...</td>\n",
       "      <td>Enseigne la discipline de Théologie auprès de ...</td>\n",
       "      <td>6536283</td>\n",
       "      <td>7272634</td>\n",
       "      <td>Enseigne la discipline de Théologie auprès de ...</td>\n",
       "    </tr>\n",
       "    <tr>\n",
       "      <th>110657</th>\n",
       "      <td>2503</td>\n",
       "      <td>Enseigne la discipline de Théologie dogmatique...</td>\n",
       "      <td>Enseigne la discipline de Théologie dogmatique...</td>\n",
       "      <td>6541834</td>\n",
       "      <td>7278126</td>\n",
       "      <td>Enseigne la discipline de Théologie dogmatique...</td>\n",
       "    </tr>\n",
       "    <tr>\n",
       "      <th>110658</th>\n",
       "      <td>2185</td>\n",
       "      <td>Enseigne la discipline de Théologie auprès de ...</td>\n",
       "      <td>Enseigne la discipline de Théologie auprès de ...</td>\n",
       "      <td>6536437</td>\n",
       "      <td>7272669</td>\n",
       "      <td>Enseigne la discipline de Théologie auprès de ...</td>\n",
       "    </tr>\n",
       "  </tbody>\n",
       "</table>\n",
       "<p>11711 rows × 6 columns</p>\n",
       "</div>"
      ],
      "text/plain": [
       "        pk_bhp                                       previous_def  \\\n",
       "44701    56865  Les bases fondamentales du droit civil en face...   \n",
       "44703    56835  Annales de l'Université de Grenoble, Bulletin ...   \n",
       "44722    56872  \"La révision du régime hypothécaire établi par...   \n",
       "44746    56847  Delpech n'a publié aucun article; on trouve de...   \n",
       "44760    56874  Revue générale de droit international public; ...   \n",
       "...        ...                                                ...   \n",
       "110650    2380  Enseigne la discipline de Scotisme auprès de U...   \n",
       "110655    2380  Enseigne la discipline de Logique auprès de Un...   \n",
       "110656    1659  Enseigne la discipline de Théologie auprès de ...   \n",
       "110657    2503  Enseigne la discipline de Théologie dogmatique...   \n",
       "110658    2185  Enseigne la discipline de Théologie auprès de ...   \n",
       "\n",
       "                                                  new_def    pk_gv  pk_appe  \\\n",
       "44701   [Complément] Les bases fondamentales du droit ...  6532801  7267597   \n",
       "44703   [Complément] Annales de l'Université de Grenob...  6532800  7267582   \n",
       "44722   [Complément] \"La révision du régime hypothécai...  6503488  7236946   \n",
       "44746   [Complément] Delpech n'a publié aucun article;...  6506651  7242948   \n",
       "44760   [Complément] Revue générale de droit internati...  6506294  7242198   \n",
       "...                                                   ...      ...      ...   \n",
       "110650  Enseigne la discipline de Scotisme auprès de U...  6541824  7278115   \n",
       "110655  Enseigne la discipline de Logique auprès de Un...  6541824  7278116   \n",
       "110656  Enseigne la discipline de Théologie auprès de ...  6536283  7272634   \n",
       "110657  Enseigne la discipline de Théologie dogmatique...  6541834  7278126   \n",
       "110658  Enseigne la discipline de Théologie auprès de ...  6536437  7272669   \n",
       "\n",
       "                                               definition  \n",
       "44701   Les bases fondamentales du droit civil en face...  \n",
       "44703   Annales de l'Université de Grenoble, Bulletin ...  \n",
       "44722   \"La révision du régime hypothécaire établi par...  \n",
       "44746   Delpech n'a publié aucun article; on trouve de...  \n",
       "44760   Revue générale de droit international public; ...  \n",
       "...                                                   ...  \n",
       "110650  Enseigne la discipline de Scotisme auprès de U...  \n",
       "110655  Enseigne la discipline de Logique auprès de Un...  \n",
       "110656  Enseigne la discipline de Théologie auprès de ...  \n",
       "110657  Enseigne la discipline de Théologie dogmatique...  \n",
       "110658  Enseigne la discipline de Théologie auprès de ...  \n",
       "\n",
       "[11711 rows x 6 columns]"
      ]
     },
     "execution_count": 14,
     "metadata": {},
     "output_type": "execute_result"
    }
   ],
   "source": [
    "themerge"
   ]
  }
 ],
 "metadata": {
  "kernelspec": {
   "display_name": "Python 3",
   "language": "python",
   "name": "python3"
  },
  "language_info": {
   "codemirror_mode": {
    "name": "ipython",
    "version": 3
   },
   "file_extension": ".py",
   "mimetype": "text/x-python",
   "name": "python",
   "nbconvert_exporter": "python",
   "pygments_lexer": "ipython3",
   "version": "3.8.10"
  },
  "orig_nbformat": 4
 },
 "nbformat": 4,
 "nbformat_minor": 2
}
