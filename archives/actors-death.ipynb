{
 "cells": [
  {
   "cell_type": "code",
   "execution_count": 1,
   "metadata": {},
   "outputs": [
    {
     "name": "stdout",
     "output_type": "stream",
     "text": [
      ">> Connecting to PRODUCTION Database ... Connected!\n"
     ]
    }
   ],
   "source": [
    "%load_ext autoreload\n",
    "%autoreload 2\n",
    "\n",
    "env = 'prod'\n",
    "pk_project = 6857901\n",
    "execute = True\n",
    "metadata_str = 'bhp-actors-deaths'\n",
    "import_manner = 'batch'\n",
    "\n",
    "import os\n",
    "import pandas as pd\n",
    "import numpy as np\n",
    "from datetime import datetime\n",
    "import duckdb\n",
    "import plotly.express as px\n",
    "\n",
    "import geovpylib.analysis as a\n",
    "import geovpylib.database as db\n",
    "import geovpylib.graphs as graphs\n",
    "import geovpylib.pks as pks\n",
    "import geovpylib.recordlinkage as rl\n",
    "import geovpylib.sparql as sparql\n",
    "import geovpylib.utils as u\n",
    "\n",
    "eta = u.Eta()\n",
    "\n",
    "db.connect_geovistory(env, pk_project, execute)\n",
    "db.set_metadata({'import-id': datetime.today().strftime('%Y%m%d') + '-' + metadata_str})\n",
    "db.set_insert_manner(import_manner)"
   ]
  },
  {
   "attachments": {},
   "cell_type": "markdown",
   "metadata": {},
   "source": [
    "# Import BHP actors' death into Geovistory"
   ]
  },
  {
   "attachments": {},
   "cell_type": "markdown",
   "metadata": {},
   "source": [
    "## Fetch data"
   ]
  },
  {
   "attachments": {},
   "cell_type": "markdown",
   "metadata": {},
   "source": [
    "### Junction table: pk BHP <=> pk Geovistory"
   ]
  },
  {
   "cell_type": "code",
   "execution_count": 2,
   "metadata": {},
   "outputs": [
    {
     "name": "stdout",
     "output_type": "stream",
     "text": [
      ">> Connecting to PRODUCTION Database ... Connected!\n",
      "Database correctly disconnected.\n",
      "Shape:  (59526, 2) - extract:\n"
     ]
    },
    {
     "data": {
      "text/html": [
       "<div>\n",
       "<style scoped>\n",
       "    .dataframe tbody tr th:only-of-type {\n",
       "        vertical-align: middle;\n",
       "    }\n",
       "\n",
       "    .dataframe tbody tr th {\n",
       "        vertical-align: top;\n",
       "    }\n",
       "\n",
       "    .dataframe thead th {\n",
       "        text-align: right;\n",
       "    }\n",
       "</style>\n",
       "<table border=\"1\" class=\"dataframe\">\n",
       "  <thead>\n",
       "    <tr style=\"text-align: right;\">\n",
       "      <th></th>\n",
       "      <th>pk_bhp</th>\n",
       "      <th>pk_gv</th>\n",
       "    </tr>\n",
       "  </thead>\n",
       "  <tbody>\n",
       "    <tr>\n",
       "      <th>0</th>\n",
       "      <td>1</td>\n",
       "      <td>6532778</td>\n",
       "    </tr>\n",
       "    <tr>\n",
       "      <th>1</th>\n",
       "      <td>2</td>\n",
       "      <td>6499432</td>\n",
       "    </tr>\n",
       "    <tr>\n",
       "      <th>2</th>\n",
       "      <td>3</td>\n",
       "      <td>783602</td>\n",
       "    </tr>\n",
       "    <tr>\n",
       "      <th>3</th>\n",
       "      <td>4</td>\n",
       "      <td>6509333</td>\n",
       "    </tr>\n",
       "    <tr>\n",
       "      <th>4</th>\n",
       "      <td>5</td>\n",
       "      <td>6511070</td>\n",
       "    </tr>\n",
       "  </tbody>\n",
       "</table>\n",
       "</div>"
      ],
      "text/plain": [
       "   pk_bhp    pk_gv\n",
       "0       1  6532778\n",
       "1       2  6499432\n",
       "2       3   783602\n",
       "3       4  6509333\n",
       "4       5  6511070"
      ]
     },
     "metadata": {},
     "output_type": "display_data"
    }
   ],
   "source": [
    "db.connect_geovistory('prod', pk_project, execute, skip_protection=True)\n",
    "\n",
    "persons = db.query(f\"\"\"\n",
    "    select distinct\n",
    "        r.pk_entity as pk_gv\n",
    "        ,a3.string as uri\n",
    "    from information.resource r\n",
    "    inner join projects.info_proj_rel ipr on ipr.fk_entity = r.pk_entity and ipr.fk_project = {pk_project} and ipr.is_in_project = true\n",
    "    -- URI\n",
    "    inner join information.statement s1 on s1.fk_subject_info = r.pk_entity and s1.fk_property = {pks.properties.entity_sameAsURI_URI}\n",
    "    inner join projects.info_proj_rel ipr1 on ipr1.fk_entity = s1.pk_entity and ipr1.fk_project = {pk_project} and ipr1.is_in_project = true\n",
    "    inner join information.statement s2 on s2.fk_subject_info = s1.fk_object_info and s2.fk_property = {pks.properties.appe_hasValue_string}\n",
    "    inner join projects.info_proj_rel ipr2 on ipr2.fk_entity = s2.pk_entity and ipr2.fk_project = {pk_project} and ipr2.is_in_project = true\n",
    "    inner join information.appellation a3 on a3.pk_entity = s2.fk_object_info\n",
    "    inner join projects.info_proj_rel ipr3 on ipr3.fk_entity = a3.pk_entity and ipr3.fk_project = {pk_project} and ipr3.is_in_project = true\n",
    "    where r.fk_class = {pks.classes.person}\n",
    "\"\"\")\n",
    "db.disconnect()\n",
    "\n",
    "persons = persons[persons.uri.str.contains('symogih.org')]\n",
    "persons['pk_bhp'] = persons.uri.str.replace('http://symogih.org/resource/Actr', '', regex=False).astype(int)\n",
    "persons.drop(columns=['uri'], inplace=True)\n",
    "persons.sort_values('pk_bhp', inplace=True)\n",
    "persons.drop_duplicates(inplace=True)\n",
    "persons.reset_index(inplace=True, drop=True)\n",
    "persons = persons[['pk_bhp', 'pk_gv']]\n",
    "\n",
    "a.infos(persons)\n",
    "\n",
    "# 10s"
   ]
  },
  {
   "attachments": {},
   "cell_type": "markdown",
   "metadata": {},
   "source": [
    "### Add infos from BHP - Full deaths"
   ]
  },
  {
   "cell_type": "code",
   "execution_count": 3,
   "metadata": {},
   "outputs": [
    {
     "name": "stdout",
     "output_type": "stream",
     "text": [
      ">> Connecting to PGSQL Database ... Connected!\n",
      "Shape:  (9255, 3) - extract:\n"
     ]
    },
    {
     "data": {
      "text/html": [
       "<div>\n",
       "<style scoped>\n",
       "    .dataframe tbody tr th:only-of-type {\n",
       "        vertical-align: middle;\n",
       "    }\n",
       "\n",
       "    .dataframe tbody tr th {\n",
       "        vertical-align: top;\n",
       "    }\n",
       "\n",
       "    .dataframe thead th {\n",
       "        text-align: right;\n",
       "    }\n",
       "</style>\n",
       "<table border=\"1\" class=\"dataframe\">\n",
       "  <thead>\n",
       "    <tr style=\"text-align: right;\">\n",
       "      <th></th>\n",
       "      <th>pk_bhp</th>\n",
       "      <th>date_bhp</th>\n",
       "      <th>uri_death</th>\n",
       "    </tr>\n",
       "  </thead>\n",
       "  <tbody>\n",
       "    <tr>\n",
       "      <th>0</th>\n",
       "      <td>43740</td>\n",
       "      <td>(1820, 10, 5)</td>\n",
       "      <td>http://symogih.org/resource/Info87258</td>\n",
       "    </tr>\n",
       "    <tr>\n",
       "      <th>1</th>\n",
       "      <td>43871</td>\n",
       "      <td>(1830, 11, 18)</td>\n",
       "      <td>http://symogih.org/resource/Info87259</td>\n",
       "    </tr>\n",
       "    <tr>\n",
       "      <th>3</th>\n",
       "      <td>33850</td>\n",
       "      <td>(1751, 10, 16)</td>\n",
       "      <td>http://symogih.org/resource/Info87377</td>\n",
       "    </tr>\n",
       "    <tr>\n",
       "      <th>4</th>\n",
       "      <td>33851</td>\n",
       "      <td>(1760, 1, 11)</td>\n",
       "      <td>http://symogih.org/resource/Info87378</td>\n",
       "    </tr>\n",
       "    <tr>\n",
       "      <th>5</th>\n",
       "      <td>44135</td>\n",
       "      <td>(1703, 3, 9)</td>\n",
       "      <td>http://symogih.org/resource/Info87392</td>\n",
       "    </tr>\n",
       "  </tbody>\n",
       "</table>\n",
       "</div>"
      ],
      "text/plain": [
       "   pk_bhp        date_bhp                              uri_death\n",
       "0   43740   (1820, 10, 5)  http://symogih.org/resource/Info87258\n",
       "1   43871  (1830, 11, 18)  http://symogih.org/resource/Info87259\n",
       "3   33850  (1751, 10, 16)  http://symogih.org/resource/Info87377\n",
       "4   33851   (1760, 1, 11)  http://symogih.org/resource/Info87378\n",
       "5   44135    (1703, 3, 9)  http://symogih.org/resource/Info87392"
      ]
     },
     "metadata": {},
     "output_type": "display_data"
    }
   ],
   "source": [
    "db.connect_external(os.environ.get('YELLOW_BHP'))\n",
    "\n",
    "actor_list = persons.pk_bhp.tolist()\n",
    "actor_list = [('Actr' + str(pk)) for pk in actor_list]\n",
    "\n",
    "\n",
    "real_death_bhp = db.query(f\"\"\"\n",
    "    select \n",
    "        ir.fk_associated_object as pk_bhp,\n",
    "        ir.fk_information as fk_info,\n",
    "        id.year, id.month, id.day,\n",
    "        id.fk_abob_type_information_date\n",
    "    from bhp.information_role ir\n",
    "    inner join bhp.information_date id on ir.fk_information = id.fk_information\n",
    "    where ir.fk_type_role = 45\n",
    "\"\"\")\n",
    "real_death_bhp = real_death_bhp[real_death_bhp['pk_bhp'].str.contains('Actr')]\n",
    "real_death_bhp['pk_bhp'] = real_death_bhp['pk_bhp'].str.replace('Actr', '', regex=False)\n",
    "real_death_bhp['pk_bhp'] = real_death_bhp['pk_bhp'].astype(pd.Int64Dtype())\n",
    "real_death_bhp['year'] = real_death_bhp['year'].astype(pd.Int64Dtype())\n",
    "real_death_bhp['month'] = real_death_bhp['month'].astype(pd.Int64Dtype())\n",
    "real_death_bhp['day'] = real_death_bhp['day'].astype(pd.Int64Dtype())\n",
    "real_death_bhp['date_bhp'] = [(row.year, row.month, row.day) for i, row in real_death_bhp.iterrows()]\n",
    "real_death_bhp['uri_death'] = ['http://symogih.org/resource/Info' + str(fk_info) for fk_info in real_death_bhp['fk_info']]\n",
    "\n",
    "# For now we only import unique data ie: id.fk_abob_type_information_date == 246\n",
    "real_death_bhp = real_death_bhp[real_death_bhp['fk_abob_type_information_date'] == 246]\n",
    "\n",
    "real_death_bhp.drop(columns=['year', 'month', 'day', 'fk_info', 'fk_abob_type_information_date'], inplace=True)\n",
    "\n",
    "a.infos(real_death_bhp)"
   ]
  },
  {
   "cell_type": "code",
   "execution_count": 4,
   "metadata": {},
   "outputs": [
    {
     "name": "stdout",
     "output_type": "stream",
     "text": [
      "Shape:  (59578, 4) - extract:\n"
     ]
    },
    {
     "data": {
      "text/html": [
       "<div>\n",
       "<style scoped>\n",
       "    .dataframe tbody tr th:only-of-type {\n",
       "        vertical-align: middle;\n",
       "    }\n",
       "\n",
       "    .dataframe tbody tr th {\n",
       "        vertical-align: top;\n",
       "    }\n",
       "\n",
       "    .dataframe thead th {\n",
       "        text-align: right;\n",
       "    }\n",
       "</style>\n",
       "<table border=\"1\" class=\"dataframe\">\n",
       "  <thead>\n",
       "    <tr style=\"text-align: right;\">\n",
       "      <th></th>\n",
       "      <th>pk_bhp</th>\n",
       "      <th>pk_gv</th>\n",
       "      <th>date_bhp</th>\n",
       "      <th>uri_death</th>\n",
       "    </tr>\n",
       "  </thead>\n",
       "  <tbody>\n",
       "    <tr>\n",
       "      <th>36243</th>\n",
       "      <td>39516</td>\n",
       "      <td>6520682</td>\n",
       "      <td>NaN</td>\n",
       "      <td>NaN</td>\n",
       "    </tr>\n",
       "    <tr>\n",
       "      <th>45347</th>\n",
       "      <td>49262</td>\n",
       "      <td>6500653</td>\n",
       "      <td>NaN</td>\n",
       "      <td>NaN</td>\n",
       "    </tr>\n",
       "    <tr>\n",
       "      <th>58774</th>\n",
       "      <td>62844</td>\n",
       "      <td>6508581</td>\n",
       "      <td>NaN</td>\n",
       "      <td>NaN</td>\n",
       "    </tr>\n",
       "    <tr>\n",
       "      <th>34331</th>\n",
       "      <td>36354</td>\n",
       "      <td>6518719</td>\n",
       "      <td>NaN</td>\n",
       "      <td>NaN</td>\n",
       "    </tr>\n",
       "    <tr>\n",
       "      <th>42794</th>\n",
       "      <td>46389</td>\n",
       "      <td>6528009</td>\n",
       "      <td>NaN</td>\n",
       "      <td>NaN</td>\n",
       "    </tr>\n",
       "  </tbody>\n",
       "</table>\n",
       "</div>"
      ],
      "text/plain": [
       "       pk_bhp    pk_gv date_bhp uri_death\n",
       "36243   39516  6520682      NaN       NaN\n",
       "45347   49262  6500653      NaN       NaN\n",
       "58774   62844  6508581      NaN       NaN\n",
       "34331   36354  6518719      NaN       NaN\n",
       "42794   46389  6528009      NaN       NaN"
      ]
     },
     "metadata": {},
     "output_type": "display_data"
    }
   ],
   "source": [
    "# Merge to main table\n",
    "persons = persons.merge(real_death_bhp, on='pk_bhp', how='left')\n",
    "\n",
    "a.infos(persons, random=True)"
   ]
  },
  {
   "attachments": {},
   "cell_type": "markdown",
   "metadata": {},
   "source": [
    "### Add infos from BHP - Small death"
   ]
  },
  {
   "cell_type": "code",
   "execution_count": 5,
   "metadata": {},
   "outputs": [],
   "source": [
    "actors = u.read_df('../../data/bhp/actor.csv')\n",
    "actors = actors[['pk_actor', 'begin_year']]\n",
    "actors.rename(inplace=True, columns={'pk_actor':'pk_bhp'})\n",
    "actors['begin_year'] = [(year, pd.NA, pd.NA) for year in actors.begin_year]"
   ]
  },
  {
   "cell_type": "code",
   "execution_count": 6,
   "metadata": {},
   "outputs": [
    {
     "name": "stdout",
     "output_type": "stream",
     "text": [
      "Shape:  (59578, 4) - extract:\n"
     ]
    },
    {
     "data": {
      "text/html": [
       "<div>\n",
       "<style scoped>\n",
       "    .dataframe tbody tr th:only-of-type {\n",
       "        vertical-align: middle;\n",
       "    }\n",
       "\n",
       "    .dataframe tbody tr th {\n",
       "        vertical-align: top;\n",
       "    }\n",
       "\n",
       "    .dataframe thead th {\n",
       "        text-align: right;\n",
       "    }\n",
       "</style>\n",
       "<table border=\"1\" class=\"dataframe\">\n",
       "  <thead>\n",
       "    <tr style=\"text-align: right;\">\n",
       "      <th></th>\n",
       "      <th>pk_bhp</th>\n",
       "      <th>pk_gv</th>\n",
       "      <th>date_bhp</th>\n",
       "      <th>uri_death</th>\n",
       "    </tr>\n",
       "  </thead>\n",
       "  <tbody>\n",
       "    <tr>\n",
       "      <th>0</th>\n",
       "      <td>1</td>\n",
       "      <td>6532778</td>\n",
       "      <td>(1599, &lt;NA&gt;, &lt;NA&gt;)</td>\n",
       "      <td>NaN</td>\n",
       "    </tr>\n",
       "    <tr>\n",
       "      <th>1</th>\n",
       "      <td>2</td>\n",
       "      <td>6499432</td>\n",
       "      <td>(1600, &lt;NA&gt;, &lt;NA&gt;)</td>\n",
       "      <td>NaN</td>\n",
       "    </tr>\n",
       "    <tr>\n",
       "      <th>2</th>\n",
       "      <td>3</td>\n",
       "      <td>783602</td>\n",
       "      <td>(1581, &lt;NA&gt;, &lt;NA&gt;)</td>\n",
       "      <td>NaN</td>\n",
       "    </tr>\n",
       "    <tr>\n",
       "      <th>3</th>\n",
       "      <td>4</td>\n",
       "      <td>6509333</td>\n",
       "      <td>(1600, &lt;NA&gt;, &lt;NA&gt;)</td>\n",
       "      <td>NaN</td>\n",
       "    </tr>\n",
       "    <tr>\n",
       "      <th>4</th>\n",
       "      <td>5</td>\n",
       "      <td>6511070</td>\n",
       "      <td>(1681, &lt;NA&gt;, &lt;NA&gt;)</td>\n",
       "      <td>NaN</td>\n",
       "    </tr>\n",
       "  </tbody>\n",
       "</table>\n",
       "</div>"
      ],
      "text/plain": [
       "   pk_bhp    pk_gv            date_bhp uri_death\n",
       "0       1  6532778  (1599, <NA>, <NA>)       NaN\n",
       "1       2  6499432  (1600, <NA>, <NA>)       NaN\n",
       "2       3   783602  (1581, <NA>, <NA>)       NaN\n",
       "3       4  6509333  (1600, <NA>, <NA>)       NaN\n",
       "4       5  6511070  (1681, <NA>, <NA>)       NaN"
      ]
     },
     "metadata": {},
     "output_type": "display_data"
    }
   ],
   "source": [
    "# Merge to main table\n",
    "persons = persons.merge(actors, on='pk_bhp', how='left')\n",
    "persons['date_bhp'] = [row['date_bhp'] if pd.notna(row['date_bhp']) else row.begin_year for i, row in persons.iterrows()]\n",
    "persons.drop(columns=['begin_year'], inplace=True)\n",
    "\n",
    "a.infos(persons)"
   ]
  },
  {
   "attachments": {},
   "cell_type": "markdown",
   "metadata": {},
   "source": [
    "### Add existing death from geovistory"
   ]
  },
  {
   "cell_type": "code",
   "execution_count": 7,
   "metadata": {},
   "outputs": [
    {
     "name": "stdout",
     "output_type": "stream",
     "text": [
      "Requests will not be executed\n",
      ">> Connecting to PRODUCTION Database ... Connected!\n",
      "Database correctly disconnected.\n",
      "Shape:  (24, 3) - extract:\n"
     ]
    },
    {
     "data": {
      "text/html": [
       "<div>\n",
       "<style scoped>\n",
       "    .dataframe tbody tr th:only-of-type {\n",
       "        vertical-align: middle;\n",
       "    }\n",
       "\n",
       "    .dataframe tbody tr th {\n",
       "        vertical-align: top;\n",
       "    }\n",
       "\n",
       "    .dataframe thead th {\n",
       "        text-align: right;\n",
       "    }\n",
       "</style>\n",
       "<table border=\"1\" class=\"dataframe\">\n",
       "  <thead>\n",
       "    <tr style=\"text-align: right;\">\n",
       "      <th></th>\n",
       "      <th>pk_person</th>\n",
       "      <th>pk_stmt_person_to_death</th>\n",
       "      <th>pk_death</th>\n",
       "    </tr>\n",
       "  </thead>\n",
       "  <tbody>\n",
       "    <tr>\n",
       "      <th>0</th>\n",
       "      <td>25503</td>\n",
       "      <td>25856</td>\n",
       "      <td>25852</td>\n",
       "    </tr>\n",
       "    <tr>\n",
       "      <th>1</th>\n",
       "      <td>27035</td>\n",
       "      <td>870304</td>\n",
       "      <td>870303</td>\n",
       "    </tr>\n",
       "    <tr>\n",
       "      <th>2</th>\n",
       "      <td>149826</td>\n",
       "      <td>239672</td>\n",
       "      <td>239671</td>\n",
       "    </tr>\n",
       "    <tr>\n",
       "      <th>3</th>\n",
       "      <td>786854</td>\n",
       "      <td>6130322</td>\n",
       "      <td>6130319</td>\n",
       "    </tr>\n",
       "    <tr>\n",
       "      <th>4</th>\n",
       "      <td>869088</td>\n",
       "      <td>869100</td>\n",
       "      <td>869099</td>\n",
       "    </tr>\n",
       "  </tbody>\n",
       "</table>\n",
       "</div>"
      ],
      "text/plain": [
       "   pk_person  pk_stmt_person_to_death  pk_death\n",
       "0      25503                    25856     25852\n",
       "1      27035                   870304    870303\n",
       "2     149826                   239672    239671\n",
       "3     786854                  6130322   6130319\n",
       "4     869088                   869100    869099"
      ]
     },
     "metadata": {},
     "output_type": "display_data"
    }
   ],
   "source": [
    "values = '(' + ','.join([str(pk) for pk in persons.pk_gv.tolist()]) + ')'\n",
    "\n",
    "db.connect_geovistory('prod', pk_project, False, skip_protection=True)\n",
    "gv_deaths = db.query(f\"\"\"\n",
    "    select distinct\n",
    "        s1.fk_object_info as pk_person\n",
    "        ,s1.pk_entity as pk_stmt_person_to_death\n",
    "        ,s1.fk_subject_info as pk_death\n",
    "    from information.statement s1\n",
    "    inner join projects.info_proj_rel ipr1 on ipr1.fk_entity = s1.pk_entity and ipr1.is_in_project = true\n",
    "    left join information.statement s2 on s2.fk_subject_info = s1.fk_subject_info and s2.fk_property = {pks.properties.timeSpan_atSomeTimeWithin_timePrimitive}\n",
    "    where s1.fk_object_info in {values}\n",
    "      and s1.fk_property = {pks.properties.death_wasDeathOf_person}\n",
    "\"\"\")\n",
    "\n",
    "db.disconnect()\n",
    "a.infos(gv_deaths)"
   ]
  },
  {
   "cell_type": "code",
   "execution_count": 8,
   "metadata": {},
   "outputs": [
    {
     "data": {
      "text/html": [
       "<div>\n",
       "<style scoped>\n",
       "    .dataframe tbody tr th:only-of-type {\n",
       "        vertical-align: middle;\n",
       "    }\n",
       "\n",
       "    .dataframe tbody tr th {\n",
       "        vertical-align: top;\n",
       "    }\n",
       "\n",
       "    .dataframe thead th {\n",
       "        text-align: right;\n",
       "    }\n",
       "</style>\n",
       "<table border=\"1\" class=\"dataframe\">\n",
       "  <thead>\n",
       "    <tr style=\"text-align: right;\">\n",
       "      <th></th>\n",
       "      <th>pk_bhp</th>\n",
       "      <th>pk_gv</th>\n",
       "      <th>date_bhp</th>\n",
       "      <th>uri_death</th>\n",
       "      <th>pk_stmt_person_to_death</th>\n",
       "      <th>pk_death</th>\n",
       "    </tr>\n",
       "  </thead>\n",
       "  <tbody>\n",
       "    <tr>\n",
       "      <th>0</th>\n",
       "      <td>1</td>\n",
       "      <td>6532778</td>\n",
       "      <td>(1599, &lt;NA&gt;, &lt;NA&gt;)</td>\n",
       "      <td>&lt;NA&gt;</td>\n",
       "      <td>&lt;NA&gt;</td>\n",
       "      <td>&lt;NA&gt;</td>\n",
       "    </tr>\n",
       "    <tr>\n",
       "      <th>1</th>\n",
       "      <td>2</td>\n",
       "      <td>6499432</td>\n",
       "      <td>(1600, &lt;NA&gt;, &lt;NA&gt;)</td>\n",
       "      <td>&lt;NA&gt;</td>\n",
       "      <td>&lt;NA&gt;</td>\n",
       "      <td>&lt;NA&gt;</td>\n",
       "    </tr>\n",
       "    <tr>\n",
       "      <th>2</th>\n",
       "      <td>3</td>\n",
       "      <td>783602</td>\n",
       "      <td>(1581, &lt;NA&gt;, &lt;NA&gt;)</td>\n",
       "      <td>&lt;NA&gt;</td>\n",
       "      <td>&lt;NA&gt;</td>\n",
       "      <td>&lt;NA&gt;</td>\n",
       "    </tr>\n",
       "    <tr>\n",
       "      <th>3</th>\n",
       "      <td>4</td>\n",
       "      <td>6509333</td>\n",
       "      <td>(1600, &lt;NA&gt;, &lt;NA&gt;)</td>\n",
       "      <td>&lt;NA&gt;</td>\n",
       "      <td>&lt;NA&gt;</td>\n",
       "      <td>&lt;NA&gt;</td>\n",
       "    </tr>\n",
       "    <tr>\n",
       "      <th>4</th>\n",
       "      <td>5</td>\n",
       "      <td>6511070</td>\n",
       "      <td>(1681, &lt;NA&gt;, &lt;NA&gt;)</td>\n",
       "      <td>&lt;NA&gt;</td>\n",
       "      <td>&lt;NA&gt;</td>\n",
       "      <td>&lt;NA&gt;</td>\n",
       "    </tr>\n",
       "    <tr>\n",
       "      <th>...</th>\n",
       "      <td>...</td>\n",
       "      <td>...</td>\n",
       "      <td>...</td>\n",
       "      <td>...</td>\n",
       "      <td>...</td>\n",
       "      <td>...</td>\n",
       "    </tr>\n",
       "    <tr>\n",
       "      <th>59573</th>\n",
       "      <td>63646</td>\n",
       "      <td>6544154</td>\n",
       "      <td>(1788, 12, 9)</td>\n",
       "      <td>http://symogih.org/resource/Info166196</td>\n",
       "      <td>&lt;NA&gt;</td>\n",
       "      <td>&lt;NA&gt;</td>\n",
       "    </tr>\n",
       "    <tr>\n",
       "      <th>59574</th>\n",
       "      <td>63647</td>\n",
       "      <td>6543685</td>\n",
       "      <td>(1790, 2, &lt;NA&gt;)</td>\n",
       "      <td>http://symogih.org/resource/Info166200</td>\n",
       "      <td>&lt;NA&gt;</td>\n",
       "      <td>&lt;NA&gt;</td>\n",
       "    </tr>\n",
       "    <tr>\n",
       "      <th>59575</th>\n",
       "      <td>63648</td>\n",
       "      <td>6543708</td>\n",
       "      <td>(1790, 2, 18)</td>\n",
       "      <td>http://symogih.org/resource/Info166204</td>\n",
       "      <td>&lt;NA&gt;</td>\n",
       "      <td>&lt;NA&gt;</td>\n",
       "    </tr>\n",
       "    <tr>\n",
       "      <th>59576</th>\n",
       "      <td>63649</td>\n",
       "      <td>6544155</td>\n",
       "      <td>(1790, 9, &lt;NA&gt;)</td>\n",
       "      <td>http://symogih.org/resource/Info166208</td>\n",
       "      <td>&lt;NA&gt;</td>\n",
       "      <td>&lt;NA&gt;</td>\n",
       "    </tr>\n",
       "    <tr>\n",
       "      <th>59577</th>\n",
       "      <td>63650</td>\n",
       "      <td>6544156</td>\n",
       "      <td>(1790, &lt;NA&gt;, &lt;NA&gt;)</td>\n",
       "      <td>&lt;NA&gt;</td>\n",
       "      <td>&lt;NA&gt;</td>\n",
       "      <td>&lt;NA&gt;</td>\n",
       "    </tr>\n",
       "  </tbody>\n",
       "</table>\n",
       "<p>59578 rows × 6 columns</p>\n",
       "</div>"
      ],
      "text/plain": [
       "       pk_bhp    pk_gv            date_bhp  \\\n",
       "0           1  6532778  (1599, <NA>, <NA>)   \n",
       "1           2  6499432  (1600, <NA>, <NA>)   \n",
       "2           3   783602  (1581, <NA>, <NA>)   \n",
       "3           4  6509333  (1600, <NA>, <NA>)   \n",
       "4           5  6511070  (1681, <NA>, <NA>)   \n",
       "...       ...      ...                 ...   \n",
       "59573   63646  6544154       (1788, 12, 9)   \n",
       "59574   63647  6543685     (1790, 2, <NA>)   \n",
       "59575   63648  6543708       (1790, 2, 18)   \n",
       "59576   63649  6544155     (1790, 9, <NA>)   \n",
       "59577   63650  6544156  (1790, <NA>, <NA>)   \n",
       "\n",
       "                                    uri_death  pk_stmt_person_to_death  \\\n",
       "0                                        <NA>                     <NA>   \n",
       "1                                        <NA>                     <NA>   \n",
       "2                                        <NA>                     <NA>   \n",
       "3                                        <NA>                     <NA>   \n",
       "4                                        <NA>                     <NA>   \n",
       "...                                       ...                      ...   \n",
       "59573  http://symogih.org/resource/Info166196                     <NA>   \n",
       "59574  http://symogih.org/resource/Info166200                     <NA>   \n",
       "59575  http://symogih.org/resource/Info166204                     <NA>   \n",
       "59576  http://symogih.org/resource/Info166208                     <NA>   \n",
       "59577                                    <NA>                     <NA>   \n",
       "\n",
       "       pk_death  \n",
       "0          <NA>  \n",
       "1          <NA>  \n",
       "2          <NA>  \n",
       "3          <NA>  \n",
       "4          <NA>  \n",
       "...         ...  \n",
       "59573      <NA>  \n",
       "59574      <NA>  \n",
       "59575      <NA>  \n",
       "59576      <NA>  \n",
       "59577      <NA>  \n",
       "\n",
       "[59578 rows x 6 columns]"
      ]
     },
     "execution_count": 8,
     "metadata": {},
     "output_type": "execute_result"
    }
   ],
   "source": [
    "persons = persons.merge(gv_deaths, left_on='pk_gv', right_on='pk_person', how='left').drop(columns=['pk_person'])\n",
    "persons['uri_death'] = persons['uri_death'].astype(pd.StringDtype())\n",
    "persons['pk_stmt_person_to_death'] = persons['pk_stmt_person_to_death'].astype(pd.Int64Dtype())\n",
    "persons['pk_death'] = persons['pk_death'].astype(pd.Int64Dtype())\n",
    "\n",
    "persons"
   ]
  },
  {
   "attachments": {},
   "cell_type": "markdown",
   "metadata": {},
   "source": [
    "## Import data"
   ]
  },
  {
   "cell_type": "code",
   "execution_count": 9,
   "metadata": {},
   "outputs": [
    {
     "name": "stdout",
     "output_type": "stream",
     "text": [
      ">> Connecting to PRODUCTION Database ... Connected!\n"
     ]
    }
   ],
   "source": [
    "db.connect_geovistory(env, pk_project, execute)"
   ]
  },
  {
   "attachments": {},
   "cell_type": "markdown",
   "metadata": {},
   "source": [
    "### death - Add existing to project"
   ]
  },
  {
   "cell_type": "code",
   "execution_count": 10,
   "metadata": {},
   "outputs": [
    {
     "name": "stdout",
     "output_type": "stream",
     "text": [
      "Creating info_proj_rel of 48 entities with project <6857901> ... Done in [00h00'01]\n"
     ]
    }
   ],
   "source": [
    "to_add = []\n",
    "to_add += persons[pd.notna(persons['pk_stmt_person_to_death'])]['pk_stmt_person_to_death'].tolist()\n",
    "to_add += persons[pd.notna(persons['pk_death'])]['pk_death'].tolist()\n",
    "db.info_proj_rels.create(to_add)"
   ]
  },
  {
   "attachments": {},
   "cell_type": "markdown",
   "metadata": {},
   "source": [
    "### death - Create new"
   ]
  },
  {
   "cell_type": "code",
   "execution_count": 11,
   "metadata": {},
   "outputs": [
    {
     "name": "stdout",
     "output_type": "stream",
     "text": [
      "Batch creation of 59554 entities  is done - Elapsed: [00h31'31]                   \n"
     ]
    }
   ],
   "source": [
    "selection = persons[pd.isna(persons['pk_death'])][['pk_gv']].copy()\n",
    "selection['pk_death_new'] = db.resources.create(pks.classes.death, len(selection))"
   ]
  },
  {
   "cell_type": "code",
   "execution_count": 12,
   "metadata": {},
   "outputs": [
    {
     "name": "stdout",
     "output_type": "stream",
     "text": [
      "Shape:  (59722, 6) - extract:\n"
     ]
    },
    {
     "data": {
      "text/html": [
       "<div>\n",
       "<style scoped>\n",
       "    .dataframe tbody tr th:only-of-type {\n",
       "        vertical-align: middle;\n",
       "    }\n",
       "\n",
       "    .dataframe tbody tr th {\n",
       "        vertical-align: top;\n",
       "    }\n",
       "\n",
       "    .dataframe thead th {\n",
       "        text-align: right;\n",
       "    }\n",
       "</style>\n",
       "<table border=\"1\" class=\"dataframe\">\n",
       "  <thead>\n",
       "    <tr style=\"text-align: right;\">\n",
       "      <th></th>\n",
       "      <th>pk_bhp</th>\n",
       "      <th>pk_gv</th>\n",
       "      <th>date_bhp</th>\n",
       "      <th>uri_death</th>\n",
       "      <th>pk_stmt_person_to_death</th>\n",
       "      <th>pk_death</th>\n",
       "    </tr>\n",
       "  </thead>\n",
       "  <tbody>\n",
       "    <tr>\n",
       "      <th>0</th>\n",
       "      <td>1</td>\n",
       "      <td>6532778</td>\n",
       "      <td>(1599, &lt;NA&gt;, &lt;NA&gt;)</td>\n",
       "      <td>&lt;NA&gt;</td>\n",
       "      <td>&lt;NA&gt;</td>\n",
       "      <td>7726515</td>\n",
       "    </tr>\n",
       "    <tr>\n",
       "      <th>1</th>\n",
       "      <td>2</td>\n",
       "      <td>6499432</td>\n",
       "      <td>(1600, &lt;NA&gt;, &lt;NA&gt;)</td>\n",
       "      <td>&lt;NA&gt;</td>\n",
       "      <td>&lt;NA&gt;</td>\n",
       "      <td>7726516</td>\n",
       "    </tr>\n",
       "    <tr>\n",
       "      <th>2</th>\n",
       "      <td>3</td>\n",
       "      <td>783602</td>\n",
       "      <td>(1581, &lt;NA&gt;, &lt;NA&gt;)</td>\n",
       "      <td>&lt;NA&gt;</td>\n",
       "      <td>&lt;NA&gt;</td>\n",
       "      <td>7726517</td>\n",
       "    </tr>\n",
       "    <tr>\n",
       "      <th>3</th>\n",
       "      <td>4</td>\n",
       "      <td>6509333</td>\n",
       "      <td>(1600, &lt;NA&gt;, &lt;NA&gt;)</td>\n",
       "      <td>&lt;NA&gt;</td>\n",
       "      <td>&lt;NA&gt;</td>\n",
       "      <td>7726518</td>\n",
       "    </tr>\n",
       "    <tr>\n",
       "      <th>4</th>\n",
       "      <td>5</td>\n",
       "      <td>6511070</td>\n",
       "      <td>(1681, &lt;NA&gt;, &lt;NA&gt;)</td>\n",
       "      <td>&lt;NA&gt;</td>\n",
       "      <td>&lt;NA&gt;</td>\n",
       "      <td>7726519</td>\n",
       "    </tr>\n",
       "  </tbody>\n",
       "</table>\n",
       "</div>"
      ],
      "text/plain": [
       "   pk_bhp    pk_gv            date_bhp uri_death  pk_stmt_person_to_death  \\\n",
       "0       1  6532778  (1599, <NA>, <NA>)      <NA>                     <NA>   \n",
       "1       2  6499432  (1600, <NA>, <NA>)      <NA>                     <NA>   \n",
       "2       3   783602  (1581, <NA>, <NA>)      <NA>                     <NA>   \n",
       "3       4  6509333  (1600, <NA>, <NA>)      <NA>                     <NA>   \n",
       "4       5  6511070  (1681, <NA>, <NA>)      <NA>                     <NA>   \n",
       "\n",
       "   pk_death  \n",
       "0   7726515  \n",
       "1   7726516  \n",
       "2   7726517  \n",
       "3   7726518  \n",
       "4   7726519  "
      ]
     },
     "metadata": {},
     "output_type": "display_data"
    }
   ],
   "source": [
    "persons = persons.merge(selection, on='pk_gv', how='left')\n",
    "persons['pk_death'] = [row.pk_death if pd.notna(row.pk_death) else row.pk_death_new for _, row in persons.iterrows()]\n",
    "persons['pk_death'] = persons['pk_death'].astype(pd.Int64Dtype())\n",
    "persons.drop(columns=['pk_death_new'], inplace=True)\n",
    "\n",
    "a.infos(persons)"
   ]
  },
  {
   "attachments": {},
   "cell_type": "markdown",
   "metadata": {},
   "source": [
    "### death - Add URI"
   ]
  },
  {
   "cell_type": "code",
   "execution_count": 13,
   "metadata": {},
   "outputs": [
    {
     "name": "stdout",
     "output_type": "stream",
     "text": [
      "Batch creation of 9388 entities  is done - Elapsed: [00h04'58]                    \n",
      "Batch creation of 9388 appellations  is done - Elapsed: [00h05'03]                   \n",
      "Batch creation of 9388 statements  is done - Elapsed: [00h05'01]                   \n",
      "Batch creation of 9388 statements  is done - Elapsed: [00h05'03]                   \n"
     ]
    }
   ],
   "source": [
    "selection = persons[pd.notna(persons['uri_death'])]\n",
    "graphs.add_uris(selection['pk_death'].tolist(), selection['uri_death'].tolist())"
   ]
  },
  {
   "attachments": {},
   "cell_type": "markdown",
   "metadata": {},
   "source": [
    "### death - Add date"
   ]
  },
  {
   "cell_type": "code",
   "execution_count": 14,
   "metadata": {},
   "outputs": [
    {
     "name": "stdout",
     "output_type": "stream",
     "text": [
      "Batch creation of 36695 time_primitives  is done - Elapsed: [00h19'48]                   \n",
      "Batch creation of 36695 statements  is done - Elapsed: [00h20'05]                   \n"
     ]
    }
   ],
   "source": [
    "def get_duration(date):\n",
    "    if pd.notna(date[0]) and pd.isna(date[1]) and pd.isna(date[2]): return '1 year'\n",
    "    if pd.notna(date[0]) and pd.notna(date[1]) and pd.isna(date[2]): return '1 month'\n",
    "    if pd.notna(date[0]) and pd.notna(date[1]) and pd.notna(date[2]): return '1 day'\n",
    "    return pd.NA\n",
    "\n",
    "\n",
    "# Compute duration\n",
    "selection = persons[['pk_death', 'date_bhp']].copy()\n",
    "selection['duration'] = [get_duration(d) for d in selection['date_bhp']]\n",
    "selection.dropna(inplace=True)\n",
    "\n",
    "# Create Time primitive\n",
    "selection['pk_time_primitives'] = db.time_primitives.create(selection['date_bhp'].tolist(), selection['duration'].tolist())\n",
    "\n",
    "# death has time primitive\n",
    "db.statements.create(\n",
    "    selection['pk_death'], \n",
    "    pks.properties.timeSpan_atSomeTimeWithin_timePrimitive, \n",
    "    selection['pk_time_primitives']\n",
    ")"
   ]
  },
  {
   "attachments": {},
   "cell_type": "markdown",
   "metadata": {},
   "source": [
    "### Death - Link death to persons"
   ]
  },
  {
   "cell_type": "code",
   "execution_count": 15,
   "metadata": {},
   "outputs": [
    {
     "name": "stdout",
     "output_type": "stream",
     "text": [
      "Batch creation of 59698 statements  is done - Elapsed: [00h32'11]                   \n"
     ]
    }
   ],
   "source": [
    "selection = persons[['pk_gv', 'pk_death', 'pk_stmt_person_to_death']]\n",
    "selection = selection[pd.isna(selection['pk_stmt_person_to_death'])].drop(columns=['pk_stmt_person_to_death'])\n",
    "\n",
    "db.statements.create(\n",
    "    selection['pk_death'], \n",
    "    pks.properties.death_wasDeathOf_person, \n",
    "    selection['pk_gv']\n",
    ")"
   ]
  }
 ],
 "metadata": {
  "kernelspec": {
   "display_name": "Python 3",
   "language": "python",
   "name": "python3"
  },
  "language_info": {
   "codemirror_mode": {
    "name": "ipython",
    "version": 3
   },
   "file_extension": ".py",
   "mimetype": "text/x-python",
   "name": "python",
   "nbconvert_exporter": "python",
   "pygments_lexer": "ipython3",
   "version": "3.8.10"
  },
  "orig_nbformat": 4
 },
 "nbformat": 4,
 "nbformat_minor": 2
}
