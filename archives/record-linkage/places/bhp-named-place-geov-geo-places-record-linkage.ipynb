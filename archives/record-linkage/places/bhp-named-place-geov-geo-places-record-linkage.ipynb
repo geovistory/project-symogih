{
 "cells": [
  {
   "cell_type": "code",
   "execution_count": 1,
   "metadata": {},
   "outputs": [],
   "source": [
    "%load_ext autoreload\n",
    "%autoreload 2\n",
    "\n",
    "env = 'staging'\n",
    "pk_project = 0\n",
    "execute = False\n",
    "\n",
    "import pandas as pd\n",
    "import numpy as np\n",
    "import duckdb\n",
    "import os\n",
    "\n",
    "import geovpylib.analysis as a\n",
    "import geovpylib.database as db\n",
    "import geovpylib.graphs as graphs\n",
    "import geovpylib.pks as pks\n",
    "import geovpylib.recordlinkage as rl\n",
    "import geovpylib.sparql as sparql\n",
    "import geovpylib.utils as u\n",
    "\n",
    "eta = u.Eta()"
   ]
  },
  {
   "attachments": {},
   "cell_type": "markdown",
   "metadata": {},
   "source": [
    "# BHP named places / Geovistory geographical places record linkage"
   ]
  },
  {
   "attachments": {},
   "cell_type": "markdown",
   "metadata": {},
   "source": [
    "## Prepare named places from BHP fetched and cleaned data"
   ]
  },
  {
   "attachments": {},
   "cell_type": "markdown",
   "metadata": {},
   "source": [
    "### Read data"
   ]
  },
  {
   "cell_type": "code",
   "execution_count": 2,
   "metadata": {},
   "outputs": [],
   "source": [
    "named_place = u.read_df('../../../data/bhp/named_place.csv')\n",
    "\n",
    "a.set_types(named_place, {\n",
    "        \"pk_named_place\": \"int\",\n",
    "           \"concat_napl\": \"string\",\n",
    "  \"concat_standard_name\": \"string\",\n",
    "     \"fk_abob_type_napl\": \"int\",\n",
    "     \"modification_time\": \"datetime\",\n",
    "         \"creation_time\": \"datetime\",\n",
    "               \"creator\": \"int\",\n",
    "              \"modifier\": \"int\",\n",
    "    \"standard_longitude\": \"float\",\n",
    "     \"standard_latitude\": \"float\",\n",
    "                 \"notes\": \"string\",\n",
    "         \"certainty_end\": \"int\",\n",
    "       \"certainty_begin\": \"int\",\n",
    "            \"begin_year\": \"int\",\n",
    "           \"notes_begin\": \"string\",\n",
    "              \"end_year\": \"int\",\n",
    "             \"notes_end\": \"string\"\n",
    "})\n",
    "\n",
    "# a.infos(named_place)"
   ]
  },
  {
   "cell_type": "code",
   "execution_count": 3,
   "metadata": {},
   "outputs": [],
   "source": [
    "named_place_name = u.read_df('../../../data/bhp/named_place_name.csv')\n",
    "\n",
    "a.set_types(named_place_name, {\n",
    "   \"pk_named_place_name\": \"int\",\n",
    "           \"concat_plna\": \"string\",\n",
    "      \"is_standard_name\": \"boolean\",\n",
    "        \"fk_named_place\": \"int\",\n",
    "         \"creation_time\": \"datetime\",\n",
    "               \"creator\": \"int\",\n",
    "              \"modifier\": \"int\",\n",
    "                  \"name\": \"string\",\n",
    "              \"lang_iso\": \"string\",\n",
    "     \"modification_time\": \"datetime\",\n",
    "                 \"notes\": \"string\",\n",
    "                \"number\": \"int\",\n",
    "     \"complement_number\": \"string\",\n",
    "\"fk_abob_napl_name_type\": \"int\",\n",
    "    \"comment_begin_year\": \"string\",\n",
    "      \"comment_end_year\": \"string\",\n",
    "            \"begin_date\": \"datetime\",\n",
    "              \"end_date\": \"datetime\"\n",
    "})     \n",
    "\n",
    "# a.infos(named_place_name)"
   ]
  },
  {
   "cell_type": "code",
   "execution_count": 4,
   "metadata": {},
   "outputs": [],
   "source": [
    "named_place_text_property = u.read_df('../../../data/bhp/named_place_text_property.csv')\n",
    "\n",
    "a.set_types(named_place_text_property, {\n",
    "    \"pk_named_place_text_property\": \"int\",\n",
    "                   \"property_type\": \"string\",\n",
    "                            \"text\": \"string\",\n",
    "                  \"fk_named_place\": \"int\",\n",
    "                   \"creation_time\": \"datetime\",\n",
    "                     \"concat_nptp\": \"string\",\n",
    "                         \"creator\": \"int\",\n",
    "                        \"modifier\": \"int\",\n",
    "                   \"lang_iso_code\": \"string\",\n",
    "               \"modification_time\": \"datetime\",\n",
    "                           \"notes\": \"string\",\n",
    "})       \n",
    "\n",
    "# a.infos(named_place_text_property)"
   ]
  },
  {
   "attachments": {},
   "cell_type": "markdown",
   "metadata": {},
   "source": [
    "### Create places table"
   ]
  },
  {
   "cell_type": "code",
   "execution_count": 5,
   "metadata": {},
   "outputs": [],
   "source": [
    "# Names\n",
    "names = pd.DataFrame()\n",
    "names['pk'] = named_place_name['fk_named_place']\n",
    "names['name'] = named_place_name['name'].str.lower()\n",
    "names['name'] = names['name'].str.strip()\n",
    "names.dropna(inplace=True)"
   ]
  },
  {
   "cell_type": "code",
   "execution_count": 6,
   "metadata": {},
   "outputs": [],
   "source": [
    "# Geo coordinates\n",
    "geocoord = pd.DataFrame()\n",
    "geocoord['pk'] = named_place['pk_named_place']\n",
    "geocoord['lat'] = named_place['standard_latitude']\n",
    "geocoord['lng'] = named_place['standard_longitude']\n",
    "geocoord.dropna(inplace=True)"
   ]
  },
  {
   "cell_type": "code",
   "execution_count": 7,
   "metadata": {},
   "outputs": [],
   "source": [
    "# Type\n",
    "type = pd.DataFrame()\n",
    "type['pk'] = named_place['pk_named_place']\n",
    "type['type'] = named_place['fk_abob_type_napl'].astype(object)\n",
    "type['type'] = type['type'].replace(156, 'Lieu habité')\n",
    "type['type'] = type['type'].replace(245, 'Région géographique')\n",
    "type['type'] = type['type'].replace(695, 'Adresse')\n",
    "type['type'] = type['type'].replace(696, 'Élément géographique naturel')\n",
    "type['type'] = type['type'].replace(697, 'Territoire')\n",
    "type['type'] = type['type'].replace(698, 'Surface d\\'infrastructure')"
   ]
  },
  {
   "cell_type": "code",
   "execution_count": 8,
   "metadata": {},
   "outputs": [
    {
     "name": "stdout",
     "output_type": "stream",
     "text": [
      "Shape:  (128430, 5) - extract:\n"
     ]
    },
    {
     "data": {
      "text/html": [
       "<div>\n",
       "<style scoped>\n",
       "    .dataframe tbody tr th:only-of-type {\n",
       "        vertical-align: middle;\n",
       "    }\n",
       "\n",
       "    .dataframe tbody tr th {\n",
       "        vertical-align: top;\n",
       "    }\n",
       "\n",
       "    .dataframe thead th {\n",
       "        text-align: right;\n",
       "    }\n",
       "</style>\n",
       "<table border=\"1\" class=\"dataframe\">\n",
       "  <thead>\n",
       "    <tr style=\"text-align: right;\">\n",
       "      <th></th>\n",
       "      <th>pk</th>\n",
       "      <th>name</th>\n",
       "      <th>lat</th>\n",
       "      <th>lng</th>\n",
       "      <th>type</th>\n",
       "    </tr>\n",
       "  </thead>\n",
       "  <tbody>\n",
       "    <tr>\n",
       "      <th>14977</th>\n",
       "      <td>29879</td>\n",
       "      <td>suc-sur-erdre</td>\n",
       "      <td>&lt;NA&gt;</td>\n",
       "      <td>&lt;NA&gt;</td>\n",
       "      <td>Territoire</td>\n",
       "    </tr>\n",
       "    <tr>\n",
       "      <th>45161</th>\n",
       "      <td>12912</td>\n",
       "      <td>magnieu</td>\n",
       "      <td>&lt;NA&gt;</td>\n",
       "      <td>&lt;NA&gt;</td>\n",
       "      <td>Territoire</td>\n",
       "    </tr>\n",
       "    <tr>\n",
       "      <th>41379</th>\n",
       "      <td>99787</td>\n",
       "      <td>philippe fabia rue 31</td>\n",
       "      <td>45.72749</td>\n",
       "      <td>4.871214</td>\n",
       "      <td>Adresse</td>\n",
       "    </tr>\n",
       "    <tr>\n",
       "      <th>3766</th>\n",
       "      <td>19208</td>\n",
       "      <td>marais</td>\n",
       "      <td>&lt;NA&gt;</td>\n",
       "      <td>&lt;NA&gt;</td>\n",
       "      <td>Territoire</td>\n",
       "    </tr>\n",
       "    <tr>\n",
       "      <th>123586</th>\n",
       "      <td>127456</td>\n",
       "      <td>albissola marina</td>\n",
       "      <td>44.326606</td>\n",
       "      <td>8.501224</td>\n",
       "      <td>Lieu habité</td>\n",
       "    </tr>\n",
       "  </tbody>\n",
       "</table>\n",
       "</div>"
      ],
      "text/plain": [
       "            pk                   name        lat       lng         type\n",
       "14977    29879          suc-sur-erdre       <NA>      <NA>   Territoire\n",
       "45161    12912                magnieu       <NA>      <NA>   Territoire\n",
       "41379    99787  philippe fabia rue 31   45.72749  4.871214      Adresse\n",
       "3766     19208                 marais       <NA>      <NA>   Territoire\n",
       "123586  127456       albissola marina  44.326606  8.501224  Lieu habité"
      ]
     },
     "metadata": {},
     "output_type": "display_data"
    }
   ],
   "source": [
    "place = pd.DataFrame()\n",
    "place['pk'] = named_place['pk_named_place']\n",
    "place = place.merge(names, on='pk', how='left')\n",
    "place = place.merge(geocoord, on='pk', how='left')\n",
    "place = place.merge(type, on='pk', how='left')\n",
    "\n",
    "a.infos(place, random=True)"
   ]
  },
  {
   "cell_type": "code",
   "execution_count": 9,
   "metadata": {},
   "outputs": [
    {
     "data": {
      "text/html": [
       "<div>\n",
       "<style scoped>\n",
       "    .dataframe tbody tr th:only-of-type {\n",
       "        vertical-align: middle;\n",
       "    }\n",
       "\n",
       "    .dataframe tbody tr th {\n",
       "        vertical-align: top;\n",
       "    }\n",
       "\n",
       "    .dataframe thead th {\n",
       "        text-align: right;\n",
       "    }\n",
       "</style>\n",
       "<table border=\"1\" class=\"dataframe\">\n",
       "  <thead>\n",
       "    <tr style=\"text-align: right;\">\n",
       "      <th></th>\n",
       "      <th>pk</th>\n",
       "      <th>name</th>\n",
       "      <th>lat</th>\n",
       "      <th>lng</th>\n",
       "      <th>type</th>\n",
       "    </tr>\n",
       "  </thead>\n",
       "  <tbody>\n",
       "    <tr>\n",
       "      <th>31223</th>\n",
       "      <td>352</td>\n",
       "      <td>berd</td>\n",
       "      <td>40.88</td>\n",
       "      <td>45.390278</td>\n",
       "      <td>Lieu habité</td>\n",
       "    </tr>\n",
       "  </tbody>\n",
       "</table>\n",
       "</div>"
      ],
      "text/plain": [
       "        pk  name    lat        lng         type\n",
       "31223  352  berd  40.88  45.390278  Lieu habité"
      ]
     },
     "execution_count": 9,
     "metadata": {},
     "output_type": "execute_result"
    }
   ],
   "source": [
    "place[place['name'] == 'berd']"
   ]
  },
  {
   "attachments": {},
   "cell_type": "markdown",
   "metadata": {},
   "source": [
    "#### Filter out \"Surface de commune\" et \"Surface de canton\""
   ]
  },
  {
   "attachments": {},
   "cell_type": "markdown",
   "metadata": {},
   "source": [
    "According, to the [GitHub issue](https://github.com/geovistory/symogih/issues/2), we exclude them from the record linkage.\n",
    "The information is found at `classify_napl.fk_abstract_object = 161 or 163`"
   ]
  },
  {
   "cell_type": "code",
   "execution_count": 10,
   "metadata": {},
   "outputs": [
    {
     "name": "stdout",
     "output_type": "stream",
     "text": [
      ">> Connecting to PGSQL Database ... Connected!\n"
     ]
    }
   ],
   "source": [
    "# Fetch data\n",
    "db.connect_external(os.environ.get('YELLOW_BHP'))\n",
    "classify_napl = db.query('select * from bhp.classify_napl')[['fk_named_place', 'fk_abstract_object']]\n",
    "# a.infos(classify_napl)"
   ]
  },
  {
   "cell_type": "code",
   "execution_count": 11,
   "metadata": {},
   "outputs": [
    {
     "name": "stdout",
     "output_type": "stream",
     "text": [
      "Shape:  (128445, 6) - extract:\n"
     ]
    },
    {
     "data": {
      "text/html": [
       "<div>\n",
       "<style scoped>\n",
       "    .dataframe tbody tr th:only-of-type {\n",
       "        vertical-align: middle;\n",
       "    }\n",
       "\n",
       "    .dataframe tbody tr th {\n",
       "        vertical-align: top;\n",
       "    }\n",
       "\n",
       "    .dataframe thead th {\n",
       "        text-align: right;\n",
       "    }\n",
       "</style>\n",
       "<table border=\"1\" class=\"dataframe\">\n",
       "  <thead>\n",
       "    <tr style=\"text-align: right;\">\n",
       "      <th></th>\n",
       "      <th>pk</th>\n",
       "      <th>name</th>\n",
       "      <th>lat</th>\n",
       "      <th>lng</th>\n",
       "      <th>type</th>\n",
       "      <th>fk_abstract_object</th>\n",
       "    </tr>\n",
       "  </thead>\n",
       "  <tbody>\n",
       "    <tr>\n",
       "      <th>0</th>\n",
       "      <td>15922</td>\n",
       "      <td>vbre</td>\n",
       "      <td>&lt;NA&gt;</td>\n",
       "      <td>&lt;NA&gt;</td>\n",
       "      <td>Territoire</td>\n",
       "      <td>161</td>\n",
       "    </tr>\n",
       "    <tr>\n",
       "      <th>1</th>\n",
       "      <td>15923</td>\n",
       "      <td>ventenac</td>\n",
       "      <td>&lt;NA&gt;</td>\n",
       "      <td>&lt;NA&gt;</td>\n",
       "      <td>Territoire</td>\n",
       "      <td>161</td>\n",
       "    </tr>\n",
       "    <tr>\n",
       "      <th>2</th>\n",
       "      <td>15924</td>\n",
       "      <td>verdun</td>\n",
       "      <td>&lt;NA&gt;</td>\n",
       "      <td>&lt;NA&gt;</td>\n",
       "      <td>Territoire</td>\n",
       "      <td>161</td>\n",
       "    </tr>\n",
       "    <tr>\n",
       "      <th>3</th>\n",
       "      <td>15925</td>\n",
       "      <td>vernajoul</td>\n",
       "      <td>&lt;NA&gt;</td>\n",
       "      <td>&lt;NA&gt;</td>\n",
       "      <td>Territoire</td>\n",
       "      <td>161</td>\n",
       "    </tr>\n",
       "    <tr>\n",
       "      <th>4</th>\n",
       "      <td>15926</td>\n",
       "      <td>vernaux</td>\n",
       "      <td>&lt;NA&gt;</td>\n",
       "      <td>&lt;NA&gt;</td>\n",
       "      <td>Territoire</td>\n",
       "      <td>161</td>\n",
       "    </tr>\n",
       "  </tbody>\n",
       "</table>\n",
       "</div>"
      ],
      "text/plain": [
       "      pk       name   lat   lng        type  fk_abstract_object\n",
       "0  15922       vbre  <NA>  <NA>  Territoire                 161\n",
       "1  15923   ventenac  <NA>  <NA>  Territoire                 161\n",
       "2  15924     verdun  <NA>  <NA>  Territoire                 161\n",
       "3  15925  vernajoul  <NA>  <NA>  Territoire                 161\n",
       "4  15926    vernaux  <NA>  <NA>  Territoire                 161"
      ]
     },
     "metadata": {},
     "output_type": "display_data"
    }
   ],
   "source": [
    "# Merge information\n",
    "place = place.merge(classify_napl, left_on=\"pk\", right_on=\"fk_named_place\", how='left').drop(columns=['fk_named_place'])\n",
    "a.set_types(place, {'fk_abstract_object':'int'})\n",
    "a.infos(place)"
   ]
  },
  {
   "cell_type": "code",
   "execution_count": 12,
   "metadata": {},
   "outputs": [
    {
     "data": {
      "text/plain": [
       "50775"
      ]
     },
     "execution_count": 12,
     "metadata": {},
     "output_type": "execute_result"
    }
   ],
   "source": [
    "# place.groupby('fk_abstract_object').count()\n",
    "pd.isna(place['fk_abstract_object']).sum()"
   ]
  },
  {
   "cell_type": "code",
   "execution_count": 13,
   "metadata": {},
   "outputs": [
    {
     "name": "stdout",
     "output_type": "stream",
     "text": [
      "Number of 161 or 163: 40755\n"
     ]
    }
   ],
   "source": [
    "nb = ((place['fk_abstract_object'] == 161) | (place['fk_abstract_object'] == 163)).sum()\n",
    "print('Number of 161 or 163:', nb)"
   ]
  },
  {
   "cell_type": "code",
   "execution_count": 14,
   "metadata": {},
   "outputs": [
    {
     "name": "stdout",
     "output_type": "stream",
     "text": [
      "Shape:  (87690, 5) - extract:\n"
     ]
    },
    {
     "data": {
      "text/html": [
       "<div>\n",
       "<style scoped>\n",
       "    .dataframe tbody tr th:only-of-type {\n",
       "        vertical-align: middle;\n",
       "    }\n",
       "\n",
       "    .dataframe tbody tr th {\n",
       "        vertical-align: top;\n",
       "    }\n",
       "\n",
       "    .dataframe thead th {\n",
       "        text-align: right;\n",
       "    }\n",
       "</style>\n",
       "<table border=\"1\" class=\"dataframe\">\n",
       "  <thead>\n",
       "    <tr style=\"text-align: right;\">\n",
       "      <th></th>\n",
       "      <th>pk</th>\n",
       "      <th>name</th>\n",
       "      <th>lat</th>\n",
       "      <th>lng</th>\n",
       "      <th>type</th>\n",
       "    </tr>\n",
       "  </thead>\n",
       "  <tbody>\n",
       "    <tr>\n",
       "      <th>25</th>\n",
       "      <td>89944</td>\n",
       "      <td>saint-florent-sur-cher</td>\n",
       "      <td>46.983333</td>\n",
       "      <td>2.25</td>\n",
       "      <td>Lieu habité</td>\n",
       "    </tr>\n",
       "    <tr>\n",
       "      <th>26</th>\n",
       "      <td>89946</td>\n",
       "      <td>dra ben khedda</td>\n",
       "      <td>36.736667</td>\n",
       "      <td>3.956111</td>\n",
       "      <td>Lieu habité</td>\n",
       "    </tr>\n",
       "    <tr>\n",
       "      <th>27</th>\n",
       "      <td>89946</td>\n",
       "      <td>mirabeau</td>\n",
       "      <td>36.736667</td>\n",
       "      <td>3.956111</td>\n",
       "      <td>Lieu habité</td>\n",
       "    </tr>\n",
       "    <tr>\n",
       "      <th>28</th>\n",
       "      <td>89942</td>\n",
       "      <td>antsiranana</td>\n",
       "      <td>-12.266667</td>\n",
       "      <td>49.283056</td>\n",
       "      <td>Lieu habité</td>\n",
       "    </tr>\n",
       "    <tr>\n",
       "      <th>29</th>\n",
       "      <td>89942</td>\n",
       "      <td>diego suarez</td>\n",
       "      <td>-12.266667</td>\n",
       "      <td>49.283056</td>\n",
       "      <td>Lieu habité</td>\n",
       "    </tr>\n",
       "  </tbody>\n",
       "</table>\n",
       "</div>"
      ],
      "text/plain": [
       "       pk                    name        lat        lng         type\n",
       "25  89944  saint-florent-sur-cher  46.983333       2.25  Lieu habité\n",
       "26  89946          dra ben khedda  36.736667   3.956111  Lieu habité\n",
       "27  89946                mirabeau  36.736667   3.956111  Lieu habité\n",
       "28  89942             antsiranana -12.266667  49.283056  Lieu habité\n",
       "29  89942            diego suarez -12.266667  49.283056  Lieu habité"
      ]
     },
     "metadata": {},
     "output_type": "display_data"
    }
   ],
   "source": [
    "place = place[pd.isna(place['fk_abstract_object']) | ~((place['fk_abstract_object'] == 161) | (place['fk_abstract_object'] == 163))]\n",
    "place.drop(columns=['fk_abstract_object'], inplace=True)\n",
    "a.infos(place)"
   ]
  },
  {
   "attachments": {},
   "cell_type": "markdown",
   "metadata": {},
   "source": [
    "## Record linkage"
   ]
  },
  {
   "cell_type": "code",
   "execution_count": 15,
   "metadata": {},
   "outputs": [
    {
     "name": "stdout",
     "output_type": "stream",
     "text": [
      "Requests will not be executed\n",
      ">> Connecting to STAGING Database ... Connected!\n",
      "Checking data integrity... Done\n",
      "Find all geographical places in Geovistory... 14828 found, in 5 seconds.\n",
      "Finding similar geographical places is done - Elapsed: [00h01'22]                   \n"
     ]
    }
   ],
   "source": [
    "db.connect_geovistory(env, pk_project, execute=execute)\n",
    "record_linkage = rl.find_geoplaces(place, 'pk', distance=50, jobs=10)"
   ]
  },
  {
   "cell_type": "markdown",
   "metadata": {},
   "source": [
    "### Join information to help record linkage"
   ]
  },
  {
   "cell_type": "code",
   "execution_count": 16,
   "metadata": {},
   "outputs": [],
   "source": [
    "record_linkage.rename(columns={'pk':'pk_bhp','pk_entity': 'pk_gv', 'new_name':'bhp_name', 'new_lat':'bhp_lat', 'new_lng':'bhp_lng'}, inplace=True)"
   ]
  },
  {
   "attachments": {},
   "cell_type": "markdown",
   "metadata": {},
   "source": [
    "#### Definition"
   ]
  },
  {
   "cell_type": "code",
   "execution_count": 17,
   "metadata": {},
   "outputs": [],
   "source": [
    "# BHP\n",
    "named_place_text_property = u.read_df('../../../data/bhp/named_place_text_property.csv')[['fk_named_place', 'text']]\n",
    "named_place_text_property.rename(columns={'text': 'bhp_definition'}, inplace=True)\n",
    "\n",
    "# Geovistory\n",
    "pks_entity = \"(\" + \",\".join(record_linkage['pk_gv'].astype(str).tolist()) + \")\"\n",
    "gv_def = db.query(f\"\"\"\n",
    "    select \n",
    "        r.pk_entity,\n",
    "        a.string as gv_definition\n",
    "    from information.resource r\n",
    "    left join information.statement s1 on s1.fk_subject_info = r.pk_entity and s1.fk_property = 1762\n",
    "    inner join information.statement s2 on s2.fk_subject_info = s1.fk_object_info and s2.fk_property = 1864\n",
    "    inner join information.appellation a on a.pk_entity = s2.fk_object_info\n",
    "    where r.pk_entity in {pks_entity}\n",
    "\"\"\")\n",
    "\n",
    "record_linkage = record_linkage.merge(named_place_text_property, left_on='pk_bhp', right_on='fk_named_place', how='left').drop(columns=['fk_named_place'])\n",
    "record_linkage = record_linkage.merge(gv_def, left_on='pk_gv', right_on='pk_entity', how='left').drop(columns=['pk_entity'])"
   ]
  },
  {
   "attachments": {},
   "cell_type": "markdown",
   "metadata": {},
   "source": [
    "#### Types"
   ]
  },
  {
   "cell_type": "code",
   "execution_count": 18,
   "metadata": {},
   "outputs": [],
   "source": [
    "# BHP\n",
    "record_linkage = record_linkage.merge(place[['pk', 'type']], left_on='pk_bhp', right_on='pk', how='left').drop(columns=['pk']).rename(columns={'type':'bhp_type'})\n",
    "\n",
    "# Geovistory\n",
    "pks_entity = \"(\" + \",\".join(record_linkage['pk_gv'].astype(str).tolist()) + \")\"\n",
    "gv_types = db.query(f\"\"\"\n",
    "    select \n",
    "        r.pk_entity,\n",
    "        a.string as gv_type\n",
    "    from information.resource r\n",
    "    left join information.statement s1 on s1.fk_subject_info = r.pk_entity and s1.fk_property = 1110\n",
    "    inner join information.statement s2 on s2.fk_object_info = s1.fk_object_info and s2.fk_property = 1111\n",
    "    inner join information.statement s3 on s3.fk_subject_info = s2.fk_subject_info and s3.fk_property = 1113\n",
    "    inner join information.statement s4 on s4.fk_subject_info = s2.fk_subject_info and s4.fk_property = 1112 and s4.fk_object_info = {pks.languages.english}\n",
    "    inner join information.appellation a on a.pk_entity = s3.fk_object_info\n",
    "    where r.pk_entity in {pks_entity}\n",
    "\"\"\")        \n",
    "gv_types.drop_duplicates(subset=['pk_entity'], inplace=True)\n",
    "\n",
    "record_linkage = record_linkage.merge(gv_types, left_on='pk_gv', right_on='pk_entity', how='left').drop(columns=['pk_entity'])\n",
    "record_linkage.drop_duplicates(inplace=True)"
   ]
  },
  {
   "cell_type": "code",
   "execution_count": 19,
   "metadata": {},
   "outputs": [
    {
     "name": "stdout",
     "output_type": "stream",
     "text": [
      "Shape:  (838, 13) - extract:\n"
     ]
    },
    {
     "data": {
      "text/html": [
       "<div>\n",
       "<style scoped>\n",
       "    .dataframe tbody tr th:only-of-type {\n",
       "        vertical-align: middle;\n",
       "    }\n",
       "\n",
       "    .dataframe tbody tr th {\n",
       "        vertical-align: top;\n",
       "    }\n",
       "\n",
       "    .dataframe thead th {\n",
       "        text-align: right;\n",
       "    }\n",
       "</style>\n",
       "<table border=\"1\" class=\"dataframe\">\n",
       "  <thead>\n",
       "    <tr style=\"text-align: right;\">\n",
       "      <th></th>\n",
       "      <th>pk_bhp</th>\n",
       "      <th>pk_gv</th>\n",
       "      <th>bhp_name</th>\n",
       "      <th>gv_name</th>\n",
       "      <th>bhp_lat</th>\n",
       "      <th>gv_lat</th>\n",
       "      <th>bhp_lng</th>\n",
       "      <th>gv_lng</th>\n",
       "      <th>distance</th>\n",
       "      <th>bhp_definition</th>\n",
       "      <th>gv_definition</th>\n",
       "      <th>bhp_type</th>\n",
       "      <th>gv_type</th>\n",
       "    </tr>\n",
       "  </thead>\n",
       "  <tbody>\n",
       "    <tr>\n",
       "      <th>0</th>\n",
       "      <td>1</td>\n",
       "      <td>205134</td>\n",
       "      <td>albanie</td>\n",
       "      <td>albania</td>\n",
       "      <td>41.000000</td>\n",
       "      <td>41.000000</td>\n",
       "      <td>20.00000</td>\n",
       "      <td>20.00</td>\n",
       "      <td>0.0</td>\n",
       "      <td>&lt;NA&gt;</td>\n",
       "      <td>NaN</td>\n",
       "      <td>Territoire</td>\n",
       "      <td>Geographical area</td>\n",
       "    </tr>\n",
       "    <tr>\n",
       "      <th>1</th>\n",
       "      <td>3</td>\n",
       "      <td>6201188</td>\n",
       "      <td>armenie</td>\n",
       "      <td>armenia</td>\n",
       "      <td>39.950000</td>\n",
       "      <td>40.383333</td>\n",
       "      <td>44.83333</td>\n",
       "      <td>44.95</td>\n",
       "      <td>49.2</td>\n",
       "      <td>&lt;NA&gt;</td>\n",
       "      <td>.</td>\n",
       "      <td>Territoire</td>\n",
       "      <td>Geographical area</td>\n",
       "    </tr>\n",
       "    <tr>\n",
       "      <th>2</th>\n",
       "      <td>7</td>\n",
       "      <td>2220550</td>\n",
       "      <td>belgique</td>\n",
       "      <td>belgique</td>\n",
       "      <td>50.833333</td>\n",
       "      <td>NaN</td>\n",
       "      <td>4.00000</td>\n",
       "      <td>NaN</td>\n",
       "      <td>NaN</td>\n",
       "      <td>Territoire du nouvel Etat n de la rvolution de...</td>\n",
       "      <td>Pays européen</td>\n",
       "      <td>Territoire</td>\n",
       "      <td>NaN</td>\n",
       "    </tr>\n",
       "    <tr>\n",
       "      <th>5</th>\n",
       "      <td>13</td>\n",
       "      <td>1485424</td>\n",
       "      <td>denmark</td>\n",
       "      <td>danmark</td>\n",
       "      <td>56.000000</td>\n",
       "      <td>56.000000</td>\n",
       "      <td>10.00000</td>\n",
       "      <td>10.00</td>\n",
       "      <td>0.0</td>\n",
       "      <td>&lt;NA&gt;</td>\n",
       "      <td>.</td>\n",
       "      <td>Territoire</td>\n",
       "      <td>Geographical area</td>\n",
       "    </tr>\n",
       "    <tr>\n",
       "      <th>7</th>\n",
       "      <td>19</td>\n",
       "      <td>1876219</td>\n",
       "      <td>allemagne</td>\n",
       "      <td>allemagne</td>\n",
       "      <td>51.500000</td>\n",
       "      <td>NaN</td>\n",
       "      <td>10.50000</td>\n",
       "      <td>NaN</td>\n",
       "      <td>NaN</td>\n",
       "      <td>&lt;NA&gt;</td>\n",
       "      <td>Pays d'Europe</td>\n",
       "      <td>Territoire</td>\n",
       "      <td>NaN</td>\n",
       "    </tr>\n",
       "  </tbody>\n",
       "</table>\n",
       "</div>"
      ],
      "text/plain": [
       "   pk_bhp    pk_gv   bhp_name    gv_name    bhp_lat     gv_lat   bhp_lng  \\\n",
       "0       1   205134    albanie    albania  41.000000  41.000000  20.00000   \n",
       "1       3  6201188    armenie    armenia  39.950000  40.383333  44.83333   \n",
       "2       7  2220550   belgique   belgique  50.833333        NaN   4.00000   \n",
       "5      13  1485424    denmark    danmark  56.000000  56.000000  10.00000   \n",
       "7      19  1876219  allemagne  allemagne  51.500000        NaN  10.50000   \n",
       "\n",
       "   gv_lng  distance                                     bhp_definition  \\\n",
       "0   20.00       0.0                                               <NA>   \n",
       "1   44.95      49.2                                               <NA>   \n",
       "2     NaN       NaN  Territoire du nouvel Etat n de la rvolution de...   \n",
       "5   10.00       0.0                                               <NA>   \n",
       "7     NaN       NaN                                               <NA>   \n",
       "\n",
       "   gv_definition    bhp_type            gv_type  \n",
       "0            NaN  Territoire  Geographical area  \n",
       "1              .  Territoire  Geographical area  \n",
       "2  Pays européen  Territoire                NaN  \n",
       "5              .  Territoire  Geographical area  \n",
       "7  Pays d'Europe  Territoire                NaN  "
      ]
     },
     "metadata": {},
     "output_type": "display_data"
    }
   ],
   "source": [
    "a.infos(record_linkage)"
   ]
  },
  {
   "attachments": {},
   "cell_type": "markdown",
   "metadata": {},
   "source": [
    "## Save"
   ]
  },
  {
   "cell_type": "code",
   "execution_count": 20,
   "metadata": {},
   "outputs": [],
   "source": [
    "u.save_df(record_linkage, '../../../data/record-linkage-bhp-named-place-geov-geo-places.csv')"
   ]
  }
 ],
 "metadata": {
  "kernelspec": {
   "display_name": "Python 3",
   "language": "python",
   "name": "python3"
  },
  "language_info": {
   "codemirror_mode": {
    "name": "ipython",
    "version": 3
   },
   "file_extension": ".py",
   "mimetype": "text/x-python",
   "name": "python",
   "nbconvert_exporter": "python",
   "pygments_lexer": "ipython3",
   "version": "3.8.10"
  },
  "orig_nbformat": 4
 },
 "nbformat": 4,
 "nbformat_minor": 2
}
