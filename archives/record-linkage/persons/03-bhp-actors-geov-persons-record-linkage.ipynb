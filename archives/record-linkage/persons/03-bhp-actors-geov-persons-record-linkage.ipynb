{
 "cells": [
  {
   "cell_type": "code",
   "execution_count": 1,
   "metadata": {},
   "outputs": [
    {
     "name": "stdout",
     "output_type": "stream",
     "text": [
      "Requests will not be executed\n",
      ">> Connecting to PRODUCTION Database ... Connected!\n"
     ]
    }
   ],
   "source": [
    "%load_ext autoreload\n",
    "%autoreload 2\n",
    "\n",
    "env = 'production'\n",
    "pk_project = 373987\n",
    "execute = False\n",
    "\n",
    "import os\n",
    "import pandas as pd\n",
    "import numpy as np\n",
    "import duckdb\n",
    "import plotly.express as px\n",
    "\n",
    "import geovpylib.analysis as a\n",
    "import geovpylib.database as db\n",
    "import geovpylib.graphs as graphs\n",
    "import geovpylib.pks as pks\n",
    "import geovpylib.recordlinkage as rl\n",
    "import geovpylib.sparql as sparql\n",
    "import geovpylib.utils as u\n",
    "\n",
    "eta = u.Eta()\n",
    "db.connect_geovistory(env, pk_project, execute, skip_protection=True)"
   ]
  },
  {
   "attachments": {},
   "cell_type": "markdown",
   "metadata": {},
   "source": [
    "# BHP actors / Geovistory persons record linkage"
   ]
  },
  {
   "attachments": {},
   "cell_type": "markdown",
   "metadata": {},
   "source": [
    "Now that the record linkage inside the BHP has been done, and interpretated, we can proceed to record linkage against Geovistory data."
   ]
  },
  {
   "attachments": {},
   "cell_type": "markdown",
   "metadata": {},
   "source": [
    "## Fetch BHP actors"
   ]
  },
  {
   "attachments": {},
   "cell_type": "markdown",
   "metadata": {},
   "source": [
    "Work is already done here, we just need to fetch data."
   ]
  },
  {
   "cell_type": "code",
   "execution_count": 2,
   "metadata": {},
   "outputs": [
    {
     "name": "stdout",
     "output_type": "stream",
     "text": [
      "Shape:  (69837, 7) - extract:\n"
     ]
    },
    {
     "data": {
      "text/html": [
       "<div>\n",
       "<style scoped>\n",
       "    .dataframe tbody tr th:only-of-type {\n",
       "        vertical-align: middle;\n",
       "    }\n",
       "\n",
       "    .dataframe tbody tr th {\n",
       "        vertical-align: top;\n",
       "    }\n",
       "\n",
       "    .dataframe thead th {\n",
       "        text-align: right;\n",
       "    }\n",
       "</style>\n",
       "<table border=\"1\" class=\"dataframe\">\n",
       "  <thead>\n",
       "    <tr style=\"text-align: right;\">\n",
       "      <th></th>\n",
       "      <th>pk_bhp</th>\n",
       "      <th>name_bhp</th>\n",
       "      <th>definition_bhp</th>\n",
       "      <th>definition_lang_bhp</th>\n",
       "      <th>gender_bhp</th>\n",
       "      <th>birth_year_bhp</th>\n",
       "      <th>death_year_bhp</th>\n",
       "    </tr>\n",
       "  </thead>\n",
       "  <tbody>\n",
       "    <tr>\n",
       "      <th>0</th>\n",
       "      <td>44895</td>\n",
       "      <td>antoine sainte-marie perrin</td>\n",
       "      <td>&lt;NA&gt;</td>\n",
       "      <td>&lt;NA&gt;</td>\n",
       "      <td>Male</td>\n",
       "      <td>&lt;NA&gt;</td>\n",
       "      <td>&lt;NA&gt;</td>\n",
       "    </tr>\n",
       "    <tr>\n",
       "      <th>1</th>\n",
       "      <td>47015</td>\n",
       "      <td>&lt;NA&gt;</td>\n",
       "      <td>&lt;NA&gt;</td>\n",
       "      <td>&lt;NA&gt;</td>\n",
       "      <td>Male</td>\n",
       "      <td>1506</td>\n",
       "      <td>&lt;NA&gt;</td>\n",
       "    </tr>\n",
       "    <tr>\n",
       "      <th>2</th>\n",
       "      <td>47190</td>\n",
       "      <td>alberto duimio</td>\n",
       "      <td>&lt;NA&gt;</td>\n",
       "      <td>&lt;NA&gt;</td>\n",
       "      <td>Male</td>\n",
       "      <td>1510</td>\n",
       "      <td>1564</td>\n",
       "    </tr>\n",
       "    <tr>\n",
       "      <th>3</th>\n",
       "      <td>47190</td>\n",
       "      <td>albertus divini</td>\n",
       "      <td>&lt;NA&gt;</td>\n",
       "      <td>&lt;NA&gt;</td>\n",
       "      <td>Male</td>\n",
       "      <td>1510</td>\n",
       "      <td>1564</td>\n",
       "    </tr>\n",
       "    <tr>\n",
       "      <th>4</th>\n",
       "      <td>47578</td>\n",
       "      <td>angelo zampa</td>\n",
       "      <td>&lt;NA&gt;</td>\n",
       "      <td>&lt;NA&gt;</td>\n",
       "      <td>Male</td>\n",
       "      <td>&lt;NA&gt;</td>\n",
       "      <td>1575</td>\n",
       "    </tr>\n",
       "  </tbody>\n",
       "</table>\n",
       "</div>"
      ],
      "text/plain": [
       "   pk_bhp                     name_bhp definition_bhp definition_lang_bhp  \\\n",
       "0   44895  antoine sainte-marie perrin           <NA>                <NA>   \n",
       "1   47015                         <NA>           <NA>                <NA>   \n",
       "2   47190               alberto duimio           <NA>                <NA>   \n",
       "3   47190              albertus divini           <NA>                <NA>   \n",
       "4   47578                 angelo zampa           <NA>                <NA>   \n",
       "\n",
       "  gender_bhp  birth_year_bhp  death_year_bhp  \n",
       "0       Male            <NA>            <NA>  \n",
       "1       Male            1506            <NA>  \n",
       "2       Male            1510            1564  \n",
       "3       Male            1510            1564  \n",
       "4       Male            <NA>            1575  "
      ]
     },
     "metadata": {},
     "output_type": "display_data"
    }
   ],
   "source": [
    "bhp_actors = u.read_df('../../../data/prepared/bhp_actors_cleaned.csv')\n",
    "bhp_actors.columns = ['pk_bhp', 'name_bhp', 'definition_bhp', 'definition_lang_bhp', 'gender_bhp', 'birth_year_bhp', 'death_year_bhp']\n",
    "\n",
    "a.infos(bhp_actors)"
   ]
  },
  {
   "attachments": {},
   "cell_type": "markdown",
   "metadata": {},
   "source": [
    "## Fetch Geovistory persons"
   ]
  },
  {
   "cell_type": "code",
   "execution_count": 3,
   "metadata": {},
   "outputs": [
    {
     "name": "stdout",
     "output_type": "stream",
     "text": [
      "Fetching all Geovistory persons ... 154073 information fetched.\n"
     ]
    }
   ],
   "source": [
    "# Here we want to fetch data from production, there is no need to ask staging\n",
    "if env != 'production': db.connect_geovistory('production', pk_project, execute, skip_protection=True)\n",
    "\n",
    "gv_persons = graphs.get_all_persons()\n",
    "gv_persons.columns = ['pk_gv', 'name_gv', 'gender_gv', 'birthdate_gv', 'deathdate_gv']\n",
    "\n",
    "# And we make sure it is again to the right environment\n",
    "if env != 'production': db.connect_geovistory(env, pk_project, execute, skip_protection=True)"
   ]
  },
  {
   "attachments": {},
   "cell_type": "markdown",
   "metadata": {},
   "source": [
    "## URIs analysis"
   ]
  },
  {
   "attachments": {},
   "cell_type": "markdown",
   "metadata": {},
   "source": [
    "### Fetch BHP URIs"
   ]
  },
  {
   "cell_type": "code",
   "execution_count": 4,
   "metadata": {},
   "outputs": [
    {
     "name": "stdout",
     "output_type": "stream",
     "text": [
      ">> Connecting to PGSQL Database ... Connected!\n",
      "Requests will not be executed\n",
      ">> Connecting to PRODUCTION Database ... Connected!\n"
     ]
    }
   ],
   "source": [
    "# BHP\n",
    "db.connect_external(os.environ.get('YELLOW_BHP'))\n",
    "uris_bhp = db.query('select * from bhp.documentation')\n",
    "uris_bhp = uris_bhp[pd.notna(uris_bhp['fk_documented_object'])]\n",
    "uris_bhp = uris_bhp[pd.notna(uris_bhp['fk_documenting_entity'])]\n",
    "uris_bhp = uris_bhp[pd.notna(uris_bhp['identifier'])]\n",
    "uris_bhp = uris_bhp[uris_bhp['fk_documented_object'].str.contains('Actr')]\n",
    "uris_bhp = uris_bhp[uris_bhp['fk_documenting_entity'].str.contains('DiOb')]\n",
    "uris_bhp['fk_documented_object'] = uris_bhp['fk_documented_object'].str.replace('Actr', '')\n",
    "uris_bhp = uris_bhp[['fk_documented_object', 'fk_documenting_entity', 'identifier']]\n",
    "uris_bhp['fk_documenting_entity'] = uris_bhp['fk_documenting_entity'].str.replace('DiOb', '')\n",
    "u.parse_df(uris_bhp)\n",
    "resource_address_concat = u.parse_df(db.query('select * from bhp.resource_address_concatenation')[['fk_digital_object', 'fk_resource_address']])\n",
    "resource_address = u.parse_df(db.query('select * from bhp.resource_address')[['pk_resource_address', 'uri']])\n",
    "uris_bhp = uris_bhp.merge(resource_address_concat, left_on='fk_documenting_entity', right_on='fk_digital_object', how='left').drop(columns=['fk_documenting_entity', 'fk_digital_object'])\n",
    "uris_bhp = uris_bhp.merge(resource_address, left_on='fk_resource_address', right_on='pk_resource_address', how='left')\n",
    "uris_bhp['uri'] = uris_bhp['uri'] + uris_bhp['identifier']\n",
    "uris_bhp = uris_bhp[['fk_documented_object', 'uri']]\n",
    "uris_bhp.dropna(subset=['uri'], inplace=True)\n",
    "uris_bhp.rename(columns={'fk_documented_object': 'pk_bhp', 'uri':'uri_bhp'}, inplace=True)\n",
    "\n",
    "db.connect_geovistory(env, pk_project, execute, skip_protection=True)"
   ]
  },
  {
   "attachments": {},
   "cell_type": "markdown",
   "metadata": {},
   "source": [
    "### URIs provenance analysis - BHP"
   ]
  },
  {
   "cell_type": "code",
   "execution_count": 5,
   "metadata": {},
   "outputs": [
    {
     "name": "stdout",
     "output_type": "stream",
     "text": [
      "Namespace distribution\n",
      " 82.93% - 5131 : d-nb.info \n",
      " 15.06% -  932 : idref.fr \n",
      "  1.02% -   63 : data.bnf.fr \n",
      "  0.32% -   20 : viaf.org \n",
      "  0.27% -   17 : wikidata.org \n",
      "  0.24% -   15 : dbpedia.org \n",
      "  0.13% -    8 : thesaurus.cerl.org \n",
      "  0.02% -    1 : it.dbpedia.org \n"
     ]
    }
   ],
   "source": [
    "uris_bhp['namespace_bhp'] = uris_bhp['uri_bhp'].str.replace('http://', '', regex=False).str.replace('https://', '', regex=False).str.replace('www.', '', regex=False)\n",
    "uris_bhp['namespace_bhp'] = [s[0:s.index('/')] for s in uris_bhp['namespace_bhp']]\n",
    "\n",
    "# fig = px.pie(uris_bhp, 'namespace_bhp', title=f'Distribution des namespaces des URIs des acteurs de la BHP (total {len(uris_bhp)})')\n",
    "# fig.update_traces(textinfo='percent+label')\n",
    "# fig.update(layout_showlegend=False)\n",
    "# fig.show()\n",
    "\n",
    "print('Namespace distribution')\n",
    "total = len(uris_bhp)\n",
    "counts = uris_bhp.groupby('namespace_bhp').count().sort_values('pk_bhp', ascending=False)['pk_bhp']\n",
    "for (idx, value) in counts.iteritems():\n",
    "    print(f\"{u.percent(value/total)} - {str(value).rjust(4)} : {idx} \")"
   ]
  },
  {
   "attachments": {},
   "cell_type": "markdown",
   "metadata": {},
   "source": [
    "### Add URIs to main BHP dataframe"
   ]
  },
  {
   "cell_type": "code",
   "execution_count": 6,
   "metadata": {},
   "outputs": [],
   "source": [
    "bhp_actors = bhp_actors.merge(uris_bhp, on='pk_bhp', how='left')"
   ]
  },
  {
   "cell_type": "code",
   "execution_count": 7,
   "metadata": {},
   "outputs": [
    {
     "name": "stdout",
     "output_type": "stream",
     "text": [
      "BHP Actors total number: 59035\n",
      "BHP Actors with at list one URI: 6079\n"
     ]
    }
   ],
   "source": [
    "print('BHP Actors total number:', len(bhp_actors['pk_bhp'].unique()))\n",
    "print('BHP Actors with at list one URI:', len(bhp_actors[pd.notna(bhp_actors['uri_bhp'])]['pk_bhp'].unique()))"
   ]
  },
  {
   "attachments": {},
   "cell_type": "markdown",
   "metadata": {},
   "source": [
    "### Fetch Geovistory URIs"
   ]
  },
  {
   "cell_type": "code",
   "execution_count": 8,
   "metadata": {},
   "outputs": [],
   "source": [
    "# Here we want to fetch data from production, there is no need to ask staging\n",
    "if env != 'production': db.connect_geovistory('production', pk_project, execute, skip_protection=True)\n",
    "\n",
    "uris_gv = db.query(f\"\"\"\n",
    "    select\n",
    "        r2.pk_entity as pk_gv,\n",
    "        a.string as uri_gv\n",
    "    from information.resource r1\n",
    "    inner join information.statement s1 on s1.fk_subject_info = r1.pk_entity and s1.fk_property = {pks.properties.appe_hasValue_string}\n",
    "    inner join information.appellation a on a.pk_entity = s1.fk_object_info\n",
    "    inner join information.statement s2 on s2.fk_object_info = r1.pk_entity and s2.fk_property = {pks.properties.entity_sameAsURI_URI}\n",
    "    inner join information.resource r2 on r2.pk_entity = s2.fk_subject_info and r2.fk_class = {pks.classes.person}\n",
    "    where r1.fk_class = {pks.classes.uri}\n",
    "\"\"\")\n",
    "\n",
    "# And we make sure it is again to the right environment\n",
    "if env != 'production': db.connect_geovistory(env, pk_project, execute, skip_protection=True)"
   ]
  },
  {
   "attachments": {},
   "cell_type": "markdown",
   "metadata": {},
   "source": [
    "### URIs provenance analysis - Geovistory"
   ]
  },
  {
   "cell_type": "code",
   "execution_count": 9,
   "metadata": {},
   "outputs": [
    {
     "name": "stdout",
     "output_type": "stream",
     "text": [
      " 27.06% - 3794 : data.bnf.fr \n",
      " 26.39% - 3701 : wikidata.org \n",
      " 24.39% - 3420 : d-nb.info \n",
      " 22.10% - 3099 : dbpedia.org \n",
      "  0.04% -    6 : idref.fr \n",
      "  0.01% -    2 : viaf.org \n",
      "  0.01% -    1 : digihum.de \n"
     ]
    }
   ],
   "source": [
    "uris_gv['namespace_gv'] = uris_gv['uri_gv'].str.replace('http://', '', regex=False).str.replace('https://', '', regex=False).str.replace('www.', '', regex=False)\n",
    "uris_gv['namespace_gv'] = [s[0:s.index('/')] if '/' in s else s for s in uris_gv['namespace_gv']]\n",
    "\n",
    "# fig = px.pie(uris_gv, 'namespace', title=f'Distribution des namespaces des URIs des personnes de Geovistory (total {len(uris_gv)})')\n",
    "# fig.update_traces(textinfo='percent+label')\n",
    "# fig.update(layout_showlegend=False)\n",
    "# fig.show()\n",
    "\n",
    "# uris_gv.drop(columns=['namespace'], inplace=True)\n",
    "\n",
    "total = len(uris_gv)\n",
    "counts = uris_gv.groupby('namespace_gv').count().sort_values('pk_gv', ascending=False)['pk_gv']\n",
    "for (idx, value) in counts.iteritems():\n",
    "    print(f\"{u.percent(value/total)} - {str(value).rjust(4)} : {idx} \")"
   ]
  },
  {
   "attachments": {},
   "cell_type": "markdown",
   "metadata": {},
   "source": [
    "### Add URIs to main GV dataframe"
   ]
  },
  {
   "cell_type": "code",
   "execution_count": 10,
   "metadata": {},
   "outputs": [],
   "source": [
    "gv_persons = gv_persons.merge(uris_gv, on='pk_gv', how='left')"
   ]
  },
  {
   "cell_type": "code",
   "execution_count": 11,
   "metadata": {},
   "outputs": [
    {
     "name": "stdout",
     "output_type": "stream",
     "text": [
      "Geovistory Persons total number: 121246\n",
      "Geovistory Persons with at list a URI: 5268\n"
     ]
    }
   ],
   "source": [
    "print('Geovistory Persons total number:', len(gv_persons['pk_gv'].unique()))\n",
    "print('Geovistory Persons with at list a URI:', len(gv_persons[pd.notna(gv_persons['uri_gv'])]['pk_gv'].unique()))"
   ]
  },
  {
   "attachments": {},
   "cell_type": "markdown",
   "metadata": {},
   "source": [
    "## Record linkage against Geovistory data"
   ]
  },
  {
   "attachments": {},
   "cell_type": "markdown",
   "metadata": {},
   "source": [
    "### First identify the ones that have the same URIs"
   ]
  },
  {
   "cell_type": "code",
   "execution_count": 12,
   "metadata": {},
   "outputs": [
    {
     "name": "stdout",
     "output_type": "stream",
     "text": [
      "961 exact matchings found!\n"
     ]
    }
   ],
   "source": [
    "uri_matched = rl.find_persons_by_uri(bhp_actors['uri_bhp'].dropna().unique())\n",
    "uri_matched = uri_matched.merge(bhp_actors, left_on='uri', right_on='uri_bhp', how='left')[['pk_entity', 'pk_bhp', 'name_bhp']].drop_duplicates()\n",
    "uri_matched.columns = ['pk_gv', 'pk_bhp', 'name']\n",
    "\n",
    "print(f'{len(uri_matched)} exact matchings found!')"
   ]
  },
  {
   "cell_type": "code",
   "execution_count": 13,
   "metadata": {},
   "outputs": [
    {
     "name": "stdout",
     "output_type": "stream",
     "text": [
      "Shape:  (961, 3) - extract:\n"
     ]
    },
    {
     "data": {
      "text/html": [
       "<div>\n",
       "<style scoped>\n",
       "    .dataframe tbody tr th:only-of-type {\n",
       "        vertical-align: middle;\n",
       "    }\n",
       "\n",
       "    .dataframe tbody tr th {\n",
       "        vertical-align: top;\n",
       "    }\n",
       "\n",
       "    .dataframe thead th {\n",
       "        text-align: right;\n",
       "    }\n",
       "</style>\n",
       "<table border=\"1\" class=\"dataframe\">\n",
       "  <thead>\n",
       "    <tr style=\"text-align: right;\">\n",
       "      <th></th>\n",
       "      <th>pk_gv</th>\n",
       "      <th>pk_bhp</th>\n",
       "      <th>name</th>\n",
       "    </tr>\n",
       "  </thead>\n",
       "  <tbody>\n",
       "    <tr>\n",
       "      <th>1779</th>\n",
       "      <td>787090</td>\n",
       "      <td>52279</td>\n",
       "      <td>johannes walters viringus</td>\n",
       "    </tr>\n",
       "    <tr>\n",
       "      <th>1598</th>\n",
       "      <td>787127</td>\n",
       "      <td>53962</td>\n",
       "      <td>franois verdeil</td>\n",
       "    </tr>\n",
       "    <tr>\n",
       "      <th>1571</th>\n",
       "      <td>786590</td>\n",
       "      <td>53360</td>\n",
       "      <td>guillaume rondelet</td>\n",
       "    </tr>\n",
       "    <tr>\n",
       "      <th>1532</th>\n",
       "      <td>786391</td>\n",
       "      <td>52426</td>\n",
       "      <td>johannes isaacus pontanus</td>\n",
       "    </tr>\n",
       "    <tr>\n",
       "      <th>1555</th>\n",
       "      <td>786517</td>\n",
       "      <td>396</td>\n",
       "      <td>georg joachim rheticus</td>\n",
       "    </tr>\n",
       "  </tbody>\n",
       "</table>\n",
       "</div>"
      ],
      "text/plain": [
       "       pk_gv  pk_bhp                       name\n",
       "1779  787090   52279  johannes walters viringus\n",
       "1598  787127   53962            franois verdeil\n",
       "1571  786590   53360         guillaume rondelet\n",
       "1532  786391   52426  johannes isaacus pontanus\n",
       "1555  786517     396     georg joachim rheticus"
      ]
     },
     "metadata": {},
     "output_type": "display_data"
    }
   ],
   "source": [
    "a.infos(uri_matched, random=True)"
   ]
  },
  {
   "cell_type": "code",
   "execution_count": 14,
   "metadata": {},
   "outputs": [],
   "source": [
    "u.save_df(uri_matched, '../../../data/record-linkage-bhp-actors-geov-person-uris.csv')"
   ]
  },
  {
   "attachments": {},
   "cell_type": "markdown",
   "metadata": {},
   "source": [
    "For those entities, we would not need to recreate them: only to add information, and a external URI to SYMOGIH.\n",
    "\n",
    "So for the record linkage we can simply remove them."
   ]
  },
  {
   "cell_type": "code",
   "execution_count": 42,
   "metadata": {},
   "outputs": [
    {
     "name": "stdout",
     "output_type": "stream",
     "text": [
      "Size before: 70009\n",
      "Size after: 68884\n"
     ]
    }
   ],
   "source": [
    "print('Size before:', len(bhp_actors))\n",
    "bhp_actors = bhp_actors[~bhp_actors['pk_bhp'].isin(uri_matched['pk_bhp'].tolist())]\n",
    "print('Size after:', len(bhp_actors))"
   ]
  },
  {
   "attachments": {},
   "cell_type": "markdown",
   "metadata": {},
   "source": [
    "### Second: Prepare data to work with library"
   ]
  },
  {
   "cell_type": "code",
   "execution_count": 43,
   "metadata": {},
   "outputs": [
    {
     "name": "stdout",
     "output_type": "stream",
     "text": [
      "Shape:  (68884, 9) - extract:\n"
     ]
    },
    {
     "data": {
      "text/html": [
       "<div>\n",
       "<style scoped>\n",
       "    .dataframe tbody tr th:only-of-type {\n",
       "        vertical-align: middle;\n",
       "    }\n",
       "\n",
       "    .dataframe tbody tr th {\n",
       "        vertical-align: top;\n",
       "    }\n",
       "\n",
       "    .dataframe thead th {\n",
       "        text-align: right;\n",
       "    }\n",
       "</style>\n",
       "<table border=\"1\" class=\"dataframe\">\n",
       "  <thead>\n",
       "    <tr style=\"text-align: right;\">\n",
       "      <th></th>\n",
       "      <th>pk_bhp</th>\n",
       "      <th>name</th>\n",
       "      <th>definition_bhp</th>\n",
       "      <th>definition_lang_bhp</th>\n",
       "      <th>gender</th>\n",
       "      <th>birthdate</th>\n",
       "      <th>deathdate</th>\n",
       "      <th>uri_bhp</th>\n",
       "      <th>namespace_bhp</th>\n",
       "    </tr>\n",
       "  </thead>\n",
       "  <tbody>\n",
       "    <tr>\n",
       "      <th>0</th>\n",
       "      <td>44895</td>\n",
       "      <td>antoine sainte-marie perrin</td>\n",
       "      <td>&lt;NA&gt;</td>\n",
       "      <td>&lt;NA&gt;</td>\n",
       "      <td>Male</td>\n",
       "      <td>&lt;NA&gt;</td>\n",
       "      <td>&lt;NA&gt;</td>\n",
       "      <td>&lt;NA&gt;</td>\n",
       "      <td>NaN</td>\n",
       "    </tr>\n",
       "    <tr>\n",
       "      <th>1</th>\n",
       "      <td>47015</td>\n",
       "      <td>&lt;NA&gt;</td>\n",
       "      <td>&lt;NA&gt;</td>\n",
       "      <td>&lt;NA&gt;</td>\n",
       "      <td>Male</td>\n",
       "      <td>(1506, 1, 1)</td>\n",
       "      <td>&lt;NA&gt;</td>\n",
       "      <td>&lt;NA&gt;</td>\n",
       "      <td>NaN</td>\n",
       "    </tr>\n",
       "    <tr>\n",
       "      <th>2</th>\n",
       "      <td>47190</td>\n",
       "      <td>alberto duimio</td>\n",
       "      <td>&lt;NA&gt;</td>\n",
       "      <td>&lt;NA&gt;</td>\n",
       "      <td>Male</td>\n",
       "      <td>(1510, 1, 1)</td>\n",
       "      <td>(1564, 1, 1)</td>\n",
       "      <td>&lt;NA&gt;</td>\n",
       "      <td>NaN</td>\n",
       "    </tr>\n",
       "    <tr>\n",
       "      <th>3</th>\n",
       "      <td>47190</td>\n",
       "      <td>albertus divini</td>\n",
       "      <td>&lt;NA&gt;</td>\n",
       "      <td>&lt;NA&gt;</td>\n",
       "      <td>Male</td>\n",
       "      <td>(1510, 1, 1)</td>\n",
       "      <td>(1564, 1, 1)</td>\n",
       "      <td>&lt;NA&gt;</td>\n",
       "      <td>NaN</td>\n",
       "    </tr>\n",
       "    <tr>\n",
       "      <th>4</th>\n",
       "      <td>47578</td>\n",
       "      <td>angelo zampa</td>\n",
       "      <td>&lt;NA&gt;</td>\n",
       "      <td>&lt;NA&gt;</td>\n",
       "      <td>Male</td>\n",
       "      <td>&lt;NA&gt;</td>\n",
       "      <td>(1575, 1, 1)</td>\n",
       "      <td>&lt;NA&gt;</td>\n",
       "      <td>NaN</td>\n",
       "    </tr>\n",
       "  </tbody>\n",
       "</table>\n",
       "</div>"
      ],
      "text/plain": [
       "   pk_bhp                         name definition_bhp definition_lang_bhp  \\\n",
       "0   44895  antoine sainte-marie perrin           <NA>                <NA>   \n",
       "1   47015                         <NA>           <NA>                <NA>   \n",
       "2   47190               alberto duimio           <NA>                <NA>   \n",
       "3   47190              albertus divini           <NA>                <NA>   \n",
       "4   47578                 angelo zampa           <NA>                <NA>   \n",
       "\n",
       "  gender     birthdate     deathdate uri_bhp namespace_bhp  \n",
       "0   Male          <NA>          <NA>    <NA>           NaN  \n",
       "1   Male  (1506, 1, 1)          <NA>    <NA>           NaN  \n",
       "2   Male  (1510, 1, 1)  (1564, 1, 1)    <NA>           NaN  \n",
       "3   Male  (1510, 1, 1)  (1564, 1, 1)    <NA>           NaN  \n",
       "4   Male          <NA>  (1575, 1, 1)    <NA>           NaN  "
      ]
     },
     "metadata": {},
     "output_type": "display_data"
    }
   ],
   "source": [
    "bhp_actors.rename(columns={'birth_year_bhp': 'birthdate', 'death_year_bhp':'deathdate', 'name_bhp': 'name', 'gender_bhp': 'gender'}, inplace=True)\n",
    "bhp_actors['birthdate'] = [u.parse_date(str(year) + '-01-01') for year in bhp_actors['birthdate']]\n",
    "bhp_actors['deathdate'] = [u.parse_date(str(year) + '-01-01') for year in bhp_actors['deathdate']]\n",
    "\n",
    "a.infos(bhp_actors)"
   ]
  },
  {
   "cell_type": "code",
   "execution_count": 44,
   "metadata": {},
   "outputs": [
    {
     "name": "stdout",
     "output_type": "stream",
     "text": [
      "Checking data integrity... Done\n",
      "Find all persons in Geovistory... 154064 found.\n",
      "Finding similar persons is done - Elapsed: [00h10'03]                   \n"
     ]
    }
   ],
   "source": [
    "matchings = rl.find_persons(bhp_actors, 'pk_bhp', jobs=13, dist_days=365)"
   ]
  },
  {
   "cell_type": "code",
   "execution_count": 45,
   "metadata": {},
   "outputs": [
    {
     "name": "stdout",
     "output_type": "stream",
     "text": [
      "Shape:  (616, 10) - extract:\n"
     ]
    },
    {
     "data": {
      "text/html": [
       "<div>\n",
       "<style scoped>\n",
       "    .dataframe tbody tr th:only-of-type {\n",
       "        vertical-align: middle;\n",
       "    }\n",
       "\n",
       "    .dataframe tbody tr th {\n",
       "        vertical-align: top;\n",
       "    }\n",
       "\n",
       "    .dataframe thead th {\n",
       "        text-align: right;\n",
       "    }\n",
       "</style>\n",
       "<table border=\"1\" class=\"dataframe\">\n",
       "  <thead>\n",
       "    <tr style=\"text-align: right;\">\n",
       "      <th></th>\n",
       "      <th>pk_bhp</th>\n",
       "      <th>pk_entity</th>\n",
       "      <th>new_name</th>\n",
       "      <th>gv_name</th>\n",
       "      <th>new_gender</th>\n",
       "      <th>gv_gender</th>\n",
       "      <th>new_birthdate</th>\n",
       "      <th>gv_birthdate</th>\n",
       "      <th>new_deathdate</th>\n",
       "      <th>gv_deathdate</th>\n",
       "    </tr>\n",
       "  </thead>\n",
       "  <tbody>\n",
       "    <tr>\n",
       "      <th>244</th>\n",
       "      <td>52296</td>\n",
       "      <td>787075</td>\n",
       "      <td>johan van heurne</td>\n",
       "      <td>johan van heurne</td>\n",
       "      <td>Male</td>\n",
       "      <td>NaN</td>\n",
       "      <td>(1543, 1, 1)</td>\n",
       "      <td>(1543, 2, 4)</td>\n",
       "      <td>(1601, 1, 1)</td>\n",
       "      <td>&lt;NA&gt;</td>\n",
       "    </tr>\n",
       "    <tr>\n",
       "      <th>419</th>\n",
       "      <td>6452</td>\n",
       "      <td>784831</td>\n",
       "      <td>louis fabre</td>\n",
       "      <td>louis fabre</td>\n",
       "      <td>Male</td>\n",
       "      <td>NaN</td>\n",
       "      <td>&lt;NA&gt;</td>\n",
       "      <td>(1710, 1, 1)</td>\n",
       "      <td>&lt;NA&gt;</td>\n",
       "      <td>&lt;NA&gt;</td>\n",
       "    </tr>\n",
       "    <tr>\n",
       "      <th>553</th>\n",
       "      <td>27452</td>\n",
       "      <td>787301</td>\n",
       "      <td>bartolomeo zamberti</td>\n",
       "      <td>bartolomeo zamberti</td>\n",
       "      <td>Male</td>\n",
       "      <td>NaN</td>\n",
       "      <td>(1473, 1, 1)</td>\n",
       "      <td>(1473, 1, 1)</td>\n",
       "      <td>(1543, 1, 1)</td>\n",
       "      <td>&lt;NA&gt;</td>\n",
       "    </tr>\n",
       "    <tr>\n",
       "      <th>240</th>\n",
       "      <td>25155</td>\n",
       "      <td>786530</td>\n",
       "      <td>jean ficher</td>\n",
       "      <td>jean richer</td>\n",
       "      <td>Male</td>\n",
       "      <td>NaN</td>\n",
       "      <td>&lt;NA&gt;</td>\n",
       "      <td>(1630, 1, 1)</td>\n",
       "      <td>&lt;NA&gt;</td>\n",
       "      <td>&lt;NA&gt;</td>\n",
       "    </tr>\n",
       "    <tr>\n",
       "      <th>122</th>\n",
       "      <td>48018</td>\n",
       "      <td>786243</td>\n",
       "      <td>paolo paruta</td>\n",
       "      <td>paolo paruta</td>\n",
       "      <td>Male</td>\n",
       "      <td>NaN</td>\n",
       "      <td>(1540, 1, 1)</td>\n",
       "      <td>(1540, 5, 14)</td>\n",
       "      <td>(1598, 1, 1)</td>\n",
       "      <td>&lt;NA&gt;</td>\n",
       "    </tr>\n",
       "  </tbody>\n",
       "</table>\n",
       "</div>"
      ],
      "text/plain": [
       "     pk_bhp  pk_entity             new_name              gv_name new_gender  \\\n",
       "244   52296     787075     johan van heurne     johan van heurne       Male   \n",
       "419    6452     784831          louis fabre          louis fabre       Male   \n",
       "553   27452     787301  bartolomeo zamberti  bartolomeo zamberti       Male   \n",
       "240   25155     786530          jean ficher          jean richer       Male   \n",
       "122   48018     786243         paolo paruta         paolo paruta       Male   \n",
       "\n",
       "    gv_gender new_birthdate   gv_birthdate new_deathdate gv_deathdate  \n",
       "244       NaN  (1543, 1, 1)   (1543, 2, 4)  (1601, 1, 1)         <NA>  \n",
       "419       NaN          <NA>   (1710, 1, 1)          <NA>         <NA>  \n",
       "553       NaN  (1473, 1, 1)   (1473, 1, 1)  (1543, 1, 1)         <NA>  \n",
       "240       NaN          <NA>   (1630, 1, 1)          <NA>         <NA>  \n",
       "122       NaN  (1540, 1, 1)  (1540, 5, 14)  (1598, 1, 1)         <NA>  "
      ]
     },
     "metadata": {},
     "output_type": "display_data"
    }
   ],
   "source": [
    "a.infos(matchings, random=True)"
   ]
  },
  {
   "attachments": {},
   "cell_type": "markdown",
   "metadata": {},
   "source": [
    "### Third: join information to help record linkage"
   ]
  },
  {
   "cell_type": "code",
   "execution_count": 46,
   "metadata": {},
   "outputs": [],
   "source": [
    "matchings.rename(columns={\n",
    "    'pk_entity': 'pk_gv', \n",
    "    'new_name':'bhp_name', \n",
    "    'new_gender':'bhp_gender', \n",
    "    'new_birthdate':'bhp_birthdate', \n",
    "    'new_deathdate':'bhp_deathdate'\n",
    "}, inplace=True)\n",
    "\n",
    "matchings['bhp_birthyear'] = [date[0] if pd.notna(date) else pd.NA for date in matchings['bhp_birthdate']]\n",
    "matchings['gv_birthyear'] = [date[0] if pd.notna(date) else pd.NA for date in matchings['gv_birthdate']]\n",
    "matchings['bhp_deathyear'] = [date[0] if pd.notna(date) else pd.NA for date in matchings['bhp_deathdate']]\n",
    "matchings['gv_deathyear'] = [date[0] if pd.notna(date) else pd.NA for date in matchings['gv_deathdate']]\n",
    "\n",
    "matchings.drop(columns=['bhp_birthdate', 'gv_birthdate', 'bhp_deathdate', 'gv_deathdate'], inplace=True)"
   ]
  },
  {
   "attachments": {},
   "cell_type": "markdown",
   "metadata": {},
   "source": [
    "#### Definition information"
   ]
  },
  {
   "cell_type": "code",
   "execution_count": 47,
   "metadata": {},
   "outputs": [],
   "source": [
    "# BHP\n",
    "actor_text_property = u.read_df('../../../data/bhp/actor_text_property.csv')[['fk_actor', 'text']]\n",
    "actor_text_property.rename(columns={'text': 'bhp_definition'}, inplace=True)\n",
    "\n",
    "# Geovistory\n",
    "pks_entity = \"(\" + \",\".join(matchings['pk_gv'].astype(str).tolist()) + \")\"\n",
    "gv_def = db.query(f\"\"\"\n",
    "    select \n",
    "        r.pk_entity,\n",
    "        a.string as gv_definition\n",
    "    from information.resource r\n",
    "    left join information.statement s1 on s1.fk_subject_info = r.pk_entity and s1.fk_property = 1762\n",
    "    inner join information.statement s2 on s2.fk_subject_info = s1.fk_object_info and s2.fk_property = 1864\n",
    "    inner join information.appellation a on a.pk_entity = s2.fk_object_info\n",
    "    where r.pk_entity in {pks_entity}\n",
    "\"\"\")\n",
    "\n",
    "matchings = matchings.merge(actor_text_property, left_on='pk_bhp', right_on='fk_actor', how='left').drop(columns=['fk_actor'])\n",
    "matchings = matchings.merge(gv_def, left_on='pk_gv', right_on='pk_entity', how='left').drop(columns=['pk_entity'])"
   ]
  },
  {
   "attachments": {},
   "cell_type": "markdown",
   "metadata": {},
   "source": [
    "#### Make the dataframe unique on tuple (`pk_bhp`, `pk_gv`) so that it is easier to read."
   ]
  },
  {
   "cell_type": "code",
   "execution_count": 49,
   "metadata": {},
   "outputs": [
    {
     "name": "stdout",
     "output_type": "stream",
     "text": [
      "Shape:  (591, 12) - extract:\n"
     ]
    },
    {
     "data": {
      "text/html": [
       "<div>\n",
       "<style scoped>\n",
       "    .dataframe tbody tr th:only-of-type {\n",
       "        vertical-align: middle;\n",
       "    }\n",
       "\n",
       "    .dataframe tbody tr th {\n",
       "        vertical-align: top;\n",
       "    }\n",
       "\n",
       "    .dataframe thead th {\n",
       "        text-align: right;\n",
       "    }\n",
       "</style>\n",
       "<table border=\"1\" class=\"dataframe\">\n",
       "  <thead>\n",
       "    <tr style=\"text-align: right;\">\n",
       "      <th></th>\n",
       "      <th>pk_bhp</th>\n",
       "      <th>pk_gv</th>\n",
       "      <th>bhp_name</th>\n",
       "      <th>gv_name</th>\n",
       "      <th>bhp_gender</th>\n",
       "      <th>gv_gender</th>\n",
       "      <th>bhp_birthyear</th>\n",
       "      <th>gv_birthyear</th>\n",
       "      <th>bhp_deathyear</th>\n",
       "      <th>gv_deathyear</th>\n",
       "      <th>bhp_definition</th>\n",
       "      <th>gv_definition</th>\n",
       "    </tr>\n",
       "  </thead>\n",
       "  <tbody>\n",
       "    <tr>\n",
       "      <th>207</th>\n",
       "      <td>26499</td>\n",
       "      <td>784068</td>\n",
       "      <td>jean bouillet</td>\n",
       "      <td>jean bouillet</td>\n",
       "      <td>Male</td>\n",
       "      <td></td>\n",
       "      <td></td>\n",
       "      <td>1690</td>\n",
       "      <td></td>\n",
       "      <td></td>\n",
       "      <td></td>\n",
       "      <td>Médecin. Docteur de l'université de Montpellie...</td>\n",
       "    </tr>\n",
       "    <tr>\n",
       "      <th>307</th>\n",
       "      <td>34756</td>\n",
       "      <td>91662</td>\n",
       "      <td>joseph muller</td>\n",
       "      <td>joseph mulder</td>\n",
       "      <td>Male</td>\n",
       "      <td></td>\n",
       "      <td></td>\n",
       "      <td></td>\n",
       "      <td></td>\n",
       "      <td></td>\n",
       "      <td>pre de Marie</td>\n",
       "      <td></td>\n",
       "    </tr>\n",
       "    <tr>\n",
       "      <th>522</th>\n",
       "      <td>55820</td>\n",
       "      <td>27254</td>\n",
       "      <td>nicolas fatio de duillier</td>\n",
       "      <td>nicolas fatio de duillier</td>\n",
       "      <td>Male</td>\n",
       "      <td></td>\n",
       "      <td>1664</td>\n",
       "      <td>1664</td>\n",
       "      <td>1753</td>\n",
       "      <td></td>\n",
       "      <td>Astronom - Mathmaticien suisse.</td>\n",
       "      <td></td>\n",
       "    </tr>\n",
       "    <tr>\n",
       "      <th>347</th>\n",
       "      <td>38202</td>\n",
       "      <td>784282</td>\n",
       "      <td>john case</td>\n",
       "      <td>john case</td>\n",
       "      <td>Male</td>\n",
       "      <td></td>\n",
       "      <td>1539</td>\n",
       "      <td>1539</td>\n",
       "      <td>1600</td>\n",
       "      <td></td>\n",
       "      <td>*Woodstock (Oxfordshire) v. 1539-1546, Oxford ...</td>\n",
       "      <td>Philosophe</td>\n",
       "    </tr>\n",
       "    <tr>\n",
       "      <th>299</th>\n",
       "      <td>34435</td>\n",
       "      <td>86356</td>\n",
       "      <td>jean bonnet</td>\n",
       "      <td>jan bonnet</td>\n",
       "      <td>Male</td>\n",
       "      <td></td>\n",
       "      <td>1866</td>\n",
       "      <td></td>\n",
       "      <td>1925</td>\n",
       "      <td></td>\n",
       "      <td>Diplm des Arts et Mtiers (Aix, promotion 1881)...</td>\n",
       "      <td></td>\n",
       "    </tr>\n",
       "  </tbody>\n",
       "</table>\n",
       "</div>"
      ],
      "text/plain": [
       "    pk_bhp   pk_gv                   bhp_name                    gv_name  \\\n",
       "207  26499  784068              jean bouillet              jean bouillet   \n",
       "307  34756   91662              joseph muller              joseph mulder   \n",
       "522  55820   27254  nicolas fatio de duillier  nicolas fatio de duillier   \n",
       "347  38202  784282                  john case                  john case   \n",
       "299  34435   86356                jean bonnet                 jan bonnet   \n",
       "\n",
       "    bhp_gender gv_gender bhp_birthyear gv_birthyear bhp_deathyear  \\\n",
       "207       Male                                 1690                 \n",
       "307       Male                                                      \n",
       "522       Male                    1664         1664          1753   \n",
       "347       Male                    1539         1539          1600   \n",
       "299       Male                    1866                       1925   \n",
       "\n",
       "    gv_deathyear                                     bhp_definition  \\\n",
       "207                                                                   \n",
       "307                                                    pre de Marie   \n",
       "522                                 Astronom - Mathmaticien suisse.   \n",
       "347               *Woodstock (Oxfordshire) v. 1539-1546, Oxford ...   \n",
       "299               Diplm des Arts et Mtiers (Aix, promotion 1881)...   \n",
       "\n",
       "                                         gv_definition  \n",
       "207  Médecin. Docteur de l'université de Montpellie...  \n",
       "307                                                     \n",
       "522                                                     \n",
       "347                                         Philosophe  \n",
       "299                                                     "
      ]
     },
     "metadata": {},
     "output_type": "display_data"
    }
   ],
   "source": [
    "matchings['key'] = matchings['pk_bhp'] + matchings['pk_gv']\n",
    "\n",
    "matchings.fillna('', inplace=True)\n",
    "for col in matchings.columns:\n",
    "    matchings[col] = matchings[col].astype(str)\n",
    "\n",
    "matchings = matchings.groupby('key').agg(\n",
    "    pk_bhp=pd.NamedAgg(column='pk_bhp', aggfunc='first'),\n",
    "    pk_gv=pd.NamedAgg(column='pk_gv', aggfunc='first'),\n",
    "    bhp_name=pd.NamedAgg(column='bhp_name', aggfunc=lambda x: ' - '.join(str(e) for e in np.unique(x))),\n",
    "    gv_name=pd.NamedAgg(column='gv_name', aggfunc=lambda x: ' - '.join(str(e) for e in np.unique(x))),\n",
    "    bhp_gender=pd.NamedAgg(column='bhp_gender', aggfunc=lambda x: ' - '.join(str(e) for e in np.unique(x))),\n",
    "    gv_gender=pd.NamedAgg(column='gv_gender', aggfunc=lambda x: ' - '.join(str(e) for e in np.unique(x))),\n",
    "    bhp_birthyear=pd.NamedAgg(column='bhp_birthyear', aggfunc=lambda x: ' - '.join(str(e) for e in np.unique(x))),\n",
    "    gv_birthyear=pd.NamedAgg(column='gv_birthyear', aggfunc=lambda x: ' - '.join(str(e) for e in np.unique(x))),\n",
    "    bhp_deathyear=pd.NamedAgg(column='bhp_deathyear', aggfunc=lambda x: ' - '.join(str(e) for e in np.unique(x))),\n",
    "    gv_deathyear=pd.NamedAgg(column='gv_deathyear', aggfunc=lambda x: ' - '.join(str(e) for e in np.unique(x))),\n",
    "    bhp_definition=pd.NamedAgg(column='bhp_definition', aggfunc=lambda x: ' - '.join(str(e) for e in np.unique(x))),\n",
    "    gv_definition=pd.NamedAgg(column='gv_definition', aggfunc=lambda x: ' - '.join(str(e) for e in np.unique(x))),\n",
    ")\n",
    "\n",
    "matchings.reset_index(drop=True, inplace=True)\n",
    "\n",
    "a.infos(matchings, random=True)"
   ]
  },
  {
   "cell_type": "code",
   "execution_count": 66,
   "metadata": {},
   "outputs": [
    {
     "name": "stdout",
     "output_type": "stream",
     "text": [
      "Shape:  (591, 13) - extract:\n"
     ]
    },
    {
     "data": {
      "text/html": [
       "<div>\n",
       "<style scoped>\n",
       "    .dataframe tbody tr th:only-of-type {\n",
       "        vertical-align: middle;\n",
       "    }\n",
       "\n",
       "    .dataframe tbody tr th {\n",
       "        vertical-align: top;\n",
       "    }\n",
       "\n",
       "    .dataframe thead th {\n",
       "        text-align: right;\n",
       "    }\n",
       "</style>\n",
       "<table border=\"1\" class=\"dataframe\">\n",
       "  <thead>\n",
       "    <tr style=\"text-align: right;\">\n",
       "      <th></th>\n",
       "      <th>pk_bhp</th>\n",
       "      <th>pk_gv</th>\n",
       "      <th>bhp_name</th>\n",
       "      <th>gv_name</th>\n",
       "      <th>bhp_gender</th>\n",
       "      <th>gv_gender</th>\n",
       "      <th>bhp_birthyear</th>\n",
       "      <th>gv_birthyear</th>\n",
       "      <th>bhp_deathyear</th>\n",
       "      <th>gv_deathyear</th>\n",
       "      <th>bhp_definition</th>\n",
       "      <th>gv_definition</th>\n",
       "      <th>doublon</th>\n",
       "    </tr>\n",
       "  </thead>\n",
       "  <tbody>\n",
       "    <tr>\n",
       "      <th>6</th>\n",
       "      <td>113</td>\n",
       "      <td>784435</td>\n",
       "      <td>christophe colomb</td>\n",
       "      <td>christophe colomb</td>\n",
       "      <td>Male</td>\n",
       "      <td></td>\n",
       "      <td>1451</td>\n",
       "      <td>1450</td>\n",
       "      <td>1506</td>\n",
       "      <td></td>\n",
       "      <td>Navigateur gnois, dcouvreur du Nouveau Monde</td>\n",
       "      <td>Navigateur, découvreur de l'Amérique. Au servi...</td>\n",
       "      <td></td>\n",
       "    </tr>\n",
       "    <tr>\n",
       "      <th>75</th>\n",
       "      <td>190</td>\n",
       "      <td>785393</td>\n",
       "      <td>jeremiah horrocks</td>\n",
       "      <td>jeremiah horrocks</td>\n",
       "      <td>Male</td>\n",
       "      <td></td>\n",
       "      <td>1618</td>\n",
       "      <td>1617</td>\n",
       "      <td>1641</td>\n",
       "      <td></td>\n",
       "      <td></td>\n",
       "      <td>Astronome</td>\n",
       "      <td></td>\n",
       "    </tr>\n",
       "    <tr>\n",
       "      <th>250</th>\n",
       "      <td>296</td>\n",
       "      <td>786292</td>\n",
       "      <td>antonio persio</td>\n",
       "      <td>antonio persio</td>\n",
       "      <td>Male</td>\n",
       "      <td></td>\n",
       "      <td>1542</td>\n",
       "      <td>1543</td>\n",
       "      <td>1612</td>\n",
       "      <td></td>\n",
       "      <td></td>\n",
       "      <td>Prêtre. Philosophe</td>\n",
       "      <td></td>\n",
       "    </tr>\n",
       "    <tr>\n",
       "      <th>354</th>\n",
       "      <td>385</td>\n",
       "      <td>25503</td>\n",
       "      <td>huldrych zwingli</td>\n",
       "      <td>huldrych zwingli</td>\n",
       "      <td>Male</td>\n",
       "      <td></td>\n",
       "      <td>1484</td>\n",
       "      <td>- 1484</td>\n",
       "      <td>1531</td>\n",
       "      <td>1531</td>\n",
       "      <td>Cur de Glaris, d'Einsiedeln et,  partir de 151...</td>\n",
       "      <td></td>\n",
       "      <td></td>\n",
       "    </tr>\n",
       "    <tr>\n",
       "      <th>465</th>\n",
       "      <td>501</td>\n",
       "      <td>783829</td>\n",
       "      <td>sebastiano bartoli</td>\n",
       "      <td>sebastiano bartoli</td>\n",
       "      <td>Male</td>\n",
       "      <td></td>\n",
       "      <td>1629</td>\n",
       "      <td>1630</td>\n",
       "      <td>1676</td>\n",
       "      <td></td>\n",
       "      <td>/ Medico e scienziato, fu professore di anatom...</td>\n",
       "      <td>Médecin et professeur de médecine à Naples</td>\n",
       "      <td></td>\n",
       "    </tr>\n",
       "  </tbody>\n",
       "</table>\n",
       "</div>"
      ],
      "text/plain": [
       "     pk_bhp   pk_gv            bhp_name             gv_name bhp_gender  \\\n",
       "6       113  784435   christophe colomb   christophe colomb       Male   \n",
       "75      190  785393   jeremiah horrocks   jeremiah horrocks       Male   \n",
       "250     296  786292      antonio persio      antonio persio       Male   \n",
       "354     385   25503    huldrych zwingli    huldrych zwingli       Male   \n",
       "465     501  783829  sebastiano bartoli  sebastiano bartoli       Male   \n",
       "\n",
       "    gv_gender bhp_birthyear gv_birthyear bhp_deathyear gv_deathyear  \\\n",
       "6                      1451         1450          1506                \n",
       "75                     1618         1617          1641                \n",
       "250                    1542         1543          1612                \n",
       "354                    1484       - 1484          1531         1531   \n",
       "465                    1629         1630          1676                \n",
       "\n",
       "                                        bhp_definition  \\\n",
       "6         Navigateur gnois, dcouvreur du Nouveau Monde   \n",
       "75                                                       \n",
       "250                                                      \n",
       "354  Cur de Glaris, d'Einsiedeln et,  partir de 151...   \n",
       "465  / Medico e scienziato, fu professore di anatom...   \n",
       "\n",
       "                                         gv_definition doublon  \n",
       "6    Navigateur, découvreur de l'Amérique. Au servi...          \n",
       "75                                           Astronome          \n",
       "250                                 Prêtre. Philosophe          \n",
       "354                                                             \n",
       "465         Médecin et professeur de médecine à Naples          "
      ]
     },
     "metadata": {},
     "output_type": "display_data"
    }
   ],
   "source": [
    "matchings['pk_bhp'] = matchings['pk_bhp'].astype(int)\n",
    "matchings['pk_gv'] = matchings['pk_gv'].astype(int)\n",
    "matchings['doublon'] = ['oui' if (row['bhp_birthyear'] == row['gv_birthyear'] and row['bhp_birthyear'] != '') else '' for _, row in matchings.iterrows()]\n",
    "matchings.sort_values(by=['doublon', 'pk_bhp'], inplace=True)\n",
    "\n",
    "a.infos(matchings)"
   ]
  },
  {
   "attachments": {},
   "cell_type": "markdown",
   "metadata": {},
   "source": [
    "## Save record linkage"
   ]
  },
  {
   "cell_type": "code",
   "execution_count": 67,
   "metadata": {},
   "outputs": [],
   "source": [
    "u.save_df(matchings.sort_values('pk_bhp'), '../../../data/record-linkage-bhp-actors-geov-persons.csv')"
   ]
  }
 ],
 "metadata": {
  "kernelspec": {
   "display_name": "Python 3",
   "language": "python",
   "name": "python3"
  },
  "language_info": {
   "codemirror_mode": {
    "name": "ipython",
    "version": 3
   },
   "file_extension": ".py",
   "mimetype": "text/x-python",
   "name": "python",
   "nbconvert_exporter": "python",
   "pygments_lexer": "ipython3",
   "version": "3.8.10"
  },
  "orig_nbformat": 4
 },
 "nbformat": 4,
 "nbformat_minor": 2
}
