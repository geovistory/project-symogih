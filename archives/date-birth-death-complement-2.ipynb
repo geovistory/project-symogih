{
 "cells": [
  {
   "cell_type": "code",
   "execution_count": 1,
   "metadata": {},
   "outputs": [],
   "source": [
    "%load_ext autoreload\n",
    "%autoreload 2\n",
    "\n",
    "env = 'prod'\n",
    "pk_project = 6857901\n",
    "execute = True\n",
    "metadata_str = 'bhp-date-reliability'\n",
    "import_manner = 'one-shot'\n",
    "\n",
    "import os\n",
    "import pandas as pd\n",
    "import numpy as np\n",
    "from datetime import datetime\n",
    "import duckdb\n",
    "import plotly.express as px\n",
    "\n",
    "import geovpylib.analysis as a\n",
    "import geovpylib.database as db\n",
    "import geovpylib.graphs as graphs\n",
    "import geovpylib.pks as pks\n",
    "import geovpylib.recordlinkage as rl\n",
    "import geovpylib.sparql as sparql\n",
    "import geovpylib.utils as u\n",
    "\n",
    "eta = u.Eta()"
   ]
  },
  {
   "attachments": {},
   "cell_type": "markdown",
   "metadata": {},
   "source": [
    "# Birth and death date complements (date reliability)"
   ]
  },
  {
   "attachments": {},
   "cell_type": "markdown",
   "metadata": {},
   "source": [
    "cf [GitHub Issue \"Import actors - Fields\"](https://github.com/geovistory/symogih/issues/6)"
   ]
  },
  {
   "attachments": {},
   "cell_type": "markdown",
   "metadata": {},
   "source": [
    "## Fetch Geovistory infos"
   ]
  },
  {
   "cell_type": "code",
   "execution_count": 2,
   "metadata": {},
   "outputs": [
    {
     "name": "stdout",
     "output_type": "stream",
     "text": [
      "[DB] Connecting to PRODUCTION Database ... Connected!\n",
      "Shape:  (59655, 4) - extract:\n"
     ]
    },
    {
     "data": {
      "text/html": [
       "<div>\n",
       "<style scoped>\n",
       "    .dataframe tbody tr th:only-of-type {\n",
       "        vertical-align: middle;\n",
       "    }\n",
       "\n",
       "    .dataframe tbody tr th {\n",
       "        vertical-align: top;\n",
       "    }\n",
       "\n",
       "    .dataframe thead th {\n",
       "        text-align: right;\n",
       "    }\n",
       "</style>\n",
       "<table border=\"1\" class=\"dataframe\">\n",
       "  <thead>\n",
       "    <tr style=\"text-align: right;\">\n",
       "      <th></th>\n",
       "      <th>pk_bhp</th>\n",
       "      <th>pk_gv</th>\n",
       "      <th>pk_birth</th>\n",
       "      <th>pk_death</th>\n",
       "    </tr>\n",
       "  </thead>\n",
       "  <tbody>\n",
       "    <tr>\n",
       "      <th>0</th>\n",
       "      <td>1</td>\n",
       "      <td>6532778</td>\n",
       "      <td>7489054</td>\n",
       "      <td>7726515</td>\n",
       "    </tr>\n",
       "    <tr>\n",
       "      <th>1</th>\n",
       "      <td>2</td>\n",
       "      <td>6499432</td>\n",
       "      <td>7489055</td>\n",
       "      <td>7726516</td>\n",
       "    </tr>\n",
       "    <tr>\n",
       "      <th>2</th>\n",
       "      <td>3</td>\n",
       "      <td>783602</td>\n",
       "      <td>806773</td>\n",
       "      <td>7726517</td>\n",
       "    </tr>\n",
       "    <tr>\n",
       "      <th>3</th>\n",
       "      <td>4</td>\n",
       "      <td>6509333</td>\n",
       "      <td>7489056</td>\n",
       "      <td>7726518</td>\n",
       "    </tr>\n",
       "    <tr>\n",
       "      <th>4</th>\n",
       "      <td>5</td>\n",
       "      <td>6511070</td>\n",
       "      <td>7489057</td>\n",
       "      <td>7726519</td>\n",
       "    </tr>\n",
       "  </tbody>\n",
       "</table>\n",
       "</div>"
      ],
      "text/plain": [
       "   pk_bhp    pk_gv  pk_birth  pk_death\n",
       "0       1  6532778   7489054   7726515\n",
       "1       2  6499432   7489055   7726516\n",
       "2       3   783602    806773   7726517\n",
       "3       4  6509333   7489056   7726518\n",
       "4       5  6511070   7489057   7726519"
      ]
     },
     "metadata": {},
     "output_type": "display_data"
    },
    {
     "name": "stdout",
     "output_type": "stream",
     "text": [
      "[DB] Database correctly disconnected.\n"
     ]
    }
   ],
   "source": [
    "db.connect_geovistory(env, pk_project, execute, skip_protection=True)\n",
    "\n",
    "persons = db.query(f\"\"\"\n",
    "    select distinct\n",
    "        r.pk_entity as pk_gv,\n",
    "        a3.string as uri,\n",
    "        s4.fk_subject_info as pk_birth,\n",
    "        s5.fk_subject_info as pk_death\n",
    "    from information.resource r\n",
    "    inner join projects.info_proj_rel ipr on ipr.fk_entity = r.pk_entity and ipr.fk_project = {pk_project} and ipr.is_in_project = true\n",
    "    -- URI\n",
    "    inner join information.statement s1 on s1.fk_subject_info = r.pk_entity and s1.fk_property = {pks.properties.entity_sameAsURI_URI}\n",
    "    inner join projects.info_proj_rel ipr1 on ipr1.fk_entity = s1.pk_entity and ipr1.fk_project = {pk_project} and ipr1.is_in_project = true\n",
    "    inner join information.statement s2 on s2.fk_subject_info = s1.fk_object_info and s2.fk_property = {pks.properties.appe_hasValue_string}\n",
    "    inner join projects.info_proj_rel ipr2 on ipr2.fk_entity = s2.pk_entity and ipr2.fk_project = {pk_project} and ipr2.is_in_project = true\n",
    "    inner join information.appellation a3 on a3.pk_entity = s2.fk_object_info\n",
    "    inner join projects.info_proj_rel ipr3 on ipr3.fk_entity = a3.pk_entity and ipr3.fk_project = {pk_project} and ipr3.is_in_project = true\n",
    "    -- Birth\n",
    "    left join information.statement s4 on s4.fk_object_info = r.pk_entity and s4.fk_property = {pks.properties.birth_broughtIntoLife_person}\n",
    "    inner join projects.info_proj_rel ipr4 on ipr4.fk_entity = s4.pk_entity and ipr4.fk_project = {pk_project} and ipr4.is_in_project = true\n",
    "    -- Death\n",
    "    left join information.statement s5 on s5.fk_object_info = r.pk_entity and s5.fk_property = {pks.properties.death_wasDeathOf_person}\n",
    "    inner join projects.info_proj_rel ipr5 on ipr5.fk_entity = s5.pk_entity and ipr5.fk_project = {pk_project} and ipr5.is_in_project = true\n",
    "    where r.fk_class = {pks.classes.person}\n",
    "\"\"\")\n",
    "persons = persons[persons.uri.str.contains('symogih.org')]\n",
    "persons['pk_bhp'] = persons.uri.str.replace('http://symogih.org/resource/Actr', '', regex=False).astype(int)\n",
    "persons.drop(columns=['uri'], inplace=True)\n",
    "\n",
    "persons.sort_values('pk_bhp', inplace=True)\n",
    "persons.drop_duplicates(inplace=True)\n",
    "persons.reset_index(inplace=True, drop=True)\n",
    "persons = persons[['pk_bhp', 'pk_gv', 'pk_birth', 'pk_death']].drop_duplicates()\n",
    "\n",
    "a.infos(persons)\n",
    "db.disconnect()\n",
    "\n",
    "# 14s"
   ]
  },
  {
   "attachments": {},
   "cell_type": "markdown",
   "metadata": {},
   "source": [
    "## Fetch BHP infos"
   ]
  },
  {
   "cell_type": "code",
   "execution_count": 3,
   "metadata": {},
   "outputs": [
    {
     "name": "stdout",
     "output_type": "stream",
     "text": [
      "[DB] Connecting to PGSQL Database ... Connected!\n",
      "Shape:  (28195, 3) - extract:\n"
     ]
    },
    {
     "data": {
      "text/html": [
       "<div>\n",
       "<style scoped>\n",
       "    .dataframe tbody tr th:only-of-type {\n",
       "        vertical-align: middle;\n",
       "    }\n",
       "\n",
       "    .dataframe tbody tr th {\n",
       "        vertical-align: top;\n",
       "    }\n",
       "\n",
       "    .dataframe thead th {\n",
       "        text-align: right;\n",
       "    }\n",
       "</style>\n",
       "<table border=\"1\" class=\"dataframe\">\n",
       "  <thead>\n",
       "    <tr style=\"text-align: right;\">\n",
       "      <th></th>\n",
       "      <th>pk_bhp</th>\n",
       "      <th>fk_type_role</th>\n",
       "      <th>certainty_date</th>\n",
       "    </tr>\n",
       "  </thead>\n",
       "  <tbody>\n",
       "    <tr>\n",
       "      <th>0</th>\n",
       "      <td>44082</td>\n",
       "      <td>40</td>\n",
       "      <td>1</td>\n",
       "    </tr>\n",
       "    <tr>\n",
       "      <th>1</th>\n",
       "      <td>42382</td>\n",
       "      <td>45</td>\n",
       "      <td>1</td>\n",
       "    </tr>\n",
       "    <tr>\n",
       "      <th>2</th>\n",
       "      <td>4380</td>\n",
       "      <td>40</td>\n",
       "      <td>1</td>\n",
       "    </tr>\n",
       "    <tr>\n",
       "      <th>3</th>\n",
       "      <td>43805</td>\n",
       "      <td>40</td>\n",
       "      <td>1</td>\n",
       "    </tr>\n",
       "    <tr>\n",
       "      <th>4</th>\n",
       "      <td>44135</td>\n",
       "      <td>45</td>\n",
       "      <td>1</td>\n",
       "    </tr>\n",
       "  </tbody>\n",
       "</table>\n",
       "</div>"
      ],
      "text/plain": [
       "   pk_bhp  fk_type_role  certainty_date\n",
       "0   44082            40               1\n",
       "1   42382            45               1\n",
       "2    4380            40               1\n",
       "3   43805            40               1\n",
       "4   44135            45               1"
      ]
     },
     "metadata": {},
     "output_type": "display_data"
    },
    {
     "name": "stdout",
     "output_type": "stream",
     "text": [
      "[DB] Database correctly disconnected.\n"
     ]
    }
   ],
   "source": [
    "db.connect_external(os.environ.get('YELLOW_BHP'))\n",
    "\n",
    "births_deaths_bhp = db.query(f\"\"\"\n",
    "    select \n",
    "        ir.fk_associated_object as pk_bhp,\n",
    "        ir.fk_type_role,\n",
    "        id.certainty_date\n",
    "    from bhp.information_role ir\n",
    "    inner join bhp.information_date id on ir.fk_information = id.fk_information\n",
    "    where ir.fk_type_role = 40 or ir.fk_type_role = 45\n",
    "\"\"\")\n",
    "\n",
    "births_deaths_bhp = births_deaths_bhp[pd.notna(births_deaths_bhp['pk_bhp'])]  \n",
    "births_deaths_bhp = births_deaths_bhp[births_deaths_bhp['pk_bhp'].str.contains('Actr')]\n",
    "births_deaths_bhp['pk_bhp'] = births_deaths_bhp['pk_bhp'].str.replace('Actr', '', regex=False)\n",
    "births_deaths_bhp['pk_bhp'] = births_deaths_bhp['pk_bhp'].astype(pd.Int64Dtype())\n",
    "\n",
    "a.infos(births_deaths_bhp)\n",
    "db.disconnect()\n",
    "\n",
    "# 1s"
   ]
  },
  {
   "attachments": {},
   "cell_type": "markdown",
   "metadata": {},
   "source": [
    "## Merge infos"
   ]
  },
  {
   "cell_type": "code",
   "execution_count": 6,
   "metadata": {},
   "outputs": [
    {
     "name": "stdout",
     "output_type": "stream",
     "text": [
      "Shape:  (3394, 8) - extract:\n"
     ]
    },
    {
     "data": {
      "text/html": [
       "<div>\n",
       "<style scoped>\n",
       "    .dataframe tbody tr th:only-of-type {\n",
       "        vertical-align: middle;\n",
       "    }\n",
       "\n",
       "    .dataframe tbody tr th {\n",
       "        vertical-align: top;\n",
       "    }\n",
       "\n",
       "    .dataframe thead th {\n",
       "        text-align: right;\n",
       "    }\n",
       "</style>\n",
       "<table border=\"1\" class=\"dataframe\">\n",
       "  <thead>\n",
       "    <tr style=\"text-align: right;\">\n",
       "      <th></th>\n",
       "      <th>pk_bhp</th>\n",
       "      <th>pk_gv</th>\n",
       "      <th>pk_birth</th>\n",
       "      <th>pk_death</th>\n",
       "      <th>fk_type_role</th>\n",
       "      <th>certainty_date</th>\n",
       "      <th>pk_teen</th>\n",
       "      <th>comment</th>\n",
       "    </tr>\n",
       "  </thead>\n",
       "  <tbody>\n",
       "    <tr>\n",
       "      <th>25132</th>\n",
       "      <td>59735</td>\n",
       "      <td>6539201</td>\n",
       "      <td>7543578</td>\n",
       "      <td>7782166</td>\n",
       "      <td>40</td>\n",
       "      <td>3</td>\n",
       "      <td>7543578</td>\n",
       "      <td>Date reconstituée</td>\n",
       "    </tr>\n",
       "    <tr>\n",
       "      <th>22070</th>\n",
       "      <td>50714</td>\n",
       "      <td>6503668</td>\n",
       "      <td>7535448</td>\n",
       "      <td>7773246</td>\n",
       "      <td>40</td>\n",
       "      <td>2</td>\n",
       "      <td>7535448</td>\n",
       "      <td>Date postulée</td>\n",
       "    </tr>\n",
       "    <tr>\n",
       "      <th>25795</th>\n",
       "      <td>60323</td>\n",
       "      <td>6537192</td>\n",
       "      <td>7544164</td>\n",
       "      <td>7782753</td>\n",
       "      <td>40</td>\n",
       "      <td>2</td>\n",
       "      <td>7544164</td>\n",
       "      <td>Date postulée</td>\n",
       "    </tr>\n",
       "    <tr>\n",
       "      <th>19153</th>\n",
       "      <td>44564</td>\n",
       "      <td>6497784</td>\n",
       "      <td>7529707</td>\n",
       "      <td>7767485</td>\n",
       "      <td>40</td>\n",
       "      <td>2</td>\n",
       "      <td>7529707</td>\n",
       "      <td>Date postulée</td>\n",
       "    </tr>\n",
       "    <tr>\n",
       "      <th>28039</th>\n",
       "      <td>63303</td>\n",
       "      <td>6543897</td>\n",
       "      <td>7547128</td>\n",
       "      <td>7785734</td>\n",
       "      <td>40</td>\n",
       "      <td>2</td>\n",
       "      <td>7547128</td>\n",
       "      <td>Date postulée</td>\n",
       "    </tr>\n",
       "  </tbody>\n",
       "</table>\n",
       "</div>"
      ],
      "text/plain": [
       "       pk_bhp    pk_gv  pk_birth  pk_death  fk_type_role  certainty_date  \\\n",
       "25132   59735  6539201   7543578   7782166            40               3   \n",
       "22070   50714  6503668   7535448   7773246            40               2   \n",
       "25795   60323  6537192   7544164   7782753            40               2   \n",
       "19153   44564  6497784   7529707   7767485            40               2   \n",
       "28039   63303  6543897   7547128   7785734            40               2   \n",
       "\n",
       "       pk_teen            comment  \n",
       "25132  7543578  Date reconstituée  \n",
       "22070  7535448      Date postulée  \n",
       "25795  7544164      Date postulée  \n",
       "19153  7529707      Date postulée  \n",
       "28039  7547128      Date postulée  "
      ]
     },
     "metadata": {},
     "output_type": "display_data"
    }
   ],
   "source": [
    "themerge = persons.merge(births_deaths_bhp)\n",
    "\n",
    "# Filter out certain dates\n",
    "themerge = themerge[themerge['certainty_date'] != 1]\n",
    "themerge['pk_teen'] = [row['pk_birth'] if row['fk_type_role'] == 40 else row['pk_death'] for _,row in themerge.iterrows()]\n",
    "themerge['comment'] = ['Date postulée' if row['certainty_date'] == 2 else 'Date reconstituée' for _,row in themerge.iterrows()]\n",
    "a.infos(themerge, random=True)\n",
    "\n",
    "table = themerge[['pk_teen', 'comment']].copy()"
   ]
  },
  {
   "attachments": {},
   "cell_type": "markdown",
   "metadata": {},
   "source": [
    "## Create information"
   ]
  },
  {
   "cell_type": "code",
   "execution_count": 5,
   "metadata": {},
   "outputs": [
    {
     "name": "stdout",
     "output_type": "stream",
     "text": [
      "[DB] Connecting to PRODUCTION Database ... Connected!\n"
     ]
    }
   ],
   "source": [
    "db.connect_geovistory(env, pk_project, execute)"
   ]
  },
  {
   "cell_type": "code",
   "execution_count": 7,
   "metadata": {},
   "outputs": [
    {
     "name": "stdout",
     "output_type": "stream",
     "text": [
      "Creating 3394 resources of class [785] ... Done in [00h00'01]\n",
      "Creating info_proj_rel of 3394 entities with project <6857901> ... Done in [00h00'02]\n",
      "Creating 3394 appellations ... Done in [00h00'01]\n",
      "Creating info_proj_rel of 3394 entities with project <6857901> ... Done in [00h00'02]\n",
      "Creating 3394 statements ... Done in [00h00'03]\n",
      "Creating info_proj_rel of 3394 entities with project <6857901> ... Done in [00h00'02]\n",
      "Creating 3394 statements ... Done in [00h00'03]\n",
      "Creating info_proj_rel of 3394 entities with project <6857901> ... Done in [00h00'01]\n",
      "Creating 3394 statements ... Done in [00h00'03]\n",
      "Creating info_proj_rel of 3394 entities with project <6857901> ... Done in [00h00'02]\n"
     ]
    }
   ],
   "source": [
    "pk_intance_comment_type = 7953586\n",
    "\n",
    "table['pk_comment'] = db.resources.create(pks.classes.text, len(table))\n",
    "table['pk_appe'] = db.appellations.create(table['comment'])\n",
    "\n",
    "db.statements.create(table['pk_teen'], pks.properties.entity_hasComment_text, table['pk_comment'])\n",
    "db.statements.create(table['pk_comment'], pks.properties.text_hasTextType_textType, pk_intance_comment_type)\n",
    "db.statements.create(table['pk_comment'], pks.properties.text_hasValueVersion_string, table['pk_appe'])"
   ]
  }
 ],
 "metadata": {
  "kernelspec": {
   "display_name": "Python 3",
   "language": "python",
   "name": "python3"
  },
  "language_info": {
   "codemirror_mode": {
    "name": "ipython",
    "version": 3
   },
   "file_extension": ".py",
   "mimetype": "text/x-python",
   "name": "python",
   "nbconvert_exporter": "python",
   "pygments_lexer": "ipython3",
   "version": "3.8.10"
  },
  "orig_nbformat": 4
 },
 "nbformat": 4,
 "nbformat_minor": 2
}
