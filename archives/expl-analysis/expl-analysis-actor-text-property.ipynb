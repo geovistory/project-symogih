{
 "cells": [
  {
   "cell_type": "code",
   "execution_count": 1,
   "metadata": {},
   "outputs": [],
   "source": [
    "actor_text_property_path = '../../data/actor_text_property.csv'"
   ]
  },
  {
   "attachments": {},
   "cell_type": "markdown",
   "metadata": {},
   "source": [
    "# Exploratory Analysis of table `actor_text_property`"
   ]
  },
  {
   "cell_type": "code",
   "execution_count": 2,
   "metadata": {},
   "outputs": [],
   "source": [
    "import pandas as pd\n",
    "\n",
    "import plotly.express as px\n",
    "import plotly.io as pio\n",
    "\n",
    "import geovpylib.utils as u\n",
    "import geovpylib.analysis as a\n",
    "\n",
    "pio.renderers.default = \"plotly_mimetype+notebook\"\n",
    "gv_color_seq = ['#322659','#44337A','#553C9A','#6B46C1','#805AD5','#9F7AEA','#B794F4','#D6BCFA','#E9D8FD','#FAF5FF','#E9D8FD','#D6BCFA','#B794F4','#9F7AEA','#805AD5','#6B46C1','#553C9A','#44337A','#322659']\n",
    "\n",
    "actor_text_property = u.read_df(actor_text_property_path)"
   ]
  },
  {
   "cell_type": "markdown",
   "metadata": {},
   "source": [
    "## Table extract"
   ]
  },
  {
   "cell_type": "code",
   "execution_count": 3,
   "metadata": {},
   "outputs": [
    {
     "data": {
      "text/html": [
       "<div>\n",
       "<style scoped>\n",
       "    .dataframe tbody tr th:only-of-type {\n",
       "        vertical-align: middle;\n",
       "    }\n",
       "\n",
       "    .dataframe tbody tr th {\n",
       "        vertical-align: top;\n",
       "    }\n",
       "\n",
       "    .dataframe thead th {\n",
       "        text-align: right;\n",
       "    }\n",
       "</style>\n",
       "<table border=\"1\" class=\"dataframe\">\n",
       "  <thead>\n",
       "    <tr style=\"text-align: right;\">\n",
       "      <th></th>\n",
       "      <th>pk_actor_text_property</th>\n",
       "      <th>property_type</th>\n",
       "      <th>lang_iso_code</th>\n",
       "      <th>text</th>\n",
       "      <th>notes</th>\n",
       "      <th>fk_actor</th>\n",
       "      <th>creator</th>\n",
       "      <th>modifier</th>\n",
       "      <th>creation_time</th>\n",
       "      <th>modification_time</th>\n",
       "      <th>concat_actp</th>\n",
       "    </tr>\n",
       "  </thead>\n",
       "  <tbody>\n",
       "    <tr>\n",
       "      <th>24665</th>\n",
       "      <td>10280.0</td>\n",
       "      <td>notice</td>\n",
       "      <td>fra</td>\n",
       "      <td>Docteur</td>\n",
       "      <td>NaN</td>\n",
       "      <td>31432.0</td>\n",
       "      <td>14.0</td>\n",
       "      <td>11.0</td>\n",
       "      <td>2010-04-06 20:52:01.000</td>\n",
       "      <td>2013-12-18 15:24:16</td>\n",
       "      <td>AcTP10280</td>\n",
       "    </tr>\n",
       "    <tr>\n",
       "      <th>30351</th>\n",
       "      <td>16760.0</td>\n",
       "      <td>notice</td>\n",
       "      <td>fra</td>\n",
       "      <td>Employ de l'octroi de Lyon (1854-1870)</td>\n",
       "      <td>NaN</td>\n",
       "      <td>39129.0</td>\n",
       "      <td>24.0</td>\n",
       "      <td>24.0</td>\n",
       "      <td>2010-11-09 12:34:32.000</td>\n",
       "      <td>2013-12-18 15:24:16</td>\n",
       "      <td>AcTP16760</td>\n",
       "    </tr>\n",
       "    <tr>\n",
       "      <th>45971</th>\n",
       "      <td>67134.0</td>\n",
       "      <td>notice</td>\n",
       "      <td>fra</td>\n",
       "      <td>N  Lyon, France (1er arrondissement) de Joseph...</td>\n",
       "      <td>NaN</td>\n",
       "      <td>57959.0</td>\n",
       "      <td>2.0</td>\n",
       "      <td>2.0</td>\n",
       "      <td>2015-12-15 15:02:46.400</td>\n",
       "      <td>NaN</td>\n",
       "      <td>AcTP67134</td>\n",
       "    </tr>\n",
       "    <tr>\n",
       "      <th>20850</th>\n",
       "      <td>5761.0</td>\n",
       "      <td>notice</td>\n",
       "      <td>fra</td>\n",
       "      <td>luthrien, allemand, tailleur, mari</td>\n",
       "      <td>NaN</td>\n",
       "      <td>24896.0</td>\n",
       "      <td>31.0</td>\n",
       "      <td>11.0</td>\n",
       "      <td>2010-01-06 20:50:49.000</td>\n",
       "      <td>2013-12-18 15:24:16</td>\n",
       "      <td>AcTP5761</td>\n",
       "    </tr>\n",
       "    <tr>\n",
       "      <th>19981</th>\n",
       "      <td>4605.0</td>\n",
       "      <td>notice</td>\n",
       "      <td>fra</td>\n",
       "      <td>Arts et Mtiers (Aix, 1882), employ Fives-Lille</td>\n",
       "      <td>NaN</td>\n",
       "      <td>23730.0</td>\n",
       "      <td>11.0</td>\n",
       "      <td>11.0</td>\n",
       "      <td>2009-11-26 10:07:15.000</td>\n",
       "      <td>2013-12-18 15:24:16</td>\n",
       "      <td>AcTP4605</td>\n",
       "    </tr>\n",
       "  </tbody>\n",
       "</table>\n",
       "</div>"
      ],
      "text/plain": [
       "       pk_actor_text_property property_type lang_iso_code  \\\n",
       "24665                 10280.0        notice           fra   \n",
       "30351                 16760.0        notice           fra   \n",
       "45971                 67134.0        notice           fra   \n",
       "20850                  5761.0        notice           fra   \n",
       "19981                  4605.0        notice           fra   \n",
       "\n",
       "                                                    text notes  fk_actor  \\\n",
       "24665                                            Docteur   NaN   31432.0   \n",
       "30351             Employ de l'octroi de Lyon (1854-1870)   NaN   39129.0   \n",
       "45971  N  Lyon, France (1er arrondissement) de Joseph...   NaN   57959.0   \n",
       "20850                 luthrien, allemand, tailleur, mari   NaN   24896.0   \n",
       "19981     Arts et Mtiers (Aix, 1882), employ Fives-Lille   NaN   23730.0   \n",
       "\n",
       "       creator  modifier            creation_time    modification_time  \\\n",
       "24665     14.0      11.0  2010-04-06 20:52:01.000  2013-12-18 15:24:16   \n",
       "30351     24.0      24.0  2010-11-09 12:34:32.000  2013-12-18 15:24:16   \n",
       "45971      2.0       2.0  2015-12-15 15:02:46.400                  NaN   \n",
       "20850     31.0      11.0  2010-01-06 20:50:49.000  2013-12-18 15:24:16   \n",
       "19981     11.0      11.0  2009-11-26 10:07:15.000  2013-12-18 15:24:16   \n",
       "\n",
       "      concat_actp  \n",
       "24665   AcTP10280  \n",
       "30351   AcTP16760  \n",
       "45971   AcTP67134  \n",
       "20850    AcTP5761  \n",
       "19981    AcTP4605  "
      ]
     },
     "execution_count": 3,
     "metadata": {},
     "output_type": "execute_result"
    }
   ],
   "source": [
    "actor_text_property.sample(5)"
   ]
  },
  {
   "attachments": {},
   "cell_type": "markdown",
   "metadata": {},
   "source": [
    "## Discovery"
   ]
  },
  {
   "cell_type": "code",
   "execution_count": 4,
   "metadata": {},
   "outputs": [
    {
     "name": "stdout",
     "output_type": "stream",
     "text": [
      "Columns contain:\n",
      "Total number of rows: 53887\n",
      "  - \"pk_actor_text_property\":   0.00% empty - 53887 (100.00%) uniques (eg: 29364.0; 29366.0; 17991.0)\n",
      "  -          \"property_type\":   0.00% empty -     2 (  0.00%) uniques (eg: notice; complment)\n",
      "  -               \"fk_actor\":   0.00% empty - 45931 ( 85.24%) uniques (eg: 47735.0; 47736.0; 40250.0)\n",
      "  -            \"concat_actp\":   0.00% empty - 53887 (100.00%) uniques (eg: AcTP29364; AcTP29366; AcTP17991)\n",
      "  -          \"creation_time\":   0.00% empty - 30407 ( 56.43%) uniques (eg: 2013-12-19...; 2013-12-19...; 2010-11-18...)\n",
      "  -                   \"text\":   0.00% empty - 38278 ( 71.03%) uniques (eg: Directeur ...; Conseiller...; Il a t pro...)\n",
      "  -                \"creator\":   0.01% empty -    87 (  0.16%) uniques (eg: 2.0; 50.0; 3.0)\n",
      "  -          \"lang_iso_code\":   2.79% empty -     6 (  0.01%) uniques (eg: fra; nan; ita)\n",
      "  -               \"modifier\":  13.57% empty -    82 (  0.15%) uniques (eg: 2.0; 50.0; 3.0)\n",
      "  -      \"modification_time\":  42.69% empty -  4417 (  8.20%) uniques (eg: nan; 2013-12-19...; 2013-12-19...)\n",
      "  -                  \"notes\":  72.75% empty -  8099 ( 15.03%) uniques (eg: nan; 96; 79)\n"
     ]
    }
   ],
   "source": [
    "a.discover(actor_text_property, uniq_ex_nb=3)"
   ]
  },
  {
   "attachments": {},
   "cell_type": "markdown",
   "metadata": {},
   "source": [
    "## Type parsing"
   ]
  },
  {
   "cell_type": "code",
   "execution_count": 5,
   "metadata": {},
   "outputs": [],
   "source": [
    "a.set_types(actor_text_property, {\n",
    "'pk_actor_text_property': 'int',\n",
    "         'property_type': 'string',\n",
    "                  'text': 'text',\n",
    "              'fk_actor': 'int',\n",
    "           'concat_actp': 'string',\n",
    "         'creation_time': 'datetime',\n",
    "               'creator': 'int',\n",
    "         'lang_iso_code': 'string',\n",
    "              'modifier': 'int',\n",
    "     'modification_time': 'datetime',\n",
    "                 'notes': 'string',\n",
    "})     "
   ]
  },
  {
   "attachments": {},
   "cell_type": "markdown",
   "metadata": {},
   "source": [
    "## Columns analysis"
   ]
  },
  {
   "attachments": {},
   "cell_type": "markdown",
   "metadata": {},
   "source": [
    "Here we will report the analysis of interesting information found on different columns. They are not exhaustive."
   ]
  },
  {
   "attachments": {},
   "cell_type": "markdown",
   "metadata": {},
   "source": [
    "### property_type"
   ]
  },
  {
   "cell_type": "code",
   "execution_count": 6,
   "metadata": {},
   "outputs": [],
   "source": [
    "a.histogram(actor_text_property, 'property_type', 'Property type distribution', style='pie', colors=gv_color_seq)"
   ]
  },
  {
   "attachments": {},
   "cell_type": "markdown",
   "metadata": {},
   "source": [
    "### text"
   ]
  },
  {
   "cell_type": "markdown",
   "metadata": {},
   "source": [
    "All HTML tags, non ASCII chars and new line are removed."
   ]
  },
  {
   "cell_type": "code",
   "execution_count": null,
   "metadata": {},
   "outputs": [],
   "source": [
    "actor_text_property.replace({r'[^\\x00-\\x7F]+':''}, regex=True, inplace=True)\n",
    "actor_text_property.replace({'\\r\\n':''}, regex=True, inplace=True)\n",
    "actor_text_property.replace({'<p>':''}, regex=True, inplace=True)\n",
    "actor_text_property.replace({'</p>':''}, regex=True, inplace=True)"
   ]
  },
  {
   "attachments": {},
   "cell_type": "markdown",
   "metadata": {},
   "source": [
    "### creation_time"
   ]
  },
  {
   "cell_type": "code",
   "execution_count": null,
   "metadata": {},
   "outputs": [],
   "source": [
    "px.violin(actor_text_property, x='creation_time', title='Violin plot of the \"creation_time\" column')"
   ]
  },
  {
   "attachments": {},
   "cell_type": "markdown",
   "metadata": {},
   "source": [
    "### creator"
   ]
  },
  {
   "cell_type": "code",
   "execution_count": null,
   "metadata": {},
   "outputs": [],
   "source": [
    "a.histogram(actor_text_property, 'creator', 'Creator distribution', 10)"
   ]
  },
  {
   "attachments": {},
   "cell_type": "markdown",
   "metadata": {},
   "source": [
    "### lang_iso_code"
   ]
  },
  {
   "cell_type": "code",
   "execution_count": null,
   "metadata": {},
   "outputs": [],
   "source": [
    "a.histogram(actor_text_property, 'lang_iso_code', 'Language distribution', style='pie', colors=gv_color_seq)"
   ]
  }
 ],
 "metadata": {
  "kernelspec": {
   "display_name": "Python 3",
   "language": "python",
   "name": "python3"
  },
  "language_info": {
   "codemirror_mode": {
    "name": "ipython",
    "version": 3
   },
   "file_extension": ".py",
   "mimetype": "text/x-python",
   "name": "python",
   "nbconvert_exporter": "python",
   "pygments_lexer": "ipython3",
   "version": "3.8.10"
  },
  "orig_nbformat": 4,
  "vscode": {
   "interpreter": {
    "hash": "916dbcbb3f70747c44a77c7bcd40155683ae19c65e1c03b4aa3499c5328201f1"
   }
  }
 },
 "nbformat": 4,
 "nbformat_minor": 2
}
