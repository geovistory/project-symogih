{
 "cells": [
  {
   "cell_type": "code",
   "execution_count": 1,
   "metadata": {},
   "outputs": [],
   "source": [
    "%load_ext autoreload\n",
    "%autoreload 2\n",
    "\n",
    "env = 'prod'\n",
    "pk_project = 6857901\n",
    "execute = True\n",
    "metadata_str = 'comment-correction'\n",
    "import_manner = 'one-shot'\n",
    "\n",
    "import os\n",
    "import pandas as pd\n",
    "import numpy as np\n",
    "from datetime import datetime\n",
    "import duckdb\n",
    "import plotly.express as px\n",
    "\n",
    "import geovpylib.analysis as a\n",
    "import geovpylib.database as db\n",
    "import geovpylib.graphs as graphs\n",
    "import geovpylib.pks as pks\n",
    "import geovpylib.recordlinkage as rl\n",
    "import geovpylib.sparql as sparql\n",
    "import geovpylib.utils as u\n",
    "\n",
    "eta = u.Eta()"
   ]
  },
  {
   "attachments": {},
   "cell_type": "markdown",
   "metadata": {},
   "source": [
    "# Comment correction"
   ]
  },
  {
   "attachments": {},
   "cell_type": "markdown",
   "metadata": {},
   "source": [
    "According to [GitHub issue comment](https://github.com/geovistory/symogih/issues/6#issuecomment-1600581989), there is a need to make a correction."
   ]
  },
  {
   "attachments": {},
   "cell_type": "markdown",
   "metadata": {},
   "source": [
    "### Correct Properties"
   ]
  },
  {
   "cell_type": "code",
   "execution_count": 2,
   "metadata": {},
   "outputs": [
    {
     "name": "stdout",
     "output_type": "stream",
     "text": [
      "[DB] Connecting to PRODUCTION Database ... Connected!\n",
      "[DB] Database correctly disconnected.\n"
     ]
    }
   ],
   "source": [
    "db.connect_geovistory(env, pk_project, execute, skip_protection=True)\n",
    "\n",
    "wrong_statement = db.query(f\"\"\"\n",
    "    select \n",
    "        s.pk_entity, s.fk_subject_info, fk_property, fk_object_info, r1.fk_class as subject_class, r2.fk_class as object_class\n",
    "    from information.statement s\n",
    "    inner join projects.info_proj_rel ipr on ipr.fk_entity = s.pk_entity and ipr.fk_project = {pk_project} and ipr.is_in_project = true\n",
    "    inner join information.resource r1 on r1.pk_entity = s.fk_subject_info \n",
    "    inner join information.resource r2 on r2.pk_entity = s.fk_object_info \n",
    "    where s.fk_property = {pks.properties.text_hasTextType_textType} and r1.fk_class = {pks.classes.text}\n",
    "\"\"\")['pk_entity'].tolist()\n",
    "\n",
    "db.disconnect()"
   ]
  },
  {
   "cell_type": "code",
   "execution_count": 4,
   "metadata": {},
   "outputs": [
    {
     "name": "stdout",
     "output_type": "stream",
     "text": [
      "[DB] Connecting to PRODUCTION Database ... Connected!\n",
      "[DB] Database correctly disconnected.\n"
     ]
    }
   ],
   "source": [
    "db.connect_geovistory(env, pk_project, execute)\n",
    "\n",
    "values = '(' + ','.join([str(e) for e in wrong_statement]) + ')'\n",
    "\n",
    "db.execute(f\"\"\"\n",
    "    update information.statement\n",
    "           set fk_property = {pks.properties.comment_hasCommentType_CommentType}\n",
    "    where pk_entity in {values};\n",
    "\"\"\")\n",
    "\n",
    "db.disconnect()"
   ]
  },
  {
   "attachments": {},
   "cell_type": "markdown",
   "metadata": {},
   "source": [
    "### Correct classes"
   ]
  },
  {
   "cell_type": "code",
   "execution_count": 5,
   "metadata": {},
   "outputs": [
    {
     "name": "stdout",
     "output_type": "stream",
     "text": [
      "[DB] Connecting to PRODUCTION Database ... Connected!\n",
      "[DB] Database correctly disconnected.\n"
     ]
    }
   ],
   "source": [
    "db.connect_geovistory(env, pk_project, execute, skip_protection=True)\n",
    "\n",
    "wrong_instances = db.query(f\"\"\"\n",
    "    select\n",
    "        s.pk_entity, s.fk_subject_info, fk_property, fk_object_info, r1.fk_class as subject_class, r2.fk_class as object_class\n",
    "    from information.statement s\n",
    "    inner join projects.info_proj_rel ipr on ipr.fk_entity = s.pk_entity and ipr.fk_project = 6857901 and ipr.is_in_project = true\n",
    "    inner join information.resource r1 on r1.pk_entity = s.fk_subject_info \n",
    "    inner join information.resource r2 on r2.pk_entity = s.fk_object_info \n",
    "    where s.fk_property = 1763 and r2.fk_class = 785\n",
    "\"\"\")['fk_object_info'].tolist()\n",
    "\n",
    "db.disconnect()"
   ]
  },
  {
   "cell_type": "code",
   "execution_count": 6,
   "metadata": {},
   "outputs": [
    {
     "name": "stdout",
     "output_type": "stream",
     "text": [
      "[DB] Connecting to PRODUCTION Database ... Connected!\n",
      "[DB] Database correctly disconnected.\n"
     ]
    }
   ],
   "source": [
    "db.connect_geovistory(env, pk_project, execute)\n",
    "\n",
    "values = '(' + ','.join([str(e) for e in wrong_instances]) + ')'\n",
    "\n",
    "db.execute(f\"\"\"\n",
    "    update information.resource\n",
    "           set fk_class = {pks.classes.comment}\n",
    "    where pk_entity in {values}; \n",
    "\"\"\")\n",
    "\n",
    "db.disconnect()"
   ]
  }
 ],
 "metadata": {
  "kernelspec": {
   "display_name": "Python 3",
   "language": "python",
   "name": "python3"
  },
  "language_info": {
   "codemirror_mode": {
    "name": "ipython",
    "version": 3
   },
   "file_extension": ".py",
   "mimetype": "text/x-python",
   "name": "python",
   "nbconvert_exporter": "python",
   "pygments_lexer": "ipython3",
   "version": "3.8.10"
  },
  "orig_nbformat": 4
 },
 "nbformat": 4,
 "nbformat_minor": 2
}
